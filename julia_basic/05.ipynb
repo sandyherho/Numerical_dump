{
 "cells": [
  {
   "cell_type": "markdown",
   "id": "43e01a72-5e65-4a1b-a412-41cd4882c521",
   "metadata": {},
   "source": [
    "# Arrays, Matrices, \\& Tensors"
   ]
  },
  {
   "cell_type": "markdown",
   "id": "642d2b88-4564-495c-8c4f-f1df11713845",
   "metadata": {},
   "source": [
    "Arrays are the most powerful and useful features in Julia. Let's start with some basics"
   ]
  },
  {
   "cell_type": "code",
   "execution_count": 23,
   "id": "128e0827-c993-4fae-999f-dc1b34df6539",
   "metadata": {},
   "outputs": [
    {
     "data": {
      "text/plain": [
       "3-element Vector{String}:\n",
       " \"Jack\"\n",
       " \"Jill\"\n",
       " \"John\""
      ]
     },
     "execution_count": 23,
     "metadata": {},
     "output_type": "execute_result"
    }
   ],
   "source": [
    "students = [\"Jack\", \"Jill\", \"John\"]"
   ]
  },
  {
   "cell_type": "code",
   "execution_count": 24,
   "id": "863600f5-8778-4343-aca9-5c2c52d80fb7",
   "metadata": {},
   "outputs": [
    {
     "data": {
      "text/plain": [
       "Vector{String}\u001b[90m (alias for \u001b[39m\u001b[90mArray{String, 1}\u001b[39m\u001b[90m)\u001b[39m"
      ]
     },
     "execution_count": 24,
     "metadata": {},
     "output_type": "execute_result"
    }
   ],
   "source": [
    "typeof(students)"
   ]
  },
  {
   "cell_type": "markdown",
   "id": "717b57d6-358d-40f3-af81-1c86759bc0a5",
   "metadata": {},
   "source": [
    "String defines the type of the elements and 1 is the dimension of the array"
   ]
  },
  {
   "cell_type": "code",
   "execution_count": 25,
   "id": "066ca8e3-2154-4742-a1bf-88d06a638b27",
   "metadata": {},
   "outputs": [
    {
     "data": {
      "text/plain": [
       "7-element Vector{Int64}:\n",
       "  1\n",
       "  1\n",
       "  2\n",
       "  3\n",
       "  5\n",
       "  8\n",
       " 13"
      ]
     },
     "execution_count": 25,
     "metadata": {},
     "output_type": "execute_result"
    }
   ],
   "source": [
    "fib = [1,1,2,3,5,8,13]"
   ]
  },
  {
   "cell_type": "code",
   "execution_count": 26,
   "id": "b46fac27-60d7-4978-92b1-da592f33c9aa",
   "metadata": {},
   "outputs": [
    {
     "data": {
      "text/plain": [
       "Vector{Int64}\u001b[90m (alias for \u001b[39m\u001b[90mArray{Int64, 1}\u001b[39m\u001b[90m)\u001b[39m"
      ]
     },
     "execution_count": 26,
     "metadata": {},
     "output_type": "execute_result"
    }
   ],
   "source": [
    "typeof(fib)"
   ]
  },
  {
   "cell_type": "code",
   "execution_count": 27,
   "id": "564d4f12-056d-4124-bccd-e000652b8f5e",
   "metadata": {},
   "outputs": [
    {
     "data": {
      "text/plain": [
       "8-element Vector{Int64}:\n",
       "  1\n",
       "  1\n",
       "  2\n",
       "  3\n",
       "  5\n",
       "  8\n",
       " 13\n",
       " 21"
      ]
     },
     "execution_count": 27,
     "metadata": {},
     "output_type": "execute_result"
    }
   ],
   "source": [
    "push!(fib,21)"
   ]
  },
  {
   "cell_type": "code",
   "execution_count": 28,
   "id": "2ccc51ba-063e-414a-a0fa-2336ef1378d1",
   "metadata": {},
   "outputs": [
    {
     "name": "stdout",
     "output_type": "stream",
     "text": [
      "fib = [1, 1, 2, 3, 5, 8, 13, 21]\n"
     ]
    }
   ],
   "source": [
    "@show fib;"
   ]
  },
  {
   "cell_type": "markdown",
   "id": "3c2653d7-2ec0-4916-bd2b-8650752f9031",
   "metadata": {},
   "source": [
    "## 2D arrays"
   ]
  },
  {
   "cell_type": "code",
   "execution_count": 29,
   "id": "002bb668-5c3a-456f-ad33-4957a9fd62e9",
   "metadata": {},
   "outputs": [
    {
     "data": {
      "text/plain": [
       "3-element Vector{Vector{Int64}}:\n",
       " [1, 2, 3]\n",
       " [4, 5, 6]\n",
       " [7, 8, 9, 24]"
      ]
     },
     "execution_count": 29,
     "metadata": {},
     "output_type": "execute_result"
    }
   ],
   "source": [
    "mat = [\n",
    "    [1,2,3],\n",
    "    [4,5,6],\n",
    "    [7,8,9, 24]\n",
    "]"
   ]
  },
  {
   "cell_type": "code",
   "execution_count": 30,
   "id": "d4974f95-f8f0-4554-937e-4be5ff80530d",
   "metadata": {},
   "outputs": [
    {
     "data": {
      "text/plain": [
       "Vector{Vector{Int64}}\u001b[90m (alias for \u001b[39m\u001b[90mArray{Array{Int64, 1}, 1}\u001b[39m\u001b[90m)\u001b[39m"
      ]
     },
     "execution_count": 30,
     "metadata": {},
     "output_type": "execute_result"
    }
   ],
   "source": [
    "typeof(mat)"
   ]
  },
  {
   "cell_type": "markdown",
   "id": "c32060eb-17d1-46a4-89b2-5c7274194009",
   "metadata": {},
   "source": [
    "Notice this type! It's not a 2D matrix. It's a 1D array but each element within it's a 1D array itself! These are useful in certain cases, but we are usually interested in 2D arrays in data sci and ML"
   ]
  },
  {
   "cell_type": "markdown",
   "id": "af27d160-f37e-4a9b-a374-b1914eed7797",
   "metadata": {},
   "source": [
    "Let's create a 2D array!"
   ]
  },
  {
   "cell_type": "markdown",
   "id": "81953d10-f344-4c8d-a618-abb7d38337c0",
   "metadata": {},
   "source": [
    "## Matrices"
   ]
  },
  {
   "cell_type": "code",
   "execution_count": 31,
   "id": "272be285-09c1-416a-9c5f-483e082eaa32",
   "metadata": {},
   "outputs": [
    {
     "data": {
      "text/plain": [
       "1×3 Matrix{Int64}:\n",
       " 1  2  3"
      ]
     },
     "execution_count": 31,
     "metadata": {},
     "output_type": "execute_result"
    }
   ],
   "source": [
    "x = [1 2 3] # notice the lack of commas (and the dimensions)"
   ]
  },
  {
   "cell_type": "code",
   "execution_count": 32,
   "id": "e19e1699-459d-4723-80c4-9caf4744c212",
   "metadata": {},
   "outputs": [
    {
     "data": {
      "text/plain": [
       "3×1 adjoint(::Matrix{Int64}) with eltype Int64:\n",
       " 1\n",
       " 2\n",
       " 3"
      ]
     },
     "execution_count": 32,
     "metadata": {},
     "output_type": "execute_result"
    }
   ],
   "source": [
    "x' # tur this into a column vector"
   ]
  },
  {
   "cell_type": "code",
   "execution_count": 33,
   "id": "1ee3736b-b5b4-47c8-b12b-92d8736035ae",
   "metadata": {},
   "outputs": [
    {
     "data": {
      "text/plain": [
       "3×3 Matrix{Int64}:\n",
       " 1  2  3\n",
       " 4  5  6\n",
       " 7  8  9"
      ]
     },
     "execution_count": 33,
     "metadata": {},
     "output_type": "execute_result"
    }
   ],
   "source": [
    "mat = [\n",
    "    [1 2 3]\n",
    "    [4 5 6]\n",
    "    [7 8 9]\n",
    "    ]"
   ]
  },
  {
   "cell_type": "code",
   "execution_count": 34,
   "id": "fe3ec9ca-3619-40a1-bda5-ddbc285330f1",
   "metadata": {},
   "outputs": [
    {
     "data": {
      "text/plain": [
       "Matrix{Int64}\u001b[90m (alias for \u001b[39m\u001b[90mArray{Int64, 2}\u001b[39m\u001b[90m)\u001b[39m"
      ]
     },
     "execution_count": 34,
     "metadata": {},
     "output_type": "execute_result"
    }
   ],
   "source": [
    "typeof(mat)"
   ]
  },
  {
   "cell_type": "code",
   "execution_count": 35,
   "id": "89d9451e-a525-4ef9-8ab2-e04e64526448",
   "metadata": {},
   "outputs": [
    {
     "data": {
      "text/plain": [
       "LinearAlgebra.Adjoint{Int64, Matrix{Int64}}"
      ]
     },
     "execution_count": 35,
     "metadata": {},
     "output_type": "execute_result"
    }
   ],
   "source": [
    "typeof(x')"
   ]
  },
  {
   "cell_type": "markdown",
   "id": "89f1e2c9-9083-4bbf-8fa1-ed11e85b1548",
   "metadata": {},
   "source": [
    "## Size (shapes) \\& reshaping"
   ]
  },
  {
   "cell_type": "code",
   "execution_count": 36,
   "id": "0dd49192-cf3e-4410-8c2d-a5faa7b130dd",
   "metadata": {},
   "outputs": [
    {
     "data": {
      "text/plain": [
       "(3, 3)"
      ]
     },
     "execution_count": 36,
     "metadata": {},
     "output_type": "execute_result"
    }
   ],
   "source": [
    "size(mat) # extremely important in ML"
   ]
  },
  {
   "cell_type": "code",
   "execution_count": 37,
   "id": "2bd1c3d7-cd2d-439b-9c5b-867462420c0a",
   "metadata": {},
   "outputs": [
    {
     "data": {
      "text/plain": [
       "3×3 Matrix{Int64}:\n",
       " 1  2  3\n",
       " 4  5  6\n",
       " 7  8  9"
      ]
     },
     "execution_count": 37,
     "metadata": {},
     "output_type": "execute_result"
    }
   ],
   "source": [
    "mat"
   ]
  },
  {
   "cell_type": "code",
   "execution_count": 38,
   "id": "07d764a7-cfc9-4084-907e-37e1a4703644",
   "metadata": {},
   "outputs": [
    {
     "data": {
      "text/plain": [
       "8-element Vector{Int64}:\n",
       "  1\n",
       "  1\n",
       "  2\n",
       "  3\n",
       "  5\n",
       "  8\n",
       " 13\n",
       " 21"
      ]
     },
     "execution_count": 38,
     "metadata": {},
     "output_type": "execute_result"
    }
   ],
   "source": [
    "fib"
   ]
  },
  {
   "cell_type": "code",
   "execution_count": 39,
   "id": "3755680c-84dc-4e05-99b1-2b8d7b5c6a3b",
   "metadata": {},
   "outputs": [
    {
     "data": {
      "text/plain": [
       "(8,)"
      ]
     },
     "execution_count": 39,
     "metadata": {},
     "output_type": "execute_result"
    }
   ],
   "source": [
    "size(fib) # important difference"
   ]
  },
  {
   "cell_type": "code",
   "execution_count": 40,
   "id": "0e2cbcba-7b41-4aba-9d00-43729fb8766c",
   "metadata": {},
   "outputs": [
    {
     "data": {
      "text/plain": [
       "4×3 Matrix{Int64}:\n",
       "  1   2   3\n",
       "  4   5   6\n",
       "  7   8   9\n",
       " 10  11  12"
      ]
     },
     "execution_count": 40,
     "metadata": {},
     "output_type": "execute_result"
    }
   ],
   "source": [
    "X =[\n",
    "    [1 2 3]\n",
    "    [4 5 6]\n",
    "    [7 8 9]\n",
    "    [10 11 12]\n",
    "    ]"
   ]
  },
  {
   "cell_type": "code",
   "execution_count": 41,
   "id": "de3980e5-28ab-4cc0-894f-c78ca38810bd",
   "metadata": {},
   "outputs": [
    {
     "data": {
      "text/plain": [
       "(4, 3)"
      ]
     },
     "execution_count": 41,
     "metadata": {},
     "output_type": "execute_result"
    }
   ],
   "source": [
    "size(X)"
   ]
  },
  {
   "cell_type": "code",
   "execution_count": 42,
   "id": "96fa30d5-8796-41a8-b9fa-30dc021b8a01",
   "metadata": {},
   "outputs": [
    {
     "data": {
      "text/plain": [
       "2×6 Matrix{Int64}:\n",
       " 1   7  2   8  3   9\n",
       " 4  10  5  11  6  12"
      ]
     },
     "execution_count": 42,
     "metadata": {},
     "output_type": "execute_result"
    }
   ],
   "source": [
    "X = reshape(X, 2, 6) # left top -> bottom -> to the right"
   ]
  },
  {
   "cell_type": "code",
   "execution_count": 43,
   "id": "3ec5dc30-b032-4103-a6be-534033f9b1f1",
   "metadata": {},
   "outputs": [
    {
     "data": {
      "text/plain": [
       "12×1 Matrix{Int64}:\n",
       "  1\n",
       "  4\n",
       "  7\n",
       " 10\n",
       "  2\n",
       "  5\n",
       "  8\n",
       " 11\n",
       "  3\n",
       "  6\n",
       "  9\n",
       " 12"
      ]
     },
     "execution_count": 43,
     "metadata": {},
     "output_type": "execute_result"
    }
   ],
   "source": [
    "X = reshape(X, 12, 1)"
   ]
  },
  {
   "cell_type": "code",
   "execution_count": 44,
   "id": "6434eaa9-5d4d-4025-a7d8-83e1e78a82dd",
   "metadata": {},
   "outputs": [
    {
     "data": {
      "text/plain": [
       "4×3 Matrix{Int64}:\n",
       "  1   2   3\n",
       "  4   5   6\n",
       "  7   8   9\n",
       " 10  11  12"
      ]
     },
     "execution_count": 44,
     "metadata": {},
     "output_type": "execute_result"
    }
   ],
   "source": [
    "X = reshape(X, 4, 3)"
   ]
  },
  {
   "cell_type": "markdown",
   "id": "72be35db-bf24-4685-b56c-e2d192f5ec12",
   "metadata": {},
   "source": [
    "## Helper Functions"
   ]
  },
  {
   "cell_type": "markdown",
   "id": "424c5cdc-ad4f-45b0-8792-618e5aca9d2b",
   "metadata": {},
   "source": [
    "## Creating random matrices"
   ]
  },
  {
   "cell_type": "code",
   "execution_count": 45,
   "id": "63d2bb61-9eb4-491d-911f-8496052de642",
   "metadata": {},
   "outputs": [
    {
     "data": {
      "text/plain": [
       "4×3 Matrix{Float64}:\n",
       " 0.504242  0.229586  0.973778\n",
       " 0.183449  0.701572  0.535683\n",
       " 0.88258   0.336429  0.451542\n",
       " 0.780917  0.359069  0.556921"
      ]
     },
     "execution_count": 45,
     "metadata": {},
     "output_type": "execute_result"
    }
   ],
   "source": [
    "rand(4, 3) # uniformly dist. from 0 to 1"
   ]
  },
  {
   "cell_type": "code",
   "execution_count": 46,
   "id": "2f635e5d-cd9e-4547-a92c-e3bee721f54f",
   "metadata": {},
   "outputs": [
    {
     "data": {
      "text/plain": [
       "4×3 Matrix{Float64}:\n",
       " 0.675407   0.547227  0.600307\n",
       " 0.184772   0.969489  0.986244\n",
       " 0.315809   0.830268  0.0926124\n",
       " 0.0164351  0.610327  0.0339165"
      ]
     },
     "execution_count": 46,
     "metadata": {},
     "output_type": "execute_result"
    }
   ],
   "source": [
    "mat = rand(4, 3)"
   ]
  },
  {
   "cell_type": "code",
   "execution_count": 47,
   "id": "e6c15d55-4609-4caf-9358-8d36ef43128b",
   "metadata": {},
   "outputs": [],
   "source": [
    "mat2 = mat;"
   ]
  },
  {
   "cell_type": "code",
   "execution_count": 48,
   "id": "b29dcb61-0aa4-45f4-854b-bfd201bee75e",
   "metadata": {},
   "outputs": [
    {
     "data": {
      "text/plain": [
       "100"
      ]
     },
     "execution_count": 48,
     "metadata": {},
     "output_type": "execute_result"
    }
   ],
   "source": [
    "mat2[1,1] = 100"
   ]
  },
  {
   "cell_type": "code",
   "execution_count": 49,
   "id": "fec8bea2-962f-427c-a4c0-d7a502f49262",
   "metadata": {},
   "outputs": [
    {
     "data": {
      "text/plain": [
       "4×3 Matrix{Float64}:\n",
       " 100.0        0.547227  0.600307\n",
       "   0.184772   0.969489  0.986244\n",
       "   0.315809   0.830268  0.0926124\n",
       "   0.0164351  0.610327  0.0339165"
      ]
     },
     "execution_count": 49,
     "metadata": {},
     "output_type": "execute_result"
    }
   ],
   "source": [
    "mat2"
   ]
  },
  {
   "cell_type": "code",
   "execution_count": 50,
   "id": "71011914-1d13-4c75-b083-f8ff319c20b6",
   "metadata": {},
   "outputs": [
    {
     "data": {
      "text/plain": [
       "4×3 Matrix{Float64}:\n",
       " 100.0        0.547227  0.600307\n",
       "   0.184772   0.969489  0.986244\n",
       "   0.315809   0.830268  0.0926124\n",
       "   0.0164351  0.610327  0.0339165"
      ]
     },
     "execution_count": 50,
     "metadata": {},
     "output_type": "execute_result"
    }
   ],
   "source": [
    "mat"
   ]
  },
  {
   "cell_type": "markdown",
   "id": "2027e3a0-f973-4d9c-923f-be206d74d5f3",
   "metadata": {},
   "source": [
    "## Copying arrays"
   ]
  },
  {
   "cell_type": "code",
   "execution_count": 51,
   "id": "b8eb942a-3377-4ff9-83d9-d94e5d4bdea7",
   "metadata": {},
   "outputs": [
    {
     "data": {
      "text/plain": [
       "4×3 Matrix{Float64}:\n",
       " 100.0        0.547227  0.600307\n",
       "   0.184772   0.969489  0.986244\n",
       "   0.315809   0.830268  0.0926124\n",
       "   0.0164351  0.610327  0.0339165"
      ]
     },
     "execution_count": 51,
     "metadata": {},
     "output_type": "execute_result"
    }
   ],
   "source": [
    "mat3 = copy(mat)"
   ]
  },
  {
   "cell_type": "code",
   "execution_count": 52,
   "id": "cfe1d128-8b6e-4411-8c0c-2771294551c7",
   "metadata": {},
   "outputs": [
    {
     "data": {
      "text/plain": [
       "9999"
      ]
     },
     "execution_count": 52,
     "metadata": {},
     "output_type": "execute_result"
    }
   ],
   "source": [
    "mat3[1,1] = 9999"
   ]
  },
  {
   "cell_type": "code",
   "execution_count": 53,
   "id": "48afa0c1-d55f-4a6e-844c-c8b78aeb2ac1",
   "metadata": {},
   "outputs": [
    {
     "data": {
      "text/plain": [
       "4×3 Matrix{Float64}:\n",
       " 9999.0        0.547227  0.600307\n",
       "    0.184772   0.969489  0.986244\n",
       "    0.315809   0.830268  0.0926124\n",
       "    0.0164351  0.610327  0.0339165"
      ]
     },
     "execution_count": 53,
     "metadata": {},
     "output_type": "execute_result"
    }
   ],
   "source": [
    "mat3"
   ]
  },
  {
   "cell_type": "code",
   "execution_count": 54,
   "id": "45dc9f31-d562-4417-b2e6-cd6f4141c605",
   "metadata": {},
   "outputs": [
    {
     "data": {
      "text/plain": [
       "4×3 Matrix{Float64}:\n",
       " 100.0        0.547227  0.600307\n",
       "   0.184772   0.969489  0.986244\n",
       "   0.315809   0.830268  0.0926124\n",
       "   0.0164351  0.610327  0.0339165"
      ]
     },
     "execution_count": 54,
     "metadata": {},
     "output_type": "execute_result"
    }
   ],
   "source": [
    "mat"
   ]
  },
  {
   "cell_type": "markdown",
   "id": "30534d39-019d-4196-9905-2fcfb5181f60",
   "metadata": {},
   "source": [
    "## Comprehensions"
   ]
  },
  {
   "cell_type": "markdown",
   "id": "dc267f80-3b82-4066-8970-f240d88f1314",
   "metadata": {},
   "source": [
    "We can also do nested loops with comprehensions"
   ]
  },
  {
   "cell_type": "code",
   "execution_count": 55,
   "id": "866f7da6-dbeb-4326-b773-080db910933b",
   "metadata": {},
   "outputs": [
    {
     "data": {
      "text/plain": [
       "5-element Vector{Int64}:\n",
       " 1\n",
       " 2\n",
       " 3\n",
       " 4\n",
       " 5"
      ]
     },
     "execution_count": 55,
     "metadata": {},
     "output_type": "execute_result"
    }
   ],
   "source": [
    "[i for i in 1:5]"
   ]
  },
  {
   "cell_type": "code",
   "execution_count": 56,
   "id": "81a2042d-6da8-4c93-9e40-bb35de2cf5f5",
   "metadata": {},
   "outputs": [
    {
     "data": {
      "text/plain": [
       "5×5 Matrix{Tuple{Int64, Int64}}:\n",
       " (1, 6)  (1, 7)  (1, 8)  (1, 9)  (1, 10)\n",
       " (2, 6)  (2, 7)  (2, 8)  (2, 9)  (2, 10)\n",
       " (3, 6)  (3, 7)  (3, 8)  (3, 9)  (3, 10)\n",
       " (4, 6)  (4, 7)  (4, 8)  (4, 9)  (4, 10)\n",
       " (5, 6)  (5, 7)  (5, 8)  (5, 9)  (5, 10)"
      ]
     },
     "execution_count": 56,
     "metadata": {},
     "output_type": "execute_result"
    }
   ],
   "source": [
    "[(i,j) for i in 1:5, j in 6:10]"
   ]
  },
  {
   "cell_type": "code",
   "execution_count": 57,
   "id": "434bf626-9f2a-45fe-9ad2-9b45045408f7",
   "metadata": {},
   "outputs": [
    {
     "data": {
      "text/plain": [
       "5×5 Matrix{Tuple{Int64, Int64}}:\n",
       " (1, 6)   (1, 7)   (1, 8)   (1, 9)   (1, 10)\n",
       " (4, 6)   (4, 7)   (4, 8)   (4, 9)   (4, 10)\n",
       " (9, 6)   (9, 7)   (9, 8)   (9, 9)   (9, 10)\n",
       " (16, 6)  (16, 7)  (16, 8)  (16, 9)  (16, 10)\n",
       " (25, 6)  (25, 7)  (25, 8)  (25, 9)  (25, 10)"
      ]
     },
     "execution_count": 57,
     "metadata": {},
     "output_type": "execute_result"
    }
   ],
   "source": [
    "[(i^2, j) for i in 1:5, j in 6:10]"
   ]
  },
  {
   "cell_type": "markdown",
   "id": "ae37abd1-91cb-466e-9475-e4e7ffac76c9",
   "metadata": {},
   "source": [
    "## Matrix operations"
   ]
  },
  {
   "cell_type": "code",
   "execution_count": 58,
   "id": "5776374c-5799-435b-b007-f3431a345ee3",
   "metadata": {},
   "outputs": [
    {
     "data": {
      "text/plain": [
       "3×3 Matrix{Int64}:\n",
       " 12  17  16\n",
       " 12  10  15\n",
       " 12  17  12"
      ]
     },
     "execution_count": 58,
     "metadata": {},
     "output_type": "execute_result"
    }
   ],
   "source": [
    "A = rand(10:20, 3,3)"
   ]
  },
  {
   "cell_type": "code",
   "execution_count": 59,
   "id": "16aed1a0-64cb-4154-bf4b-6cb1b21eb42e",
   "metadata": {},
   "outputs": [
    {
     "data": {
      "text/plain": [
       "3×3 Matrix{Float64}:\n",
       " 10.0  18.0  19.0\n",
       " 14.0  12.0  17.0\n",
       " 13.0  19.0  20.0"
      ]
     },
     "execution_count": 59,
     "metadata": {},
     "output_type": "execute_result"
    }
   ],
   "source": [
    "A = rand(10.:20, 3,3)"
   ]
  },
  {
   "cell_type": "markdown",
   "id": "06415e91-22a3-44f4-bd6f-39be8b948e42",
   "metadata": {},
   "source": [
    "Instead of random values, we can provide a specific value using the fill method"
   ]
  },
  {
   "cell_type": "code",
   "execution_count": 61,
   "id": "8039ac16-df99-45b0-8f61-180b9d79f21d",
   "metadata": {},
   "outputs": [
    {
     "data": {
      "text/plain": [
       "3-element Vector{Float64}:\n",
       " 10.0\n",
       " 10.0\n",
       " 10.0"
      ]
     },
     "execution_count": 61,
     "metadata": {},
     "output_type": "execute_result"
    }
   ],
   "source": [
    "x = fill(10.0,(3,))"
   ]
  },
  {
   "cell_type": "code",
   "execution_count": 62,
   "id": "c2dae02a-adb6-4d0e-be1a-a401a070ecbf",
   "metadata": {},
   "outputs": [
    {
     "data": {
      "text/plain": [
       "3-element Vector{Float64}:\n",
       " 470.0\n",
       " 430.0\n",
       " 520.0"
      ]
     },
     "execution_count": 62,
     "metadata": {},
     "output_type": "execute_result"
    }
   ],
   "source": [
    "A*x\n",
    "# this is a usual matrix-vector multiplication\n",
    "# of course, this requires a 'size match'"
   ]
  },
  {
   "cell_type": "markdown",
   "id": "77355e4a-9e33-4361-9cd3-4d31a40ad13f",
   "metadata": {},
   "source": [
    "## Transpose. Trace, Determinant"
   ]
  },
  {
   "cell_type": "code",
   "execution_count": 63,
   "id": "97e802c5-f4a2-4f13-a288-f225c117c24e",
   "metadata": {},
   "outputs": [
    {
     "data": {
      "text/plain": [
       "3×3 Matrix{Float64}:\n",
       " 10.0  18.0  19.0\n",
       " 14.0  12.0  17.0\n",
       " 13.0  19.0  20.0"
      ]
     },
     "execution_count": 63,
     "metadata": {},
     "output_type": "execute_result"
    }
   ],
   "source": [
    "A"
   ]
  },
  {
   "cell_type": "code",
   "execution_count": 64,
   "id": "43bdb0f5-581a-45db-ac0f-8fb065753125",
   "metadata": {},
   "outputs": [
    {
     "data": {
      "text/plain": [
       "3×3 adjoint(::Matrix{Float64}) with eltype Float64:\n",
       " 10.0  14.0  13.0\n",
       " 18.0  12.0  19.0\n",
       " 19.0  17.0  20.0"
      ]
     },
     "execution_count": 64,
     "metadata": {},
     "output_type": "execute_result"
    }
   ],
   "source": [
    "A'"
   ]
  },
  {
   "cell_type": "code",
   "execution_count": 65,
   "id": "e88a6236-603a-4feb-989a-f071f6ab5853",
   "metadata": {},
   "outputs": [
    {
     "data": {
      "text/plain": [
       "3×3 Matrix{Float64}:\n",
       " 465.0  595.0   688.0\n",
       " 595.0  829.0   926.0\n",
       " 688.0  926.0  1050.0"
      ]
     },
     "execution_count": 65,
     "metadata": {},
     "output_type": "execute_result"
    }
   ],
   "source": [
    "A' * A"
   ]
  },
  {
   "cell_type": "code",
   "execution_count": 66,
   "id": "7378cd25-8927-4f8f-aacf-a49728061b45",
   "metadata": {},
   "outputs": [
    {
     "data": {
      "text/plain": [
       "3×3 Matrix{Float64}:\n",
       " 465.0  595.0   688.0\n",
       " 595.0  829.0   926.0\n",
       " 688.0  926.0  1050.0"
      ]
     },
     "execution_count": 66,
     "metadata": {},
     "output_type": "execute_result"
    }
   ],
   "source": [
    "A'A # shortcut... typical with Julia"
   ]
  },
  {
   "cell_type": "code",
   "execution_count": 73,
   "id": "269916b2-459d-4dc5-b579-a3f07ffb409b",
   "metadata": {},
   "outputs": [],
   "source": [
    "using LinearAlgebra"
   ]
  },
  {
   "cell_type": "code",
   "execution_count": 74,
   "id": "edc0d1bd-f205-4842-a9d6-8d26a29841d0",
   "metadata": {},
   "outputs": [
    {
     "data": {
      "text/plain": [
       "42.0"
      ]
     },
     "execution_count": 74,
     "metadata": {},
     "output_type": "execute_result"
    }
   ],
   "source": [
    "tr(A) # the trace of A"
   ]
  },
  {
   "cell_type": "code",
   "execution_count": 75,
   "id": "30b5d197-0b9e-40a9-93b2-03d8fe998d0e",
   "metadata": {},
   "outputs": [
    {
     "data": {
      "text/plain": [
       "198.00000000000006"
      ]
     },
     "execution_count": 75,
     "metadata": {},
     "output_type": "execute_result"
    }
   ],
   "source": [
    "det(A)"
   ]
  },
  {
   "cell_type": "code",
   "execution_count": 76,
   "id": "88bd5de1-f3db-4d59-acca-f4deebcf561b",
   "metadata": {},
   "outputs": [
    {
     "data": {
      "text/plain": [
       "3×3 Matrix{Float64}:\n",
       " -0.419192   0.00505051   0.393939\n",
       " -0.29798   -0.237374     0.484848\n",
       "  0.555556   0.222222    -0.666667"
      ]
     },
     "execution_count": 76,
     "metadata": {},
     "output_type": "execute_result"
    }
   ],
   "source": [
    "inv(A)"
   ]
  },
  {
   "cell_type": "markdown",
   "id": "e980e120-8f8f-4df7-858d-2c25f77e983a",
   "metadata": {},
   "source": [
    "## Solving linear eqns. directly"
   ]
  },
  {
   "cell_type": "code",
   "execution_count": 77,
   "id": "7d3239ca-f569-4417-bc2f-7dcfe5c13dab",
   "metadata": {},
   "outputs": [
    {
     "data": {
      "text/plain": [
       "3×3 Matrix{Float64}:\n",
       " 0.0533341  0.0221312  0.120322\n",
       " 0.0940522  0.340611   0.367552\n",
       " 0.875304   0.600737   0.42929"
      ]
     },
     "execution_count": 77,
     "metadata": {},
     "output_type": "execute_result"
    }
   ],
   "source": [
    "A = rand(3,3)"
   ]
  },
  {
   "cell_type": "code",
   "execution_count": 78,
   "id": "d9dd98d7-37b2-4161-acce-16960ed135c5",
   "metadata": {},
   "outputs": [
    {
     "data": {
      "text/plain": [
       "3-element Vector{Float64}:\n",
       " 10.0\n",
       " 10.0\n",
       " 10.0"
      ]
     },
     "execution_count": 78,
     "metadata": {},
     "output_type": "execute_result"
    }
   ],
   "source": [
    "x"
   ]
  },
  {
   "cell_type": "code",
   "execution_count": 79,
   "id": "a7ec96dc-d7fd-4572-ad85-62178ba805d4",
   "metadata": {},
   "outputs": [
    {
     "data": {
      "text/plain": [
       "3-element Vector{Float64}:\n",
       "  1.9578764392085413\n",
       "  8.022145943068885\n",
       " 19.053311437468796"
      ]
     },
     "execution_count": 79,
     "metadata": {},
     "output_type": "execute_result"
    }
   ],
   "source": [
    "b = A*x"
   ]
  },
  {
   "cell_type": "code",
   "execution_count": 81,
   "id": "65251d8f-0aab-4a02-9d54-a2104c4a880b",
   "metadata": {},
   "outputs": [
    {
     "data": {
      "text/plain": [
       "3-element Vector{Float64}:\n",
       " 10.000000000000002\n",
       "  9.999999999999995\n",
       " 10.0"
      ]
     },
     "execution_count": 81,
     "metadata": {},
     "output_type": "execute_result"
    }
   ],
   "source": [
    "A\\b # solve for x"
   ]
  },
  {
   "cell_type": "markdown",
   "id": "b5bab8ee-407f-4082-93f0-658a80a2c943",
   "metadata": {},
   "source": [
    "## More..."
   ]
  },
  {
   "cell_type": "markdown",
   "id": "153eead6-95c3-40b7-98c9-08bde0ebf4c3",
   "metadata": {},
   "source": [
    "We can create n-dim arrays easily too. These tensors will come in handy when we get to machine learning."
   ]
  },
  {
   "cell_type": "code",
   "execution_count": 82,
   "id": "afda390e-aee4-4a92-8e9a-4a85408dbba0",
   "metadata": {},
   "outputs": [
    {
     "data": {
      "text/plain": [
       "4×3×2 Array{Float64, 3}:\n",
       "[:, :, 1] =\n",
       " 0.0537615  0.723029   0.685507\n",
       " 0.342268   0.0683903  0.019689\n",
       " 0.325498   0.712227   0.910353\n",
       " 0.503248   0.238122   0.86209\n",
       "\n",
       "[:, :, 2] =\n",
       " 0.866289  0.663898   0.952733\n",
       " 0.272297  0.901953   0.922882\n",
       " 0.684508  0.0249539  0.588933\n",
       " 0.484263  0.0811747  0.130661"
      ]
     },
     "execution_count": 82,
     "metadata": {},
     "output_type": "execute_result"
    }
   ],
   "source": [
    "rand(4, 3, 2)"
   ]
  }
 ],
 "metadata": {
  "kernelspec": {
   "display_name": "Julia 1.8.2",
   "language": "julia",
   "name": "julia-1.8"
  },
  "language_info": {
   "file_extension": ".jl",
   "mimetype": "application/julia",
   "name": "julia",
   "version": "1.8.2"
  }
 },
 "nbformat": 4,
 "nbformat_minor": 5
}
