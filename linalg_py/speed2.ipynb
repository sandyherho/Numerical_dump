{
 "cells": [
  {
   "cell_type": "code",
   "execution_count": 1,
   "id": "ea7e3dac",
   "metadata": {},
   "outputs": [],
   "source": [
    "import random\n",
    "import numpy as np"
   ]
  },
  {
   "cell_type": "code",
   "execution_count": 2,
   "id": "2a0e03b9",
   "metadata": {},
   "outputs": [],
   "source": [
    "r = [random.randrange(100) for _ in range(100_000)]"
   ]
  },
  {
   "cell_type": "markdown",
   "id": "9c3afdd5",
   "metadata": {},
   "source": [
    "# Simple loops"
   ]
  },
  {
   "cell_type": "code",
   "execution_count": 3,
   "id": "474355b9",
   "metadata": {},
   "outputs": [],
   "source": [
    "n = 1_000\n",
    "x, y = random.sample(r, n), random.sample(r, n)"
   ]
  },
  {
   "cell_type": "code",
   "execution_count": 4,
   "id": "81f2d747",
   "metadata": {},
   "outputs": [
    {
     "name": "stdout",
     "output_type": "stream",
     "text": [
      "157 µs ± 2.24 µs per loop (mean ± std. dev. of 7 runs, 10,000 loops each)\n"
     ]
    }
   ],
   "source": [
    "%%timeit\n",
    "i, z = 0, []\n",
    "while i < n:\n",
    "    z.append(x[i] + y[i])\n",
    "    i += 1"
   ]
  },
  {
   "cell_type": "code",
   "execution_count": 5,
   "id": "b6585612",
   "metadata": {},
   "outputs": [
    {
     "name": "stdout",
     "output_type": "stream",
     "text": [
      "115 µs ± 1.79 µs per loop (mean ± std. dev. of 7 runs, 10,000 loops each)\n"
     ]
    }
   ],
   "source": [
    "%%timeit\n",
    "z = []\n",
    "for i in range(n):\n",
    "    z.append(x[i] + y[i])"
   ]
  },
  {
   "cell_type": "code",
   "execution_count": 6,
   "id": "40f8aeb0",
   "metadata": {},
   "outputs": [
    {
     "name": "stdout",
     "output_type": "stream",
     "text": [
      "74.6 µs ± 1.64 µs per loop (mean ± std. dev. of 7 runs, 10,000 loops each)\n"
     ]
    }
   ],
   "source": [
    "%%timeit\n",
    "z = [x[i] + y[i] for i in range(n)]"
   ]
  },
  {
   "cell_type": "markdown",
   "id": "4b6d5a1f",
   "metadata": {},
   "source": [
    "# Numpy"
   ]
  },
  {
   "cell_type": "code",
   "execution_count": 7,
   "id": "755f27ea",
   "metadata": {},
   "outputs": [],
   "source": [
    "x_, y_ = np.array(x, dtype=np.int64), np.array(y, dtype=np.int64)"
   ]
  },
  {
   "cell_type": "code",
   "execution_count": 8,
   "id": "8327bb42",
   "metadata": {},
   "outputs": [
    {
     "name": "stdout",
     "output_type": "stream",
     "text": [
      "1 µs ± 17.3 ns per loop (mean ± std. dev. of 7 runs, 1,000,000 loops each)\n"
     ]
    }
   ],
   "source": [
    "%%timeit\n",
    "z = x_ + y_"
   ]
  },
  {
   "cell_type": "code",
   "execution_count": 9,
   "id": "1b4c69a2",
   "metadata": {},
   "outputs": [],
   "source": [
    "x_, y_ = np.array(x, dtype=np.int32), np.array(y, dtype=np.int32)"
   ]
  },
  {
   "cell_type": "code",
   "execution_count": 10,
   "id": "b1b8c4fe",
   "metadata": {},
   "outputs": [
    {
     "name": "stdout",
     "output_type": "stream",
     "text": [
      "832 ns ± 11.3 ns per loop (mean ± std. dev. of 7 runs, 1,000,000 loops each)\n"
     ]
    }
   ],
   "source": [
    "%%timeit\n",
    "z = x_ + y_"
   ]
  },
  {
   "cell_type": "markdown",
   "id": "5c3f22f3",
   "metadata": {},
   "source": [
    "# Nested loop: simple loop"
   ]
  },
  {
   "cell_type": "code",
   "execution_count": 11,
   "id": "719ec176",
   "metadata": {},
   "outputs": [],
   "source": [
    "m, n = 100, 1_000\n",
    "x = [random.sample(r, n) for _ in range(m)]\n",
    "y = [random.sample(r, n) for _ in range(m)]"
   ]
  },
  {
   "cell_type": "code",
   "execution_count": 12,
   "id": "6c3771a8",
   "metadata": {},
   "outputs": [
    {
     "name": "stdout",
     "output_type": "stream",
     "text": [
      "18.4 ms ± 346 µs per loop (mean ± std. dev. of 7 runs, 100 loops each)\n"
     ]
    }
   ],
   "source": [
    "%%timeit\n",
    "i, z = 0, []\n",
    "while i < m:\n",
    "    j, z_ = 0, []\n",
    "    while j < n:\n",
    "        z_.append(x[i][j] + y[i][j])\n",
    "        j += 1\n",
    "    z.append(z_)\n",
    "    i += 1"
   ]
  },
  {
   "cell_type": "code",
   "execution_count": 13,
   "id": "34c126cb",
   "metadata": {},
   "outputs": [
    {
     "name": "stdout",
     "output_type": "stream",
     "text": [
      "14.1 ms ± 459 µs per loop (mean ± std. dev. of 7 runs, 100 loops each)\n"
     ]
    }
   ],
   "source": [
    "%%timeit\n",
    "z = []\n",
    "for i in range(m):\n",
    "    z_ = []\n",
    "    for j in range(n):\n",
    "         z_.append(x[i][j] + y[i][j])\n",
    "    z.append(z_)"
   ]
  },
  {
   "cell_type": "code",
   "execution_count": 14,
   "id": "24d7d4bb",
   "metadata": {},
   "outputs": [
    {
     "name": "stdout",
     "output_type": "stream",
     "text": [
      "10.1 ms ± 113 µs per loop (mean ± std. dev. of 7 runs, 100 loops each)\n"
     ]
    }
   ],
   "source": [
    "%%timeit\n",
    "z = [[x[i][j] + y[i][j] for j in range(n)] for i in range(m)]"
   ]
  },
  {
   "cell_type": "code",
   "execution_count": 15,
   "id": "2dcf4bd7",
   "metadata": {},
   "outputs": [
    {
     "name": "stdout",
     "output_type": "stream",
     "text": [
      "Python 3.10.11\r\n"
     ]
    }
   ],
   "source": [
    "!python --version"
   ]
  }
 ],
 "metadata": {
  "kernelspec": {
   "display_name": "Python 3 (ipykernel)",
   "language": "python",
   "name": "python3"
  },
  "language_info": {
   "codemirror_mode": {
    "name": "ipython",
    "version": 3
   },
   "file_extension": ".py",
   "mimetype": "text/x-python",
   "name": "python",
   "nbconvert_exporter": "python",
   "pygments_lexer": "ipython3",
   "version": "3.10.11"
  }
 },
 "nbformat": 4,
 "nbformat_minor": 5
}
