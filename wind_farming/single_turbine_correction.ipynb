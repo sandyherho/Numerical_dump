{
 "cells": [
  {
   "cell_type": "code",
   "execution_count": 10,
   "id": "5191f20a",
   "metadata": {},
   "outputs": [],
   "source": [
    "import numpy as np\n",
    "import pandas as pd\n",
    "from windpowerlib import ModelChain, WindTurbine\n",
    "from windpowerlib import data as wt\n",
    "import matplotlib.pyplot as plt\n",
    "plt.style.use(\"ggplot\")"
   ]
  },
  {
   "cell_type": "code",
   "execution_count": 11,
   "id": "ad97c5d2",
   "metadata": {},
   "outputs": [],
   "source": [
    "weather_data = pd.read_csv(\"./weather_montreal.csv\",\n",
    "                           index_col=0, header=[0,1],\n",
    "                          date_parser=lambda idx:pd.to_datetime(idx, utc=True))"
   ]
  },
  {
   "cell_type": "code",
   "execution_count": 12,
   "id": "2d750ee4",
   "metadata": {},
   "outputs": [
    {
     "data": {
      "text/html": [
       "<div>\n",
       "<style scoped>\n",
       "    .dataframe tbody tr th:only-of-type {\n",
       "        vertical-align: middle;\n",
       "    }\n",
       "\n",
       "    .dataframe tbody tr th {\n",
       "        vertical-align: top;\n",
       "    }\n",
       "\n",
       "    .dataframe thead tr th {\n",
       "        text-align: left;\n",
       "    }\n",
       "</style>\n",
       "<table border=\"1\" class=\"dataframe\">\n",
       "  <thead>\n",
       "    <tr>\n",
       "      <th>variable_name</th>\n",
       "      <th>pressure</th>\n",
       "      <th>temperature</th>\n",
       "      <th>wind_speed</th>\n",
       "      <th>roughness_length</th>\n",
       "      <th>temperature</th>\n",
       "      <th>wind_speed</th>\n",
       "    </tr>\n",
       "    <tr>\n",
       "      <th>height</th>\n",
       "      <th>0</th>\n",
       "      <th>2</th>\n",
       "      <th>10</th>\n",
       "      <th>0</th>\n",
       "      <th>10</th>\n",
       "      <th>50</th>\n",
       "    </tr>\n",
       "  </thead>\n",
       "  <tbody>\n",
       "    <tr>\n",
       "      <th>2019-01-01 00:00:00+00:00</th>\n",
       "      <td>99760</td>\n",
       "      <td>273.37</td>\n",
       "      <td>7.11</td>\n",
       "      <td>0.15</td>\n",
       "      <td>273.27</td>\n",
       "      <td>9.85</td>\n",
       "    </tr>\n",
       "    <tr>\n",
       "      <th>2019-01-01 01:00:00+00:00</th>\n",
       "      <td>99480</td>\n",
       "      <td>273.56</td>\n",
       "      <td>6.87</td>\n",
       "      <td>0.15</td>\n",
       "      <td>273.46</td>\n",
       "      <td>10.08</td>\n",
       "    </tr>\n",
       "    <tr>\n",
       "      <th>2019-01-01 02:00:00+00:00</th>\n",
       "      <td>99200</td>\n",
       "      <td>273.58</td>\n",
       "      <td>6.21</td>\n",
       "      <td>0.15</td>\n",
       "      <td>273.48</td>\n",
       "      <td>9.27</td>\n",
       "    </tr>\n",
       "    <tr>\n",
       "      <th>2019-01-01 03:00:00+00:00</th>\n",
       "      <td>98910</td>\n",
       "      <td>273.61</td>\n",
       "      <td>3.66</td>\n",
       "      <td>0.15</td>\n",
       "      <td>273.51</td>\n",
       "      <td>6.51</td>\n",
       "    </tr>\n",
       "    <tr>\n",
       "      <th>2019-01-01 04:00:00+00:00</th>\n",
       "      <td>98760</td>\n",
       "      <td>273.58</td>\n",
       "      <td>1.26</td>\n",
       "      <td>0.15</td>\n",
       "      <td>273.48</td>\n",
       "      <td>2.28</td>\n",
       "    </tr>\n",
       "  </tbody>\n",
       "</table>\n",
       "</div>"
      ],
      "text/plain": [
       "variable_name             pressure temperature wind_speed roughness_length  \\\n",
       "height                           0           2         10                0   \n",
       "2019-01-01 00:00:00+00:00    99760      273.37       7.11             0.15   \n",
       "2019-01-01 01:00:00+00:00    99480      273.56       6.87             0.15   \n",
       "2019-01-01 02:00:00+00:00    99200      273.58       6.21             0.15   \n",
       "2019-01-01 03:00:00+00:00    98910      273.61       3.66             0.15   \n",
       "2019-01-01 04:00:00+00:00    98760      273.58       1.26             0.15   \n",
       "\n",
       "variable_name             temperature wind_speed  \n",
       "height                             10         50  \n",
       "2019-01-01 00:00:00+00:00      273.27       9.85  \n",
       "2019-01-01 01:00:00+00:00      273.46      10.08  \n",
       "2019-01-01 02:00:00+00:00      273.48       9.27  \n",
       "2019-01-01 03:00:00+00:00      273.51       6.51  \n",
       "2019-01-01 04:00:00+00:00      273.48       2.28  "
      ]
     },
     "execution_count": 12,
     "metadata": {},
     "output_type": "execute_result"
    }
   ],
   "source": [
    "weather_data.head()"
   ]
  },
  {
   "cell_type": "markdown",
   "id": "aa62e967",
   "metadata": {},
   "source": [
    "## Wind turbine selection"
   ]
  },
  {
   "cell_type": "code",
   "execution_count": 13,
   "id": "ff94eba1",
   "metadata": {},
   "outputs": [],
   "source": [
    "turbine_lib = wt.get_turbine_types(print_out=False)"
   ]
  },
  {
   "cell_type": "code",
   "execution_count": 14,
   "id": "fdebc4c2",
   "metadata": {},
   "outputs": [
    {
     "data": {
      "text/html": [
       "<div>\n",
       "<style scoped>\n",
       "    .dataframe tbody tr th:only-of-type {\n",
       "        vertical-align: middle;\n",
       "    }\n",
       "\n",
       "    .dataframe tbody tr th {\n",
       "        vertical-align: top;\n",
       "    }\n",
       "\n",
       "    .dataframe thead th {\n",
       "        text-align: right;\n",
       "    }\n",
       "</style>\n",
       "<table border=\"1\" class=\"dataframe\">\n",
       "  <thead>\n",
       "    <tr style=\"text-align: right;\">\n",
       "      <th></th>\n",
       "      <th>manufacturer</th>\n",
       "      <th>turbine_type</th>\n",
       "      <th>has_power_curve</th>\n",
       "      <th>has_cp_curve</th>\n",
       "    </tr>\n",
       "  </thead>\n",
       "  <tbody>\n",
       "    <tr>\n",
       "      <th>0</th>\n",
       "      <td>Adwen/Areva</td>\n",
       "      <td>AD116/5000</td>\n",
       "      <td>True</td>\n",
       "      <td>False</td>\n",
       "    </tr>\n",
       "    <tr>\n",
       "      <th>1</th>\n",
       "      <td>Enercon</td>\n",
       "      <td>E-101/3050</td>\n",
       "      <td>True</td>\n",
       "      <td>True</td>\n",
       "    </tr>\n",
       "    <tr>\n",
       "      <th>2</th>\n",
       "      <td>Enercon</td>\n",
       "      <td>E-101/3500</td>\n",
       "      <td>True</td>\n",
       "      <td>True</td>\n",
       "    </tr>\n",
       "    <tr>\n",
       "      <th>3</th>\n",
       "      <td>Enercon</td>\n",
       "      <td>E-115/3000</td>\n",
       "      <td>True</td>\n",
       "      <td>True</td>\n",
       "    </tr>\n",
       "    <tr>\n",
       "      <th>4</th>\n",
       "      <td>Enercon</td>\n",
       "      <td>E-115/3200</td>\n",
       "      <td>True</td>\n",
       "      <td>True</td>\n",
       "    </tr>\n",
       "    <tr>\n",
       "      <th>...</th>\n",
       "      <td>...</td>\n",
       "      <td>...</td>\n",
       "      <td>...</td>\n",
       "      <td>...</td>\n",
       "    </tr>\n",
       "    <tr>\n",
       "      <th>62</th>\n",
       "      <td>Vestas</td>\n",
       "      <td>V80/2000</td>\n",
       "      <td>True</td>\n",
       "      <td>False</td>\n",
       "    </tr>\n",
       "    <tr>\n",
       "      <th>63</th>\n",
       "      <td>Vestas</td>\n",
       "      <td>V90/2000</td>\n",
       "      <td>True</td>\n",
       "      <td>True</td>\n",
       "    </tr>\n",
       "    <tr>\n",
       "      <th>64</th>\n",
       "      <td>Vestas</td>\n",
       "      <td>V90/2000/GS</td>\n",
       "      <td>True</td>\n",
       "      <td>True</td>\n",
       "    </tr>\n",
       "    <tr>\n",
       "      <th>65</th>\n",
       "      <td>Vestas</td>\n",
       "      <td>V90/3000</td>\n",
       "      <td>True</td>\n",
       "      <td>False</td>\n",
       "    </tr>\n",
       "    <tr>\n",
       "      <th>66</th>\n",
       "      <td>aerodyn</td>\n",
       "      <td>SCD168/8000</td>\n",
       "      <td>True</td>\n",
       "      <td>False</td>\n",
       "    </tr>\n",
       "  </tbody>\n",
       "</table>\n",
       "<p>67 rows × 4 columns</p>\n",
       "</div>"
      ],
      "text/plain": [
       "   manufacturer turbine_type  has_power_curve  has_cp_curve\n",
       "0   Adwen/Areva   AD116/5000             True         False\n",
       "1       Enercon   E-101/3050             True          True\n",
       "2       Enercon   E-101/3500             True          True\n",
       "3       Enercon   E-115/3000             True          True\n",
       "4       Enercon   E-115/3200             True          True\n",
       "..          ...          ...              ...           ...\n",
       "62       Vestas     V80/2000             True         False\n",
       "63       Vestas     V90/2000             True          True\n",
       "64       Vestas  V90/2000/GS             True          True\n",
       "65       Vestas     V90/3000             True         False\n",
       "66      aerodyn  SCD168/8000             True         False\n",
       "\n",
       "[67 rows x 4 columns]"
      ]
     },
     "execution_count": 14,
     "metadata": {},
     "output_type": "execute_result"
    }
   ],
   "source": [
    "turbine_lib"
   ]
  },
  {
   "cell_type": "code",
   "execution_count": 15,
   "id": "1d23aaaf",
   "metadata": {},
   "outputs": [],
   "source": [
    "selected_turbine = {\"turbine_type\":\"E48/800\", \n",
    "                    \"hub_height\":60, }"
   ]
  },
  {
   "cell_type": "code",
   "execution_count": 16,
   "id": "2b0d305c",
   "metadata": {},
   "outputs": [],
   "source": [
    "w_turbine = WindTurbine(**selected_turbine)"
   ]
  },
  {
   "cell_type": "code",
   "execution_count": 9,
   "id": "46be746d",
   "metadata": {},
   "outputs": [],
   "source": [
    "turbine_sub_models = {\n",
    "    \"wind_speed_model\":\"hellman\", # \"hellman\", \"logarithmic\" (default), \"interpolation-extrapolation\" \n",
    "    \"density_model\":\"ideal_gas\", # \"barometric\" (default), \"interpolation-extrapolation\"\n",
    "    \"temperature_model\":\"linear_gradient\", # interpolation-extrapolation\"\n",
    "    \"power_output_model\":\"power_coefficient_curve\", # \"power_curve\" (default)\n",
    "    \"density_correction\":True, # False (default)\n",
    "    \"obstacle_height\":0, # default is 0\n",
    "    \"hellman_exp\":0.25\n",
    "}"
   ]
  },
  {
   "cell_type": "code",
   "execution_count": 19,
   "id": "7967b8d8",
   "metadata": {},
   "outputs": [],
   "source": [
    "model = ModelChain(w_turbine, **turbine_sub_models).run_model(weather_data)"
   ]
  },
  {
   "cell_type": "code",
   "execution_count": 20,
   "id": "3aca816a",
   "metadata": {},
   "outputs": [],
   "source": [
    "turbine_power_output = model.power_output"
   ]
  },
  {
   "cell_type": "code",
   "execution_count": 21,
   "id": "bdf291fc",
   "metadata": {},
   "outputs": [
    {
     "data": {
      "text/plain": [
       "2019-01-01 00:00:00+00:00    607007.262981\n",
       "2019-01-01 01:00:00+00:00    632135.315297\n",
       "2019-01-01 02:00:00+00:00    518769.474098\n",
       "2019-01-01 03:00:00+00:00    167707.041459\n",
       "2019-01-01 04:00:00+00:00      1009.321805\n",
       "                                 ...      \n",
       "2019-12-31 19:00:00+00:00     28706.122846\n",
       "2019-12-31 20:00:00+00:00     57379.248988\n",
       "2019-12-31 21:00:00+00:00    160043.377176\n",
       "2019-12-31 22:00:00+00:00    289477.525999\n",
       "2019-12-31 23:00:00+00:00    271784.218019\n",
       "Name: feedin_power_plant, Length: 8760, dtype: float64"
      ]
     },
     "execution_count": 21,
     "metadata": {},
     "output_type": "execute_result"
    }
   ],
   "source": [
    "turbine_power_output # in watts"
   ]
  },
  {
   "cell_type": "code",
   "execution_count": 22,
   "id": "000030a4",
   "metadata": {},
   "outputs": [
    {
     "data": {
      "text/plain": [
       "2019-01-01 00:00:00+00:00    607.007263\n",
       "2019-01-01 01:00:00+00:00    632.135315\n",
       "2019-01-01 02:00:00+00:00    518.769474\n",
       "2019-01-01 03:00:00+00:00    167.707041\n",
       "2019-01-01 04:00:00+00:00      1.009322\n",
       "                                ...    \n",
       "2019-12-31 19:00:00+00:00     28.706123\n",
       "2019-12-31 20:00:00+00:00     57.379249\n",
       "2019-12-31 21:00:00+00:00    160.043377\n",
       "2019-12-31 22:00:00+00:00    289.477526\n",
       "2019-12-31 23:00:00+00:00    271.784218\n",
       "Name: feedin_power_plant, Length: 8760, dtype: float64"
      ]
     },
     "execution_count": 22,
     "metadata": {},
     "output_type": "execute_result"
    }
   ],
   "source": [
    "turbine_power_output/1e3"
   ]
  },
  {
   "cell_type": "code",
   "execution_count": 24,
   "id": "15c3b983",
   "metadata": {},
   "outputs": [
    {
     "data": {
      "image/png": "[encoded data removed]",
      "text/plain": [
       "<Figure size 640x480 with 1 Axes>"
      ]
     },
     "metadata": {},
     "output_type": "display_data"
    }
   ],
   "source": [
    "plt.plot(turbine_power_output);\n",
    "plt.xlabel(\"Date\");\n",
    "plt.ylabel(\"Power (kW)\");"
   ]
  }
 ],
 "metadata": {
  "kernelspec": {
   "display_name": "Python 3 (ipykernel)",
   "language": "python",
   "name": "python3"
  },
  "language_info": {
   "codemirror_mode": {
    "name": "ipython",
    "version": 3
   },
   "file_extension": ".py",
   "mimetype": "text/x-python",
   "name": "python",
   "nbconvert_exporter": "python",
   "pygments_lexer": "ipython3",
   "version": "3.11.3"
  }
 },
 "nbformat": 4,
 "nbformat_minor": 5
}
