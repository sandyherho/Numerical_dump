{
 "cells": [
  {
   "cell_type": "markdown",
   "id": "5b88fcfa",
   "metadata": {},
   "source": [
    "# Basic Functional Programming"
   ]
  },
  {
   "cell_type": "markdown",
   "id": "429d05dd",
   "metadata": {},
   "source": [
    "Functional programming is very useful when thinking in terms of mathematics. It's also massively parallelizable and you really should learn the concepts. Here, we'll take a lokk at some basics."
   ]
  },
  {
   "cell_type": "markdown",
   "id": "809e77a0",
   "metadata": {},
   "source": [
    "## Map"
   ]
  },
  {
   "cell_type": "markdown",
   "id": "e9d44d83",
   "metadata": {},
   "source": [
    "Map applies a function to all elements of a collection"
   ]
  },
  {
   "cell_type": "code",
   "execution_count": 4,
   "id": "85ecce94",
   "metadata": {},
   "outputs": [
    {
     "data": {
      "text/plain": [
       "3-element Vector{Int64}:\n",
       " 1\n",
       " 2\n",
       " 4"
      ]
     },
     "execution_count": 4,
     "metadata": {},
     "output_type": "execute_result"
    }
   ],
   "source": [
    "collection = [1,2,4]"
   ]
  },
  {
   "cell_type": "code",
   "execution_count": 5,
   "id": "1cbfc232",
   "metadata": {},
   "outputs": [
    {
     "data": {
      "text/plain": [
       "3-element Vector{Int64}:\n",
       "  1\n",
       "  4\n",
       " 16"
      ]
     },
     "execution_count": 5,
     "metadata": {},
     "output_type": "execute_result"
    }
   ],
   "source": [
    "map(x -> x^2, collection)"
   ]
  },
  {
   "cell_type": "code",
   "execution_count": 7,
   "id": "87bbbe5c",
   "metadata": {},
   "outputs": [
    {
     "data": {
      "text/plain": [
       "3-element Vector{Int64}:\n",
       "  1\n",
       "  4\n",
       " 16"
      ]
     },
     "execution_count": 7,
     "metadata": {},
     "output_type": "execute_result"
    }
   ],
   "source": [
    "squares = map(x -> x^2, collection)"
   ]
  },
  {
   "cell_type": "code",
   "execution_count": 8,
   "id": "43d90c95",
   "metadata": {},
   "outputs": [
    {
     "name": "stdout",
     "output_type": "stream",
     "text": [
      "squares = [1, 4, 16]\n"
     ]
    },
    {
     "data": {
      "text/plain": [
       "3-element Vector{Int64}:\n",
       "  1\n",
       "  4\n",
       " 16"
      ]
     },
     "execution_count": 8,
     "metadata": {},
     "output_type": "execute_result"
    }
   ],
   "source": [
    "@show squares"
   ]
  },
  {
   "cell_type": "markdown",
   "id": "5434bdd9",
   "metadata": {},
   "source": [
    "`map` is, therefore a higher-order-function since it takes in a function as it's argument. Functional programming revolves around this very concept. It's very useful since, as you can see, it can be parallelized. There are complete algorithms that solve many common problems using functional programming concepts such as `map`, `reduce`, and `filter`."
   ]
  },
  {
   "cell_type": "code",
   "execution_count": null,
   "id": "0b59bb1c",
   "metadata": {},
   "outputs": [],
   "source": []
  }
 ],
 "metadata": {
  "kernelspec": {
   "display_name": "Julia 1.8.2",
   "language": "julia",
   "name": "julia-1.8"
  },
  "language_info": {
   "file_extension": ".jl",
   "mimetype": "application/julia",
   "name": "julia",
   "version": "1.8.2"
  }
 },
 "nbformat": 4,
 "nbformat_minor": 5
}
