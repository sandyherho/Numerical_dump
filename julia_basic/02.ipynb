{
 "cells": [
  {
   "cell_type": "markdown",
   "id": "1e8edbe7-1760-475c-ba19-dfee405983a7",
   "metadata": {},
   "source": [
    "# Basic Syntax"
   ]
  },
  {
   "cell_type": "code",
   "execution_count": 7,
   "id": "171a604f-ccb4-4722-87a8-3cf57b0e93a9",
   "metadata": {},
   "outputs": [
    {
     "data": {
      "text/plain": [
       "25"
      ]
     },
     "execution_count": 7,
     "metadata": {},
     "output_type": "execute_result"
    }
   ],
   "source": [
    "awesome_var = 25"
   ]
  },
  {
   "cell_type": "code",
   "execution_count": 8,
   "id": "63ebb6d1-583f-4194-b082-5eed73a36158",
   "metadata": {},
   "outputs": [
    {
     "data": {
      "text/plain": [
       "25"
      ]
     },
     "execution_count": 8,
     "metadata": {},
     "output_type": "execute_result"
    }
   ],
   "source": [
    "awesome_var"
   ]
  },
  {
   "cell_type": "code",
   "execution_count": 9,
   "id": "0f48c55c-2f12-4b9f-b91e-643d912604c0",
   "metadata": {},
   "outputs": [],
   "source": [
    "#\\:smi # tab completion"
   ]
  },
  {
   "cell_type": "code",
   "execution_count": 10,
   "id": "df8bdb9c-7096-496f-ad8e-5c583bea51e6",
   "metadata": {},
   "outputs": [],
   "source": [
    "😸 = \"smile\";"
   ]
  },
  {
   "cell_type": "code",
   "execution_count": 12,
   "id": "568f75ff-812a-45cd-b708-5ae60e7f64e7",
   "metadata": {},
   "outputs": [
    {
     "data": {
      "text/plain": [
       "\"smile\""
      ]
     },
     "execution_count": 12,
     "metadata": {},
     "output_type": "execute_result"
    }
   ],
   "source": [
    "😸"
   ]
  },
  {
   "cell_type": "code",
   "execution_count": 13,
   "id": "e62b02eb-c701-4406-a005-d7df1a3bf7e7",
   "metadata": {},
   "outputs": [
    {
     "data": {
      "text/plain": [
       "String"
      ]
     },
     "execution_count": 13,
     "metadata": {},
     "output_type": "execute_result"
    }
   ],
   "source": [
    "typeof(😸)"
   ]
  },
  {
   "cell_type": "code",
   "execution_count": null,
   "id": "33c8ead4-c113-4655-bd4f-d615f3562efb",
   "metadata": {},
   "outputs": [],
   "source": []
  }
 ],
 "metadata": {
  "kernelspec": {
   "display_name": "Julia 1.8.2",
   "language": "julia",
   "name": "julia-1.8"
  },
  "language_info": {
   "file_extension": ".jl",
   "mimetype": "application/julia",
   "name": "julia",
   "version": "1.8.2"
  }
 },
 "nbformat": 4,
 "nbformat_minor": 5
}
