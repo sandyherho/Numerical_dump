{
 "cells": [
  {
   "cell_type": "code",
   "execution_count": 6,
   "id": "f0b7fa92",
   "metadata": {},
   "outputs": [],
   "source": [
    "import numpy as np\n",
    "import pandas as pd\n",
    "from windpowerlib import modelchain, WindTurbine\n",
    "from windpowerlib import data as wt\n",
    "import matplotlib.pyplot as plt\n",
    "plt.style.use(\"ggplot\")"
   ]
  },
  {
   "cell_type": "code",
   "execution_count": 3,
   "id": "f7e21fd2",
   "metadata": {},
   "outputs": [
    {
     "name": "stdout",
     "output_type": "stream",
     "text": [
      "Requirement already satisfied: windpowerlib in /home/ronggolawe/anaconda3/envs/new/lib/python3.11/site-packages (0.2.1)\n",
      "Requirement already satisfied: pandas>=0.20.0 in /home/ronggolawe/anaconda3/envs/new/lib/python3.11/site-packages (from windpowerlib) (2.0.0)\n",
      "Requirement already satisfied: requests in /home/ronggolawe/anaconda3/envs/new/lib/python3.11/site-packages (from windpowerlib) (2.31.0)\n",
      "Requirement already satisfied: python-dateutil>=2.8.2 in /home/ronggolawe/anaconda3/envs/new/lib/python3.11/site-packages (from pandas>=0.20.0->windpowerlib) (2.8.2)\n",
      "Requirement already satisfied: pytz>=2020.1 in /home/ronggolawe/anaconda3/envs/new/lib/python3.11/site-packages (from pandas>=0.20.0->windpowerlib) (2023.3)\n",
      "Requirement already satisfied: tzdata>=2022.1 in /home/ronggolawe/anaconda3/envs/new/lib/python3.11/site-packages (from pandas>=0.20.0->windpowerlib) (2023.3)\n",
      "Requirement already satisfied: numpy>=1.21.0 in /home/ronggolawe/anaconda3/envs/new/lib/python3.11/site-packages (from pandas>=0.20.0->windpowerlib) (1.23.5)\n",
      "Requirement already satisfied: charset-normalizer<4,>=2 in /home/ronggolawe/anaconda3/envs/new/lib/python3.11/site-packages (from requests->windpowerlib) (3.1.0)\n",
      "Requirement already satisfied: idna<4,>=2.5 in /home/ronggolawe/anaconda3/envs/new/lib/python3.11/site-packages (from requests->windpowerlib) (3.4)\n",
      "Requirement already satisfied: urllib3<3,>=1.21.1 in /home/ronggolawe/anaconda3/envs/new/lib/python3.11/site-packages (from requests->windpowerlib) (1.26.16)\n",
      "Requirement already satisfied: certifi>=2017.4.17 in /home/ronggolawe/anaconda3/envs/new/lib/python3.11/site-packages (from requests->windpowerlib) (2020.6.20)\n",
      "Requirement already satisfied: six>=1.5 in /home/ronggolawe/anaconda3/envs/new/lib/python3.11/site-packages (from python-dateutil>=2.8.2->pandas>=0.20.0->windpowerlib) (1.16.0)\n"
     ]
    }
   ],
   "source": []
  },
  {
   "cell_type": "code",
   "execution_count": null,
   "id": "2cb61244",
   "metadata": {},
   "outputs": [],
   "source": []
  }
 ],
 "metadata": {
  "kernelspec": {
   "display_name": "Python 3 (ipykernel)",
   "language": "python",
   "name": "python3"
  },
  "language_info": {
   "codemirror_mode": {
    "name": "ipython",
    "version": 3
   },
   "file_extension": ".py",
   "mimetype": "text/x-python",
   "name": "python",
   "nbconvert_exporter": "python",
   "pygments_lexer": "ipython3",
   "version": "3.11.3"
  }
 },
 "nbformat": 4,
 "nbformat_minor": 5
}
