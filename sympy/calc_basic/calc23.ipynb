{
 "cells": [
  {
   "cell_type": "code",
   "execution_count": 1,
   "id": "356f9eb2",
   "metadata": {},
   "outputs": [],
   "source": [
    "import numpy as np\n",
    "import matplotlib.pyplot as plt\n",
    "import sympy as smp\n",
    "from sympy.vector import *\n",
    "from scipy.integrate import quad, quad_vec\n",
    "\n",
    "plt.style.use(\"ggplot\")"
   ]
  },
  {
   "cell_type": "code",
   "execution_count": 2,
   "id": "400830a1",
   "metadata": {},
   "outputs": [],
   "source": [
    "x, y, z, u1, u2, u3, v1, v2, v3, t = smp.symbols(\"x y z u_1 u_2 u_3 v_1 v_2 v_3 t\")"
   ]
  },
  {
   "cell_type": "markdown",
   "id": "63c9109f",
   "metadata": {},
   "source": [
    "# Vectors and Geometry"
   ]
  },
  {
   "cell_type": "markdown",
   "id": "d900e30d",
   "metadata": {},
   "source": [
    "Numerical or symbolic"
   ]
  },
  {
   "cell_type": "code",
   "execution_count": 3,
   "id": "347f8c73",
   "metadata": {},
   "outputs": [],
   "source": [
    "a = np.array([1,2,3])\n",
    "b = np.array([7,8,9])\n",
    "u = smp.Matrix([u1, u2, u3])\n",
    "v = smp.Matrix([v1, v2, v3])"
   ]
  },
  {
   "cell_type": "code",
   "execution_count": 4,
   "id": "fcd4ac1f",
   "metadata": {},
   "outputs": [
    {
     "data": {
      "text/latex": [
       "$\\displaystyle \\left[\\begin{matrix}3\\\\u_{2}\\\\u_{3}\\end{matrix}\\right]$"
      ],
      "text/plain": [
       "Matrix([\n",
       "[  3],\n",
       "[u_2],\n",
       "[u_3]])"
      ]
     },
     "execution_count": 4,
     "metadata": {},
     "output_type": "execute_result"
    }
   ],
   "source": [
    "u.subs([(u1, 3)])"
   ]
  },
  {
   "cell_type": "markdown",
   "id": "108cf74d",
   "metadata": {},
   "source": [
    "## Addition & multiplication"
   ]
  },
  {
   "cell_type": "code",
   "execution_count": 5,
   "id": "01757239",
   "metadata": {},
   "outputs": [
    {
     "data": {
      "text/plain": [
       "array([16, 20, 24])"
      ]
     },
     "execution_count": 5,
     "metadata": {},
     "output_type": "execute_result"
    }
   ],
   "source": [
    "2*(a + b)"
   ]
  },
  {
   "cell_type": "code",
   "execution_count": 6,
   "id": "bd9f1f82",
   "metadata": {},
   "outputs": [
    {
     "data": {
      "text/latex": [
       "$\\displaystyle \\left[\\begin{matrix}2 u_{1} + 2 v_{1}\\\\2 u_{2} + 2 v_{2}\\\\2 u_{3} + 2 v_{3}\\end{matrix}\\right]$"
      ],
      "text/plain": [
       "Matrix([\n",
       "[2*u_1 + 2*v_1],\n",
       "[2*u_2 + 2*v_2],\n",
       "[2*u_3 + 2*v_3]])"
      ]
     },
     "execution_count": 6,
     "metadata": {},
     "output_type": "execute_result"
    }
   ],
   "source": [
    "2 * (u + v)"
   ]
  },
  {
   "cell_type": "markdown",
   "id": "39265a41",
   "metadata": {},
   "source": [
    "## Dot products"
   ]
  },
  {
   "cell_type": "code",
   "execution_count": 7,
   "id": "a3ad052c",
   "metadata": {},
   "outputs": [
    {
     "data": {
      "text/plain": [
       "50"
      ]
     },
     "execution_count": 7,
     "metadata": {},
     "output_type": "execute_result"
    }
   ],
   "source": [
    "np.dot(a, b)"
   ]
  },
  {
   "cell_type": "code",
   "execution_count": 8,
   "id": "396abf96",
   "metadata": {},
   "outputs": [
    {
     "data": {
      "text/latex": [
       "$\\displaystyle u_{1} v_{1} + u_{2} v_{2} + u_{3} v_{3}$"
      ],
      "text/plain": [
       "u_1*v_1 + u_2*v_2 + u_3*v_3"
      ]
     },
     "execution_count": 8,
     "metadata": {},
     "output_type": "execute_result"
    }
   ],
   "source": [
    "u.dot(v)"
   ]
  },
  {
   "cell_type": "markdown",
   "id": "1ed1e925",
   "metadata": {},
   "source": [
    "## Cross products"
   ]
  },
  {
   "cell_type": "code",
   "execution_count": 9,
   "id": "eb81ec20",
   "metadata": {},
   "outputs": [
    {
     "data": {
      "text/plain": [
       "array([-6, 12, -6])"
      ]
     },
     "execution_count": 9,
     "metadata": {},
     "output_type": "execute_result"
    }
   ],
   "source": [
    "np.cross(a, b)"
   ]
  },
  {
   "cell_type": "code",
   "execution_count": 10,
   "id": "8faf89e0",
   "metadata": {},
   "outputs": [
    {
     "data": {
      "text/latex": [
       "$\\displaystyle \\left[\\begin{matrix}u_{2} v_{3} - u_{3} v_{2}\\\\- u_{1} v_{3} + u_{3} v_{1}\\\\u_{1} v_{2} - u_{2} v_{1}\\end{matrix}\\right]$"
      ],
      "text/plain": [
       "Matrix([\n",
       "[ u_2*v_3 - u_3*v_2],\n",
       "[-u_1*v_3 + u_3*v_1],\n",
       "[ u_1*v_2 - u_2*v_1]])"
      ]
     },
     "execution_count": 10,
     "metadata": {},
     "output_type": "execute_result"
    }
   ],
   "source": [
    "u.cross(v)"
   ]
  },
  {
   "cell_type": "markdown",
   "id": "a146538a",
   "metadata": {},
   "source": [
    "## Length of vector"
   ]
  },
  {
   "cell_type": "code",
   "execution_count": 11,
   "id": "e85aaf72",
   "metadata": {},
   "outputs": [
    {
     "data": {
      "text/plain": [
       "3.7416573867739413"
      ]
     },
     "execution_count": 11,
     "metadata": {},
     "output_type": "execute_result"
    }
   ],
   "source": [
    "np.linalg.norm(a)"
   ]
  },
  {
   "cell_type": "code",
   "execution_count": 12,
   "id": "41a2094a",
   "metadata": {},
   "outputs": [
    {
     "data": {
      "text/latex": [
       "$\\displaystyle \\sqrt{\\left|{u_{1}}\\right|^{2} + \\left|{u_{2}}\\right|^{2} + \\left|{u_{3}}\\right|^{2}}$"
      ],
      "text/plain": [
       "sqrt(Abs(u_1)**2 + Abs(u_2)**2 + Abs(u_3)**2)"
      ]
     },
     "execution_count": 12,
     "metadata": {},
     "output_type": "execute_result"
    }
   ],
   "source": [
    "u.norm()"
   ]
  },
  {
   "cell_type": "markdown",
   "id": "da6604d3",
   "metadata": {},
   "source": [
    "## Vector projection"
   ]
  },
  {
   "cell_type": "markdown",
   "id": "e8fdc194",
   "metadata": {},
   "source": [
    "$$\\text{proj}_v (u) = \\frac{u.v}{|v|^2 } u$$"
   ]
  },
  {
   "cell_type": "code",
   "execution_count": 13,
   "id": "b7915ded",
   "metadata": {},
   "outputs": [
    {
     "data": {
      "text/plain": [
       "array([1.80412371, 2.06185567, 2.31958763])"
      ]
     },
     "execution_count": 13,
     "metadata": {},
     "output_type": "execute_result"
    }
   ],
   "source": [
    "proj_b_a = np.dot(a,b)/np.linalg.norm(b)**2 * b\n",
    "proj_b_a"
   ]
  },
  {
   "cell_type": "code",
   "execution_count": 14,
   "id": "1ac04b78",
   "metadata": {},
   "outputs": [
    {
     "data": {
      "text/latex": [
       "$\\displaystyle \\left[\\begin{matrix}\\frac{u_{1} \\left(u_{1} v_{1} + u_{2} v_{2} + u_{3} v_{3}\\right)}{\\left|{v_{1}}\\right|^{2} + \\left|{v_{2}}\\right|^{2} + \\left|{v_{3}}\\right|^{2}}\\\\\\frac{u_{2} \\left(u_{1} v_{1} + u_{2} v_{2} + u_{3} v_{3}\\right)}{\\left|{v_{1}}\\right|^{2} + \\left|{v_{2}}\\right|^{2} + \\left|{v_{3}}\\right|^{2}}\\\\\\frac{u_{3} \\left(u_{1} v_{1} + u_{2} v_{2} + u_{3} v_{3}\\right)}{\\left|{v_{1}}\\right|^{2} + \\left|{v_{2}}\\right|^{2} + \\left|{v_{3}}\\right|^{2}}\\end{matrix}\\right]$"
      ],
      "text/plain": [
       "Matrix([\n",
       "[u_1*(u_1*v_1 + u_2*v_2 + u_3*v_3)/(Abs(v_1)**2 + Abs(v_2)**2 + Abs(v_3)**2)],\n",
       "[u_2*(u_1*v_1 + u_2*v_2 + u_3*v_3)/(Abs(v_1)**2 + Abs(v_2)**2 + Abs(v_3)**2)],\n",
       "[u_3*(u_1*v_1 + u_2*v_2 + u_3*v_3)/(Abs(v_1)**2 + Abs(v_2)**2 + Abs(v_3)**2)]])"
      ]
     },
     "execution_count": 14,
     "metadata": {},
     "output_type": "execute_result"
    }
   ],
   "source": [
    "proj_u_v = u.dot(v)/v.norm()**2 *u \n",
    "proj_u_v"
   ]
  },
  {
   "cell_type": "markdown",
   "id": "9f764759",
   "metadata": {},
   "source": [
    "## Lines/Planes in space"
   ]
  },
  {
   "cell_type": "markdown",
   "id": "b7105003",
   "metadata": {},
   "source": [
    "Lines: $$\n",
    "\\vec{r}(t) = \\vec{r}_0 + t\\vec{v}\n",
    "$$"
   ]
  },
  {
   "cell_type": "code",
   "execution_count": 15,
   "id": "4be66ae8",
   "metadata": {},
   "outputs": [
    {
     "data": {
      "text/latex": [
       "$\\displaystyle \\left[\\begin{matrix}t + 1\\\\3 t + 1\\\\1 - t\\end{matrix}\\right]$"
      ],
      "text/plain": [
       "Matrix([\n",
       "[  t + 1],\n",
       "[3*t + 1],\n",
       "[  1 - t]])"
      ]
     },
     "execution_count": 15,
     "metadata": {},
     "output_type": "execute_result"
    }
   ],
   "source": [
    "r0 = smp.Matrix([1,1,1])\n",
    "v = smp.Matrix([1,3,-1])\n",
    "r = r0 + t*v\n",
    "r"
   ]
  },
  {
   "cell_type": "markdown",
   "id": "2c05cbf7",
   "metadata": {},
   "source": [
    "Planes:\n",
    "$$\n",
    "\\vec{n}.(P_0 - <x, y, z>) = 0\n",
    "$$"
   ]
  },
  {
   "cell_type": "code",
   "execution_count": 16,
   "id": "e4aeea93",
   "metadata": {},
   "outputs": [
    {
     "data": {
      "text/latex": [
       "$\\displaystyle - x - y - z + 16$"
      ],
      "text/plain": [
       "-x - y - z + 16"
      ]
     },
     "execution_count": 16,
     "metadata": {},
     "output_type": "execute_result"
    }
   ],
   "source": [
    "P0 = smp.Matrix([4,4,8])\n",
    "r = smp.Matrix([x,y,z])\n",
    "n = smp.Matrix([1,1,1])\n",
    "n.dot(P0 - r) # = 0"
   ]
  },
  {
   "cell_type": "markdown",
   "id": "9260468b",
   "metadata": {},
   "source": [
    "**Examples**: Find vector parallel to the line of intersection of the two planes $3x - 6y-2z=15$ and $2x +y -2z = 5$ (it's going to be perpendicular to both normal vectors)."
   ]
  },
  {
   "cell_type": "code",
   "execution_count": 17,
   "id": "97e489d5",
   "metadata": {},
   "outputs": [
    {
     "data": {
      "text/plain": [
       "array([14,  2, 15])"
      ]
     },
     "execution_count": 17,
     "metadata": {},
     "output_type": "execute_result"
    }
   ],
   "source": [
    "n1 = np.array([3, -6, -2])\n",
    "n2 = np.array([2, 1, -2])\n",
    "ans = np.cross(n1,n2)\n",
    "ans"
   ]
  },
  {
   "cell_type": "markdown",
   "id": "c1d57116",
   "metadata": {},
   "source": [
    "# Vector Calculus"
   ]
  },
  {
   "cell_type": "markdown",
   "id": "09c837e6",
   "metadata": {},
   "source": [
    "## Vector Derivatives"
   ]
  },
  {
   "cell_type": "code",
   "execution_count": 18,
   "id": "b8689c1d",
   "metadata": {},
   "outputs": [
    {
     "data": {
      "text/latex": [
       "$\\displaystyle \\left[\\begin{matrix}3 t\\\\\\sin{\\left(t \\right)}\\\\t^{2}\\end{matrix}\\right]$"
      ],
      "text/plain": [
       "Matrix([\n",
       "[   3*t],\n",
       "[sin(t)],\n",
       "[  t**2]])"
      ]
     },
     "execution_count": 18,
     "metadata": {},
     "output_type": "execute_result"
    }
   ],
   "source": [
    "r = smp.Matrix([3*t, smp.sin(t), t**2])\n",
    "r"
   ]
  },
  {
   "cell_type": "code",
   "execution_count": 19,
   "id": "1045114d",
   "metadata": {},
   "outputs": [
    {
     "data": {
      "text/latex": [
       "$\\displaystyle \\left[\\begin{matrix}3\\\\\\cos{\\left(t \\right)}\\\\2 t\\end{matrix}\\right]$"
      ],
      "text/plain": [
       "Matrix([\n",
       "[     3],\n",
       "[cos(t)],\n",
       "[   2*t]])"
      ]
     },
     "execution_count": 19,
     "metadata": {},
     "output_type": "execute_result"
    }
   ],
   "source": [
    "smp.diff(r, t)"
   ]
  },
  {
   "cell_type": "markdown",
   "id": "1c957497",
   "metadata": {},
   "source": [
    "**Example** Find the angle between the velocity and acceleration as a function of time $\\theta (t)$"
   ]
  },
  {
   "cell_type": "code",
   "execution_count": 20,
   "id": "90f8aea1",
   "metadata": {},
   "outputs": [],
   "source": [
    "v = smp.diff(r, t)\n",
    "a = smp.diff(v, t)"
   ]
  },
  {
   "cell_type": "code",
   "execution_count": 21,
   "id": "45586cc9",
   "metadata": {},
   "outputs": [],
   "source": [
    "theta = smp.acos(v.dot(a) / (v.norm() * a.norm())).simplify()"
   ]
  },
  {
   "cell_type": "code",
   "execution_count": 22,
   "id": "32b8ad41",
   "metadata": {},
   "outputs": [
    {
     "data": {
      "text/latex": [
       "$\\displaystyle \\operatorname{acos}{\\left(\\frac{4 t - \\frac{\\sin{\\left(2 t \\right)}}{2}}{\\sqrt{\\left|{\\sin{\\left(t \\right)}}\\right|^{2} + 4} \\sqrt{4 \\left|{t}\\right|^{2} + \\left|{\\cos{\\left(t \\right)}}\\right|^{2} + 9}} \\right)}$"
      ],
      "text/plain": [
       "acos((4*t - sin(2*t)/2)/(sqrt(Abs(sin(t))**2 + 4)*sqrt(4*Abs(t)**2 + Abs(cos(t))**2 + 9)))"
      ]
     },
     "execution_count": 22,
     "metadata": {},
     "output_type": "execute_result"
    }
   ],
   "source": [
    "theta"
   ]
  },
  {
   "cell_type": "code",
   "execution_count": 24,
   "id": "54016f66",
   "metadata": {},
   "outputs": [
    {
     "data": {
      "text/latex": [
       "$\\displaystyle 0.251108015692338$"
      ],
      "text/plain": [
       "0.251108015692338"
      ]
     },
     "execution_count": 24,
     "metadata": {},
     "output_type": "execute_result"
    }
   ],
   "source": [
    "theta.subs(t, 6).evalf()"
   ]
  },
  {
   "cell_type": "code",
   "execution_count": 27,
   "id": "ecffda8a",
   "metadata": {},
   "outputs": [
    {
     "data": {
      "text/plain": [
       "<function _lambdifygenerated(t)>"
      ]
     },
     "execution_count": 27,
     "metadata": {},
     "output_type": "execute_result"
    }
   ],
   "source": [
    "# smp.lambdify([args], sympy_func)(num_args)"
   ]
  },
  {
   "cell_type": "code",
   "execution_count": 33,
   "id": "d8ca17f7",
   "metadata": {},
   "outputs": [
    {
     "data": {
      "image/png": "[encoded data removed]",
      "text/plain": [
       "<Figure size 640x480 with 1 Axes>"
      ]
     },
     "metadata": {},
     "output_type": "display_data"
    }
   ],
   "source": [
    "tt = np.linspace(0,10,100)\n",
    "aa = smp.lambdify([t], theta)(tt)\n",
    "plt.plot(tt, aa);\n",
    "plt.xlabel(\"$t$\", fontsize=20);\n",
    "plt.ylabel(r\"$\\theta$\", fontsize=20);"
   ]
  },
  {
   "cell_type": "markdown",
   "id": "c6e680ca",
   "metadata": {},
   "source": [
    "## Vector Integrals"
   ]
  },
  {
   "cell_type": "markdown",
   "id": "fc165cc3",
   "metadata": {},
   "source": [
    "Note: Exclude + C"
   ]
  },
  {
   "cell_type": "code",
   "execution_count": 40,
   "id": "d6163632",
   "metadata": {},
   "outputs": [
    {
     "data": {
      "text/latex": [
       "$\\displaystyle \\left[\\begin{matrix}e^{t} \\cos{\\left(t \\right)}\\\\t^{4}\\\\\\frac{1}{t^{2} + 1}\\end{matrix}\\right]$"
      ],
      "text/plain": [
       "Matrix([\n",
       "[exp(t)*cos(t)],\n",
       "[         t**4],\n",
       "[ 1/(t**2 + 1)]])"
      ]
     },
     "execution_count": 40,
     "metadata": {},
     "output_type": "execute_result"
    }
   ],
   "source": [
    "r = smp.Matrix([smp.exp(t)*smp.cos(t), t**4, 1/(1+t**2)])\n",
    "r"
   ]
  },
  {
   "cell_type": "code",
   "execution_count": 41,
   "id": "ac9b7889",
   "metadata": {},
   "outputs": [
    {
     "data": {
      "text/latex": [
       "$\\displaystyle \\left[\\begin{matrix}\\frac{e^{t} \\sin{\\left(t \\right)}}{2} + \\frac{e^{t} \\cos{\\left(t \\right)}}{2}\\\\\\frac{t^{5}}{5}\\\\\\operatorname{atan}{\\left(t \\right)}\\end{matrix}\\right]$"
      ],
      "text/plain": [
       "Matrix([\n",
       "[exp(t)*sin(t)/2 + exp(t)*cos(t)/2],\n",
       "[                           t**5/5],\n",
       "[                          atan(t)]])"
      ]
     },
     "execution_count": 41,
     "metadata": {},
     "output_type": "execute_result"
    }
   ],
   "source": [
    "smp.Integral(r).doit()"
   ]
  },
  {
   "cell_type": "markdown",
   "id": "960c7a30",
   "metadata": {},
   "source": [
    "In some cases integral can't be evaluated symbolically, must solve definite integral numerically:"
   ]
  },
  {
   "cell_type": "code",
   "execution_count": 44,
   "id": "f7cf22f6",
   "metadata": {},
   "outputs": [
    {
     "data": {
      "text/latex": [
       "$\\displaystyle \\left[\\begin{matrix}e^{t^{2}} \\cos^{2}{\\left(t \\right)}\\\\e^{- t^{4}}\\\\\\frac{1}{t^{2} + 3}\\end{matrix}\\right]$"
      ],
      "text/plain": [
       "Matrix([\n",
       "[exp(t**2)*cos(t)**2],\n",
       "[         exp(-t**4)],\n",
       "[       1/(t**2 + 3)]])"
      ]
     },
     "execution_count": 44,
     "metadata": {},
     "output_type": "execute_result"
    }
   ],
   "source": [
    "r = smp.Matrix([smp.exp(t**2) * smp.cos(t)**2, smp.exp(-t**4), 1/(3+t**2)])\n",
    "r"
   ]
  },
  {
   "cell_type": "code",
   "execution_count": 45,
   "id": "7070bf23",
   "metadata": {},
   "outputs": [
    {
     "data": {
      "text/latex": [
       "$\\displaystyle \\left[\\begin{matrix}\\int e^{t^{2}} \\cos^{2}{\\left(t \\right)}\\, dt\\\\\\frac{\\Gamma\\left(\\frac{1}{4}\\right) \\gamma\\left(\\frac{1}{4}, t^{4}\\right)}{16 \\Gamma\\left(\\frac{5}{4}\\right)}\\\\\\frac{\\sqrt{3} \\operatorname{atan}{\\left(\\frac{\\sqrt{3} t}{3} \\right)}}{3}\\end{matrix}\\right]$"
      ],
      "text/plain": [
       "Matrix([\n",
       "[                Integral(exp(t**2)*cos(t)**2, t)],\n",
       "[gamma(1/4)*lowergamma(1/4, t**4)/(16*gamma(5/4))],\n",
       "[                     sqrt(3)*atan(sqrt(3)*t/3)/3]])"
      ]
     },
     "execution_count": 45,
     "metadata": {},
     "output_type": "execute_result"
    }
   ],
   "source": [
    "smp.integrate(r).doit() # can't doit"
   ]
  },
  {
   "cell_type": "code",
   "execution_count": 48,
   "id": "ed9043b5",
   "metadata": {},
   "outputs": [
    {
     "data": {
      "text/plain": [
       "array([[7.94171217e+03],\n",
       "       [6.63967720e-36],\n",
       "       [8.33333333e-02]])"
      ]
     },
     "execution_count": 48,
     "metadata": {},
     "output_type": "execute_result"
    }
   ],
   "source": [
    "r_num = smp.lambdify([t], r)\n",
    "r_num(3) # test case"
   ]
  },
  {
   "cell_type": "code",
   "execution_count": 49,
   "id": "76638b17",
   "metadata": {},
   "outputs": [
    {
     "data": {
      "text/plain": [
       "array([[6.38216178e+05],\n",
       "       [9.06402477e-01],\n",
       "       [6.70972506e-01]])"
      ]
     },
     "execution_count": 49,
     "metadata": {},
     "output_type": "execute_result"
    }
   ],
   "source": [
    "# integrate from 0 to 4, [0]: results, [1]:error\n",
    "quad_vec(r_num, 0, 4)[0]"
   ]
  },
  {
   "cell_type": "markdown",
   "id": "8e5c6562",
   "metadata": {},
   "source": [
    "## Arclength"
   ]
  },
  {
   "cell_type": "markdown",
   "id": "d1f1ad87",
   "metadata": {},
   "source": [
    "$$\n",
    "\\int_{a}^{b} \\sqrt{dx^2 + dy^2 + dz^2}\n",
    "$$\n",
    "\n",
    "Rare case can be done symbolically."
   ]
  },
  {
   "cell_type": "markdown",
   "id": "dc4c3504",
   "metadata": {},
   "source": [
    "Find arclength of $<0, t, t^2>$ from $t=0$ to $t= 1$"
   ]
  },
  {
   "cell_type": "code",
   "execution_count": 50,
   "id": "738454e4",
   "metadata": {},
   "outputs": [
    {
     "data": {
      "text/latex": [
       "$\\displaystyle \\left[\\begin{matrix}0\\\\t\\\\t^{2}\\end{matrix}\\right]$"
      ],
      "text/plain": [
       "Matrix([\n",
       "[   0],\n",
       "[   t],\n",
       "[t**2]])"
      ]
     },
     "execution_count": 50,
     "metadata": {},
     "output_type": "execute_result"
    }
   ],
   "source": [
    "r = smp.Matrix([0, t, t**2])\n",
    "r"
   ]
  },
  {
   "cell_type": "code",
   "execution_count": null,
   "id": "6cb3270b",
   "metadata": {},
   "outputs": [],
   "source": []
  }
 ],
 "metadata": {
  "kernelspec": {
   "display_name": "Python 3 (ipykernel)",
   "language": "python",
   "name": "python3"
  },
  "language_info": {
   "codemirror_mode": {
    "name": "ipython",
    "version": 3
   },
   "file_extension": ".py",
   "mimetype": "text/x-python",
   "name": "python",
   "nbconvert_exporter": "python",
   "pygments_lexer": "ipython3",
   "version": "3.11.3"
  }
 },
 "nbformat": 4,
 "nbformat_minor": 5
}
