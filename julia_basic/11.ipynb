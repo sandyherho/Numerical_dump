{
 "cells": [
  {
   "cell_type": "markdown",
   "id": "9545842a",
   "metadata": {},
   "source": [
    "# Plotting"
   ]
  },
  {
   "cell_type": "markdown",
   "id": "289d4b05",
   "metadata": {},
   "source": [
    "## Plotting functions"
   ]
  },
  {
   "cell_type": "code",
   "execution_count": 1,
   "id": "02adc8f7",
   "metadata": {},
   "outputs": [],
   "source": [
    "#using Pkg\n",
    "#Pkg.add(\"Plots\")"
   ]
  },
  {
   "cell_type": "code",
   "execution_count": 13,
   "id": "20c4d46e",
   "metadata": {},
   "outputs": [],
   "source": [
    "using Plots, LaTeXStrings"
   ]
  },
  {
   "cell_type": "code",
   "execution_count": 14,
   "id": "aba3f135",
   "metadata": {},
   "outputs": [],
   "source": [
    "plot(\n",
    "    sin,   # function to plot\n",
    "    -2π, 2π # range\n",
    ")"
   ]
  },
  {
   "cell_type": "code",
   "execution_count": 15,
   "id": "b716a022",
   "metadata": {},
   "outputs": [],
   "source": [
    "plot(x -> sin(x)^2 + cos(x)^3, -2π, 2π)"
   ]
  },
  {
   "cell_type": "code",
   "execution_count": 16,
   "id": "1a5ad0f5",
   "metadata": {},
   "outputs": [],
   "source": [
    "plot(x -> -log(x), 0, 1000, label=\"-log(x)\",\n",
    "    xlabel=\"val\", ylabel=\"-log(x)\", title=\"Behaviour of negative log\")\n",
    "# plots are by default svg"
   ]
  },
  {
   "cell_type": "markdown",
   "id": "50f76e26",
   "metadata": {},
   "source": [
    "## Let's plot some values"
   ]
  },
  {
   "cell_type": "code",
   "execution_count": 17,
   "id": "c03057f1",
   "metadata": {},
   "outputs": [],
   "source": [
    "x = [1:10]"
   ]
  },
  {
   "cell_type": "code",
   "execution_count": 18,
   "id": "b76439e5",
   "metadata": {},
   "outputs": [],
   "source": [
    "y1, y2 = rand(10), rand(10)"
   ]
  },
  {
   "cell_type": "code",
   "execution_count": 19,
   "id": "3ff8615d",
   "metadata": {},
   "outputs": [],
   "source": [
    "plot(x, y1, label=\"y1\")\n",
    "plot(x, y2, label=\"y2\")"
   ]
  },
  {
   "cell_type": "code",
   "execution_count": null,
   "id": "93b45b30",
   "metadata": {},
   "outputs": [],
   "source": []
  },
  {
   "cell_type": "code",
   "execution_count": null,
   "id": "579d5037",
   "metadata": {},
   "outputs": [],
   "source": []
  }
 ],
 "metadata": {
  "kernelspec": {
   "display_name": "Julia 1.8.2",
   "language": "julia",
   "name": "julia-1.8"
  },
  "language_info": {
   "file_extension": ".jl",
   "mimetype": "application/julia",
   "name": "julia",
   "version": "1.8.2"
  }
 },
 "nbformat": 4,
 "nbformat_minor": 5
}
