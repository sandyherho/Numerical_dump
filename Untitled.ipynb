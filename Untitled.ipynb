{
 "cells": [
  {
   "cell_type": "code",
   "execution_count": 1,
   "id": "4bbbb816",
   "metadata": {},
   "outputs": [],
   "source": [
    "import numpy as np\n",
    "import pandas as pd"
   ]
  },
  {
   "cell_type": "code",
   "execution_count": 2,
   "id": "45970ebb",
   "metadata": {},
   "outputs": [
    {
     "name": "stdout",
     "output_type": "stream",
     "text": [
      "Error processing line 1 of /home/ronggolawe/anaconda3/lib/python3.8/site-packages/google_auth-1.35.0-py3.9-nspkg.pth:\n",
      "\n",
      "  Traceback (most recent call last):\n",
      "    File \"/home/ronggolawe/anaconda3/lib/python3.8/site.py\", line 169, in addpackage\n",
      "      exec(line)\n",
      "    File \"<string>\", line 1, in <module>\n",
      "    File \"<frozen importlib._bootstrap>\", line 553, in module_from_spec\n",
      "  AttributeError: 'NoneType' object has no attribute 'loader'\n",
      "\n",
      "Remainder of file ignored\n",
      "Error processing line 1 of /home/ronggolawe/anaconda3/lib/python3.8/site-packages/protobuf-3.18.1-py3.8-nspkg.pth:\n",
      "\n",
      "  Traceback (most recent call last):\n",
      "    File \"/home/ronggolawe/anaconda3/lib/python3.8/site.py\", line 169, in addpackage\n",
      "      exec(line)\n",
      "    File \"<string>\", line 1, in <module>\n",
      "    File \"<frozen importlib._bootstrap>\", line 553, in module_from_spec\n",
      "  AttributeError: 'NoneType' object has no attribute 'loader'\n",
      "\n",
      "Remainder of file ignored\n",
      "Requirement already satisfied: numpy in /home/ronggolawe/anaconda3/lib/python3.8/site-packages (1.21.5)\n",
      "Collecting numpy\n",
      "  Downloading numpy-1.24.2-cp38-cp38-manylinux_2_17_x86_64.manylinux2014_x86_64.whl (17.3 MB)\n",
      "\u001b[2K     \u001b[90m━━━━━━━━━━━━━━━━━━━━━━━━━━━━━━━━━━━━━━━━\u001b[0m \u001b[32m17.3/17.3 MB\u001b[0m \u001b[31m5.7 MB/s\u001b[0m eta \u001b[36m0:00:00\u001b[0m00:01\u001b[0m00:01\u001b[0m\n",
      "\u001b[?25hInstalling collected packages: numpy\n",
      "  Attempting uninstall: numpy\n",
      "    Found existing installation: numpy 1.21.5\n",
      "    Uninstalling numpy-1.21.5:\n",
      "      Successfully uninstalled numpy-1.21.5\n",
      "\u001b[31mERROR: pip's dependency resolver does not currently take into account all the packages that are installed. This behaviour is the source of the following dependency conflicts.\n",
      "gensim 4.3.0 requires FuzzyTM>=0.4.0, which is not installed.\n",
      "yellowbrick 1.3.post1 requires numpy<1.20,>=1.16.0, but you have numpy 1.24.2 which is incompatible.\n",
      "prophet 1.0.1 requires cmdstanpy==0.9.68, but you have cmdstanpy 0.9.5 which is incompatible.\n",
      "pandas-profiling 3.6.1 requires matplotlib<3.7,>=3.2, but you have matplotlib 3.7.1 which is incompatible.\n",
      "pandas-profiling 3.6.1 requires numpy<1.24,>=1.16.0, but you have numpy 1.24.2 which is incompatible.\n",
      "pandas-profiling 3.6.1 requires tqdm<4.65,>=4.48.2, but you have tqdm 4.65.0 which is incompatible.\n",
      "numba 0.54.1 requires llvmlite<0.38,>=0.37.0rc1, but you have llvmlite 0.39.1 which is incompatible.\n",
      "numba 0.54.1 requires numpy<1.21,>=1.17, but you have numpy 1.24.2 which is incompatible.\n",
      "mlflow 2.1.1 requires importlib-metadata!=4.7.0,<6,>=3.7.0, but you have importlib-metadata 6.0.0 which is incompatible.\n",
      "mlflow 2.1.1 requires packaging<23, but you have packaging 23.0 which is incompatible.\n",
      "lifelines 0.26.4 requires formulaic<0.3,>=0.2.2, but you have formulaic 0.0.0.post16+dirty which is incompatible.\n",
      "gensim 4.3.0 requires scipy>=1.7.0, but you have scipy 1.5.4 which is incompatible.\n",
      "formulaic 0.0.0.post16+dirty requires scipy>=1.6, but you have scipy 1.5.4 which is incompatible.\n",
      "emd 0.5.3 requires numpy<1.22, but you have numpy 1.24.2 which is incompatible.\n",
      "arviz 0.11.2 requires typing-extensions<4,>=3.7.4.3, but you have typing-extensions 4.1.1 which is incompatible.\n",
      "argopy 0.1.7 requires fsspec<0.8.4,>=0.7.4, but you have fsspec 2023.3.0 which is incompatible.\u001b[0m\u001b[31m\n",
      "\u001b[0mSuccessfully installed numpy-1.24.2\n"
     ]
    }
   ],
   "source": []
  },
  {
   "cell_type": "code",
   "execution_count": null,
   "id": "ab52b8ca",
   "metadata": {},
   "outputs": [],
   "source": []
  }
 ],
 "metadata": {
  "kernelspec": {
   "display_name": "Python 3 (ipykernel)",
   "language": "python",
   "name": "python3"
  },
  "language_info": {
   "codemirror_mode": {
    "name": "ipython",
    "version": 3
   },
   "file_extension": ".py",
   "mimetype": "text/x-python",
   "name": "python",
   "nbconvert_exporter": "python",
   "pygments_lexer": "ipython3",
   "version": "3.11.3"
  }
 },
 "nbformat": 4,
 "nbformat_minor": 5
}
