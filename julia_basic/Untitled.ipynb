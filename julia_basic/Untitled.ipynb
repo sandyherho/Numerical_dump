{
 "cells": [
  {
   "cell_type": "markdown",
   "id": "54209427-2a5f-446d-b742-0d9306331f70",
   "metadata": {},
   "source": [
    "# Functions"
   ]
  },
  {
   "cell_type": "code",
   "execution_count": 2,
   "id": "ce7daa53-3268-4a6d-9b0b-d5e6a07dabc7",
   "metadata": {},
   "outputs": [
    {
     "data": {
      "text/plain": [
       "square (generic function with 1 method)"
      ]
     },
     "execution_count": 2,
     "metadata": {},
     "output_type": "execute_result"
    }
   ],
   "source": [
    "# basic function definition\n",
    "\n",
    "function square(x)\n",
    "    x^2\n",
    "end\n",
    "\n",
    "# value of the expression on the last line of execution is\n",
    "# automatically returned\n",
    "# it's still good practice to use return"
   ]
  },
  {
   "cell_type": "code",
   "execution_count": 3,
   "id": "dfaee4ae-5a1c-482b-885c-ec7b12056721",
   "metadata": {},
   "outputs": [
    {
     "data": {
      "text/plain": [
       "16"
      ]
     },
     "execution_count": 3,
     "metadata": {},
     "output_type": "execute_result"
    }
   ],
   "source": [
    "square(4)"
   ]
  },
  {
   "cell_type": "code",
   "execution_count": 4,
   "id": "b79e0b5a-5656-4d8e-a8d2-3c569bbe529c",
   "metadata": {},
   "outputs": [
    {
     "data": {
      "text/plain": [
       "square (generic function with 1 method)"
      ]
     },
     "execution_count": 4,
     "metadata": {},
     "output_type": "execute_result"
    }
   ],
   "source": [
    "function square(x)\n",
    "    return x^2\n",
    "end"
   ]
  },
  {
   "cell_type": "code",
   "execution_count": 5,
   "id": "adc9eb31-8e1e-482b-9d3f-f84e8f47c7a1",
   "metadata": {},
   "outputs": [
    {
     "data": {
      "text/plain": [
       "16"
      ]
     },
     "execution_count": 5,
     "metadata": {},
     "output_type": "execute_result"
    }
   ],
   "source": [
    "square(4)"
   ]
  },
  {
   "cell_type": "code",
   "execution_count": 6,
   "id": "e1eb1c36-7c8f-4af2-a442-0f3d09c679ac",
   "metadata": {},
   "outputs": [
    {
     "data": {
      "text/plain": [
       "hello (generic function with 1 method)"
      ]
     },
     "execution_count": 6,
     "metadata": {},
     "output_type": "execute_result"
    }
   ],
   "source": [
    "function hello(name)\n",
    "    println(\"Hello there \", name)\n",
    "end"
   ]
  },
  {
   "cell_type": "code",
   "execution_count": 7,
   "id": "b6eb3b1e-aedc-4dc9-ab59-1d25d13ad215",
   "metadata": {},
   "outputs": [
    {
     "name": "stdout",
     "output_type": "stream",
     "text": [
      "Hello there Revati\n"
     ]
    }
   ],
   "source": [
    "hello(\"Revati\")"
   ]
  },
  {
   "cell_type": "code",
   "execution_count": null,
   "id": "b5f6dc8f-f7e7-4b5f-80df-33396e84acbc",
   "metadata": {},
   "outputs": [],
   "source": []
  }
 ],
 "metadata": {
  "kernelspec": {
   "display_name": "Julia 1.8.2",
   "language": "julia",
   "name": "julia-1.8"
  },
  "language_info": {
   "file_extension": ".jl",
   "mimetype": "application/julia",
   "name": "julia",
   "version": "1.8.2"
  }
 },
 "nbformat": 4,
 "nbformat_minor": 5
}
