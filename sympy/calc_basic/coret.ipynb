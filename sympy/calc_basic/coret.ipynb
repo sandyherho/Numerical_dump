{
 "cells": [
  {
   "cell_type": "code",
   "execution_count": 1,
   "id": "91ef1c96",
   "metadata": {},
   "outputs": [],
   "source": [
    "import sympy as smp"
   ]
  },
  {
   "cell_type": "code",
   "execution_count": 2,
   "id": "6233ae48",
   "metadata": {},
   "outputs": [],
   "source": [
    "s = smp.symbols(\"s\")"
   ]
  },
  {
   "cell_type": "code",
   "execution_count": 3,
   "id": "f58c1485",
   "metadata": {},
   "outputs": [
    {
     "data": {
      "text/latex": [
       "$\\displaystyle \\frac{3}{s^{2} - 9}$"
      ],
      "text/plain": [
       "3/(s**2 - 9)"
      ]
     },
     "execution_count": 3,
     "metadata": {},
     "output_type": "execute_result"
    }
   ],
   "source": [
    "expr = 3 / (s**2 - 9)\n",
    "expr"
   ]
  },
  {
   "cell_type": "code",
   "execution_count": 4,
   "id": "e0c668d7",
   "metadata": {},
   "outputs": [
    {
     "data": {
      "text/latex": [
       "$\\displaystyle \\frac{18 \\left(s^{2} + 3\\right)}{\\left(s^{2} - 9\\right)^{3}}$"
      ],
      "text/plain": [
       "18*(s**2 + 3)/(s**2 - 9)**3"
      ]
     },
     "execution_count": 4,
     "metadata": {},
     "output_type": "execute_result"
    }
   ],
   "source": [
    "smp.diff(expr, s, 2).simplify()"
   ]
  },
  {
   "cell_type": "code",
   "execution_count": 5,
   "id": "cd6ad976",
   "metadata": {},
   "outputs": [
    {
     "data": {
      "text/latex": [
       "$\\displaystyle \\frac{4 s}{\\left(s^{2} + 4\\right)^{2}}$"
      ],
      "text/plain": [
       "4*s/(s**2 + 4)**2"
      ]
     },
     "execution_count": 5,
     "metadata": {},
     "output_type": "execute_result"
    }
   ],
   "source": [
    "expr = 2/(s**2 + 4)\n",
    "smp.diff(expr, s, 1)*-1"
   ]
  },
  {
   "cell_type": "code",
   "execution_count": 6,
   "id": "717171c4",
   "metadata": {},
   "outputs": [
    {
     "data": {
      "text/latex": [
       "$\\displaystyle \\frac{s^{2}}{s^{2} + 4}$"
      ],
      "text/plain": [
       "s**2/(s**2 + 4)"
      ]
     },
     "execution_count": 6,
     "metadata": {},
     "output_type": "execute_result"
    }
   ],
   "source": [
    "expr = s**2 / (s**2 + 4)\n",
    "expr"
   ]
  },
  {
   "cell_type": "code",
   "execution_count": 7,
   "id": "7fdf176e",
   "metadata": {},
   "outputs": [
    {
     "data": {
      "text/latex": [
       "$\\displaystyle - \\frac{8 s}{s^{4} + 8 s^{2} + 16}$"
      ],
      "text/plain": [
       "-8*s/(s**4 + 8*s**2 + 16)"
      ]
     },
     "execution_count": 7,
     "metadata": {},
     "output_type": "execute_result"
    }
   ],
   "source": [
    "- smp.diff(expr, s, 1).simplify()"
   ]
  },
  {
   "cell_type": "code",
   "execution_count": 8,
   "id": "c7f59d7c",
   "metadata": {},
   "outputs": [
    {
     "data": {
      "text/latex": [
       "$\\displaystyle \\frac{3}{s^{2} - 9}$"
      ],
      "text/plain": [
       "3/(s**2 - 9)"
      ]
     },
     "execution_count": 8,
     "metadata": {},
     "output_type": "execute_result"
    }
   ],
   "source": [
    "expr = 3 / (s**2 -9)\n",
    "expr"
   ]
  },
  {
   "cell_type": "code",
   "execution_count": 9,
   "id": "9f6fbd55",
   "metadata": {},
   "outputs": [
    {
     "data": {
      "text/latex": [
       "$\\displaystyle \\frac{72 s \\left(s^{2} + 9\\right)}{\\left(s^{2} - 9\\right)^{4}}$"
      ],
      "text/plain": [
       "72*s*(s**2 + 9)/(s**2 - 9)**4"
      ]
     },
     "execution_count": 9,
     "metadata": {},
     "output_type": "execute_result"
    }
   ],
   "source": [
    "(-1 * smp.diff(expr, s, 3)).simplify()"
   ]
  },
  {
   "cell_type": "code",
   "execution_count": 10,
   "id": "a41dd7a9",
   "metadata": {},
   "outputs": [],
   "source": [
    "expr = s**2 / (s**2 + 4)"
   ]
  },
  {
   "cell_type": "code",
   "execution_count": 11,
   "id": "c2edff1c",
   "metadata": {},
   "outputs": [
    {
     "data": {
      "text/latex": [
       "$\\displaystyle \\frac{8 \\cdot \\left(4 - 3 s^{2}\\right)}{s^{6} + 12 s^{4} + 48 s^{2} + 64}$"
      ],
      "text/plain": [
       "8*(4 - 3*s**2)/(s**6 + 12*s**4 + 48*s**2 + 64)"
      ]
     },
     "execution_count": 11,
     "metadata": {},
     "output_type": "execute_result"
    }
   ],
   "source": [
    "smp.diff(expr, s, 2).simplify()"
   ]
  },
  {
   "cell_type": "code",
   "execution_count": 12,
   "id": "98298036",
   "metadata": {},
   "outputs": [
    {
     "data": {
      "text/latex": [
       "$\\displaystyle \\frac{1}{s^{2} + 1}$"
      ],
      "text/plain": [
       "1/(s**2 + 1)"
      ]
     },
     "execution_count": 12,
     "metadata": {},
     "output_type": "execute_result"
    }
   ],
   "source": [
    "expr = 1 / (s**2 + 1)\n",
    "expr"
   ]
  },
  {
   "cell_type": "code",
   "execution_count": 13,
   "id": "f86eb854",
   "metadata": {},
   "outputs": [
    {
     "data": {
      "text/latex": [
       "$\\displaystyle - \\operatorname{atan}{\\left(s \\right)} + \\frac{\\pi}{2}$"
      ],
      "text/plain": [
       "-atan(s) + pi/2"
      ]
     },
     "execution_count": 13,
     "metadata": {},
     "output_type": "execute_result"
    }
   ],
   "source": [
    "smp.integrate(expr, (s, s, smp.oo)).simplify()"
   ]
  },
  {
   "cell_type": "code",
   "execution_count": 14,
   "id": "b1c2d714",
   "metadata": {},
   "outputs": [
    {
     "data": {
      "text/latex": [
       "$\\displaystyle \\frac{3}{s^{2} - 9}$"
      ],
      "text/plain": [
       "3/(s**2 - 9)"
      ]
     },
     "execution_count": 14,
     "metadata": {},
     "output_type": "execute_result"
    }
   ],
   "source": [
    "expr = 3 / (s**2 -9)\n",
    "expr"
   ]
  },
  {
   "cell_type": "code",
   "execution_count": 15,
   "id": "0e933528",
   "metadata": {},
   "outputs": [
    {
     "data": {
      "text/latex": [
       "$\\displaystyle \\frac{18 \\left(s^{2} + 3\\right)}{\\left(s^{2} - 9\\right)^{3}}$"
      ],
      "text/plain": [
       "18*(s**2 + 3)/(s**2 - 9)**3"
      ]
     },
     "execution_count": 15,
     "metadata": {},
     "output_type": "execute_result"
    }
   ],
   "source": [
    "smp.diff(expr, s, 2).simplify()"
   ]
  },
  {
   "cell_type": "code",
   "execution_count": 16,
   "id": "c81a11e2",
   "metadata": {},
   "outputs": [
    {
     "data": {
      "text/latex": [
       "$\\displaystyle - \\frac{s^{2}}{s^{2} + 9} + \\frac{s^{2}}{s^{2} + 4}$"
      ],
      "text/plain": [
       "-s**2/(s**2 + 9) + s**2/(s**2 + 4)"
      ]
     },
     "execution_count": 16,
     "metadata": {},
     "output_type": "execute_result"
    }
   ],
   "source": [
    "expr = s**2 / (s**2 + 4) - s**2 / (s**2 + 9)\n",
    "expr"
   ]
  },
  {
   "cell_type": "code",
   "execution_count": 17,
   "id": "fcf04023",
   "metadata": {},
   "outputs": [
    {
     "data": {
      "text/latex": [
       "$\\displaystyle - 3 \\operatorname{atan}{\\left(\\frac{s}{3} \\right)} + 2 \\operatorname{atan}{\\left(\\frac{s}{2} \\right)} + \\frac{\\pi}{2}$"
      ],
      "text/plain": [
       "-3*atan(s/3) + 2*atan(s/2) + pi/2"
      ]
     },
     "execution_count": 17,
     "metadata": {},
     "output_type": "execute_result"
    }
   ],
   "source": [
    "smp.integrate(expr, (s, s, smp.oo)).simplify()"
   ]
  },
  {
   "cell_type": "code",
   "execution_count": 18,
   "id": "f56fbd59",
   "metadata": {},
   "outputs": [
    {
     "data": {
      "text/latex": [
       "$\\displaystyle \\frac{1}{s - 2} - \\frac{1}{s}$"
      ],
      "text/plain": [
       "1/(s - 2) - 1/s"
      ]
     },
     "execution_count": 18,
     "metadata": {},
     "output_type": "execute_result"
    }
   ],
   "source": [
    "expr = 1/(s-2) - 1/s\n",
    "expr"
   ]
  },
  {
   "cell_type": "code",
   "execution_count": 19,
   "id": "274eb334",
   "metadata": {},
   "outputs": [
    {
     "data": {
      "text/latex": [
       "$\\displaystyle \\log{\\left(s \\right)} - \\log{\\left(s - 2 \\right)}$"
      ],
      "text/plain": [
       "log(s) - log(s - 2)"
      ]
     },
     "execution_count": 19,
     "metadata": {},
     "output_type": "execute_result"
    }
   ],
   "source": [
    "smp.integrate(expr, (s,s,smp.oo)).simplify()"
   ]
  },
  {
   "cell_type": "code",
   "execution_count": 20,
   "id": "bcdb2af0",
   "metadata": {},
   "outputs": [
    {
     "data": {
      "text/latex": [
       "$\\displaystyle \\frac{4 \\cdot \\left(3 s^{2} - 4\\right)}{\\left(s^{2} + 4\\right)^{3}}$"
      ],
      "text/plain": [
       "4*(3*s**2 - 4)/(s**2 + 4)**3"
      ]
     },
     "execution_count": 20,
     "metadata": {},
     "output_type": "execute_result"
    }
   ],
   "source": [
    "expr = 2 / (s**2 + 4)\n",
    "smp.diff(expr, s, 2).simplify()"
   ]
  },
  {
   "cell_type": "code",
   "execution_count": 21,
   "id": "5422efd7",
   "metadata": {},
   "outputs": [
    {
     "data": {
      "text/latex": [
       "$\\displaystyle - \\log{\\left(s + 2 \\right)} + \\infty$"
      ],
      "text/plain": [
       "-log(s + 2) + oo"
      ]
     },
     "execution_count": 21,
     "metadata": {},
     "output_type": "execute_result"
    }
   ],
   "source": [
    "smp.integrate( 1 / (s + 2), (s, s, smp.oo))"
   ]
  },
  {
   "cell_type": "code",
   "execution_count": 22,
   "id": "179df62c",
   "metadata": {},
   "outputs": [
    {
     "data": {
      "text/latex": [
       "$\\displaystyle - \\log{\\left(s + 3 \\right)} + \\infty$"
      ],
      "text/plain": [
       "-log(s + 3) + oo"
      ]
     },
     "execution_count": 22,
     "metadata": {},
     "output_type": "execute_result"
    }
   ],
   "source": [
    "smp.integrate(1/(s + 3), (s, s, smp.oo))"
   ]
  },
  {
   "cell_type": "code",
   "execution_count": 23,
   "id": "ac6439d2",
   "metadata": {},
   "outputs": [
    {
     "data": {
      "text/latex": [
       "$\\displaystyle - \\frac{\\log{\\left(s - 1 \\right)}}{2} + \\frac{\\log{\\left(s + 1 \\right)}}{2}$"
      ],
      "text/plain": [
       "-log(s - 1)/2 + log(s + 1)/2"
      ]
     },
     "execution_count": 23,
     "metadata": {},
     "output_type": "execute_result"
    }
   ],
   "source": [
    "smp.integrate(1/(s**2 -1), (s, s, smp.oo))"
   ]
  },
  {
   "cell_type": "code",
   "execution_count": 24,
   "id": "70e85dcc",
   "metadata": {},
   "outputs": [],
   "source": [
    "omega = smp.symbols(r\"\\omega\")"
   ]
  },
  {
   "cell_type": "code",
   "execution_count": 28,
   "id": "9b8f3c08",
   "metadata": {},
   "outputs": [
    {
     "data": {
      "text/latex": [
       "$\\displaystyle - \\frac{2 \\omega}{\\left(\\omega + s\\right)^{3}}$"
      ],
      "text/plain": [
       "-2*\\omega/(\\omega + s)**3"
      ]
     },
     "execution_count": 28,
     "metadata": {},
     "output_type": "execute_result"
    }
   ],
   "source": [
    "smp.diff(s / (s + omega), s, 2).simplify()"
   ]
  },
  {
   "cell_type": "code",
   "execution_count": null,
   "id": "5bb24ed5",
   "metadata": {},
   "outputs": [],
   "source": []
  }
 ],
 "metadata": {
  "kernelspec": {
   "display_name": "Python 3 (ipykernel)",
   "language": "python",
   "name": "python3"
  },
  "language_info": {
   "codemirror_mode": {
    "name": "ipython",
    "version": 3
   },
   "file_extension": ".py",
   "mimetype": "text/x-python",
   "name": "python",
   "nbconvert_exporter": "python",
   "pygments_lexer": "ipython3",
   "version": "3.11.3"
  }
 },
 "nbformat": 4,
 "nbformat_minor": 5
}
