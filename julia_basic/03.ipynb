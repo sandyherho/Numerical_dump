{
 "cells": [
  {
   "cell_type": "markdown",
   "id": "a71bd80e-5c37-432a-b492-0e339a6a9439",
   "metadata": {},
   "source": [
    "# Control structures"
   ]
  },
  {
   "cell_type": "markdown",
   "id": "591c3563-5354-4c4c-af02-0b0c5ac1dec3",
   "metadata": {},
   "source": [
    "# Conditionals"
   ]
  },
  {
   "cell_type": "code",
   "execution_count": 1,
   "id": "6cc98078-8058-45c9-89a4-ea41a14d6bf6",
   "metadata": {},
   "outputs": [
    {
     "data": {
      "text/plain": [
       "25"
      ]
     },
     "execution_count": 1,
     "metadata": {},
     "output_type": "execute_result"
    }
   ],
   "source": [
    "x = 25"
   ]
  },
  {
   "cell_type": "markdown",
   "id": "4f930e4f-890b-46a2-930d-dc8bbe6641b3",
   "metadata": {},
   "source": [
    "Statement blocks need an `end` statement. There is no colon at the end of the header and indentation is ignored by the interpreter (but you should, of course, still do it)."
   ]
  },
  {
   "cell_type": "code",
   "execution_count": 2,
   "id": "a4dbb1a2-4833-4061-b8a5-6f472904e2cc",
   "metadata": {},
   "outputs": [
    {
     "name": "stdout",
     "output_type": "stream",
     "text": [
      "x is greater than 20.\n"
     ]
    }
   ],
   "source": [
    "if x > 20\n",
    "    println(\"x is greater than 20.\")\n",
    "end"
   ]
  },
  {
   "cell_type": "markdown",
   "id": "d6f8e0fa-c09e-4047-b409-ab1251acbe76",
   "metadata": {},
   "source": [
    "## Examples"
   ]
  },
  {
   "cell_type": "markdown",
   "id": "5dd44f38-5a38-44c2-b803-740f3dd865d4",
   "metadata": {},
   "source": [
    "FizzBuzz test: given a number `n`, \n",
    "\n",
    "- print \"Fizz\" if `n` is divisable by 3,\n",
    "- \"Buzz\" if `n` is divisable by 5,\n",
    "- \"FizzBuzz\" if `n` is divisable by 3 and 5,"
   ]
  },
  {
   "cell_type": "code",
   "execution_count": 7,
   "id": "eb015931-8d7e-41ca-bfeb-0e32156c219c",
   "metadata": {},
   "outputs": [
    {
     "data": {
      "text/plain": [
       "4"
      ]
     },
     "execution_count": 7,
     "metadata": {},
     "output_type": "execute_result"
    }
   ],
   "source": [
    "n=4"
   ]
  },
  {
   "cell_type": "code",
   "execution_count": 9,
   "id": "e4d5f7c1-bcb6-4f70-8696-740fab77ec5c",
   "metadata": {},
   "outputs": [
    {
     "name": "stdout",
     "output_type": "stream",
     "text": [
      "4\n"
     ]
    }
   ],
   "source": [
    "if (n%3 == 0) && (n%5 == 0)\n",
    "    println(\"FizzBuzz\")\n",
    "elseif (n%3 == 0)\n",
    "    println(\"Fizz\")\n",
    "elseif (n%5 == 0)\n",
    "    println(\"Buzz\")\n",
    "else\n",
    "    println(n)\n",
    "end"
   ]
  },
  {
   "cell_type": "markdown",
   "id": "c17b36eb-c0d4-45db-8321-28410d894965",
   "metadata": {},
   "source": [
    "The ternary operator "
   ]
  }
 ],
 "metadata": {
  "kernelspec": {
   "display_name": "Julia 1.8.2",
   "language": "julia",
   "name": "julia-1.8"
  },
  "language_info": {
   "file_extension": ".jl",
   "mimetype": "application/julia",
   "name": "julia",
   "version": "1.8.2"
  }
 },
 "nbformat": 4,
 "nbformat_minor": 5
}
