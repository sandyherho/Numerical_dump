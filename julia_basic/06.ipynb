{
 "cells": [
  {
   "cell_type": "markdown",
   "id": "20619304-919d-44c1-84f2-e4abfa6289e3",
   "metadata": {},
   "source": [
    "# Data type details (optional)"
   ]
  },
  {
   "cell_type": "markdown",
   "id": "c7511e45-7de1-41b1-be69-90ad974e604d",
   "metadata": {},
   "source": [
    "## Basic data types"
   ]
  },
  {
   "cell_type": "code",
   "execution_count": 1,
   "id": "8b84809b-9094-4740-9815-f22f871cb0cd",
   "metadata": {},
   "outputs": [
    {
     "data": {
      "text/plain": [
       "5"
      ]
     },
     "execution_count": 1,
     "metadata": {},
     "output_type": "execute_result"
    }
   ],
   "source": [
    "i = 5"
   ]
  },
  {
   "cell_type": "code",
   "execution_count": 2,
   "id": "ee277402-aba5-4284-a5c5-462434f3577c",
   "metadata": {},
   "outputs": [
    {
     "data": {
      "text/plain": [
       "15.0"
      ]
     },
     "execution_count": 2,
     "metadata": {},
     "output_type": "execute_result"
    }
   ],
   "source": [
    "f = 15.0"
   ]
  },
  {
   "cell_type": "code",
   "execution_count": 3,
   "id": "e816d8ec-3a23-41a0-ae92-aca7bdca4cad",
   "metadata": {},
   "outputs": [
    {
     "data": {
      "text/plain": [
       "5.0"
      ]
     },
     "execution_count": 3,
     "metadata": {},
     "output_type": "execute_result"
    }
   ],
   "source": [
    "i = Float64(5)"
   ]
  },
  {
   "cell_type": "code",
   "execution_count": 4,
   "id": "2f2e639f-1570-4ccb-9d33-107f0f171e73",
   "metadata": {},
   "outputs": [
    {
     "data": {
      "text/plain": [
       "Float64"
      ]
     },
     "execution_count": 4,
     "metadata": {},
     "output_type": "execute_result"
    }
   ],
   "source": [
    "typeof(i)"
   ]
  },
  {
   "cell_type": "markdown",
   "id": "1ca81c6b-fc77-4db6-bb87-e6000ea62f1d",
   "metadata": {},
   "source": [
    "## Further details"
   ]
  },
  {
   "cell_type": "code",
   "execution_count": 5,
   "id": "ce700228-4fc5-47e0-9426-3665370b17ae",
   "metadata": {},
   "outputs": [
    {
     "data": {
      "text/plain": [
       "1 + 3im"
      ]
     },
     "execution_count": 5,
     "metadata": {},
     "output_type": "execute_result"
    }
   ],
   "source": [
    "c = 1 + 3*im"
   ]
  },
  {
   "cell_type": "code",
   "execution_count": 6,
   "id": "2f405975-b684-45ce-83d4-188b45e99c42",
   "metadata": {},
   "outputs": [
    {
     "data": {
      "text/plain": [
       "1 + 3im"
      ]
     },
     "execution_count": 6,
     "metadata": {},
     "output_type": "execute_result"
    }
   ],
   "source": [
    "c = 1 +3im"
   ]
  },
  {
   "cell_type": "code",
   "execution_count": 7,
   "id": "63426c19-17a6-4e95-913a-318436515e49",
   "metadata": {},
   "outputs": [
    {
     "data": {
      "text/plain": [
       "Complex{Int64}"
      ]
     },
     "execution_count": 7,
     "metadata": {},
     "output_type": "execute_result"
    }
   ],
   "source": [
    "typeof(c)"
   ]
  },
  {
   "cell_type": "code",
   "execution_count": 8,
   "id": "c3516cf3-0ab9-46b9-b347-f62f8d2cc83f",
   "metadata": {},
   "outputs": [
    {
     "data": {
      "text/plain": [
       "1.0 + 3.0im"
      ]
     },
     "execution_count": 8,
     "metadata": {},
     "output_type": "execute_result"
    }
   ],
   "source": [
    "c = Complex{Float64}(1+3im)"
   ]
  },
  {
   "cell_type": "code",
   "execution_count": 9,
   "id": "c0cfbdbc-abc6-44d8-84b4-b6d3cd6c367d",
   "metadata": {},
   "outputs": [
    {
     "data": {
      "text/plain": [
       "ComplexF64\u001b[90m (alias for \u001b[39m\u001b[90mComplex{Float64}\u001b[39m\u001b[90m)\u001b[39m"
      ]
     },
     "execution_count": 9,
     "metadata": {},
     "output_type": "execute_result"
    }
   ],
   "source": [
    "typeof(c)"
   ]
  },
  {
   "cell_type": "code",
   "execution_count": 10,
   "id": "ed81890b-4ef0-44d9-981c-67a2655307cd",
   "metadata": {},
   "outputs": [
    {
     "data": {
      "text/plain": [
       "3-element Vector{Int64}:\n",
       " 1\n",
       " 2\n",
       " 4"
      ]
     },
     "execution_count": 10,
     "metadata": {},
     "output_type": "execute_result"
    }
   ],
   "source": [
    "A = [1,2,4]"
   ]
  },
  {
   "cell_type": "code",
   "execution_count": 11,
   "id": "95339eac-89d2-40d4-aff9-faa315a9eb79",
   "metadata": {},
   "outputs": [
    {
     "data": {
      "text/plain": [
       "3-element Vector{Float64}:\n",
       " 1.0\n",
       " 2.0\n",
       " 5.0"
      ]
     },
     "execution_count": 11,
     "metadata": {},
     "output_type": "execute_result"
    }
   ],
   "source": [
    "A = Float64[1,2,5]"
   ]
  },
  {
   "cell_type": "code",
   "execution_count": 12,
   "id": "2157bd82-e980-4027-a97c-8a606cd9ce20",
   "metadata": {},
   "outputs": [
    {
     "data": {
      "text/plain": [
       "3-element Vector{ComplexF64}:\n",
       " 1.0 + 0.0im\n",
       " 2.0 + 0.0im\n",
       " 5.0 + 0.0im"
      ]
     },
     "execution_count": 12,
     "metadata": {},
     "output_type": "execute_result"
    }
   ],
   "source": [
    "A = Complex{Float64}[1,2,5]"
   ]
  },
  {
   "cell_type": "code",
   "execution_count": 13,
   "id": "7ebe354b-e505-42c4-806a-d562e87920d7",
   "metadata": {},
   "outputs": [
    {
     "data": {
      "text/plain": [
       "false"
      ]
     },
     "execution_count": 13,
     "metadata": {},
     "output_type": "execute_result"
    }
   ],
   "source": [
    "isa(1.,Int64)"
   ]
  },
  {
   "cell_type": "code",
   "execution_count": 14,
   "id": "21ff8499-f549-46d4-8126-9b62d78430be",
   "metadata": {},
   "outputs": [
    {
     "data": {
      "text/plain": [
       "true"
      ]
     },
     "execution_count": 14,
     "metadata": {},
     "output_type": "execute_result"
    }
   ],
   "source": [
    "isa(1., Float64)"
   ]
  }
 ],
 "metadata": {
  "kernelspec": {
   "display_name": "Julia 1.8.2",
   "language": "julia",
   "name": "julia-1.8"
  },
  "language_info": {
   "file_extension": ".jl",
   "mimetype": "application/julia",
   "name": "julia",
   "version": "1.8.2"
  }
 },
 "nbformat": 4,
 "nbformat_minor": 5
}
