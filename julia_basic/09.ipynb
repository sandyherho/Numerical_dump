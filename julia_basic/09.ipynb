{
 "cells": [
  {
   "cell_type": "markdown",
   "id": "5b88fcfa",
   "metadata": {},
   "source": [
    "# Basic Functional Programming"
   ]
  },
  {
   "cell_type": "markdown",
   "id": "429d05dd",
   "metadata": {},
   "source": [
    "Functional programming is very useful when thinking in terms of mathematics. It's also massively parallelizable and you really should learn the concepts. Here, we'll take a lokk at some basics."
   ]
  },
  {
   "cell_type": "markdown",
   "id": "809e77a0",
   "metadata": {},
   "source": [
    "## Map"
   ]
  },
  {
   "cell_type": "markdown",
   "id": "e9d44d83",
   "metadata": {},
   "source": [
    "Map applies a function to all elements of a collection"
   ]
  },
  {
   "cell_type": "code",
   "execution_count": 1,
   "id": "85ecce94",
   "metadata": {},
   "outputs": [
    {
     "data": {
      "text/plain": [
       "3-element Vector{Int64}:\n",
       " 1\n",
       " 2\n",
       " 4"
      ]
     },
     "execution_count": 1,
     "metadata": {},
     "output_type": "execute_result"
    }
   ],
   "source": [
    "collection = [1,2,4]"
   ]
  },
  {
   "cell_type": "code",
   "execution_count": 2,
   "id": "1cbfc232",
   "metadata": {},
   "outputs": [
    {
     "data": {
      "text/plain": [
       "3-element Vector{Int64}:\n",
       "  1\n",
       "  4\n",
       " 16"
      ]
     },
     "execution_count": 2,
     "metadata": {},
     "output_type": "execute_result"
    }
   ],
   "source": [
    "map(x -> x^2, collection)"
   ]
  },
  {
   "cell_type": "code",
   "execution_count": 3,
   "id": "87bbbe5c",
   "metadata": {},
   "outputs": [
    {
     "data": {
      "text/plain": [
       "3-element Vector{Int64}:\n",
       "  1\n",
       "  4\n",
       " 16"
      ]
     },
     "execution_count": 3,
     "metadata": {},
     "output_type": "execute_result"
    }
   ],
   "source": [
    "squares = map(x -> x^2, collection)"
   ]
  },
  {
   "cell_type": "code",
   "execution_count": 4,
   "id": "43d90c95",
   "metadata": {},
   "outputs": [
    {
     "name": "stdout",
     "output_type": "stream",
     "text": [
      "squares = [1, 4, 16]\n"
     ]
    },
    {
     "data": {
      "text/plain": [
       "3-element Vector{Int64}:\n",
       "  1\n",
       "  4\n",
       " 16"
      ]
     },
     "execution_count": 4,
     "metadata": {},
     "output_type": "execute_result"
    }
   ],
   "source": [
    "@show squares"
   ]
  },
  {
   "cell_type": "markdown",
   "id": "5434bdd9",
   "metadata": {},
   "source": [
    "`map` is, therefore a higher-order-function since it takes in a function as it's argument. Functional programming revolves around this very concept. It's very useful since, as you can see, it can be parallelized. There are complete algorithms that solve many common problems using functional programming concepts such as `map`, `reduce`, and `filter`."
   ]
  },
  {
   "cell_type": "markdown",
   "id": "05cdd84d",
   "metadata": {},
   "source": [
    "## Reduce"
   ]
  },
  {
   "cell_type": "code",
   "execution_count": 5,
   "id": "f50c5b75",
   "metadata": {},
   "outputs": [
    {
     "data": {
      "text/plain": [
       "3-element Vector{Int64}:\n",
       " 1\n",
       " 2\n",
       " 4"
      ]
     },
     "execution_count": 5,
     "metadata": {},
     "output_type": "execute_result"
    }
   ],
   "source": [
    "collection = [1,2,4]"
   ]
  },
  {
   "cell_type": "code",
   "execution_count": 6,
   "id": "a0dbc7c7",
   "metadata": {},
   "outputs": [
    {
     "data": {
      "text/plain": [
       "8"
      ]
     },
     "execution_count": 6,
     "metadata": {},
     "output_type": "execute_result"
    }
   ],
   "source": [
    "reduce(*, collection) # applies the * to all elements"
   ]
  },
  {
   "cell_type": "markdown",
   "id": "d7ea043f",
   "metadata": {},
   "source": [
    "We'll leave the rest of this for you to explore when you need this. We need to move to something much more relevant to Julia and our course of action."
   ]
  },
  {
   "cell_type": "markdown",
   "id": "ab745fef",
   "metadata": {},
   "source": [
    "## Broadcast"
   ]
  },
  {
   "cell_type": "code",
   "execution_count": 7,
   "id": "c2e0cda1",
   "metadata": {},
   "outputs": [
    {
     "data": {
      "text/plain": [
       "3-element Vector{Int64}:\n",
       " 1\n",
       " 2\n",
       " 4"
      ]
     },
     "execution_count": 7,
     "metadata": {},
     "output_type": "execute_result"
    }
   ],
   "source": [
    "collection"
   ]
  },
  {
   "cell_type": "code",
   "execution_count": 8,
   "id": "4383381f",
   "metadata": {},
   "outputs": [
    {
     "data": {
      "text/plain": [
       "f (generic function with 1 method)"
      ]
     },
     "execution_count": 8,
     "metadata": {},
     "output_type": "execute_result"
    }
   ],
   "source": [
    "function f(x)\n",
    "    x^2\n",
    "end"
   ]
  },
  {
   "cell_type": "code",
   "execution_count": 9,
   "id": "38e4dd8b",
   "metadata": {},
   "outputs": [
    {
     "data": {
      "text/plain": [
       "3-element Vector{Int64}:\n",
       "  1\n",
       "  4\n",
       " 16"
      ]
     },
     "execution_count": 9,
     "metadata": {},
     "output_type": "execute_result"
    }
   ],
   "source": [
    "broadcast(f, collection) # seems similar to map"
   ]
  },
  {
   "cell_type": "code",
   "execution_count": 10,
   "id": "15cc5e30",
   "metadata": {},
   "outputs": [
    {
     "data": {
      "text/plain": [
       "3-element Vector{Int64}:\n",
       " 1\n",
       " 2\n",
       " 4"
      ]
     },
     "execution_count": 10,
     "metadata": {},
     "output_type": "execute_result"
    }
   ],
   "source": [
    "collection # not change"
   ]
  },
  {
   "cell_type": "code",
   "execution_count": 11,
   "id": "cde6d348",
   "metadata": {},
   "outputs": [
    {
     "data": {
      "text/plain": [
       "3-element Vector{Int64}:\n",
       "  1\n",
       "  4\n",
       " 16"
      ]
     },
     "execution_count": 11,
     "metadata": {},
     "output_type": "execute_result"
    }
   ],
   "source": [
    "f.(collection) # it's so useful, it has a shortcut"
   ]
  },
  {
   "cell_type": "code",
   "execution_count": 12,
   "id": "37b90642",
   "metadata": {},
   "outputs": [
    {
     "ename": "LoadError",
     "evalue": "MethodError: no method matching ^(::Vector{Int64}, ::Int64)\n\u001b[0mClosest candidates are:\n\u001b[0m  ^(\u001b[91m::Union{AbstractChar, AbstractString}\u001b[39m, ::Integer) at strings/basic.jl:730\n\u001b[0m  ^(\u001b[91m::Complex{<:AbstractFloat}\u001b[39m, ::Integer) at complex.jl:860\n\u001b[0m  ^(\u001b[91m::Complex{<:Integer}\u001b[39m, ::Integer) at complex.jl:862\n\u001b[0m  ...",
     "output_type": "error",
     "traceback": [
      "MethodError: no method matching ^(::Vector{Int64}, ::Int64)\n\u001b[0mClosest candidates are:\n\u001b[0m  ^(\u001b[91m::Union{AbstractChar, AbstractString}\u001b[39m, ::Integer) at strings/basic.jl:730\n\u001b[0m  ^(\u001b[91m::Complex{<:AbstractFloat}\u001b[39m, ::Integer) at complex.jl:860\n\u001b[0m  ^(\u001b[91m::Complex{<:Integer}\u001b[39m, ::Integer) at complex.jl:862\n\u001b[0m  ...",
      "",
      "Stacktrace:",
      " [1] literal_pow",
      "   @ ./intfuncs.jl:340 [inlined]",
      " [2] f(x::Vector{Int64})",
      "   @ Main ./In[8]:2",
      " [3] top-level scope",
      "   @ In[12]:1"
     ]
    }
   ],
   "source": [
    "f(collection) # this doesn't work because you can't square an array"
   ]
  },
  {
   "cell_type": "markdown",
   "id": "5e3d3372",
   "metadata": {},
   "source": [
    "Let's see how a broadcast call is different from a normal call"
   ]
  },
  {
   "cell_type": "code",
   "execution_count": 13,
   "id": "99d96b1d",
   "metadata": {},
   "outputs": [
    {
     "data": {
      "text/plain": [
       "3×3 Matrix{Float64}:\n",
       " 1.0  1.0  1.0\n",
       " 1.0  1.0  1.0\n",
       " 1.0  1.0  1.0"
      ]
     },
     "execution_count": 13,
     "metadata": {},
     "output_type": "execute_result"
    }
   ],
   "source": [
    "M = ones(3,3)"
   ]
  },
  {
   "cell_type": "code",
   "execution_count": 16,
   "id": "f5eb3a5b",
   "metadata": {},
   "outputs": [
    {
     "data": {
      "text/plain": [
       "3×3 Matrix{Float64}:\n",
       " 3.0  3.0  3.0\n",
       " 3.0  3.0  3.0\n",
       " 3.0  3.0  3.0"
      ]
     },
     "execution_count": 16,
     "metadata": {},
     "output_type": "execute_result"
    }
   ],
   "source": [
    "f(M) # this is M^2, which is M*M"
   ]
  },
  {
   "cell_type": "code",
   "execution_count": 19,
   "id": "2fa747c0",
   "metadata": {},
   "outputs": [
    {
     "data": {
      "text/plain": [
       "3×3 Matrix{Float64}:\n",
       " 1.0  1.0  1.0\n",
       " 1.0  1.0  1.0\n",
       " 1.0  1.0  1.0"
      ]
     },
     "execution_count": 19,
     "metadata": {},
     "output_type": "execute_result"
    }
   ],
   "source": [
    "f.(M) # this applies x^2 to each element separately"
   ]
  },
  {
   "cell_type": "code",
   "execution_count": 22,
   "id": "5c5c5eaa",
   "metadata": {},
   "outputs": [
    {
     "data": {
      "text/plain": [
       "3×3 Matrix{Int64}:\n",
       " 1  2  3\n",
       " 4  5  6\n",
       " 7  8  9"
      ]
     },
     "execution_count": 22,
     "metadata": {},
     "output_type": "execute_result"
    }
   ],
   "source": [
    "A = [\n",
    "    [1 2 3]\n",
    "    [4 5 6]\n",
    "    [7 8 9]\n",
    "]"
   ]
  },
  {
   "cell_type": "code",
   "execution_count": 24,
   "id": "10ed2c1c",
   "metadata": {},
   "outputs": [
    {
     "data": {
      "text/plain": [
       "3×3 Matrix{Int64}:\n",
       " 2  3   4\n",
       " 5  6   7\n",
       " 8  9  10"
      ]
     },
     "execution_count": 24,
     "metadata": {},
     "output_type": "execute_result"
    }
   ],
   "source": [
    "A .+ 1 # apply + 1 to each element separately"
   ]
  },
  {
   "cell_type": "code",
   "execution_count": 25,
   "id": "d420b1b9",
   "metadata": {},
   "outputs": [
    {
     "data": {
      "text/plain": [
       "3×3 Matrix{Int64}:\n",
       "  2   4   6\n",
       "  8  10  12\n",
       " 14  16  18"
      ]
     },
     "execution_count": 25,
     "metadata": {},
     "output_type": "execute_result"
    }
   ],
   "source": [
    "A .* 2"
   ]
  },
  {
   "cell_type": "code",
   "execution_count": 26,
   "id": "5b0c5563",
   "metadata": {},
   "outputs": [
    {
     "data": {
      "text/plain": [
       "3×3 Matrix{Int64}:\n",
       "  2   4   6\n",
       "  8  10  12\n",
       " 14  16  18"
      ]
     },
     "execution_count": 26,
     "metadata": {},
     "output_type": "execute_result"
    }
   ],
   "source": [
    "# or even\n",
    "2A"
   ]
  },
  {
   "cell_type": "code",
   "execution_count": 28,
   "id": "8f1e0780",
   "metadata": {},
   "outputs": [
    {
     "data": {
      "text/plain": [
       "3×3 Matrix{Int64}:\n",
       "   4   16   36\n",
       "  64  100  144\n",
       " 196  256  324"
      ]
     },
     "execution_count": 28,
     "metadata": {},
     "output_type": "execute_result"
    }
   ],
   "source": [
    "f.(2A) # we can write stuff that is closer to the maths this way"
   ]
  },
  {
   "cell_type": "markdown",
   "id": "2ba42c76",
   "metadata": {},
   "source": [
    "## Broadcasting for matrices"
   ]
  },
  {
   "cell_type": "code",
   "execution_count": 33,
   "id": "7eb8c369",
   "metadata": {},
   "outputs": [
    {
     "data": {
      "text/plain": [
       "2×3 adjoint(::Matrix{Int64}) with eltype Int64:\n",
       " 1  2  3\n",
       " 4  5  6"
      ]
     },
     "execution_count": 33,
     "metadata": {},
     "output_type": "execute_result"
    }
   ],
   "source": [
    "A = reshape(collect(1:6), 3,2)'"
   ]
  },
  {
   "cell_type": "code",
   "execution_count": 35,
   "id": "3e2bd0a7",
   "metadata": {},
   "outputs": [
    {
     "ename": "LoadError",
     "evalue": "DimensionMismatch: matrix A has dimensions (2,3), matrix B has dimensions (1,3)",
     "output_type": "error",
     "traceback": [
      "DimensionMismatch: matrix A has dimensions (2,3), matrix B has dimensions (1,3)",
      "",
      "Stacktrace:",
      " [1] _generic_matmatmul!(C::Matrix{Int64}, tA::Char, tB::Char, A::Matrix{Int64}, B::Matrix{Int64}, _add::LinearAlgebra.MulAddMul{true, true, Bool, Bool})",
      "   @ LinearAlgebra /julia/julia-1.8.2/share/julia/stdlib/v1.8/LinearAlgebra/src/matmul.jl:856",
      " [2] generic_matmatmul!(C::Matrix{Int64}, tA::Char, tB::Char, A::Matrix{Int64}, B::Matrix{Int64}, _add::LinearAlgebra.MulAddMul{true, true, Bool, Bool})",
      "   @ LinearAlgebra /julia/julia-1.8.2/share/julia/stdlib/v1.8/LinearAlgebra/src/matmul.jl:844",
      " [3] mul!",
      "   @ /julia/julia-1.8.2/share/julia/stdlib/v1.8/LinearAlgebra/src/matmul.jl:437 [inlined]",
      " [4] mul!",
      "   @ /julia/julia-1.8.2/share/julia/stdlib/v1.8/LinearAlgebra/src/matmul.jl:276 [inlined]",
      " [5] *(A::LinearAlgebra.Adjoint{Int64, Matrix{Int64}}, B::Matrix{Int64})",
      "   @ LinearAlgebra /julia/julia-1.8.2/share/julia/stdlib/v1.8/LinearAlgebra/src/matmul.jl:141",
      " [6] top-level scope",
      "   @ In[35]:2"
     ]
    }
   ],
   "source": [
    "# Without broadcasting\n",
    "A * [10 20 30] # works if you transpose but that's a different ops"
   ]
  },
  {
   "cell_type": "code",
   "execution_count": 36,
   "id": "966bbcf9",
   "metadata": {},
   "outputs": [
    {
     "data": {
      "text/plain": [
       "2×3 adjoint(::Matrix{Int64}) with eltype Int64:\n",
       " 1  2  3\n",
       " 4  5  6"
      ]
     },
     "execution_count": 36,
     "metadata": {},
     "output_type": "execute_result"
    }
   ],
   "source": [
    "A"
   ]
  },
  {
   "cell_type": "code",
   "execution_count": 37,
   "id": "1a83f1c7",
   "metadata": {},
   "outputs": [
    {
     "data": {
      "text/plain": [
       "2×3 Matrix{Int64}:\n",
       " 10   40   90\n",
       " 40  100  180"
      ]
     },
     "execution_count": 37,
     "metadata": {},
     "output_type": "execute_result"
    }
   ],
   "source": [
    "# with broadcasting\n",
    "A .* [10 20 30] # row vector is duplicated for each row"
   ]
  },
  {
   "cell_type": "code",
   "execution_count": 38,
   "id": "a967f02a",
   "metadata": {},
   "outputs": [
    {
     "data": {
      "text/plain": [
       "2×3 Matrix{Int64}:\n",
       " 10   20   30\n",
       " 80  100  120"
      ]
     },
     "execution_count": 38,
     "metadata": {},
     "output_type": "execute_result"
    }
   ],
   "source": [
    "A .* [10 20]' # column vector is duplicated for each column"
   ]
  }
 ],
 "metadata": {
  "kernelspec": {
   "display_name": "Julia 1.8.2",
   "language": "julia",
   "name": "julia-1.8"
  },
  "language_info": {
   "file_extension": ".jl",
   "mimetype": "application/julia",
   "name": "julia",
   "version": "1.8.2"
  }
 },
 "nbformat": 4,
 "nbformat_minor": 5
}
