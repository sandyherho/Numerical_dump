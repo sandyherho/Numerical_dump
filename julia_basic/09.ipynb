{
 "cells": [
  {
   "cell_type": "markdown",
   "id": "5b88fcfa",
   "metadata": {},
   "source": [
    "# Basic Functional Programming"
   ]
  },
  {
   "cell_type": "markdown",
   "id": "429d05dd",
   "metadata": {},
   "source": [
    "Functional programming is very useful when thinking in terms of mathematics. It's also massively parallelizable and you really should learn the concepts. Here, we'll take a lokk at some basics."
   ]
  },
  {
   "cell_type": "markdown",
   "id": "809e77a0",
   "metadata": {},
   "source": [
    "## Map"
   ]
  },
  {
   "cell_type": "markdown",
   "id": "e9d44d83",
   "metadata": {},
   "source": [
    "Map applies a function to all elements of a collection"
   ]
  },
  {
   "cell_type": "code",
   "execution_count": 1,
   "id": "85ecce94",
   "metadata": {},
   "outputs": [
    {
     "data": {
      "text/plain": [
       "3-element Vector{Int64}:\n",
       " 1\n",
       " 2\n",
       " 4"
      ]
     },
     "execution_count": 1,
     "metadata": {},
     "output_type": "execute_result"
    }
   ],
   "source": [
    "collection = [1,2,4]"
   ]
  },
  {
   "cell_type": "code",
   "execution_count": 2,
   "id": "1cbfc232",
   "metadata": {},
   "outputs": [
    {
     "data": {
      "text/plain": [
       "3-element Vector{Int64}:\n",
       "  1\n",
       "  4\n",
       " 16"
      ]
     },
     "execution_count": 2,
     "metadata": {},
     "output_type": "execute_result"
    }
   ],
   "source": [
    "map(x -> x^2, collection)"
   ]
  },
  {
   "cell_type": "code",
   "execution_count": 3,
   "id": "87bbbe5c",
   "metadata": {},
   "outputs": [
    {
     "data": {
      "text/plain": [
       "3-element Vector{Int64}:\n",
       "  1\n",
       "  4\n",
       " 16"
      ]
     },
     "execution_count": 3,
     "metadata": {},
     "output_type": "execute_result"
    }
   ],
   "source": [
    "squares = map(x -> x^2, collection)"
   ]
  },
  {
   "cell_type": "code",
   "execution_count": 4,
   "id": "43d90c95",
   "metadata": {},
   "outputs": [
    {
     "name": "stdout",
     "output_type": "stream",
     "text": [
      "squares = [1, 4, 16]\n"
     ]
    },
    {
     "data": {
      "text/plain": [
       "3-element Vector{Int64}:\n",
       "  1\n",
       "  4\n",
       " 16"
      ]
     },
     "execution_count": 4,
     "metadata": {},
     "output_type": "execute_result"
    }
   ],
   "source": [
    "@show squares"
   ]
  },
  {
   "cell_type": "markdown",
   "id": "5434bdd9",
   "metadata": {},
   "source": [
    "`map` is, therefore a higher-order-function since it takes in a function as it's argument. Functional programming revolves around this very concept. It's very useful since, as you can see, it can be parallelized. There are complete algorithms that solve many common problems using functional programming concepts such as `map`, `reduce`, and `filter`."
   ]
  },
  {
   "cell_type": "markdown",
   "id": "d57bae94",
   "metadata": {},
   "source": [
    "## Reduce"
   ]
  },
  {
   "cell_type": "code",
   "execution_count": 5,
   "id": "fc433c6c",
   "metadata": {},
   "outputs": [
    {
     "data": {
      "text/plain": [
       "3-element Vector{Int64}:\n",
       " 1\n",
       " 2\n",
       " 4"
      ]
     },
     "execution_count": 5,
     "metadata": {},
     "output_type": "execute_result"
    }
   ],
   "source": [
    "collection = [1,2,4]"
   ]
  },
  {
   "cell_type": "code",
   "execution_count": 6,
   "id": "9dc34171",
   "metadata": {},
   "outputs": [
    {
     "data": {
      "text/plain": [
       "8"
      ]
     },
     "execution_count": 6,
     "metadata": {},
     "output_type": "execute_result"
    }
   ],
   "source": [
    "reduce(*, collection) # applies the * to all elements"
   ]
  },
  {
   "cell_type": "markdown",
   "id": "bc57f2fb",
   "metadata": {},
   "source": [
    "We'll leave the rest of this for you to explore when you need this. We need to move to something much more relevant to Julia and our course of action."
   ]
  },
  {
   "cell_type": "markdown",
   "id": "2e7a7605",
   "metadata": {},
   "source": [
    "## Broadcast"
   ]
  },
  {
   "cell_type": "code",
   "execution_count": 7,
   "id": "be422a50",
   "metadata": {},
   "outputs": [
    {
     "data": {
      "text/plain": [
       "3-element Vector{Int64}:\n",
       " 1\n",
       " 2\n",
       " 4"
      ]
     },
     "execution_count": 7,
     "metadata": {},
     "output_type": "execute_result"
    }
   ],
   "source": [
    "collection"
   ]
  },
  {
   "cell_type": "code",
   "execution_count": 8,
   "id": "fc8dee73",
   "metadata": {},
   "outputs": [
    {
     "data": {
      "text/plain": [
       "f (generic function with 1 method)"
      ]
     },
     "execution_count": 8,
     "metadata": {},
     "output_type": "execute_result"
    }
   ],
   "source": [
    "function f(x)\n",
    "    x^2\n",
    "end"
   ]
  },
  {
   "cell_type": "code",
   "execution_count": 9,
   "id": "496b6f80",
   "metadata": {},
   "outputs": [
    {
     "data": {
      "text/plain": [
       "3-element Vector{Int64}:\n",
       "  1\n",
       "  4\n",
       " 16"
      ]
     },
     "execution_count": 9,
     "metadata": {},
     "output_type": "execute_result"
    }
   ],
   "source": [
    "broadcast(f, collection) # seems similar to map"
   ]
  },
  {
   "cell_type": "code",
   "execution_count": 10,
   "id": "ab18b6e8",
   "metadata": {},
   "outputs": [
    {
     "data": {
      "text/plain": [
       "3-element Vector{Int64}:\n",
       " 1\n",
       " 2\n",
       " 4"
      ]
     },
     "execution_count": 10,
     "metadata": {},
     "output_type": "execute_result"
    }
   ],
   "source": [
    "collection # not change"
   ]
  },
  {
   "cell_type": "code",
   "execution_count": 11,
   "id": "e1a1cf71",
   "metadata": {},
   "outputs": [
    {
     "data": {
      "text/plain": [
       "3-element Vector{Int64}:\n",
       "  1\n",
       "  4\n",
       " 16"
      ]
     },
     "execution_count": 11,
     "metadata": {},
     "output_type": "execute_result"
    }
   ],
   "source": [
    "f.(collection) # it's so useful, it has a shortcut"
   ]
  },
  {
   "cell_type": "code",
   "execution_count": 12,
   "id": "e033c91a",
   "metadata": {},
   "outputs": [
    {
     "ename": "LoadError",
     "evalue": "MethodError: no method matching ^(::Vector{Int64}, ::Int64)\n\u001b[0mClosest candidates are:\n\u001b[0m  ^(\u001b[91m::Union{AbstractChar, AbstractString}\u001b[39m, ::Integer) at strings/basic.jl:730\n\u001b[0m  ^(\u001b[91m::Complex{<:AbstractFloat}\u001b[39m, ::Integer) at complex.jl:860\n\u001b[0m  ^(\u001b[91m::Complex{<:Integer}\u001b[39m, ::Integer) at complex.jl:862\n\u001b[0m  ...",
     "output_type": "error",
     "traceback": [
      "MethodError: no method matching ^(::Vector{Int64}, ::Int64)\n\u001b[0mClosest candidates are:\n\u001b[0m  ^(\u001b[91m::Union{AbstractChar, AbstractString}\u001b[39m, ::Integer) at strings/basic.jl:730\n\u001b[0m  ^(\u001b[91m::Complex{<:AbstractFloat}\u001b[39m, ::Integer) at complex.jl:860\n\u001b[0m  ^(\u001b[91m::Complex{<:Integer}\u001b[39m, ::Integer) at complex.jl:862\n\u001b[0m  ...",
      "",
      "Stacktrace:",
      " [1] literal_pow",
      "   @ ./intfuncs.jl:340 [inlined]",
      " [2] f(x::Vector{Int64})",
      "   @ Main ./In[8]:2",
      " [3] top-level scope",
      "   @ In[12]:1"
     ]
    }
   ],
   "source": [
    "f(collection) # this doesn't work because you can't square an array"
   ]
  },
  {
   "cell_type": "markdown",
   "id": "7c3db114",
   "metadata": {},
   "source": [
    "Let's see how a broadcast call is different from a normal call"
   ]
  },
  {
   "cell_type": "code",
   "execution_count": 13,
   "id": "cd67d4c0",
   "metadata": {},
   "outputs": [
    {
     "data": {
      "text/plain": [
       "3×3 Matrix{Float64}:\n",
       " 1.0  1.0  1.0\n",
       " 1.0  1.0  1.0\n",
       " 1.0  1.0  1.0"
      ]
     },
     "execution_count": 13,
     "metadata": {},
     "output_type": "execute_result"
    }
   ],
   "source": [
    "M = ones(3,3)"
   ]
  },
  {
   "cell_type": "code",
   "execution_count": 16,
   "id": "6d774fe6",
   "metadata": {},
   "outputs": [
    {
     "data": {
      "text/plain": [
       "3×3 Matrix{Float64}:\n",
       " 3.0  3.0  3.0\n",
       " 3.0  3.0  3.0\n",
       " 3.0  3.0  3.0"
      ]
     },
     "execution_count": 16,
     "metadata": {},
     "output_type": "execute_result"
    }
   ],
   "source": [
    "f(M) # this is M^2, which is M*M"
   ]
  },
  {
   "cell_type": "code",
   "execution_count": 19,
   "id": "8c398fe0",
   "metadata": {},
   "outputs": [
    {
     "data": {
      "text/plain": [
       "3×3 Matrix{Float64}:\n",
       " 1.0  1.0  1.0\n",
       " 1.0  1.0  1.0\n",
       " 1.0  1.0  1.0"
      ]
     },
     "execution_count": 19,
     "metadata": {},
     "output_type": "execute_result"
    }
   ],
   "source": [
    "f.(M) # this applies x^2 to each element separately"
   ]
  },
  {
   "cell_type": "code",
   "execution_count": 22,
   "id": "7a8ae206",
   "metadata": {},
   "outputs": [
    {
     "data": {
      "text/plain": [
       "3×3 Matrix{Int64}:\n",
       " 1  2  3\n",
       " 4  5  6\n",
       " 7  8  9"
      ]
     },
     "execution_count": 22,
     "metadata": {},
     "output_type": "execute_result"
    }
   ],
   "source": [
    "A = [\n",
    "    [1 2 3]\n",
    "    [4 5 6]\n",
    "    [7 8 9]\n",
    "]"
   ]
  },
  {
   "cell_type": "code",
   "execution_count": 24,
   "id": "5f6b54a0",
   "metadata": {},
   "outputs": [
    {
     "data": {
      "text/plain": [
       "3×3 Matrix{Int64}:\n",
       " 2  3   4\n",
       " 5  6   7\n",
       " 8  9  10"
      ]
     },
     "execution_count": 24,
     "metadata": {},
     "output_type": "execute_result"
    }
   ],
   "source": [
    "A .+ 1 # apply + 1 to each element separately"
   ]
  },
  {
   "cell_type": "code",
   "execution_count": 25,
   "id": "a89616b1",
   "metadata": {},
   "outputs": [
    {
     "data": {
      "text/plain": [
       "3×3 Matrix{Int64}:\n",
       "  2   4   6\n",
       "  8  10  12\n",
       " 14  16  18"
      ]
     },
     "execution_count": 25,
     "metadata": {},
     "output_type": "execute_result"
    }
   ],
   "source": [
    "A .* 2"
   ]
  },
  {
   "cell_type": "code",
   "execution_count": 26,
   "id": "588fc02f",
   "metadata": {},
   "outputs": [
    {
     "data": {
      "text/plain": [
       "3×3 Matrix{Int64}:\n",
       "  2   4   6\n",
       "  8  10  12\n",
       " 14  16  18"
      ]
     },
     "execution_count": 26,
     "metadata": {},
     "output_type": "execute_result"
    }
   ],
   "source": [
    "# or even\n",
    "2A"
   ]
  },
  {
   "cell_type": "code",
   "execution_count": null,
   "id": "055b4d84",
   "metadata": {},
   "outputs": [],
   "source": []
  }
 ],
 "metadata": {
  "kernelspec": {
   "display_name": "Julia 1.8.2",
   "language": "julia",
   "name": "julia-1.8"
  },
  "language_info": {
   "file_extension": ".jl",
   "mimetype": "application/julia",
   "name": "julia",
   "version": "1.8.2"
  }
 },
 "nbformat": 4,
 "nbformat_minor": 5
}
