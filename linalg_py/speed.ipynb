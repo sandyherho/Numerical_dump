{
 "cells": [
  {
   "cell_type": "code",
   "execution_count": 3,
   "id": "d5def0b6",
   "metadata": {},
   "outputs": [],
   "source": [
    "import random\n",
    "import numpy as np"
   ]
  },
  {
   "cell_type": "code",
   "execution_count": 4,
   "id": "1ab6368f",
   "metadata": {},
   "outputs": [],
   "source": [
    "r = [random.randrange(100) for _ in range(100_000)]"
   ]
  },
  {
   "cell_type": "markdown",
   "id": "d39afb5a",
   "metadata": {},
   "source": [
    "# Simple loops"
   ]
  },
  {
   "cell_type": "code",
   "execution_count": 5,
   "id": "c740ffdf",
   "metadata": {},
   "outputs": [],
   "source": [
    "n = 1_000\n",
    "x, y = random.sample(r, n), random.sample(r, n)"
   ]
  },
  {
   "cell_type": "code",
   "execution_count": 6,
   "id": "f6ee03e2",
   "metadata": {},
   "outputs": [
    {
     "name": "stdout",
     "output_type": "stream",
     "text": [
      "64.2 µs ± 774 ns per loop (mean ± std. dev. of 7 runs, 10,000 loops each)\n"
     ]
    }
   ],
   "source": [
    "%%timeit\n",
    "i, z = 0, []\n",
    "while i < n:\n",
    "    z.append(x[i] + y[i])\n",
    "    i += 1"
   ]
  },
  {
   "cell_type": "code",
   "execution_count": 7,
   "id": "1c8094e5",
   "metadata": {},
   "outputs": [
    {
     "name": "stdout",
     "output_type": "stream",
     "text": [
      "51.5 µs ± 843 ns per loop (mean ± std. dev. of 7 runs, 10,000 loops each)\n"
     ]
    }
   ],
   "source": [
    "%%timeit\n",
    "z = []\n",
    "for i in range(n):\n",
    "    z.append(x[i] + y[i])"
   ]
  },
  {
   "cell_type": "code",
   "execution_count": 9,
   "id": "f72a3fbf",
   "metadata": {},
   "outputs": [
    {
     "name": "stdout",
     "output_type": "stream",
     "text": [
      "46.6 µs ± 835 ns per loop (mean ± std. dev. of 7 runs, 10,000 loops each)\n"
     ]
    }
   ],
   "source": [
    "%%timeit\n",
    "z = [x[i] + y[i] for i in range(n)]"
   ]
  },
  {
   "cell_type": "markdown",
   "id": "4ad2eeaa",
   "metadata": {},
   "source": [
    "# Numpy"
   ]
  },
  {
   "cell_type": "code",
   "execution_count": 10,
   "id": "412f1140",
   "metadata": {},
   "outputs": [],
   "source": [
    "x_, y_ = np.array(x, dtype=np.int64), np.array(y, dtype=np.int64)"
   ]
  },
  {
   "cell_type": "code",
   "execution_count": 11,
   "id": "cf926e50",
   "metadata": {},
   "outputs": [
    {
     "name": "stdout",
     "output_type": "stream",
     "text": [
      "966 ns ± 25.4 ns per loop (mean ± std. dev. of 7 runs, 1,000,000 loops each)\n"
     ]
    }
   ],
   "source": [
    "%%timeit\n",
    "z = x_ + y_"
   ]
  },
  {
   "cell_type": "code",
   "execution_count": 12,
   "id": "baed7107",
   "metadata": {},
   "outputs": [],
   "source": [
    "x_, y_ = np.array(x, dtype=np.int32), np.array(y, dtype=np.int32)"
   ]
  },
  {
   "cell_type": "code",
   "execution_count": 13,
   "id": "95117b51",
   "metadata": {},
   "outputs": [
    {
     "name": "stdout",
     "output_type": "stream",
     "text": [
      "768 ns ± 29.5 ns per loop (mean ± std. dev. of 7 runs, 1,000,000 loops each)\n"
     ]
    }
   ],
   "source": [
    "%%timeit\n",
    "z = x_ + y_"
   ]
  },
  {
   "cell_type": "markdown",
   "id": "2217218a",
   "metadata": {},
   "source": [
    "# Nested loop: simple loop"
   ]
  },
  {
   "cell_type": "code",
   "execution_count": 14,
   "id": "c3d6e725",
   "metadata": {},
   "outputs": [],
   "source": [
    "m, n = 100, 1_000\n",
    "x = [random.sample(r, n) for _ in range(m)]\n",
    "y = [random.sample(r, n) for _ in range(m)]"
   ]
  },
  {
   "cell_type": "code",
   "execution_count": 15,
   "id": "606e86d1",
   "metadata": {},
   "outputs": [
    {
     "name": "stdout",
     "output_type": "stream",
     "text": [
      "8.08 ms ± 156 µs per loop (mean ± std. dev. of 7 runs, 100 loops each)\n"
     ]
    }
   ],
   "source": [
    "%%timeit\n",
    "i, z = 0, []\n",
    "while i < m:\n",
    "    j, z_ = 0, []\n",
    "    while j < n:\n",
    "        z_.append(x[i][j] + y[i][j])\n",
    "        j += 1\n",
    "    z.append(z_)\n",
    "    i += 1"
   ]
  },
  {
   "cell_type": "code",
   "execution_count": 16,
   "id": "3d8ecb39",
   "metadata": {},
   "outputs": [
    {
     "name": "stdout",
     "output_type": "stream",
     "text": [
      "6.66 ms ± 175 µs per loop (mean ± std. dev. of 7 runs, 100 loops each)\n"
     ]
    }
   ],
   "source": [
    "%%timeit\n",
    "z = []\n",
    "for i in range(m):\n",
    "    z_ = []\n",
    "    for j in range(n):\n",
    "         z_.append(x[i][j] + y[i][j])\n",
    "    z.append(z_)"
   ]
  },
  {
   "cell_type": "code",
   "execution_count": 17,
   "id": "4dd864c3",
   "metadata": {},
   "outputs": [
    {
     "name": "stdout",
     "output_type": "stream",
     "text": [
      "6.33 ms ± 158 µs per loop (mean ± std. dev. of 7 runs, 100 loops each)\n"
     ]
    }
   ],
   "source": [
    "%%timeit\n",
    "z = [[x[i][j] + y[i][j] for j in range(n)] for i in range(m)]"
   ]
  },
  {
   "cell_type": "code",
   "execution_count": 18,
   "id": "18dd1677",
   "metadata": {},
   "outputs": [
    {
     "name": "stdout",
     "output_type": "stream",
     "text": [
      "Python 3.11.3\r\n"
     ]
    }
   ],
   "source": [
    "!python --version"
   ]
  }
 ],
 "metadata": {
  "kernelspec": {
   "display_name": "Python 3 (ipykernel)",
   "language": "python",
   "name": "python3"
  },
  "language_info": {
   "codemirror_mode": {
    "name": "ipython",
    "version": 3
   },
   "file_extension": ".py",
   "mimetype": "text/x-python",
   "name": "python",
   "nbconvert_exporter": "python",
   "pygments_lexer": "ipython3",
   "version": "3.11.3"
  }
 },
 "nbformat": 4,
 "nbformat_minor": 5
}
