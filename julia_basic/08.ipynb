{
 "cells": [
  {
   "cell_type": "markdown",
   "id": "f95d8898-bbf2-469d-a96f-3cd17cd34794",
   "metadata": {},
   "source": [
    "# Anonymous Functions"
   ]
  },
  {
   "cell_type": "markdown",
   "id": "48b781ee-2159-4dd7-ab8f-4938de3583be",
   "metadata": {},
   "source": [
    "Sometimes, you don't want to name a function. If tou haven't seen this before, this might seem weird but it's actually pretty useful. We'll see a case study in a little while, but let's 1st see the syntax."
   ]
  },
  {
   "cell_type": "code",
   "execution_count": 2,
   "id": "5ab22834-3e6d-4706-9ad5-934f8268bee9",
   "metadata": {},
   "outputs": [
    {
     "data": {
      "text/plain": [
       "#3 (generic function with 1 method)"
      ]
     },
     "execution_count": 2,
     "metadata": {},
     "output_type": "execute_result"
    }
   ],
   "source": [
    "x -> x^2 + 2*x - 1 # the arrow operator is what makes this a function"
   ]
  },
  {
   "cell_type": "code",
   "execution_count": 4,
   "id": "6e1f49d0-17fe-46b0-acbb-a6ebe226111b",
   "metadata": {},
   "outputs": [
    {
     "data": {
      "text/plain": [
       "34"
      ]
     },
     "execution_count": 4,
     "metadata": {},
     "output_type": "execute_result"
    }
   ],
   "source": [
    "(x -> x^2 + 2*x - 1)(5)"
   ]
  },
  {
   "cell_type": "markdown",
   "id": "6c37c95c-8fe0-4759-b0f9-9c66bd711a37",
   "metadata": {},
   "source": [
    "Let's see a usecase for this"
   ]
  },
  {
   "cell_type": "code",
   "execution_count": 6,
   "id": "e1f02154-a83a-4924-a21e-1cdbeb4246b3",
   "metadata": {},
   "outputs": [],
   "source": [
    "# Given this collection, we want to remove all the values that are a multiple of 3\n",
    "nums = [1,2,4,5,6,7,8,9];"
   ]
  },
  {
   "cell_type": "code",
   "execution_count": 7,
   "id": "62d55aaf-8a1d-4da4-94bd-d512ba2d4157",
   "metadata": {},
   "outputs": [],
   "source": [
    "# filter!(some_function_here, some_collection_here)\n",
    "# keeps only those that satisfy the criteria"
   ]
  },
  {
   "cell_type": "code",
   "execution_count": 8,
   "id": "b9575b72-7cc8-4ca8-b7c9-f0e7de02ab95",
   "metadata": {},
   "outputs": [
    {
     "data": {
      "text/plain": [
       "not_multiple_of_three (generic function with 1 method)"
      ]
     },
     "execution_count": 8,
     "metadata": {},
     "output_type": "execute_result"
    }
   ],
   "source": [
    "function not_multiple_of_three(x)\n",
    "    return x % 3 !=0\n",
    "end"
   ]
  },
  {
   "cell_type": "code",
   "execution_count": null,
   "id": "756e7cef-25af-42bb-beb1-c605dc872f0e",
   "metadata": {},
   "outputs": [],
   "source": []
  }
 ],
 "metadata": {
  "kernelspec": {
   "display_name": "Julia 1.8.2",
   "language": "julia",
   "name": "julia-1.8"
  },
  "language_info": {
   "file_extension": ".jl",
   "mimetype": "application/julia",
   "name": "julia",
   "version": "1.8.2"
  }
 },
 "nbformat": 4,
 "nbformat_minor": 5
}
