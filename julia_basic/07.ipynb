{
 "cells": [
  {
   "cell_type": "markdown",
   "id": "54209427-2a5f-446d-b742-0d9306331f70",
   "metadata": {},
   "source": [
    "# Functions"
   ]
  },
  {
   "cell_type": "code",
   "execution_count": 1,
   "id": "ce7daa53-3268-4a6d-9b0b-d5e6a07dabc7",
   "metadata": {},
   "outputs": [
    {
     "data": {
      "text/plain": [
       "square (generic function with 1 method)"
      ]
     },
     "execution_count": 1,
     "metadata": {},
     "output_type": "execute_result"
    }
   ],
   "source": [
    "# basic function definition\n",
    "\n",
    "function square(x)\n",
    "    x^2\n",
    "end\n",
    "\n",
    "# value of the expression on the last line of execution is\n",
    "# automatically returned\n",
    "# it's still good practice to use return"
   ]
  },
  {
   "cell_type": "code",
   "execution_count": 2,
   "id": "dfaee4ae-5a1c-482b-885c-ec7b12056721",
   "metadata": {},
   "outputs": [
    {
     "data": {
      "text/plain": [
       "16"
      ]
     },
     "execution_count": 2,
     "metadata": {},
     "output_type": "execute_result"
    }
   ],
   "source": [
    "square(4)"
   ]
  },
  {
   "cell_type": "code",
   "execution_count": 3,
   "id": "b79e0b5a-5656-4d8e-a8d2-3c569bbe529c",
   "metadata": {},
   "outputs": [
    {
     "data": {
      "text/plain": [
       "square (generic function with 1 method)"
      ]
     },
     "execution_count": 3,
     "metadata": {},
     "output_type": "execute_result"
    }
   ],
   "source": [
    "function square(x)\n",
    "    return x^2\n",
    "end"
   ]
  },
  {
   "cell_type": "code",
   "execution_count": 4,
   "id": "adc9eb31-8e1e-482b-9d3f-f84e8f47c7a1",
   "metadata": {},
   "outputs": [
    {
     "data": {
      "text/plain": [
       "16"
      ]
     },
     "execution_count": 4,
     "metadata": {},
     "output_type": "execute_result"
    }
   ],
   "source": [
    "square(4)"
   ]
  },
  {
   "cell_type": "code",
   "execution_count": 5,
   "id": "e1eb1c36-7c8f-4af2-a442-0f3d09c679ac",
   "metadata": {},
   "outputs": [
    {
     "data": {
      "text/plain": [
       "hello (generic function with 1 method)"
      ]
     },
     "execution_count": 5,
     "metadata": {},
     "output_type": "execute_result"
    }
   ],
   "source": [
    "function hello(name)\n",
    "    println(\"Hello there \", name)\n",
    "end"
   ]
  },
  {
   "cell_type": "code",
   "execution_count": 6,
   "id": "b6eb3b1e-aedc-4dc9-ab59-1d25d13ad215",
   "metadata": {},
   "outputs": [
    {
     "name": "stdout",
     "output_type": "stream",
     "text": [
      "Hello there Revati\n"
     ]
    }
   ],
   "source": [
    "hello(\"Revati\")"
   ]
  },
  {
   "cell_type": "code",
   "execution_count": 7,
   "id": "b5f6dc8f-f7e7-4b5f-80df-33396e84acbc",
   "metadata": {},
   "outputs": [
    {
     "name": "stdout",
     "output_type": "stream",
     "text": [
      "Hello there 1\n"
     ]
    }
   ],
   "source": [
    "hello(1) #automatic overloading through \"duck typing\""
   ]
  },
  {
   "cell_type": "code",
   "execution_count": 8,
   "id": "7754ae7c-541e-4d66-b53d-7b421987b6c9",
   "metadata": {},
   "outputs": [
    {
     "data": {
      "text/plain": [
       "3×4 Matrix{Float64}:\n",
       " 0.912207  0.962544    0.65132   0.390134\n",
       " 0.177322  0.00884188  0.499847  0.11082\n",
       " 0.178904  0.347166    0.560451  0.736211"
      ]
     },
     "execution_count": 8,
     "metadata": {},
     "output_type": "execute_result"
    }
   ],
   "source": [
    "v = rand(3, 4)"
   ]
  },
  {
   "cell_type": "code",
   "execution_count": 10,
   "id": "316d8817-cc8f-4eaa-be51-1c8f70ee82bb",
   "metadata": {},
   "outputs": [
    {
     "name": "stdout",
     "output_type": "stream",
     "text": [
      "Hello there [0.9122074589195709 0.9625442293136256 0.6513201364229964 0.39013411976462553; 0.17732227232473807 0.008841878969116701 0.4998469871003369 0.11081986357015872; 0.17890410617613328 0.34716616724193383 0.5604513984571626 0.7362109520213688]\n"
     ]
    }
   ],
   "source": [
    "hello(v) # just as long as you can \"print\" the parameter, it's fine"
   ]
  },
  {
   "cell_type": "markdown",
   "id": "c95ae0ec-c12c-4ffa-8426-765417ea634e",
   "metadata": {},
   "source": [
    "Shorthand for simple one-liners"
   ]
  },
  {
   "cell_type": "code",
   "execution_count": 11,
   "id": "f3b40b59-38b1-4246-a175-a92f42c178d7",
   "metadata": {},
   "outputs": [
    {
     "data": {
      "text/plain": [
       "halver (generic function with 1 method)"
      ]
     },
     "execution_count": 11,
     "metadata": {},
     "output_type": "execute_result"
    }
   ],
   "source": [
    "halver(x) = x//2"
   ]
  },
  {
   "cell_type": "code",
   "execution_count": 12,
   "id": "57327fcb-f104-4875-b8a7-16521fda2404",
   "metadata": {},
   "outputs": [
    {
     "data": {
      "text/plain": [
       "5//2"
      ]
     },
     "execution_count": 12,
     "metadata": {},
     "output_type": "execute_result"
    }
   ],
   "source": [
    "halver(5)"
   ]
  },
  {
   "cell_type": "markdown",
   "id": "69f29d7d-4dfe-4e2e-a460-daddcfadd95b",
   "metadata": {},
   "source": [
    "## Convention for mutating functions"
   ]
  },
  {
   "cell_type": "code",
   "execution_count": 13,
   "id": "a44ff6df-9205-4f15-a556-f58e01e7ca4b",
   "metadata": {},
   "outputs": [],
   "source": [
    "v = [46, 5, 87];"
   ]
  },
  {
   "cell_type": "code",
   "execution_count": 14,
   "id": "65ae2ac7-e65e-4bec-9823-4a0064709e8d",
   "metadata": {},
   "outputs": [
    {
     "data": {
      "text/plain": [
       "3-element Vector{Int64}:\n",
       " 46\n",
       "  5\n",
       " 87"
      ]
     },
     "execution_count": 14,
     "metadata": {},
     "output_type": "execute_result"
    }
   ],
   "source": [
    "v"
   ]
  },
  {
   "cell_type": "code",
   "execution_count": 15,
   "id": "da36bd12-93fe-401c-a19a-310c3975eec2",
   "metadata": {},
   "outputs": [
    {
     "data": {
      "text/plain": [
       "3-element Vector{Int64}:\n",
       "  5\n",
       " 46\n",
       " 87"
      ]
     },
     "execution_count": 15,
     "metadata": {},
     "output_type": "execute_result"
    }
   ],
   "source": [
    "sort(v)"
   ]
  },
  {
   "cell_type": "code",
   "execution_count": 17,
   "id": "53c99468-217a-4324-a5f3-9a732a85af9b",
   "metadata": {},
   "outputs": [
    {
     "name": "stdout",
     "output_type": "stream",
     "text": [
      "v = [46, 5, 87]\n"
     ]
    }
   ],
   "source": [
    "@show v;"
   ]
  },
  {
   "cell_type": "code",
   "execution_count": 18,
   "id": "5177baad-fa7e-4226-9522-7d64ba2f5072",
   "metadata": {},
   "outputs": [
    {
     "data": {
      "text/plain": [
       "3-element Vector{Int64}:\n",
       "  5\n",
       " 46\n",
       " 87"
      ]
     },
     "execution_count": 18,
     "metadata": {},
     "output_type": "execute_result"
    }
   ],
   "source": [
    "sort!(v)"
   ]
  },
  {
   "cell_type": "code",
   "execution_count": 20,
   "id": "74162250-f4a9-43fa-8a84-010660796d7c",
   "metadata": {},
   "outputs": [
    {
     "name": "stdout",
     "output_type": "stream",
     "text": [
      "v = [5, 46, 87]\n"
     ]
    }
   ],
   "source": [
    "@show v;"
   ]
  },
  {
   "cell_type": "markdown",
   "id": "d3f133a7-e856-4e68-b2ad-0d308bae942f",
   "metadata": {},
   "source": [
    "## Overloading and \"Methods\""
   ]
  },
  {
   "cell_type": "code",
   "execution_count": 21,
   "id": "1e560739-eefd-433b-a1c9-6723fee39b4b",
   "metadata": {},
   "outputs": [
    {
     "data": {
      "text/plain": [
       "show_number (generic function with 1 method)"
      ]
     },
     "execution_count": 21,
     "metadata": {},
     "output_type": "execute_result"
    }
   ],
   "source": [
    "function show_number(x::Int64)\n",
    "    println(\"Printing integer value: \", x)\n",
    "end"
   ]
  },
  {
   "cell_type": "code",
   "execution_count": 22,
   "id": "11fb9905-2efe-4c91-841c-6d05109f988b",
   "metadata": {},
   "outputs": [
    {
     "name": "stdout",
     "output_type": "stream",
     "text": [
      "Printing integer value: 10\n"
     ]
    }
   ],
   "source": [
    "show_number(10)"
   ]
  },
  {
   "cell_type": "code",
   "execution_count": 23,
   "id": "3f95cf10-edf4-461a-a76c-3eb94b54ccc8",
   "metadata": {},
   "outputs": [
    {
     "ename": "LoadError",
     "evalue": "MethodError: no method matching show_number(::Float64)\n\u001b[0mClosest candidates are:\n\u001b[0m  show_number(\u001b[91m::Int64\u001b[39m) at In[21]:1",
     "output_type": "error",
     "traceback": [
      "MethodError: no method matching show_number(::Float64)\n\u001b[0mClosest candidates are:\n\u001b[0m  show_number(\u001b[91m::Int64\u001b[39m) at In[21]:1",
      "",
      "Stacktrace:",
      " [1] top-level scope",
      "   @ In[23]:1"
     ]
    }
   ],
   "source": [
    "show_number(10.0)"
   ]
  },
  {
   "cell_type": "code",
   "execution_count": 24,
   "id": "4941f2b9-d09d-4a51-920b-2a62a7cc881b",
   "metadata": {},
   "outputs": [
    {
     "data": {
      "text/plain": [
       "ret_num (generic function with 1 method)"
      ]
     },
     "execution_count": 24,
     "metadata": {},
     "output_type": "execute_result"
    }
   ],
   "source": [
    "function ret_num(x::Float64)\n",
    "    return x\n",
    "end"
   ]
  },
  {
   "cell_type": "code",
   "execution_count": 25,
   "id": "97df65d9-66fa-4027-b237-e16801b2db26",
   "metadata": {},
   "outputs": [
    {
     "ename": "LoadError",
     "evalue": "MethodError: no method matching ret_num(::Int64)\n\u001b[0mClosest candidates are:\n\u001b[0m  ret_num(\u001b[91m::Float64\u001b[39m) at In[24]:1",
     "output_type": "error",
     "traceback": [
      "MethodError: no method matching ret_num(::Int64)\n\u001b[0mClosest candidates are:\n\u001b[0m  ret_num(\u001b[91m::Float64\u001b[39m) at In[24]:1",
      "",
      "Stacktrace:",
      " [1] top-level scope",
      "   @ In[25]:1"
     ]
    }
   ],
   "source": [
    "x = ret_num(2)"
   ]
  },
  {
   "cell_type": "code",
   "execution_count": 26,
   "id": "1fdf0c98-fa9f-402e-9f8c-0fe535ab644e",
   "metadata": {},
   "outputs": [
    {
     "data": {
      "text/plain": [
       "2.0"
      ]
     },
     "execution_count": 26,
     "metadata": {},
     "output_type": "execute_result"
    }
   ],
   "source": [
    "x = ret_num(2.)"
   ]
  },
  {
   "cell_type": "code",
   "execution_count": null,
   "id": "f4bfd6db-e526-4f66-bacd-1e480d5a2eba",
   "metadata": {},
   "outputs": [],
   "source": []
  }
 ],
 "metadata": {
  "kernelspec": {
   "display_name": "Julia 1.8.2",
   "language": "julia",
   "name": "julia-1.8"
  },
  "language_info": {
   "file_extension": ".jl",
   "mimetype": "application/julia",
   "name": "julia",
   "version": "1.8.2"
  }
 },
 "nbformat": 4,
 "nbformat_minor": 5
}
