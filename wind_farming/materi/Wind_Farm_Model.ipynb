{
  "nbformat": 4,
  "nbformat_minor": 0,
  "metadata": {
    "colab": {
      "provenance": []
    },
    "kernelspec": {
      "name": "python3",
      "display_name": "Python 3"
    },
    "language_info": {
      "name": "python"
    }
  },
  "cells": [
    {
      "cell_type": "code",
      "execution_count": null,
      "metadata": {
        "colab": {
          "base_uri": "https://localhost:8080/"
        },
        "id": "2WzQ7r5D5FNQ",
        "outputId": "9f067c7a-5f32-4e16-d3e8-e9e1707a038a"
      },
      "outputs": [
        {
          "output_type": "stream",
          "name": "stdout",
          "text": [
            "Looking in indexes: https://pypi.org/simple, https://us-python.pkg.dev/colab-wheels/public/simple/\n",
            "Collecting windpowerlib\n",
            "  Downloading windpowerlib-0.2.1-py3-none-any.whl (61 kB)\n",
            "\u001b[2K     \u001b[90m━━━━━━━━━━━━━━━━━━━━━━━━━━━━━━━━━━━━━━━━\u001b[0m \u001b[32m61.3/61.3 KB\u001b[0m \u001b[31m3.0 MB/s\u001b[0m eta \u001b[36m0:00:00\u001b[0m\n",
            "\u001b[?25hRequirement already satisfied: requests in /usr/local/lib/python3.8/dist-packages (from windpowerlib) (2.25.1)\n",
            "Requirement already satisfied: pandas>=0.20.0 in /usr/local/lib/python3.8/dist-packages (from windpowerlib) (1.3.5)\n",
            "Requirement already satisfied: python-dateutil>=2.7.3 in /usr/local/lib/python3.8/dist-packages (from pandas>=0.20.0->windpowerlib) (2.8.2)\n",
            "Requirement already satisfied: numpy>=1.17.3 in /usr/local/lib/python3.8/dist-packages (from pandas>=0.20.0->windpowerlib) (1.21.6)\n",
            "Requirement already satisfied: pytz>=2017.3 in /usr/local/lib/python3.8/dist-packages (from pandas>=0.20.0->windpowerlib) (2022.7)\n",
            "Requirement already satisfied: chardet<5,>=3.0.2 in /usr/local/lib/python3.8/dist-packages (from requests->windpowerlib) (4.0.0)\n",
            "Requirement already satisfied: idna<3,>=2.5 in /usr/local/lib/python3.8/dist-packages (from requests->windpowerlib) (2.10)\n",
            "Requirement already satisfied: certifi>=2017.4.17 in /usr/local/lib/python3.8/dist-packages (from requests->windpowerlib) (2022.12.7)\n",
            "Requirement already satisfied: urllib3<1.27,>=1.21.1 in /usr/local/lib/python3.8/dist-packages (from requests->windpowerlib) (1.24.3)\n",
            "Requirement already satisfied: six>=1.5 in /usr/local/lib/python3.8/dist-packages (from python-dateutil>=2.7.3->pandas>=0.20.0->windpowerlib) (1.15.0)\n",
            "Installing collected packages: windpowerlib\n",
            "Successfully installed windpowerlib-0.2.1\n"
          ]
        }
      ],
      "source": [
        "!pip install windpowerlib"
      ]
    },
    {
      "cell_type": "code",
      "source": [
        "import pandas as pd\n",
        "import matplotlib.pyplot as plt\n",
        "from windpowerlib import data as wt\n",
        "from windpowerlib import TurbineClusterModelChain,WindTurbine,WindFarm,ModelChain"
      ],
      "metadata": {
        "id": "upKwarSD7Avi"
      },
      "execution_count": null,
      "outputs": []
    },
    {
      "cell_type": "code",
      "source": [
        "Weather_Data = pd.read_csv('weather_montreal.csv',index_col=0,header=[0,1],\n",
        "                           date_parser=lambda idx:pd.to_datetime(idx,utc=True))\n",
        "Weather_Data"
      ],
      "metadata": {
        "colab": {
          "base_uri": "https://localhost:8080/",
          "height": 499
        },
        "id": "XIgRUKHd7gTh",
        "outputId": "48715f43-0b26-42d3-b5a9-12b8297ec734"
      },
      "execution_count": null,
      "outputs": [
        {
          "output_type": "execute_result",
          "data": {
            "text/plain": [
              "variable_name             pressure temperature  ...         wind_speed\n",
              "height                           0           2  ...      10         50\n",
              "2019-01-01 00:00:00+00:00    99760      273.37  ...  273.27       9.85\n",
              "2019-01-01 01:00:00+00:00    99480      273.56  ...  273.46      10.08\n",
              "2019-01-01 02:00:00+00:00    99200      273.58  ...  273.48       9.27\n",
              "2019-01-01 03:00:00+00:00    98910      273.61  ...  273.51       6.51\n",
              "2019-01-01 04:00:00+00:00    98760      273.58  ...  273.48       2.28\n",
              "...                            ...         ...  ...     ...        ...\n",
              "2019-12-31 19:00:00+00:00    99430      271.17  ...  271.07       3.93\n",
              "2019-12-31 20:00:00+00:00    99400      271.35  ...  271.25       4.69\n",
              "2019-12-31 21:00:00+00:00    99370      271.69  ...  271.59       6.39\n",
              "2019-12-31 22:00:00+00:00    99330      271.94  ...  271.84       7.71\n",
              "2019-12-31 23:00:00+00:00    99290      271.67  ...  271.57       7.56\n",
              "\n",
              "[8760 rows x 6 columns]"
            ],
            "text/html": [
              "\n",
              "  <div id=\"df-3948099e-f1e2-44ca-a09c-dd0d5e53b184\">\n",
              "    <div class=\"colab-df-container\">\n",
              "      <div>\n",
              "<style scoped>\n",
              "    .dataframe tbody tr th:only-of-type {\n",
              "        vertical-align: middle;\n",
              "    }\n",
              "\n",
              "    .dataframe tbody tr th {\n",
              "        vertical-align: top;\n",
              "    }\n",
              "\n",
              "    .dataframe thead tr th {\n",
              "        text-align: left;\n",
              "    }\n",
              "</style>\n",
              "<table border=\"1\" class=\"dataframe\">\n",
              "  <thead>\n",
              "    <tr>\n",
              "      <th>variable_name</th>\n",
              "      <th>pressure</th>\n",
              "      <th>temperature</th>\n",
              "      <th>wind_speed</th>\n",
              "      <th>roughness_length</th>\n",
              "      <th>temperature</th>\n",
              "      <th>wind_speed</th>\n",
              "    </tr>\n",
              "    <tr>\n",
              "      <th>height</th>\n",
              "      <th>0</th>\n",
              "      <th>2</th>\n",
              "      <th>10</th>\n",
              "      <th>0</th>\n",
              "      <th>10</th>\n",
              "      <th>50</th>\n",
              "    </tr>\n",
              "  </thead>\n",
              "  <tbody>\n",
              "    <tr>\n",
              "      <th>2019-01-01 00:00:00+00:00</th>\n",
              "      <td>99760</td>\n",
              "      <td>273.37</td>\n",
              "      <td>7.11</td>\n",
              "      <td>0.15</td>\n",
              "      <td>273.27</td>\n",
              "      <td>9.85</td>\n",
              "    </tr>\n",
              "    <tr>\n",
              "      <th>2019-01-01 01:00:00+00:00</th>\n",
              "      <td>99480</td>\n",
              "      <td>273.56</td>\n",
              "      <td>6.87</td>\n",
              "      <td>0.15</td>\n",
              "      <td>273.46</td>\n",
              "      <td>10.08</td>\n",
              "    </tr>\n",
              "    <tr>\n",
              "      <th>2019-01-01 02:00:00+00:00</th>\n",
              "      <td>99200</td>\n",
              "      <td>273.58</td>\n",
              "      <td>6.21</td>\n",
              "      <td>0.15</td>\n",
              "      <td>273.48</td>\n",
              "      <td>9.27</td>\n",
              "    </tr>\n",
              "    <tr>\n",
              "      <th>2019-01-01 03:00:00+00:00</th>\n",
              "      <td>98910</td>\n",
              "      <td>273.61</td>\n",
              "      <td>3.66</td>\n",
              "      <td>0.15</td>\n",
              "      <td>273.51</td>\n",
              "      <td>6.51</td>\n",
              "    </tr>\n",
              "    <tr>\n",
              "      <th>2019-01-01 04:00:00+00:00</th>\n",
              "      <td>98760</td>\n",
              "      <td>273.58</td>\n",
              "      <td>1.26</td>\n",
              "      <td>0.15</td>\n",
              "      <td>273.48</td>\n",
              "      <td>2.28</td>\n",
              "    </tr>\n",
              "    <tr>\n",
              "      <th>...</th>\n",
              "      <td>...</td>\n",
              "      <td>...</td>\n",
              "      <td>...</td>\n",
              "      <td>...</td>\n",
              "      <td>...</td>\n",
              "      <td>...</td>\n",
              "    </tr>\n",
              "    <tr>\n",
              "      <th>2019-12-31 19:00:00+00:00</th>\n",
              "      <td>99430</td>\n",
              "      <td>271.17</td>\n",
              "      <td>2.39</td>\n",
              "      <td>0.15</td>\n",
              "      <td>271.07</td>\n",
              "      <td>3.93</td>\n",
              "    </tr>\n",
              "    <tr>\n",
              "      <th>2019-12-31 20:00:00+00:00</th>\n",
              "      <td>99400</td>\n",
              "      <td>271.35</td>\n",
              "      <td>2.59</td>\n",
              "      <td>0.15</td>\n",
              "      <td>271.25</td>\n",
              "      <td>4.69</td>\n",
              "    </tr>\n",
              "    <tr>\n",
              "      <th>2019-12-31 21:00:00+00:00</th>\n",
              "      <td>99370</td>\n",
              "      <td>271.69</td>\n",
              "      <td>3.28</td>\n",
              "      <td>0.15</td>\n",
              "      <td>271.59</td>\n",
              "      <td>6.39</td>\n",
              "    </tr>\n",
              "    <tr>\n",
              "      <th>2019-12-31 22:00:00+00:00</th>\n",
              "      <td>99330</td>\n",
              "      <td>271.94</td>\n",
              "      <td>4.69</td>\n",
              "      <td>0.15</td>\n",
              "      <td>271.84</td>\n",
              "      <td>7.71</td>\n",
              "    </tr>\n",
              "    <tr>\n",
              "      <th>2019-12-31 23:00:00+00:00</th>\n",
              "      <td>99290</td>\n",
              "      <td>271.67</td>\n",
              "      <td>4.75</td>\n",
              "      <td>0.15</td>\n",
              "      <td>271.57</td>\n",
              "      <td>7.56</td>\n",
              "    </tr>\n",
              "  </tbody>\n",
              "</table>\n",
              "<p>8760 rows × 6 columns</p>\n",
              "</div>\n",
              "      <button class=\"colab-df-convert\" onclick=\"convertToInteractive('df-3948099e-f1e2-44ca-a09c-dd0d5e53b184')\"\n",
              "              title=\"Convert this dataframe to an interactive table.\"\n",
              "              style=\"display:none;\">\n",
              "        \n",
              "  <svg xmlns=\"http://www.w3.org/2000/svg\" height=\"24px\"viewBox=\"0 0 24 24\"\n",
              "       width=\"24px\">\n",
              "    <path d=\"M0 0h24v24H0V0z\" fill=\"none\"/>\n",
              "    <path d=\"M18.56 5.44l.94 2.06.94-2.06 2.06-.94-2.06-.94-.94-2.06-.94 2.06-2.06.94zm-11 1L8.5 8.5l.94-2.06 2.06-.94-2.06-.94L8.5 2.5l-.94 2.06-2.06.94zm10 10l.94 2.06.94-2.06 2.06-.94-2.06-.94-.94-2.06-.94 2.06-2.06.94z\"/><path d=\"M17.41 7.96l-1.37-1.37c-.4-.4-.92-.59-1.43-.59-.52 0-1.04.2-1.43.59L10.3 9.45l-7.72 7.72c-.78.78-.78 2.05 0 2.83L4 21.41c.39.39.9.59 1.41.59.51 0 1.02-.2 1.41-.59l7.78-7.78 2.81-2.81c.8-.78.8-2.07 0-2.86zM5.41 20L4 18.59l7.72-7.72 1.47 1.35L5.41 20z\"/>\n",
              "  </svg>\n",
              "      </button>\n",
              "      \n",
              "  <style>\n",
              "    .colab-df-container {\n",
              "      display:flex;\n",
              "      flex-wrap:wrap;\n",
              "      gap: 12px;\n",
              "    }\n",
              "\n",
              "    .colab-df-convert {\n",
              "      background-color: #E8F0FE;\n",
              "      border: none;\n",
              "      border-radius: 50%;\n",
              "      cursor: pointer;\n",
              "      display: none;\n",
              "      fill: #1967D2;\n",
              "      height: 32px;\n",
              "      padding: 0 0 0 0;\n",
              "      width: 32px;\n",
              "    }\n",
              "\n",
              "    .colab-df-convert:hover {\n",
              "      background-color: #E2EBFA;\n",
              "      box-shadow: 0px 1px 2px rgba(60, 64, 67, 0.3), 0px 1px 3px 1px rgba(60, 64, 67, 0.15);\n",
              "      fill: #174EA6;\n",
              "    }\n",
              "\n",
              "    [theme=dark] .colab-df-convert {\n",
              "      background-color: #3B4455;\n",
              "      fill: #D2E3FC;\n",
              "    }\n",
              "\n",
              "    [theme=dark] .colab-df-convert:hover {\n",
              "      background-color: #434B5C;\n",
              "      box-shadow: 0px 1px 3px 1px rgba(0, 0, 0, 0.15);\n",
              "      filter: drop-shadow(0px 1px 2px rgba(0, 0, 0, 0.3));\n",
              "      fill: #FFFFFF;\n",
              "    }\n",
              "  </style>\n",
              "\n",
              "      <script>\n",
              "        const buttonEl =\n",
              "          document.querySelector('#df-3948099e-f1e2-44ca-a09c-dd0d5e53b184 button.colab-df-convert');\n",
              "        buttonEl.style.display =\n",
              "          google.colab.kernel.accessAllowed ? 'block' : 'none';\n",
              "\n",
              "        async function convertToInteractive(key) {\n",
              "          const element = document.querySelector('#df-3948099e-f1e2-44ca-a09c-dd0d5e53b184');\n",
              "          const dataTable =\n",
              "            await google.colab.kernel.invokeFunction('convertToInteractive',\n",
              "                                                     [key], {});\n",
              "          if (!dataTable) return;\n",
              "\n",
              "          const docLinkHtml = 'Like what you see? Visit the ' +\n",
              "            '<a target=\"_blank\" href=https://colab.research.google.com/notebooks/data_table.ipynb>data table notebook</a>'\n",
              "            + ' to learn more about interactive tables.';\n",
              "          element.innerHTML = '';\n",
              "          dataTable['output_type'] = 'display_data';\n",
              "          await google.colab.output.renderOutput(dataTable, element);\n",
              "          const docLink = document.createElement('div');\n",
              "          docLink.innerHTML = docLinkHtml;\n",
              "          element.appendChild(docLink);\n",
              "        }\n",
              "      </script>\n",
              "    </div>\n",
              "  </div>\n",
              "  "
            ]
          },
          "metadata": {},
          "execution_count": 3
        }
      ]
    },
    {
      "cell_type": "code",
      "source": [
        "Selected_turbine = {'turbine_type':'E48/800','hub_height': 60}\n",
        "W_Turbine = WindTurbine(**Selected_turbine)"
      ],
      "metadata": {
        "id": "xyTCPGfS7zzN"
      },
      "execution_count": null,
      "outputs": []
    },
    {
      "cell_type": "code",
      "source": [
        "#wind_turbine_fleet = pd.DataFrame({'wind_turbine':[W_Turbine,None],\n",
        "#                                   'number_of_turbines':[10,None],})\n",
        "                                   # 'total_capacity':[8000,None]})\n",
        "\n",
        "farm_data = {\n",
        "             'wind_turbine_fleet':[W_Turbine.to_group(10)],\n",
        "             'efficiency':0.9\n",
        "}\n",
        "\n",
        "farm_data_2 = WindFarm(**farm_data)\n",
        "\n",
        "Wind_Farm_Submodel = {\n",
        "       'wake_losses_model': 'wind_farm_efficiency',           # 'dena_mean' (default)\n",
        "       'smoothing': True,                                     # Default is False\n",
        "       'satandard_deviation_method': 'turbulence_intensity',  # Staffell_Pfenniger\n",
        "       'wind_speed_model' : 'hellman',\n",
        "       'density_model' : 'ideal_gas',\n",
        "       'temperature_model':'linear_gradient',\n",
        "       'power_output_model':'power_curve',\n",
        "       'density_correction':True,\n",
        "       'obstacle_height' : 0,\n",
        "       'hellman_exp':0.25}\n",
        "\n",
        "Model_Farm = TurbineClusterModelChain(farm_data_2,**Wind_Farm_Submodel).run_model(Weather_Data)\n",
        "\n",
        "Farm_Power_Output = (Model_Farm.power_output)/1000\n",
        "\n",
        "Farm_Power_Output"
      ],
      "metadata": {
        "colab": {
          "base_uri": "https://localhost:8080/"
        },
        "id": "TSQr8FDP8LMK",
        "outputId": "5932db01-38df-40d4-89fc-28190e425382"
      },
      "execution_count": null,
      "outputs": [
        {
          "output_type": "execute_result",
          "data": {
            "text/plain": [
              "2019-01-01 00:00:00+00:00    5143.800555\n",
              "2019-01-01 01:00:00+00:00    5336.078841\n",
              "2019-01-01 02:00:00+00:00    4558.117848\n",
              "2019-01-01 03:00:00+00:00    1690.422179\n",
              "2019-01-01 04:00:00+00:00      30.979601\n",
              "                                ...     \n",
              "2019-12-31 19:00:00+00:00     317.855421\n",
              "2019-12-31 20:00:00+00:00     586.182770\n",
              "2019-12-31 21:00:00+00:00    1620.965002\n",
              "2019-12-31 22:00:00+00:00    2868.697185\n",
              "2019-12-31 23:00:00+00:00    2702.217165\n",
              "Name: feedin_power_plant, Length: 8760, dtype: float64"
            ]
          },
          "metadata": {},
          "execution_count": 12
        }
      ]
    },
    {
      "cell_type": "code",
      "source": [
        "Tubine_Sub_Models = {\n",
        "    'wind_speed_model': 'hellman',          #'logarithmic' this one is the default\n",
        "                                            # 'interpolation-extrapolation'\n",
        "    'density_model': 'ideal_gas',           # 'barometric' (default)\n",
        "                                            # 'interpolation-extrapolation'\n",
        "    'temperature_model':'linear_gradient',  # 'interpolation-extrapolation'\n",
        "    \n",
        "    'power_output_model' :'power_coefficient_curve',  # 'power_curve' is the default\n",
        "\n",
        "    'density_correction': True,             # False is default\n",
        "    'obstacle_height': 0,                   # default is 0\n",
        "    'hellman_exp': 0.25\n",
        "}\n",
        "\n",
        "Model = ModelChain(W_Turbine,**Tubine_Sub_Models).run_model(Weather_Data)\n",
        "\n",
        "Turbine_Power_Output = (Model.power_output)/1000\n",
        "Turbine_Power_Output"
      ],
      "metadata": {
        "colab": {
          "base_uri": "https://localhost:8080/"
        },
        "id": "MJK3WR9-P_XC",
        "outputId": "813ea655-ac5d-424a-da67-7a26534fea95"
      },
      "execution_count": null,
      "outputs": [
        {
          "output_type": "execute_result",
          "data": {
            "text/plain": [
              "2019-01-01 00:00:00+00:00    607.007263\n",
              "2019-01-01 01:00:00+00:00    632.135315\n",
              "2019-01-01 02:00:00+00:00    518.769474\n",
              "2019-01-01 03:00:00+00:00    167.707041\n",
              "2019-01-01 04:00:00+00:00      1.009322\n",
              "                                ...    \n",
              "2019-12-31 19:00:00+00:00     28.706123\n",
              "2019-12-31 20:00:00+00:00     57.379249\n",
              "2019-12-31 21:00:00+00:00    160.043377\n",
              "2019-12-31 22:00:00+00:00    289.477526\n",
              "2019-12-31 23:00:00+00:00    271.784218\n",
              "Name: feedin_power_plant, Length: 8760, dtype: float64"
            ]
          },
          "metadata": {},
          "execution_count": 18
        }
      ]
    },
    {
      "cell_type": "code",
      "source": [
        "plt.plot(Farm_Power_Output,color = 'b')\n",
        "plt.plot(Turbine_Power_Output, color = 'r')\n",
        "plt.xlabel('Date')\n",
        "plt.ylabel('Power - kW')\n",
        "plt.show()"
      ],
      "metadata": {
        "colab": {
          "base_uri": "https://localhost:8080/",
          "height": 279
        },
        "id": "JbE60SYoRbRl",
        "outputId": "095179e5-f117-456e-9ab4-1cd6d93bca80"
      },
      "execution_count": null,
      "outputs": [
        {
          "output_type": "display_data",
          "data": {
            "text/plain": [
              "<Figure size 432x288 with 1 Axes>"
            ],
            "image/png": "[encoded data removed]"
          },
          "metadata": {
            "needs_background": "light"
          }
        }
      ]
    }
  ]
}