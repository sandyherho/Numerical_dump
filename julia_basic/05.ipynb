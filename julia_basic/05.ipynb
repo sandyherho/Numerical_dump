{
 "cells": [
  {
   "cell_type": "markdown",
   "id": "43e01a72-5e65-4a1b-a412-41cd4882c521",
   "metadata": {},
   "source": [
    "# Arrays, Matrices, \\& Tensors"
   ]
  },
  {
   "cell_type": "markdown",
   "id": "642d2b88-4564-495c-8c4f-f1df11713845",
   "metadata": {},
   "source": [
    "Arrays are the most powerful and useful features in Julia. Let's start with some basics"
   ]
  },
  {
   "cell_type": "code",
   "execution_count": 1,
   "id": "128e0827-c993-4fae-999f-dc1b34df6539",
   "metadata": {},
   "outputs": [
    {
     "data": {
      "text/plain": [
       "3-element Vector{String}:\n",
       " \"Jack\"\n",
       " \"Jill\"\n",
       " \"John\""
      ]
     },
     "execution_count": 1,
     "metadata": {},
     "output_type": "execute_result"
    }
   ],
   "source": [
    "students = [\"Jack\", \"Jill\", \"John\"]"
   ]
  },
  {
   "cell_type": "code",
   "execution_count": 2,
   "id": "863600f5-8778-4343-aca9-5c2c52d80fb7",
   "metadata": {},
   "outputs": [
    {
     "data": {
      "text/plain": [
       "Vector{String}\u001b[90m (alias for \u001b[39m\u001b[90mArray{String, 1}\u001b[39m\u001b[90m)\u001b[39m"
      ]
     },
     "execution_count": 2,
     "metadata": {},
     "output_type": "execute_result"
    }
   ],
   "source": [
    "typeof(students)"
   ]
  },
  {
   "cell_type": "markdown",
   "id": "717b57d6-358d-40f3-af81-1c86759bc0a5",
   "metadata": {},
   "source": [
    "String defines the type of the elements and 1 is the dimension of the array"
   ]
  },
  {
   "cell_type": "code",
   "execution_count": 3,
   "id": "066ca8e3-2154-4742-a1bf-88d06a638b27",
   "metadata": {},
   "outputs": [
    {
     "data": {
      "text/plain": [
       "7-element Vector{Int64}:\n",
       "  1\n",
       "  1\n",
       "  2\n",
       "  3\n",
       "  5\n",
       "  8\n",
       " 13"
      ]
     },
     "execution_count": 3,
     "metadata": {},
     "output_type": "execute_result"
    }
   ],
   "source": [
    "fib = [1,1,2,3,5,8,13]"
   ]
  },
  {
   "cell_type": "code",
   "execution_count": 4,
   "id": "b46fac27-60d7-4978-92b1-da592f33c9aa",
   "metadata": {},
   "outputs": [
    {
     "data": {
      "text/plain": [
       "Vector{Int64}\u001b[90m (alias for \u001b[39m\u001b[90mArray{Int64, 1}\u001b[39m\u001b[90m)\u001b[39m"
      ]
     },
     "execution_count": 4,
     "metadata": {},
     "output_type": "execute_result"
    }
   ],
   "source": [
    "typeof(fib)"
   ]
  },
  {
   "cell_type": "code",
   "execution_count": 8,
   "id": "564d4f12-056d-4124-bccd-e000652b8f5e",
   "metadata": {},
   "outputs": [
    {
     "data": {
      "text/plain": [
       "9-element Vector{Int64}:\n",
       "  1\n",
       "  1\n",
       "  2\n",
       "  3\n",
       "  5\n",
       "  8\n",
       " 13\n",
       " 21\n",
       " 21"
      ]
     },
     "execution_count": 8,
     "metadata": {},
     "output_type": "execute_result"
    }
   ],
   "source": [
    "push!(fib,21)"
   ]
  },
  {
   "cell_type": "code",
   "execution_count": 12,
   "id": "2ccc51ba-063e-414a-a0fa-2336ef1378d1",
   "metadata": {},
   "outputs": [
    {
     "name": "stdout",
     "output_type": "stream",
     "text": [
      "fib = [1, 1, 2, 3, 5, 8, 13, 21, 21]\n"
     ]
    }
   ],
   "source": [
    "@show fib;"
   ]
  },
  {
   "cell_type": "markdown",
   "id": "3c2653d7-2ec0-4916-bd2b-8650752f9031",
   "metadata": {},
   "source": [
    "## 2D arrays"
   ]
  },
  {
   "cell_type": "code",
   "execution_count": 13,
   "id": "002bb668-5c3a-456f-ad33-4957a9fd62e9",
   "metadata": {},
   "outputs": [
    {
     "data": {
      "text/plain": [
       "3-element Vector{Vector{Int64}}:\n",
       " [1, 2, 3]\n",
       " [4, 5, 6]\n",
       " [7, 8, 9]"
      ]
     },
     "execution_count": 13,
     "metadata": {},
     "output_type": "execute_result"
    }
   ],
   "source": [
    "mat = [\n",
    "    [1,2,3],\n",
    "    [4,5,6],\n",
    "    [7,8,9]\n",
    "]"
   ]
  },
  {
   "cell_type": "code",
   "execution_count": 14,
   "id": "d4974f95-f8f0-4554-937e-4be5ff80530d",
   "metadata": {},
   "outputs": [
    {
     "data": {
      "text/plain": [
       "Vector{Vector{Int64}}\u001b[90m (alias for \u001b[39m\u001b[90mArray{Array{Int64, 1}, 1}\u001b[39m\u001b[90m)\u001b[39m"
      ]
     },
     "execution_count": 14,
     "metadata": {},
     "output_type": "execute_result"
    }
   ],
   "source": [
    "typeof(mat)"
   ]
  },
  {
   "cell_type": "markdown",
   "id": "c32060eb-17d1-46a4-89b2-5c7274194009",
   "metadata": {},
   "source": [
    "Notice this type! It's not a 2D matrix. It's a 1D array but each element within it's a 1D array itself! These are useful in certain cases, but we are usually interested in 2D arrays in data sci and ML"
   ]
  },
  {
   "cell_type": "markdown",
   "id": "af27d160-f37e-4a9b-a374-b1914eed7797",
   "metadata": {},
   "source": [
    "Let's create a 2D array!"
   ]
  },
  {
   "cell_type": "markdown",
   "id": "81953d10-f344-4c8d-a618-abb7d38337c0",
   "metadata": {},
   "source": [
    "## Matrices"
   ]
  },
  {
   "cell_type": "code",
   "execution_count": 16,
   "id": "272be285-09c1-416a-9c5f-483e082eaa32",
   "metadata": {},
   "outputs": [
    {
     "data": {
      "text/plain": [
       "1×3 Matrix{Int64}:\n",
       " 1  2  3"
      ]
     },
     "execution_count": 16,
     "metadata": {},
     "output_type": "execute_result"
    }
   ],
   "source": [
    "x = [1 2 3] # notice the lack of commas (and the dimensions)"
   ]
  },
  {
   "cell_type": "code",
   "execution_count": null,
   "id": "e19e1699-459d-4723-80c4-9caf4744c212",
   "metadata": {},
   "outputs": [],
   "source": []
  }
 ],
 "metadata": {
  "kernelspec": {
   "display_name": "Julia 1.8.2",
   "language": "julia",
   "name": "julia-1.8"
  },
  "language_info": {
   "file_extension": ".jl",
   "mimetype": "application/julia",
   "name": "julia",
   "version": "1.8.2"
  }
 },
 "nbformat": 4,
 "nbformat_minor": 5
}
