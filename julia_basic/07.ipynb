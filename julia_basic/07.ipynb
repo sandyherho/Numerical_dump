{
 "cells": [
  {
   "cell_type": "markdown",
   "id": "54209427-2a5f-446d-b742-0d9306331f70",
   "metadata": {},
   "source": [
    "# Functions"
   ]
  },
  {
   "cell_type": "code",
   "execution_count": 1,
   "id": "ce7daa53-3268-4a6d-9b0b-d5e6a07dabc7",
   "metadata": {},
   "outputs": [
    {
     "data": {
      "text/plain": [
       "square (generic function with 1 method)"
      ]
     },
     "execution_count": 1,
     "metadata": {},
     "output_type": "execute_result"
    }
   ],
   "source": [
    "# basic function definition\n",
    "\n",
    "function square(x)\n",
    "    x^2\n",
    "end\n",
    "\n",
    "# value of the expression on the last line of execution is\n",
    "# automatically returned\n",
    "# it's still good practice to use return"
   ]
  },
  {
   "cell_type": "code",
   "execution_count": 2,
   "id": "dfaee4ae-5a1c-482b-885c-ec7b12056721",
   "metadata": {},
   "outputs": [
    {
     "data": {
      "text/plain": [
       "16"
      ]
     },
     "execution_count": 2,
     "metadata": {},
     "output_type": "execute_result"
    }
   ],
   "source": [
    "square(4)"
   ]
  },
  {
   "cell_type": "code",
   "execution_count": 3,
   "id": "b79e0b5a-5656-4d8e-a8d2-3c569bbe529c",
   "metadata": {},
   "outputs": [
    {
     "data": {
      "text/plain": [
       "square (generic function with 1 method)"
      ]
     },
     "execution_count": 3,
     "metadata": {},
     "output_type": "execute_result"
    }
   ],
   "source": [
    "function square(x)\n",
    "    return x^2\n",
    "end"
   ]
  },
  {
   "cell_type": "code",
   "execution_count": 4,
   "id": "adc9eb31-8e1e-482b-9d3f-f84e8f47c7a1",
   "metadata": {},
   "outputs": [
    {
     "data": {
      "text/plain": [
       "16"
      ]
     },
     "execution_count": 4,
     "metadata": {},
     "output_type": "execute_result"
    }
   ],
   "source": [
    "square(4)"
   ]
  },
  {
   "cell_type": "code",
   "execution_count": 5,
   "id": "e1eb1c36-7c8f-4af2-a442-0f3d09c679ac",
   "metadata": {},
   "outputs": [
    {
     "data": {
      "text/plain": [
       "hello (generic function with 1 method)"
      ]
     },
     "execution_count": 5,
     "metadata": {},
     "output_type": "execute_result"
    }
   ],
   "source": [
    "function hello(name)\n",
    "    println(\"Hello there \", name)\n",
    "end"
   ]
  },
  {
   "cell_type": "code",
   "execution_count": 6,
   "id": "b6eb3b1e-aedc-4dc9-ab59-1d25d13ad215",
   "metadata": {},
   "outputs": [
    {
     "name": "stdout",
     "output_type": "stream",
     "text": [
      "Hello there Revati\n"
     ]
    }
   ],
   "source": [
    "hello(\"Revati\")"
   ]
  },
  {
   "cell_type": "code",
   "execution_count": 7,
   "id": "b5f6dc8f-f7e7-4b5f-80df-33396e84acbc",
   "metadata": {},
   "outputs": [
    {
     "name": "stdout",
     "output_type": "stream",
     "text": [
      "Hello there 1\n"
     ]
    }
   ],
   "source": [
    "hello(1) #automatic overloading through \"duck typing\""
   ]
  },
  {
   "cell_type": "code",
   "execution_count": 8,
   "id": "7754ae7c-541e-4d66-b53d-7b421987b6c9",
   "metadata": {},
   "outputs": [
    {
     "data": {
      "text/plain": [
       "3×4 Matrix{Float64}:\n",
       " 0.454803  0.11074   0.412985  0.515067\n",
       " 0.770984  0.956601  0.45986   0.424687\n",
       " 0.877959  0.234206  0.643754  0.676531"
      ]
     },
     "execution_count": 8,
     "metadata": {},
     "output_type": "execute_result"
    }
   ],
   "source": [
    "v = rand(3, 4)"
   ]
  },
  {
   "cell_type": "code",
   "execution_count": 9,
   "id": "316d8817-cc8f-4eaa-be51-1c8f70ee82bb",
   "metadata": {},
   "outputs": [
    {
     "name": "stdout",
     "output_type": "stream",
     "text": [
      "Hello there [0.4548029890043188 0.11074006340517861 0.41298470015201605 0.5150665319792397; 0.7709835599378122 0.9566013709310957 0.4598595323468808 0.4246866477786305; 0.8779588067113253 0.23420559610938751 0.6437536839576183 0.6765312922516417]\n"
     ]
    }
   ],
   "source": [
    "hello(v) # just as long as you can \"print\" the parameter, it's fine"
   ]
  },
  {
   "cell_type": "markdown",
   "id": "c95ae0ec-c12c-4ffa-8426-765417ea634e",
   "metadata": {},
   "source": [
    "Shorthand for simple one-liners"
   ]
  },
  {
   "cell_type": "code",
   "execution_count": 10,
   "id": "f3b40b59-38b1-4246-a175-a92f42c178d7",
   "metadata": {},
   "outputs": [
    {
     "data": {
      "text/plain": [
       "halver (generic function with 1 method)"
      ]
     },
     "execution_count": 10,
     "metadata": {},
     "output_type": "execute_result"
    }
   ],
   "source": [
    "halver(x) = x//2"
   ]
  },
  {
   "cell_type": "code",
   "execution_count": 11,
   "id": "57327fcb-f104-4875-b8a7-16521fda2404",
   "metadata": {},
   "outputs": [
    {
     "data": {
      "text/plain": [
       "5//2"
      ]
     },
     "execution_count": 11,
     "metadata": {},
     "output_type": "execute_result"
    }
   ],
   "source": [
    "halver(5)"
   ]
  },
  {
   "cell_type": "markdown",
   "id": "69f29d7d-4dfe-4e2e-a460-daddcfadd95b",
   "metadata": {},
   "source": [
    "## Convention for mutating functions"
   ]
  },
  {
   "cell_type": "code",
   "execution_count": 12,
   "id": "a44ff6df-9205-4f15-a556-f58e01e7ca4b",
   "metadata": {},
   "outputs": [],
   "source": [
    "v = [46, 5, 87];"
   ]
  },
  {
   "cell_type": "code",
   "execution_count": 13,
   "id": "65ae2ac7-e65e-4bec-9823-4a0064709e8d",
   "metadata": {},
   "outputs": [
    {
     "data": {
      "text/plain": [
       "3-element Vector{Int64}:\n",
       " 46\n",
       "  5\n",
       " 87"
      ]
     },
     "execution_count": 13,
     "metadata": {},
     "output_type": "execute_result"
    }
   ],
   "source": [
    "v"
   ]
  },
  {
   "cell_type": "code",
   "execution_count": 14,
   "id": "da36bd12-93fe-401c-a19a-310c3975eec2",
   "metadata": {},
   "outputs": [
    {
     "data": {
      "text/plain": [
       "3-element Vector{Int64}:\n",
       "  5\n",
       " 46\n",
       " 87"
      ]
     },
     "execution_count": 14,
     "metadata": {},
     "output_type": "execute_result"
    }
   ],
   "source": [
    "sort(v)"
   ]
  },
  {
   "cell_type": "code",
   "execution_count": 15,
   "id": "53c99468-217a-4324-a5f3-9a732a85af9b",
   "metadata": {},
   "outputs": [
    {
     "name": "stdout",
     "output_type": "stream",
     "text": [
      "v = [46, 5, 87]\n"
     ]
    }
   ],
   "source": [
    "@show v;"
   ]
  },
  {
   "cell_type": "code",
   "execution_count": 16,
   "id": "5177baad-fa7e-4226-9522-7d64ba2f5072",
   "metadata": {},
   "outputs": [
    {
     "data": {
      "text/plain": [
       "3-element Vector{Int64}:\n",
       "  5\n",
       " 46\n",
       " 87"
      ]
     },
     "execution_count": 16,
     "metadata": {},
     "output_type": "execute_result"
    }
   ],
   "source": [
    "sort!(v)"
   ]
  },
  {
   "cell_type": "code",
   "execution_count": 17,
   "id": "74162250-f4a9-43fa-8a84-010660796d7c",
   "metadata": {},
   "outputs": [
    {
     "name": "stdout",
     "output_type": "stream",
     "text": [
      "v = [5, 46, 87]\n"
     ]
    }
   ],
   "source": [
    "@show v;"
   ]
  },
  {
   "cell_type": "markdown",
   "id": "d3f133a7-e856-4e68-b2ad-0d308bae942f",
   "metadata": {},
   "source": [
    "## Overloading and \"Methods\""
   ]
  },
  {
   "cell_type": "code",
   "execution_count": 18,
   "id": "1e560739-eefd-433b-a1c9-6723fee39b4b",
   "metadata": {},
   "outputs": [
    {
     "data": {
      "text/plain": [
       "show_number (generic function with 1 method)"
      ]
     },
     "execution_count": 18,
     "metadata": {},
     "output_type": "execute_result"
    }
   ],
   "source": [
    "function show_number(x::Int64)\n",
    "    println(\"Printing integer value: \", x)\n",
    "end"
   ]
  },
  {
   "cell_type": "code",
   "execution_count": 19,
   "id": "11fb9905-2efe-4c91-841c-6d05109f988b",
   "metadata": {},
   "outputs": [
    {
     "name": "stdout",
     "output_type": "stream",
     "text": [
      "Printing integer value: 10\n"
     ]
    }
   ],
   "source": [
    "show_number(10)"
   ]
  },
  {
   "cell_type": "code",
   "execution_count": 20,
   "id": "3f95cf10-edf4-461a-a76c-3eb94b54ccc8",
   "metadata": {},
   "outputs": [
    {
     "ename": "LoadError",
     "evalue": "MethodError: no method matching show_number(::Float64)\n\u001b[0mClosest candidates are:\n\u001b[0m  show_number(\u001b[91m::Int64\u001b[39m) at In[18]:1",
     "output_type": "error",
     "traceback": [
      "MethodError: no method matching show_number(::Float64)\n\u001b[0mClosest candidates are:\n\u001b[0m  show_number(\u001b[91m::Int64\u001b[39m) at In[18]:1",
      "",
      "Stacktrace:",
      " [1] top-level scope",
      "   @ In[20]:1"
     ]
    }
   ],
   "source": [
    "show_number(10.0)"
   ]
  },
  {
   "cell_type": "code",
   "execution_count": 21,
   "id": "4941f2b9-d09d-4a51-920b-2a62a7cc881b",
   "metadata": {},
   "outputs": [
    {
     "data": {
      "text/plain": [
       "ret_num (generic function with 1 method)"
      ]
     },
     "execution_count": 21,
     "metadata": {},
     "output_type": "execute_result"
    }
   ],
   "source": [
    "function ret_num(x::Float64)\n",
    "    return x\n",
    "end"
   ]
  },
  {
   "cell_type": "code",
   "execution_count": 22,
   "id": "97df65d9-66fa-4027-b237-e16801b2db26",
   "metadata": {},
   "outputs": [
    {
     "ename": "LoadError",
     "evalue": "MethodError: no method matching ret_num(::Int64)\n\u001b[0mClosest candidates are:\n\u001b[0m  ret_num(\u001b[91m::Float64\u001b[39m) at In[21]:1",
     "output_type": "error",
     "traceback": [
      "MethodError: no method matching ret_num(::Int64)\n\u001b[0mClosest candidates are:\n\u001b[0m  ret_num(\u001b[91m::Float64\u001b[39m) at In[21]:1",
      "",
      "Stacktrace:",
      " [1] top-level scope",
      "   @ In[22]:1"
     ]
    }
   ],
   "source": [
    "x = ret_num(2)"
   ]
  },
  {
   "cell_type": "code",
   "execution_count": 23,
   "id": "1fdf0c98-fa9f-402e-9f8c-0fe535ab644e",
   "metadata": {},
   "outputs": [
    {
     "data": {
      "text/plain": [
       "2.0"
      ]
     },
     "execution_count": 23,
     "metadata": {},
     "output_type": "execute_result"
    }
   ],
   "source": [
    "x = ret_num(2.)"
   ]
  },
  {
   "cell_type": "code",
   "execution_count": 24,
   "id": "f4bfd6db-e526-4f66-bacd-1e480d5a2eba",
   "metadata": {},
   "outputs": [
    {
     "data": {
      "text/html": [
       "# 1 method for generic function <b>ret_num</b>:<ul><li> ret_num(x::<b>Float64</b>) in Main at In[21]:1</li> </ul>"
      ],
      "text/plain": [
       "# 1 method for generic function \"ret_num\":\n",
       "[1] ret_num(x::Float64) in Main at In[21]:1"
      ]
     },
     "execution_count": 24,
     "metadata": {},
     "output_type": "execute_result"
    }
   ],
   "source": [
    "methods(ret_num)"
   ]
  },
  {
   "cell_type": "code",
   "execution_count": 25,
   "id": "6ca733a9-ba90-4891-914f-f98084541e00",
   "metadata": {},
   "outputs": [
    {
     "data": {
      "text/html": [
       "# 206 methods for generic function <b>+</b>:<ul><li> +(x::<b>T</b>, y::<b>T</b>)<i> where T<:Union{Int128, Int16, Int32, Int64, Int8, UInt128, UInt16, UInt32, UInt64, UInt8}</i> in Base at <a href=\"https://github.com/JuliaLang/julia/tree/36034abf26062acad4af9dcec7c4fc53b260dbb4/base/int.jl#L87\" target=\"_blank\">int.jl:87</a></li> <li> +(x::<b>T</b>, y::<b>T</b>)<i> where T<:Union{Float16, Float32, Float64}</i> in Base at <a href=\"https://github.com/JuliaLang/julia/tree/36034abf26062acad4af9dcec7c4fc53b260dbb4/base/float.jl#L383\" target=\"_blank\">float.jl:383</a></li> <li> +(c::<b>Union{UInt16, UInt32, UInt64, UInt8}</b>, x::<b>BigInt</b>) in Base.GMP at <a href=\"https://github.com/JuliaLang/julia/tree/36034abf26062acad4af9dcec7c4fc53b260dbb4/base/gmp.jl#L531\" target=\"_blank\">gmp.jl:531</a></li> <li> +(c::<b>Union{Int16, Int32, Int64, Int8}</b>, x::<b>BigInt</b>) in Base.GMP at <a href=\"https://github.com/JuliaLang/julia/tree/36034abf26062acad4af9dcec7c4fc53b260dbb4/base/gmp.jl#L537\" target=\"_blank\">gmp.jl:537</a></li> <li> +(c::<b>Union{UInt16, UInt32, UInt64, UInt8}</b>, x::<b>BigFloat</b>) in Base.MPFR at <a href=\"https://github.com/JuliaLang/julia/tree/36034abf26062acad4af9dcec7c4fc53b260dbb4/base/mpfr.jl#L398\" target=\"_blank\">mpfr.jl:398</a></li> <li> +(c::<b>Union{Int16, Int32, Int64, Int8}</b>, x::<b>BigFloat</b>) in Base.MPFR at <a href=\"https://github.com/JuliaLang/julia/tree/36034abf26062acad4af9dcec7c4fc53b260dbb4/base/mpfr.jl#L406\" target=\"_blank\">mpfr.jl:406</a></li> <li> +(c::<b>Union{Float16, Float32, Float64}</b>, x::<b>BigFloat</b>) in Base.MPFR at <a href=\"https://github.com/JuliaLang/julia/tree/36034abf26062acad4af9dcec7c4fc53b260dbb4/base/mpfr.jl#L414\" target=\"_blank\">mpfr.jl:414</a></li> <li> +(x::<b>Union{Dates.CompoundPeriod, Dates.Period}</b>) in Dates at <a href=\"file:///cache/build/default-amdci4-6/julialang/julia-release-1-dot-8/usr/share/julia/stdlib/v1.8/Dates/src/periods.jl\" target=\"_blank\">/julia/julia-1.8.2/share/julia/stdlib/v1.8/Dates/src/periods.jl:378</a></li> <li> +(A::<b>LinearAlgebra.Hermitian</b>, B::<b>LinearAlgebra.Hermitian</b>) in LinearAlgebra at <a href=\"file:///cache/build/default-amdci4-6/julialang/julia-release-1-dot-8/usr/share/julia/stdlib/v1.8/LinearAlgebra/src/symmetric.jl\" target=\"_blank\">/julia/julia-1.8.2/share/julia/stdlib/v1.8/LinearAlgebra/src/symmetric.jl:469</a></li> <li> +(A::<b>LinearAlgebra.Hermitian</b>, B::<b>LinearAlgebra.SymTridiagonal{var\"#s882\", V} where {var\"#s882\"<:Real, V<:AbstractVector{var\"#s882\"}}</b>) in LinearAlgebra at <a href=\"file:///cache/build/default-amdci4-6/julialang/julia-release-1-dot-8/usr/share/julia/stdlib/v1.8/LinearAlgebra/src/symmetric.jl\" target=\"_blank\">/julia/julia-1.8.2/share/julia/stdlib/v1.8/LinearAlgebra/src/symmetric.jl:488</a></li> <li> +(H::<b>LinearAlgebra.Hermitian</b>, D::<b>LinearAlgebra.Diagonal{var\"#s885\", V} where {var\"#s885\"<:Real, V<:AbstractVector{var\"#s885\"}}</b>) in LinearAlgebra at <a href=\"file:///cache/build/default-amdci4-6/julialang/julia-release-1-dot-8/usr/share/julia/stdlib/v1.8/LinearAlgebra/src/diagonal.jl\" target=\"_blank\">/julia/julia-1.8.2/share/julia/stdlib/v1.8/LinearAlgebra/src/diagonal.jl:197</a></li> <li> +(A::<b>LinearAlgebra.Hermitian</b>, J::<b>LinearAlgebra.UniformScaling{<:Complex}</b>) in LinearAlgebra at <a href=\"file:///cache/build/default-amdci4-6/julialang/julia-release-1-dot-8/usr/share/julia/stdlib/v1.8/LinearAlgebra/src/uniformscaling.jl\" target=\"_blank\">/julia/julia-1.8.2/share/julia/stdlib/v1.8/LinearAlgebra/src/uniformscaling.jl:195</a></li> <li> +(A::<b>LinearAlgebra.Hermitian{<:Any, <:SparseArrays.AbstractSparseMatrix}</b>, B::<b>SparseArrays.AbstractSparseMatrix</b>) in SparseArrays at <a href=\"file:///cache/build/default-amdci4-6/julialang/julia-release-1-dot-8/usr/share/julia/stdlib/v1.8/SparseArrays/src/linalg.jl\" target=\"_blank\">/julia/julia-1.8.2/share/julia/stdlib/v1.8/SparseArrays/src/linalg.jl:15</a></li> <li> +(A::<b>LinearAlgebra.Hermitian</b>, B::<b>SparseArrays.AbstractSparseMatrix</b>) in SparseArrays at <a href=\"file:///cache/build/default-amdci4-6/julialang/julia-release-1-dot-8/usr/share/julia/stdlib/v1.8/SparseArrays/src/linalg.jl\" target=\"_blank\">/julia/julia-1.8.2/share/julia/stdlib/v1.8/SparseArrays/src/linalg.jl:18</a></li> <li> +(A::<b>LinearAlgebra.Hermitian{<:Any, <:SparseArrays.AbstractSparseMatrix}</b>, B::<b>LinearAlgebra.Symmetric{<:Real, <:SparseArrays.AbstractSparseMatrix}</b>) in SparseArrays at <a href=\"file:///cache/build/default-amdci4-6/julialang/julia-release-1-dot-8/usr/share/julia/stdlib/v1.8/SparseArrays/src/linalg.jl\" target=\"_blank\">/julia/julia-1.8.2/share/julia/stdlib/v1.8/SparseArrays/src/linalg.jl:26</a></li> <li> +(A::<b>LinearAlgebra.Hermitian</b>, B::<b>LinearAlgebra.Symmetric{var\"#s885\", S} where {var\"#s885\"<:Real, S<:(AbstractMatrix{<:var\"#s885\"})}</b>) in LinearAlgebra at <a href=\"file:///cache/build/default-amdci4-6/julialang/julia-release-1-dot-8/usr/share/julia/stdlib/v1.8/LinearAlgebra/src/symmetric.jl\" target=\"_blank\">/julia/julia-1.8.2/share/julia/stdlib/v1.8/LinearAlgebra/src/symmetric.jl:483</a></li> <li> +(A::<b>LinearAlgebra.Hermitian{<:Any, <:SparseArrays.AbstractSparseMatrix}</b>, B::<b>LinearAlgebra.Symmetric{<:Any, <:SparseArrays.AbstractSparseMatrix}</b>) in SparseArrays at <a href=\"file:///cache/build/default-amdci4-6/julialang/julia-release-1-dot-8/usr/share/julia/stdlib/v1.8/SparseArrays/src/linalg.jl\" target=\"_blank\">/julia/julia-1.8.2/share/julia/stdlib/v1.8/SparseArrays/src/linalg.jl:24</a></li> <li> +(x::<b>P</b>, y::<b>P</b>)<i> where P<:Dates.Period</i> in Dates at <a href=\"file:///cache/build/default-amdci4-6/julialang/julia-release-1-dot-8/usr/share/julia/stdlib/v1.8/Dates/src/periods.jl\" target=\"_blank\">/julia/julia-1.8.2/share/julia/stdlib/v1.8/Dates/src/periods.jl:77</a></li> <li> +(x::<b>Dates.Period</b>, y::<b>Dates.Period</b>) in Dates at <a href=\"file:///cache/build/default-amdci4-6/julialang/julia-release-1-dot-8/usr/share/julia/stdlib/v1.8/Dates/src/periods.jl\" target=\"_blank\">/julia/julia-1.8.2/share/julia/stdlib/v1.8/Dates/src/periods.jl:367</a></li> <li> +(y::<b>Dates.Period</b>, x::<b>Dates.CompoundPeriod</b>) in Dates at <a href=\"file:///cache/build/default-amdci4-6/julialang/julia-release-1-dot-8/usr/share/julia/stdlib/v1.8/Dates/src/periods.jl\" target=\"_blank\">/julia/julia-1.8.2/share/julia/stdlib/v1.8/Dates/src/periods.jl:369</a></li> <li> +(y::<b>Dates.Period</b>, x::<b>Dates.TimeType</b>) in Dates at <a href=\"file:///cache/build/default-amdci4-6/julialang/julia-release-1-dot-8/usr/share/julia/stdlib/v1.8/Dates/src/arithmetic.jl\" target=\"_blank\">/julia/julia-1.8.2/share/julia/stdlib/v1.8/Dates/src/arithmetic.jl:85</a></li> <li> +(x::<b>Dates.Period</b>, r::<b>AbstractRange{<:Dates.TimeType}</b>) in Dates at <a href=\"file:///cache/build/default-amdci4-6/julialang/julia-release-1-dot-8/usr/share/julia/stdlib/v1.8/Dates/src/ranges.jl\" target=\"_blank\">/julia/julia-1.8.2/share/julia/stdlib/v1.8/Dates/src/ranges.jl:63</a></li> <li> +(y::<b>Union{Dates.CompoundPeriod, Dates.Period}</b>, x::<b>AbstractArray{<:Dates.TimeType}</b>) in Dates at <a href=\"file:///cache/build/default-amdci4-6/julialang/julia-release-1-dot-8/usr/share/julia/stdlib/v1.8/Dates/src/deprecated.jl\" target=\"_blank\">/julia/julia-1.8.2/share/julia/stdlib/v1.8/Dates/src/deprecated.jl:14</a></li> <li> +(A::<b>SparseArrays.AbstractSparseMatrix</b>, B::<b>LinearAlgebra.Hermitian{<:Any, <:SparseArrays.AbstractSparseMatrix}</b>) in SparseArrays at <a href=\"file:///cache/build/default-amdci4-6/julialang/julia-release-1-dot-8/usr/share/julia/stdlib/v1.8/SparseArrays/src/linalg.jl\" target=\"_blank\">/julia/julia-1.8.2/share/julia/stdlib/v1.8/SparseArrays/src/linalg.jl:14</a></li> <li> +(A::<b>SparseArrays.AbstractSparseMatrix</b>, B::<b>LinearAlgebra.Hermitian</b>) in SparseArrays at <a href=\"file:///cache/build/default-amdci4-6/julialang/julia-release-1-dot-8/usr/share/julia/stdlib/v1.8/SparseArrays/src/linalg.jl\" target=\"_blank\">/julia/julia-1.8.2/share/julia/stdlib/v1.8/SparseArrays/src/linalg.jl:17</a></li> <li> +(A::<b>SparseArrays.AbstractSparseMatrix</b>, B::<b>LinearAlgebra.Symmetric{<:Any, <:SparseArrays.AbstractSparseMatrix}</b>) in SparseArrays at <a href=\"file:///cache/build/default-amdci4-6/julialang/julia-release-1-dot-8/usr/share/julia/stdlib/v1.8/SparseArrays/src/linalg.jl\" target=\"_blank\">/julia/julia-1.8.2/share/julia/stdlib/v1.8/SparseArrays/src/linalg.jl:14</a></li> <li> +(A::<b>SparseArrays.AbstractSparseMatrix</b>, B::<b>LinearAlgebra.Symmetric</b>) in SparseArrays at <a href=\"file:///cache/build/default-amdci4-6/julialang/julia-release-1-dot-8/usr/share/julia/stdlib/v1.8/SparseArrays/src/linalg.jl\" target=\"_blank\">/julia/julia-1.8.2/share/julia/stdlib/v1.8/SparseArrays/src/linalg.jl:17</a></li> <li> +(A::<b>LinearAlgebra.UpperTriangular</b>, B::<b>LinearAlgebra.UpperTriangular</b>) in LinearAlgebra at <a href=\"file:///cache/build/default-amdci4-6/julialang/julia-release-1-dot-8/usr/share/julia/stdlib/v1.8/LinearAlgebra/src/triangular.jl\" target=\"_blank\">/julia/julia-1.8.2/share/julia/stdlib/v1.8/LinearAlgebra/src/triangular.jl:638</a></li> <li> +(A::<b>LinearAlgebra.UpperTriangular</b>, B::<b>LinearAlgebra.UnitUpperTriangular</b>) in LinearAlgebra at <a href=\"file:///cache/build/default-amdci4-6/julialang/julia-release-1-dot-8/usr/share/julia/stdlib/v1.8/LinearAlgebra/src/triangular.jl\" target=\"_blank\">/julia/julia-1.8.2/share/julia/stdlib/v1.8/LinearAlgebra/src/triangular.jl:640</a></li> <li> +(x::<b>LinearAlgebra.UpperTriangular</b>, H::<b>LinearAlgebra.UpperHessenberg</b>) in LinearAlgebra at <a href=\"file:///cache/build/default-amdci4-6/julialang/julia-release-1-dot-8/usr/share/julia/stdlib/v1.8/LinearAlgebra/src/hessenberg.jl\" target=\"_blank\">/julia/julia-1.8.2/share/julia/stdlib/v1.8/LinearAlgebra/src/hessenberg.jl:109</a></li> <li> +(A::<b>LinearAlgebra.UpperTriangular</b>, B::<b>LinearAlgebra.Bidiagonal</b>) in LinearAlgebra at <a href=\"file:///cache/build/default-amdci4-6/julialang/julia-release-1-dot-8/usr/share/julia/stdlib/v1.8/LinearAlgebra/src/special.jl\" target=\"_blank\">/julia/julia-1.8.2/share/julia/stdlib/v1.8/LinearAlgebra/src/special.jl:98</a></li> <li> +(A::<b>BitArray</b>, B::<b>BitArray</b>) in Base at <a href=\"https://github.com/JuliaLang/julia/tree/36034abf26062acad4af9dcec7c4fc53b260dbb4/base/bitarray.jl#L1184\" target=\"_blank\">bitarray.jl:1184</a></li> <li> +(A::<b>LinearAlgebra.UnitUpperTriangular</b>, B::<b>LinearAlgebra.UpperTriangular</b>) in LinearAlgebra at <a href=\"file:///cache/build/default-amdci4-6/julialang/julia-release-1-dot-8/usr/share/julia/stdlib/v1.8/LinearAlgebra/src/triangular.jl\" target=\"_blank\">/julia/julia-1.8.2/share/julia/stdlib/v1.8/LinearAlgebra/src/triangular.jl:642</a></li> <li> +(A::<b>LinearAlgebra.UnitUpperTriangular</b>, B::<b>LinearAlgebra.UnitUpperTriangular</b>) in LinearAlgebra at <a href=\"file:///cache/build/default-amdci4-6/julialang/julia-release-1-dot-8/usr/share/julia/stdlib/v1.8/LinearAlgebra/src/triangular.jl\" target=\"_blank\">/julia/julia-1.8.2/share/julia/stdlib/v1.8/LinearAlgebra/src/triangular.jl:644</a></li> <li> +(UL::<b>LinearAlgebra.UnitUpperTriangular</b>, J::<b>LinearAlgebra.UniformScaling</b>) in LinearAlgebra at <a href=\"file:///cache/build/default-amdci4-6/julialang/julia-release-1-dot-8/usr/share/julia/stdlib/v1.8/LinearAlgebra/src/uniformscaling.jl\" target=\"_blank\">/julia/julia-1.8.2/share/julia/stdlib/v1.8/LinearAlgebra/src/uniformscaling.jl:181</a></li> <li> +(x::<b>LinearAlgebra.UnitUpperTriangular</b>, H::<b>LinearAlgebra.UpperHessenberg</b>) in LinearAlgebra at <a href=\"file:///cache/build/default-amdci4-6/julialang/julia-release-1-dot-8/usr/share/julia/stdlib/v1.8/LinearAlgebra/src/hessenberg.jl\" target=\"_blank\">/julia/julia-1.8.2/share/julia/stdlib/v1.8/LinearAlgebra/src/hessenberg.jl:109</a></li> <li> +(A::<b>LinearAlgebra.UnitUpperTriangular</b>, B::<b>LinearAlgebra.Bidiagonal</b>) in LinearAlgebra at <a href=\"file:///cache/build/default-amdci4-6/julialang/julia-release-1-dot-8/usr/share/julia/stdlib/v1.8/LinearAlgebra/src/special.jl\" target=\"_blank\">/julia/julia-1.8.2/share/julia/stdlib/v1.8/LinearAlgebra/src/special.jl:98</a></li> <li> +(z::<b>Complex</b>, w::<b>Complex</b>) in Base at <a href=\"https://github.com/JuliaLang/julia/tree/36034abf26062acad4af9dcec7c4fc53b260dbb4/base/complex.jl#L288\" target=\"_blank\">complex.jl:288</a></li> <li> +(Da::<b>LinearAlgebra.Diagonal</b>, Db::<b>LinearAlgebra.Diagonal</b>) in LinearAlgebra at <a href=\"file:///cache/build/default-amdci4-6/julialang/julia-release-1-dot-8/usr/share/julia/stdlib/v1.8/LinearAlgebra/src/diagonal.jl\" target=\"_blank\">/julia/julia-1.8.2/share/julia/stdlib/v1.8/LinearAlgebra/src/diagonal.jl:184</a></li> <li> +(D::<b>LinearAlgebra.Diagonal</b>, S::<b>LinearAlgebra.Symmetric</b>) in LinearAlgebra at <a href=\"file:///cache/build/default-amdci4-6/julialang/julia-release-1-dot-8/usr/share/julia/stdlib/v1.8/LinearAlgebra/src/diagonal.jl\" target=\"_blank\">/julia/julia-1.8.2/share/julia/stdlib/v1.8/LinearAlgebra/src/diagonal.jl:188</a></li> <li> +(D::<b>LinearAlgebra.Diagonal{var\"#s885\", V} where {var\"#s885\"<:Real, V<:AbstractVector{var\"#s885\"}}</b>, H::<b>LinearAlgebra.Hermitian</b>) in LinearAlgebra at <a href=\"file:///cache/build/default-amdci4-6/julialang/julia-release-1-dot-8/usr/share/julia/stdlib/v1.8/LinearAlgebra/src/diagonal.jl\" target=\"_blank\">/julia/julia-1.8.2/share/julia/stdlib/v1.8/LinearAlgebra/src/diagonal.jl:194</a></li> <li> +(x::<b>LinearAlgebra.Diagonal</b>, H::<b>LinearAlgebra.UpperHessenberg</b>) in LinearAlgebra at <a href=\"file:///cache/build/default-amdci4-6/julialang/julia-release-1-dot-8/usr/share/julia/stdlib/v1.8/LinearAlgebra/src/hessenberg.jl\" target=\"_blank\">/julia/julia-1.8.2/share/julia/stdlib/v1.8/LinearAlgebra/src/hessenberg.jl:109</a></li> <li> +(A::<b>LinearAlgebra.Diagonal</b>, B::<b>LinearAlgebra.Bidiagonal</b>) in LinearAlgebra at <a href=\"file:///cache/build/default-amdci4-6/julialang/julia-release-1-dot-8/usr/share/julia/stdlib/v1.8/LinearAlgebra/src/special.jl\" target=\"_blank\">/julia/julia-1.8.2/share/julia/stdlib/v1.8/LinearAlgebra/src/special.jl:137</a></li> <li> +(A::<b>LinearAlgebra.Diagonal</b>, B::<b>LinearAlgebra.SymTridiagonal</b>) in LinearAlgebra at <a href=\"file:///cache/build/default-amdci4-6/julialang/julia-release-1-dot-8/usr/share/julia/stdlib/v1.8/LinearAlgebra/src/special.jl\" target=\"_blank\">/julia/julia-1.8.2/share/julia/stdlib/v1.8/LinearAlgebra/src/special.jl:147</a></li> <li> +(A::<b>LinearAlgebra.Diagonal</b>, B::<b>LinearAlgebra.Tridiagonal</b>) in LinearAlgebra at <a href=\"file:///cache/build/default-amdci4-6/julialang/julia-release-1-dot-8/usr/share/julia/stdlib/v1.8/LinearAlgebra/src/special.jl\" target=\"_blank\">/julia/julia-1.8.2/share/julia/stdlib/v1.8/LinearAlgebra/src/special.jl:175</a></li> <li> +(A::<b>LinearAlgebra.Diagonal{var\"#s885\", V} where {var\"#s885\"<:Number, V<:AbstractVector{var\"#s885\"}}</b>, B::<b>LinearAlgebra.UniformScaling</b>) in LinearAlgebra at <a href=\"file:///cache/build/default-amdci4-6/julialang/julia-release-1-dot-8/usr/share/julia/stdlib/v1.8/LinearAlgebra/src/special.jl\" target=\"_blank\">/julia/julia-1.8.2/share/julia/stdlib/v1.8/LinearAlgebra/src/special.jl:253</a></li> <li> +(r1::<b>LinRange{T}</b>, r2::<b>LinRange{T}</b>)<i> where T</i> in Base at <a href=\"https://github.com/JuliaLang/julia/tree/36034abf26062acad4af9dcec7c4fc53b260dbb4/base/range.jl#L1431\" target=\"_blank\">range.jl:1431</a></li> <li> +(x::<b>Rational</b>, y::<b>Integer</b>) in Base at <a href=\"https://github.com/JuliaLang/julia/tree/36034abf26062acad4af9dcec7c4fc53b260dbb4/base/rational.jl#L313\" target=\"_blank\">rational.jl:313</a></li> <li> +(x::<b>AbstractIrrational</b>, y::<b>AbstractIrrational</b>) in Base at <a href=\"https://github.com/JuliaLang/julia/tree/36034abf26062acad4af9dcec7c4fc53b260dbb4/base/irrationals.jl#L158\" target=\"_blank\">irrationals.jl:158</a></li> <li> +(A::<b>LinearAlgebra.UnitLowerTriangular</b>, B::<b>LinearAlgebra.LowerTriangular</b>) in LinearAlgebra at <a href=\"file:///cache/build/default-amdci4-6/julialang/julia-release-1-dot-8/usr/share/julia/stdlib/v1.8/LinearAlgebra/src/triangular.jl\" target=\"_blank\">/julia/julia-1.8.2/share/julia/stdlib/v1.8/LinearAlgebra/src/triangular.jl:643</a></li> <li> +(A::<b>LinearAlgebra.UnitLowerTriangular</b>, B::<b>LinearAlgebra.UnitLowerTriangular</b>) in LinearAlgebra at <a href=\"file:///cache/build/default-amdci4-6/julialang/julia-release-1-dot-8/usr/share/julia/stdlib/v1.8/LinearAlgebra/src/triangular.jl\" target=\"_blank\">/julia/julia-1.8.2/share/julia/stdlib/v1.8/LinearAlgebra/src/triangular.jl:645</a></li> <li> +(UL::<b>LinearAlgebra.UnitLowerTriangular</b>, J::<b>LinearAlgebra.UniformScaling</b>) in LinearAlgebra at <a href=\"file:///cache/build/default-amdci4-6/julialang/julia-release-1-dot-8/usr/share/julia/stdlib/v1.8/LinearAlgebra/src/uniformscaling.jl\" target=\"_blank\">/julia/julia-1.8.2/share/julia/stdlib/v1.8/LinearAlgebra/src/uniformscaling.jl:181</a></li> <li> +(A::<b>LinearAlgebra.UnitLowerTriangular</b>, B::<b>LinearAlgebra.Bidiagonal</b>) in LinearAlgebra at <a href=\"file:///cache/build/default-amdci4-6/julialang/julia-release-1-dot-8/usr/share/julia/stdlib/v1.8/LinearAlgebra/src/special.jl\" target=\"_blank\">/julia/julia-1.8.2/share/julia/stdlib/v1.8/LinearAlgebra/src/special.jl:98</a></li> <li> +(x::<b>T</b>, y::<b>Integer</b>)<i> where T<:AbstractChar</i> in Base at <a href=\"https://github.com/JuliaLang/julia/tree/36034abf26062acad4af9dcec7c4fc53b260dbb4/base/char.jl#L237\" target=\"_blank\">char.jl:237</a></li> <li> +(A::<b>LinearAlgebra.SymTridiagonal</b>, B::<b>LinearAlgebra.SymTridiagonal</b>) in LinearAlgebra at <a href=\"file:///cache/build/default-amdci4-6/julialang/julia-release-1-dot-8/usr/share/julia/stdlib/v1.8/LinearAlgebra/src/tridiag.jl\" target=\"_blank\">/julia/julia-1.8.2/share/julia/stdlib/v1.8/LinearAlgebra/src/tridiag.jl:207</a></li> <li> +(A::<b>LinearAlgebra.SymTridiagonal</b>, B::<b>LinearAlgebra.Symmetric</b>) in LinearAlgebra at <a href=\"file:///cache/build/default-amdci4-6/julialang/julia-release-1-dot-8/usr/share/julia/stdlib/v1.8/LinearAlgebra/src/symmetric.jl\" target=\"_blank\">/julia/julia-1.8.2/share/julia/stdlib/v1.8/LinearAlgebra/src/symmetric.jl:485</a></li> <li> +(A::<b>LinearAlgebra.SymTridiagonal{var\"#s883\", V} where {var\"#s883\"<:Real, V<:AbstractVector{var\"#s883\"}}</b>, B::<b>LinearAlgebra.Hermitian</b>) in LinearAlgebra at <a href=\"file:///cache/build/default-amdci4-6/julialang/julia-release-1-dot-8/usr/share/julia/stdlib/v1.8/LinearAlgebra/src/symmetric.jl\" target=\"_blank\">/julia/julia-1.8.2/share/julia/stdlib/v1.8/LinearAlgebra/src/symmetric.jl:487</a></li> <li> +(x::<b>LinearAlgebra.SymTridiagonal</b>, H::<b>LinearAlgebra.UpperHessenberg</b>) in LinearAlgebra at <a href=\"file:///cache/build/default-amdci4-6/julialang/julia-release-1-dot-8/usr/share/julia/stdlib/v1.8/LinearAlgebra/src/hessenberg.jl\" target=\"_blank\">/julia/julia-1.8.2/share/julia/stdlib/v1.8/LinearAlgebra/src/hessenberg.jl:109</a></li> <li> +(A::<b>LinearAlgebra.SymTridiagonal</b>, B::<b>LinearAlgebra.Diagonal</b>) in LinearAlgebra at <a href=\"file:///cache/build/default-amdci4-6/julialang/julia-release-1-dot-8/usr/share/julia/stdlib/v1.8/LinearAlgebra/src/special.jl\" target=\"_blank\">/julia/julia-1.8.2/share/julia/stdlib/v1.8/LinearAlgebra/src/special.jl:157</a></li> <li> +(A::<b>LinearAlgebra.SymTridiagonal</b>, B::<b>LinearAlgebra.Tridiagonal</b>) in LinearAlgebra at <a href=\"file:///cache/build/default-amdci4-6/julialang/julia-release-1-dot-8/usr/share/julia/stdlib/v1.8/LinearAlgebra/src/special.jl\" target=\"_blank\">/julia/julia-1.8.2/share/julia/stdlib/v1.8/LinearAlgebra/src/special.jl:171</a></li> <li> +(A::<b>LinearAlgebra.SymTridiagonal</b>, B::<b>LinearAlgebra.Bidiagonal</b>) in LinearAlgebra at <a href=\"file:///cache/build/default-amdci4-6/julialang/julia-release-1-dot-8/usr/share/julia/stdlib/v1.8/LinearAlgebra/src/special.jl\" target=\"_blank\">/julia/julia-1.8.2/share/julia/stdlib/v1.8/LinearAlgebra/src/special.jl:225</a></li> <li> +(A::<b>LinearAlgebra.SymTridiagonal{var\"#s885\", V} where {var\"#s885\"<:Number, V<:AbstractVector{var\"#s885\"}}</b>, B::<b>LinearAlgebra.UniformScaling</b>) in LinearAlgebra at <a href=\"file:///cache/build/default-amdci4-6/julialang/julia-release-1-dot-8/usr/share/julia/stdlib/v1.8/LinearAlgebra/src/special.jl\" target=\"_blank\">/julia/julia-1.8.2/share/julia/stdlib/v1.8/LinearAlgebra/src/special.jl:243</a></li> <li> +(A::<b>LinearAlgebra.LowerTriangular</b>, B::<b>LinearAlgebra.LowerTriangular</b>) in LinearAlgebra at <a href=\"file:///cache/build/default-amdci4-6/julialang/julia-release-1-dot-8/usr/share/julia/stdlib/v1.8/LinearAlgebra/src/triangular.jl\" target=\"_blank\">/julia/julia-1.8.2/share/julia/stdlib/v1.8/LinearAlgebra/src/triangular.jl:639</a></li> <li> +(A::<b>LinearAlgebra.LowerTriangular</b>, B::<b>LinearAlgebra.UnitLowerTriangular</b>) in LinearAlgebra at <a href=\"file:///cache/build/default-amdci4-6/julialang/julia-release-1-dot-8/usr/share/julia/stdlib/v1.8/LinearAlgebra/src/triangular.jl\" target=\"_blank\">/julia/julia-1.8.2/share/julia/stdlib/v1.8/LinearAlgebra/src/triangular.jl:641</a></li> <li> +(A::<b>LinearAlgebra.LowerTriangular</b>, B::<b>LinearAlgebra.Bidiagonal</b>) in LinearAlgebra at <a href=\"file:///cache/build/default-amdci4-6/julialang/julia-release-1-dot-8/usr/share/julia/stdlib/v1.8/LinearAlgebra/src/special.jl\" target=\"_blank\">/julia/julia-1.8.2/share/julia/stdlib/v1.8/LinearAlgebra/src/special.jl:98</a></li> <li> +(A::<b>LinearAlgebra.Tridiagonal</b>, B::<b>LinearAlgebra.Tridiagonal</b>) in LinearAlgebra at <a href=\"file:///cache/build/default-amdci4-6/julialang/julia-release-1-dot-8/usr/share/julia/stdlib/v1.8/LinearAlgebra/src/tridiag.jl\" target=\"_blank\">/julia/julia-1.8.2/share/julia/stdlib/v1.8/LinearAlgebra/src/tridiag.jl:741</a></li> <li> +(x::<b>LinearAlgebra.Tridiagonal</b>, H::<b>LinearAlgebra.UpperHessenberg</b>) in LinearAlgebra at <a href=\"file:///cache/build/default-amdci4-6/julialang/julia-release-1-dot-8/usr/share/julia/stdlib/v1.8/LinearAlgebra/src/hessenberg.jl\" target=\"_blank\">/julia/julia-1.8.2/share/julia/stdlib/v1.8/LinearAlgebra/src/hessenberg.jl:109</a></li> <li> +(A::<b>LinearAlgebra.Tridiagonal</b>, B::<b>LinearAlgebra.SymTridiagonal</b>) in LinearAlgebra at <a href=\"file:///cache/build/default-amdci4-6/julialang/julia-release-1-dot-8/usr/share/julia/stdlib/v1.8/LinearAlgebra/src/special.jl\" target=\"_blank\">/julia/julia-1.8.2/share/julia/stdlib/v1.8/LinearAlgebra/src/special.jl:169</a></li> <li> +(A::<b>LinearAlgebra.Tridiagonal</b>, B::<b>LinearAlgebra.Diagonal</b>) in LinearAlgebra at <a href=\"file:///cache/build/default-amdci4-6/julialang/julia-release-1-dot-8/usr/share/julia/stdlib/v1.8/LinearAlgebra/src/special.jl\" target=\"_blank\">/julia/julia-1.8.2/share/julia/stdlib/v1.8/LinearAlgebra/src/special.jl:185</a></li> <li> +(A::<b>LinearAlgebra.Tridiagonal</b>, B::<b>LinearAlgebra.Bidiagonal</b>) in LinearAlgebra at <a href=\"file:///cache/build/default-amdci4-6/julialang/julia-release-1-dot-8/usr/share/julia/stdlib/v1.8/LinearAlgebra/src/special.jl\" target=\"_blank\">/julia/julia-1.8.2/share/julia/stdlib/v1.8/LinearAlgebra/src/special.jl:205</a></li> <li> +(A::<b>LinearAlgebra.Tridiagonal{var\"#s885\", V} where {var\"#s885\"<:Number, V<:AbstractVector{var\"#s885\"}}</b>, B::<b>LinearAlgebra.UniformScaling</b>) in LinearAlgebra at <a href=\"file:///cache/build/default-amdci4-6/julialang/julia-release-1-dot-8/usr/share/julia/stdlib/v1.8/LinearAlgebra/src/special.jl\" target=\"_blank\">/julia/julia-1.8.2/share/julia/stdlib/v1.8/LinearAlgebra/src/special.jl:238</a></li> <li> +(index1::<b>CartesianIndex{N}</b>, index2::<b>CartesianIndex{N}</b>)<i> where N</i> in Base.IteratorsMD at <a href=\"https://github.com/JuliaLang/julia/tree/36034abf26062acad4af9dcec7c4fc53b260dbb4/base/multidimensional.jl#L114\" target=\"_blank\">multidimensional.jl:114</a></li> <li> +(r1::<b>OrdinalRange</b>, r2::<b>OrdinalRange</b>) in Base at <a href=\"https://github.com/JuliaLang/julia/tree/36034abf26062acad4af9dcec7c4fc53b260dbb4/base/range.jl#L1424\" target=\"_blank\">range.jl:1424</a></li> <li> +(y::<b>AbstractFloat</b>, x::<b>Bool</b>) in Base at <a href=\"https://github.com/JuliaLang/julia/tree/36034abf26062acad4af9dcec7c4fc53b260dbb4/base/bool.jl#L172\" target=\"_blank\">bool.jl:172</a></li> <li> +(y::<b>Dates.TimeType</b>, x::<b>StridedArray{<:Union{Dates.CompoundPeriod, Dates.Period}}</b>) in Dates at <a href=\"file:///cache/build/default-amdci4-6/julialang/julia-release-1-dot-8/usr/share/julia/stdlib/v1.8/Dates/src/deprecated.jl\" target=\"_blank\">/julia/julia-1.8.2/share/julia/stdlib/v1.8/Dates/src/deprecated.jl:18</a></li> <li> +(x::<b>Dates.Instant</b>) in Dates at <a href=\"file:///cache/build/default-amdci4-6/julialang/julia-release-1-dot-8/usr/share/julia/stdlib/v1.8/Dates/src/arithmetic.jl\" target=\"_blank\">/julia/julia-1.8.2/share/julia/stdlib/v1.8/Dates/src/arithmetic.jl:4</a></li> <li> +(A::<b>LinearAlgebra.Bidiagonal</b>, B::<b>LinearAlgebra.Bidiagonal</b>) in LinearAlgebra at <a href=\"file:///cache/build/default-amdci4-6/julialang/julia-release-1-dot-8/usr/share/julia/stdlib/v1.8/LinearAlgebra/src/bidiag.jl\" target=\"_blank\">/julia/julia-1.8.2/share/julia/stdlib/v1.8/LinearAlgebra/src/bidiag.jl:365</a></li> <li> +(x::<b>LinearAlgebra.Bidiagonal</b>, H::<b>LinearAlgebra.UpperHessenberg</b>) in LinearAlgebra at <a href=\"file:///cache/build/default-amdci4-6/julialang/julia-release-1-dot-8/usr/share/julia/stdlib/v1.8/LinearAlgebra/src/hessenberg.jl\" target=\"_blank\">/julia/julia-1.8.2/share/julia/stdlib/v1.8/LinearAlgebra/src/hessenberg.jl:109</a></li> <li> +(A::<b>LinearAlgebra.Bidiagonal</b>, B::<b>LinearAlgebra.UpperTriangular</b>) in LinearAlgebra at <a href=\"file:///cache/build/default-amdci4-6/julialang/julia-release-1-dot-8/usr/share/julia/stdlib/v1.8/LinearAlgebra/src/special.jl\" target=\"_blank\">/julia/julia-1.8.2/share/julia/stdlib/v1.8/LinearAlgebra/src/special.jl:106</a></li> <li> +(A::<b>LinearAlgebra.Bidiagonal</b>, B::<b>LinearAlgebra.UnitUpperTriangular</b>) in LinearAlgebra at <a href=\"file:///cache/build/default-amdci4-6/julialang/julia-release-1-dot-8/usr/share/julia/stdlib/v1.8/LinearAlgebra/src/special.jl\" target=\"_blank\">/julia/julia-1.8.2/share/julia/stdlib/v1.8/LinearAlgebra/src/special.jl:106</a></li> <li> +(A::<b>LinearAlgebra.Bidiagonal</b>, B::<b>LinearAlgebra.LowerTriangular</b>) in LinearAlgebra at <a href=\"file:///cache/build/default-amdci4-6/julialang/julia-release-1-dot-8/usr/share/julia/stdlib/v1.8/LinearAlgebra/src/special.jl\" target=\"_blank\">/julia/julia-1.8.2/share/julia/stdlib/v1.8/LinearAlgebra/src/special.jl:106</a></li> <li> +(A::<b>LinearAlgebra.Bidiagonal</b>, B::<b>LinearAlgebra.UnitLowerTriangular</b>) in LinearAlgebra at <a href=\"file:///cache/build/default-amdci4-6/julialang/julia-release-1-dot-8/usr/share/julia/stdlib/v1.8/LinearAlgebra/src/special.jl\" target=\"_blank\">/julia/julia-1.8.2/share/julia/stdlib/v1.8/LinearAlgebra/src/special.jl:106</a></li> <li> +(A::<b>LinearAlgebra.Bidiagonal</b>, B::<b>LinearAlgebra.Diagonal</b>) in LinearAlgebra at <a href=\"file:///cache/build/default-amdci4-6/julialang/julia-release-1-dot-8/usr/share/julia/stdlib/v1.8/LinearAlgebra/src/special.jl\" target=\"_blank\">/julia/julia-1.8.2/share/julia/stdlib/v1.8/LinearAlgebra/src/special.jl:127</a></li> <li> +(A::<b>LinearAlgebra.Bidiagonal</b>, B::<b>LinearAlgebra.Tridiagonal</b>) in LinearAlgebra at <a href=\"file:///cache/build/default-amdci4-6/julialang/julia-release-1-dot-8/usr/share/julia/stdlib/v1.8/LinearAlgebra/src/special.jl\" target=\"_blank\">/julia/julia-1.8.2/share/julia/stdlib/v1.8/LinearAlgebra/src/special.jl:195</a></li> <li> +(A::<b>LinearAlgebra.Bidiagonal</b>, B::<b>LinearAlgebra.SymTridiagonal</b>) in LinearAlgebra at <a href=\"file:///cache/build/default-amdci4-6/julialang/julia-release-1-dot-8/usr/share/julia/stdlib/v1.8/LinearAlgebra/src/special.jl\" target=\"_blank\">/julia/julia-1.8.2/share/julia/stdlib/v1.8/LinearAlgebra/src/special.jl:215</a></li> <li> +(A::<b>LinearAlgebra.Bidiagonal{var\"#s885\", V} where {var\"#s885\"<:Number, V<:AbstractVector{var\"#s885\"}}</b>, B::<b>LinearAlgebra.UniformScaling</b>) in LinearAlgebra at <a href=\"file:///cache/build/default-amdci4-6/julialang/julia-release-1-dot-8/usr/share/julia/stdlib/v1.8/LinearAlgebra/src/special.jl\" target=\"_blank\">/julia/julia-1.8.2/share/julia/stdlib/v1.8/LinearAlgebra/src/special.jl:248</a></li> <li> +(x::<b>Ptr</b>, y::<b>Integer</b>) in Base at <a href=\"https://github.com/JuliaLang/julia/tree/36034abf26062acad4af9dcec7c4fc53b260dbb4/base/pointer.jl#L159\" target=\"_blank\">pointer.jl:159</a></li> <li> +(A::<b>SparseArrays.AbstractSparseMatrixCSC</b>, B::<b>SparseArrays.AbstractSparseMatrixCSC</b>) in SparseArrays at <a href=\"file:///cache/build/default-amdci4-6/julialang/julia-release-1-dot-8/usr/share/julia/stdlib/v1.8/SparseArrays/src/sparsematrix.jl\" target=\"_blank\">/julia/julia-1.8.2/share/julia/stdlib/v1.8/SparseArrays/src/sparsematrix.jl:1829</a></li> <li> +(x::<b>SparseArrays.AbstractSparseVector</b>, y::<b>SparseArrays.AbstractSparseVector</b>) in SparseArrays at <a href=\"file:///cache/build/default-amdci4-6/julialang/julia-release-1-dot-8/usr/share/julia/stdlib/v1.8/SparseArrays/src/sparsevector.jl\" target=\"_blank\">/julia/julia-1.8.2/share/julia/stdlib/v1.8/SparseArrays/src/sparsevector.jl:1384</a></li> <li> +(A::<b>SparseArrays.AbstractSparseMatrixCSC</b>, B::<b>Array</b>) in SparseArrays at <a href=\"file:///cache/build/default-amdci4-6/julialang/julia-release-1-dot-8/usr/share/julia/stdlib/v1.8/SparseArrays/src/sparsematrix.jl\" target=\"_blank\">/julia/julia-1.8.2/share/julia/stdlib/v1.8/SparseArrays/src/sparsematrix.jl:1832</a></li> <li> +(A::<b>SparseArrays.AbstractSparseMatrixCSC</b>, J::<b>LinearAlgebra.UniformScaling</b>) in SparseArrays at <a href=\"file:///cache/build/default-amdci4-6/julialang/julia-release-1-dot-8/usr/share/julia/stdlib/v1.8/SparseArrays/src/sparsematrix.jl\" target=\"_blank\">/julia/julia-1.8.2/share/julia/stdlib/v1.8/SparseArrays/src/sparsematrix.jl:3821</a></li> <li> +(r::<b>AbstractRange{<:Dates.TimeType}</b>, x::<b>Dates.Period</b>) in Dates at <a href=\"file:///cache/build/default-amdci4-6/julialang/julia-release-1-dot-8/usr/share/julia/stdlib/v1.8/Dates/src/ranges.jl\" target=\"_blank\">/julia/julia-1.8.2/share/julia/stdlib/v1.8/Dates/src/ranges.jl:64</a></li> <li> +(x::<b>AbstractArray{<:Dates.TimeType}</b>, y::<b>Union{Dates.CompoundPeriod, Dates.Period}</b>) in Dates at <a href=\"file:///cache/build/default-amdci4-6/julialang/julia-release-1-dot-8/usr/share/julia/stdlib/v1.8/Dates/src/deprecated.jl\" target=\"_blank\">/julia/julia-1.8.2/share/julia/stdlib/v1.8/Dates/src/deprecated.jl:6</a></li> <li> +(x::<b>Base.TwicePrecision</b>, y::<b>Number</b>) in Base at <a href=\"https://github.com/JuliaLang/julia/tree/36034abf26062acad4af9dcec7c4fc53b260dbb4/base/twiceprecision.jl#L290\" target=\"_blank\">twiceprecision.jl:290</a></li> <li> +(x::<b>Base.TwicePrecision{T}</b>, y::<b>Base.TwicePrecision{T}</b>)<i> where T</i> in Base at <a href=\"https://github.com/JuliaLang/julia/tree/36034abf26062acad4af9dcec7c4fc53b260dbb4/base/twiceprecision.jl#L296\" target=\"_blank\">twiceprecision.jl:296</a></li> <li> +(x::<b>Base.TwicePrecision</b>, y::<b>Base.TwicePrecision</b>) in Base at <a href=\"https://github.com/JuliaLang/julia/tree/36034abf26062acad4af9dcec7c4fc53b260dbb4/base/twiceprecision.jl#L301\" target=\"_blank\">twiceprecision.jl:301</a></li> <li> +(J::<b>LinearAlgebra.UniformScaling</b>) in LinearAlgebra at <a href=\"file:///cache/build/default-amdci4-6/julialang/julia-release-1-dot-8/usr/share/julia/stdlib/v1.8/LinearAlgebra/src/uniformscaling.jl\" target=\"_blank\">/julia/julia-1.8.2/share/julia/stdlib/v1.8/LinearAlgebra/src/uniformscaling.jl:149</a></li> <li> +(J::<b>LinearAlgebra.UniformScaling</b>, x::<b>Number</b>) in LinearAlgebra at <a href=\"file:///cache/build/default-amdci4-6/julialang/julia-release-1-dot-8/usr/share/julia/stdlib/v1.8/LinearAlgebra/src/uniformscaling.jl\" target=\"_blank\">/julia/julia-1.8.2/share/julia/stdlib/v1.8/LinearAlgebra/src/uniformscaling.jl:144</a></li> <li> +(J1::<b>LinearAlgebra.UniformScaling</b>, J2::<b>LinearAlgebra.UniformScaling</b>) in LinearAlgebra at <a href=\"file:///cache/build/default-amdci4-6/julialang/julia-release-1-dot-8/usr/share/julia/stdlib/v1.8/LinearAlgebra/src/uniformscaling.jl\" target=\"_blank\">/julia/julia-1.8.2/share/julia/stdlib/v1.8/LinearAlgebra/src/uniformscaling.jl:150</a></li> <li> +(J::<b>LinearAlgebra.UniformScaling</b>, B::<b>BitMatrix</b>) in LinearAlgebra at <a href=\"file:///cache/build/default-amdci4-6/julialang/julia-release-1-dot-8/usr/share/julia/stdlib/v1.8/LinearAlgebra/src/uniformscaling.jl\" target=\"_blank\">/julia/julia-1.8.2/share/julia/stdlib/v1.8/LinearAlgebra/src/uniformscaling.jl:152</a></li> <li> +(x::<b>LinearAlgebra.UniformScaling</b>, H::<b>LinearAlgebra.UpperHessenberg</b>) in LinearAlgebra at <a href=\"file:///cache/build/default-amdci4-6/julialang/julia-release-1-dot-8/usr/share/julia/stdlib/v1.8/LinearAlgebra/src/hessenberg.jl\" target=\"_blank\">/julia/julia-1.8.2/share/julia/stdlib/v1.8/LinearAlgebra/src/hessenberg.jl:109</a></li> <li> +(J::<b>LinearAlgebra.UniformScaling</b>, F::<b>LinearAlgebra.Hessenberg</b>) in LinearAlgebra at <a href=\"file:///cache/build/default-amdci4-6/julialang/julia-release-1-dot-8/usr/share/julia/stdlib/v1.8/LinearAlgebra/src/hessenberg.jl\" target=\"_blank\">/julia/julia-1.8.2/share/julia/stdlib/v1.8/LinearAlgebra/src/hessenberg.jl:642</a></li> <li> +(A::<b>LinearAlgebra.UniformScaling</b>, B::<b>LinearAlgebra.Tridiagonal{var\"#s885\", V} where {var\"#s885\"<:Number, V<:AbstractVector{var\"#s885\"}}</b>) in LinearAlgebra at <a href=\"file:///cache/build/default-amdci4-6/julialang/julia-release-1-dot-8/usr/share/julia/stdlib/v1.8/LinearAlgebra/src/special.jl\" target=\"_blank\">/julia/julia-1.8.2/share/julia/stdlib/v1.8/LinearAlgebra/src/special.jl:257</a></li> <li> +(A::<b>LinearAlgebra.UniformScaling</b>, B::<b>LinearAlgebra.SymTridiagonal{var\"#s885\", V} where {var\"#s885\"<:Number, V<:AbstractVector{var\"#s885\"}}</b>) in LinearAlgebra at <a href=\"file:///cache/build/default-amdci4-6/julialang/julia-release-1-dot-8/usr/share/julia/stdlib/v1.8/LinearAlgebra/src/special.jl\" target=\"_blank\">/julia/julia-1.8.2/share/julia/stdlib/v1.8/LinearAlgebra/src/special.jl:262</a></li> <li> +(A::<b>LinearAlgebra.UniformScaling</b>, B::<b>LinearAlgebra.Bidiagonal{var\"#s885\", V} where {var\"#s885\"<:Number, V<:AbstractVector{var\"#s885\"}}</b>) in LinearAlgebra at <a href=\"file:///cache/build/default-amdci4-6/julialang/julia-release-1-dot-8/usr/share/julia/stdlib/v1.8/LinearAlgebra/src/special.jl\" target=\"_blank\">/julia/julia-1.8.2/share/julia/stdlib/v1.8/LinearAlgebra/src/special.jl:267</a></li> <li> +(A::<b>LinearAlgebra.UniformScaling</b>, B::<b>LinearAlgebra.Diagonal{var\"#s885\", V} where {var\"#s885\"<:Number, V<:AbstractVector{var\"#s885\"}}</b>) in LinearAlgebra at <a href=\"file:///cache/build/default-amdci4-6/julialang/julia-release-1-dot-8/usr/share/julia/stdlib/v1.8/LinearAlgebra/src/special.jl\" target=\"_blank\">/julia/julia-1.8.2/share/julia/stdlib/v1.8/LinearAlgebra/src/special.jl:272</a></li> <li> +(J::<b>LinearAlgebra.UniformScaling</b>, A::<b>AbstractMatrix</b>) in LinearAlgebra at <a href=\"file:///cache/build/default-amdci4-6/julialang/julia-release-1-dot-8/usr/share/julia/stdlib/v1.8/LinearAlgebra/src/uniformscaling.jl\" target=\"_blank\">/julia/julia-1.8.2/share/julia/stdlib/v1.8/LinearAlgebra/src/uniformscaling.jl:153</a></li> <li> +(x::<b>Dates.AbstractTime</b>, y::<b>Missing</b>) in Dates at <a href=\"file:///cache/build/default-amdci4-6/julialang/julia-release-1-dot-8/usr/share/julia/stdlib/v1.8/Dates/src/arithmetic.jl\" target=\"_blank\">/julia/julia-1.8.2/share/julia/stdlib/v1.8/Dates/src/arithmetic.jl:88</a></li> <li> +(A::<b>LinearAlgebra.AbstractTriangular</b>, B::<b>LinearAlgebra.AbstractTriangular</b>) in LinearAlgebra at <a href=\"file:///cache/build/default-amdci4-6/julialang/julia-release-1-dot-8/usr/share/julia/stdlib/v1.8/LinearAlgebra/src/triangular.jl\" target=\"_blank\">/julia/julia-1.8.2/share/julia/stdlib/v1.8/LinearAlgebra/src/triangular.jl:646</a></li> <li> +(F::<b>LinearAlgebra.Hessenberg</b>, J::<b>LinearAlgebra.UniformScaling</b>) in LinearAlgebra at <a href=\"file:///cache/build/default-amdci4-6/julialang/julia-release-1-dot-8/usr/share/julia/stdlib/v1.8/LinearAlgebra/src/hessenberg.jl\" target=\"_blank\">/julia/julia-1.8.2/share/julia/stdlib/v1.8/LinearAlgebra/src/hessenberg.jl:641</a></li> <li> +(r1::<b>StepRangeLen{T, R}</b>, r2::<b>StepRangeLen{T, R}</b>)<i> where {R<:Base.TwicePrecision, T}</i> in Base at <a href=\"https://github.com/JuliaLang/julia/tree/36034abf26062acad4af9dcec7c4fc53b260dbb4/base/twiceprecision.jl#L644\" target=\"_blank\">twiceprecision.jl:644</a></li> <li> +(r1::<b>StepRangeLen{T, S}</b>, r2::<b>StepRangeLen{T, S}</b>)<i> where {T, S}</i> in Base at <a href=\"https://github.com/JuliaLang/julia/tree/36034abf26062acad4af9dcec7c4fc53b260dbb4/base/range.jl#L1447\" target=\"_blank\">range.jl:1447</a></li> <li> +(r1::<b>Union{LinRange, OrdinalRange, StepRangeLen}</b>, r2::<b>Union{LinRange, OrdinalRange, StepRangeLen}</b>) in Base at <a href=\"https://github.com/JuliaLang/julia/tree/36034abf26062acad4af9dcec7c4fc53b260dbb4/base/range.jl#L1440\" target=\"_blank\">range.jl:1440</a></li> <li> +(A::<b>LinearAlgebra.Symmetric</b>, B::<b>LinearAlgebra.Symmetric</b>) in LinearAlgebra at <a href=\"file:///cache/build/default-amdci4-6/julialang/julia-release-1-dot-8/usr/share/julia/stdlib/v1.8/LinearAlgebra/src/symmetric.jl\" target=\"_blank\">/julia/julia-1.8.2/share/julia/stdlib/v1.8/LinearAlgebra/src/symmetric.jl:469</a></li> <li> +(A::<b>LinearAlgebra.Symmetric</b>, B::<b>LinearAlgebra.SymTridiagonal</b>) in LinearAlgebra at <a href=\"file:///cache/build/default-amdci4-6/julialang/julia-release-1-dot-8/usr/share/julia/stdlib/v1.8/LinearAlgebra/src/symmetric.jl\" target=\"_blank\">/julia/julia-1.8.2/share/julia/stdlib/v1.8/LinearAlgebra/src/symmetric.jl:486</a></li> <li> +(S::<b>LinearAlgebra.Symmetric</b>, D::<b>LinearAlgebra.Diagonal</b>) in LinearAlgebra at <a href=\"file:///cache/build/default-amdci4-6/julialang/julia-release-1-dot-8/usr/share/julia/stdlib/v1.8/LinearAlgebra/src/diagonal.jl\" target=\"_blank\">/julia/julia-1.8.2/share/julia/stdlib/v1.8/LinearAlgebra/src/diagonal.jl:191</a></li> <li> +(A::<b>LinearAlgebra.Symmetric{<:Any, <:SparseArrays.AbstractSparseMatrix}</b>, B::<b>SparseArrays.AbstractSparseMatrix</b>) in SparseArrays at <a href=\"file:///cache/build/default-amdci4-6/julialang/julia-release-1-dot-8/usr/share/julia/stdlib/v1.8/SparseArrays/src/linalg.jl\" target=\"_blank\">/julia/julia-1.8.2/share/julia/stdlib/v1.8/SparseArrays/src/linalg.jl:15</a></li> <li> +(A::<b>LinearAlgebra.Symmetric</b>, B::<b>SparseArrays.AbstractSparseMatrix</b>) in SparseArrays at <a href=\"file:///cache/build/default-amdci4-6/julialang/julia-release-1-dot-8/usr/share/julia/stdlib/v1.8/SparseArrays/src/linalg.jl\" target=\"_blank\">/julia/julia-1.8.2/share/julia/stdlib/v1.8/SparseArrays/src/linalg.jl:18</a></li> <li> +(A::<b>LinearAlgebra.Symmetric{<:Real, <:SparseArrays.AbstractSparseMatrix}</b>, B::<b>LinearAlgebra.Hermitian{<:Any, <:SparseArrays.AbstractSparseMatrix}</b>) in SparseArrays at <a href=\"file:///cache/build/default-amdci4-6/julialang/julia-release-1-dot-8/usr/share/julia/stdlib/v1.8/SparseArrays/src/linalg.jl\" target=\"_blank\">/julia/julia-1.8.2/share/julia/stdlib/v1.8/SparseArrays/src/linalg.jl:25</a></li> <li> +(A::<b>LinearAlgebra.Symmetric{var\"#s884\", S} where {var\"#s884\"<:Real, S<:(AbstractMatrix{<:var\"#s884\"})}</b>, B::<b>LinearAlgebra.Hermitian</b>) in LinearAlgebra at <a href=\"file:///cache/build/default-amdci4-6/julialang/julia-release-1-dot-8/usr/share/julia/stdlib/v1.8/LinearAlgebra/src/symmetric.jl\" target=\"_blank\">/julia/julia-1.8.2/share/julia/stdlib/v1.8/LinearAlgebra/src/symmetric.jl:484</a></li> <li> +(A::<b>LinearAlgebra.Symmetric{<:Any, <:SparseArrays.AbstractSparseMatrix}</b>, B::<b>LinearAlgebra.Hermitian{<:Any, <:SparseArrays.AbstractSparseMatrix}</b>) in SparseArrays at <a href=\"file:///cache/build/default-amdci4-6/julialang/julia-release-1-dot-8/usr/share/julia/stdlib/v1.8/SparseArrays/src/linalg.jl\" target=\"_blank\">/julia/julia-1.8.2/share/julia/stdlib/v1.8/SparseArrays/src/linalg.jl:23</a></li> <li> +(A::<b>Array</b>, Bs::<b>Array...</b>) in Base at <a href=\"https://github.com/JuliaLang/julia/tree/36034abf26062acad4af9dcec7c4fc53b260dbb4/base/arraymath.jl#L12\" target=\"_blank\">arraymath.jl:12</a></li> <li> +(X::<b>StridedArray{<:Union{Dates.CompoundPeriod, Dates.Period}}</b>, Y::<b>StridedArray{<:Union{Dates.CompoundPeriod, Dates.Period}}</b>) in Dates at <a href=\"file:///cache/build/default-amdci4-6/julialang/julia-release-1-dot-8/usr/share/julia/stdlib/v1.8/Dates/src/deprecated.jl\" target=\"_blank\">/julia/julia-1.8.2/share/julia/stdlib/v1.8/Dates/src/deprecated.jl:62</a></li> <li> +(A::<b>Array</b>, B::<b>SparseArrays.AbstractSparseMatrixCSC</b>) in SparseArrays at <a href=\"file:///cache/build/default-amdci4-6/julialang/julia-release-1-dot-8/usr/share/julia/stdlib/v1.8/SparseArrays/src/sparsematrix.jl\" target=\"_blank\">/julia/julia-1.8.2/share/julia/stdlib/v1.8/SparseArrays/src/sparsematrix.jl:1833</a></li> <li> +(x::<b>StridedArray{<:Union{Dates.CompoundPeriod, Dates.Period}}</b>) in Dates at <a href=\"file:///cache/build/default-amdci4-6/julialang/julia-release-1-dot-8/usr/share/julia/stdlib/v1.8/Dates/src/deprecated.jl\" target=\"_blank\">/julia/julia-1.8.2/share/julia/stdlib/v1.8/Dates/src/deprecated.jl:55</a></li> <li> +(x::<b>StridedArray{<:Union{Dates.CompoundPeriod, Dates.Period}}</b>, y::<b>Dates.TimeType</b>) in Dates at <a href=\"file:///cache/build/default-amdci4-6/julialang/julia-release-1-dot-8/usr/share/julia/stdlib/v1.8/Dates/src/deprecated.jl\" target=\"_blank\">/julia/julia-1.8.2/share/julia/stdlib/v1.8/Dates/src/deprecated.jl:10</a></li> <li> +(A::<b>LinearAlgebra.UpperHessenberg</b>, B::<b>LinearAlgebra.UpperHessenberg</b>) in LinearAlgebra at <a href=\"file:///cache/build/default-amdci4-6/julialang/julia-release-1-dot-8/usr/share/julia/stdlib/v1.8/LinearAlgebra/src/hessenberg.jl\" target=\"_blank\">/julia/julia-1.8.2/share/julia/stdlib/v1.8/LinearAlgebra/src/hessenberg.jl:101</a></li> <li> +(H::<b>LinearAlgebra.UpperHessenberg</b>, x::<b>LinearAlgebra.UniformScaling</b>) in LinearAlgebra at <a href=\"file:///cache/build/default-amdci4-6/julialang/julia-release-1-dot-8/usr/share/julia/stdlib/v1.8/LinearAlgebra/src/hessenberg.jl\" target=\"_blank\">/julia/julia-1.8.2/share/julia/stdlib/v1.8/LinearAlgebra/src/hessenberg.jl:108</a></li> <li> +(H::<b>LinearAlgebra.UpperHessenberg</b>, x::<b>LinearAlgebra.Diagonal</b>) in LinearAlgebra at <a href=\"file:///cache/build/default-amdci4-6/julialang/julia-release-1-dot-8/usr/share/julia/stdlib/v1.8/LinearAlgebra/src/hessenberg.jl\" target=\"_blank\">/julia/julia-1.8.2/share/julia/stdlib/v1.8/LinearAlgebra/src/hessenberg.jl:108</a></li> <li> +(H::<b>LinearAlgebra.UpperHessenberg</b>, x::<b>LinearAlgebra.Bidiagonal</b>) in LinearAlgebra at <a href=\"file:///cache/build/default-amdci4-6/julialang/julia-release-1-dot-8/usr/share/julia/stdlib/v1.8/LinearAlgebra/src/hessenberg.jl\" target=\"_blank\">/julia/julia-1.8.2/share/julia/stdlib/v1.8/LinearAlgebra/src/hessenberg.jl:108</a></li> <li> +(H::<b>LinearAlgebra.UpperHessenberg</b>, x::<b>LinearAlgebra.Tridiagonal</b>) in LinearAlgebra at <a href=\"file:///cache/build/default-amdci4-6/julialang/julia-release-1-dot-8/usr/share/julia/stdlib/v1.8/LinearAlgebra/src/hessenberg.jl\" target=\"_blank\">/julia/julia-1.8.2/share/julia/stdlib/v1.8/LinearAlgebra/src/hessenberg.jl:108</a></li> <li> +(H::<b>LinearAlgebra.UpperHessenberg</b>, x::<b>LinearAlgebra.SymTridiagonal</b>) in LinearAlgebra at <a href=\"file:///cache/build/default-amdci4-6/julialang/julia-release-1-dot-8/usr/share/julia/stdlib/v1.8/LinearAlgebra/src/hessenberg.jl\" target=\"_blank\">/julia/julia-1.8.2/share/julia/stdlib/v1.8/LinearAlgebra/src/hessenberg.jl:108</a></li> <li> +(H::<b>LinearAlgebra.UpperHessenberg</b>, x::<b>LinearAlgebra.UpperTriangular</b>) in LinearAlgebra at <a href=\"file:///cache/build/default-amdci4-6/julialang/julia-release-1-dot-8/usr/share/julia/stdlib/v1.8/LinearAlgebra/src/hessenberg.jl\" target=\"_blank\">/julia/julia-1.8.2/share/julia/stdlib/v1.8/LinearAlgebra/src/hessenberg.jl:108</a></li> <li> +(H::<b>LinearAlgebra.UpperHessenberg</b>, x::<b>LinearAlgebra.UnitUpperTriangular</b>) in LinearAlgebra at <a href=\"file:///cache/build/default-amdci4-6/julialang/julia-release-1-dot-8/usr/share/julia/stdlib/v1.8/LinearAlgebra/src/hessenberg.jl\" target=\"_blank\">/julia/julia-1.8.2/share/julia/stdlib/v1.8/LinearAlgebra/src/hessenberg.jl:108</a></li> <li> +(A::<b>AbstractArray</b>, B::<b>AbstractArray</b>) in Base at <a href=\"https://github.com/JuliaLang/julia/tree/36034abf26062acad4af9dcec7c4fc53b260dbb4/base/arraymath.jl#L6\" target=\"_blank\">arraymath.jl:6</a></li> <li> +(dt::<b>Dates.DateTime</b>, y::<b>Dates.Year</b>) in Dates at <a href=\"file:///cache/build/default-amdci4-6/julialang/julia-release-1-dot-8/usr/share/julia/stdlib/v1.8/Dates/src/arithmetic.jl\" target=\"_blank\">/julia/julia-1.8.2/share/julia/stdlib/v1.8/Dates/src/arithmetic.jl:23</a></li> <li> +(dt::<b>Dates.DateTime</b>, z::<b>Dates.Month</b>) in Dates at <a href=\"file:///cache/build/default-amdci4-6/julialang/julia-release-1-dot-8/usr/share/julia/stdlib/v1.8/Dates/src/arithmetic.jl\" target=\"_blank\">/julia/julia-1.8.2/share/julia/stdlib/v1.8/Dates/src/arithmetic.jl:47</a></li> <li> +(x::<b>Dates.DateTime</b>, y::<b>Dates.Quarter</b>) in Dates at <a href=\"file:///cache/build/default-amdci4-6/julialang/julia-release-1-dot-8/usr/share/julia/stdlib/v1.8/Dates/src/arithmetic.jl\" target=\"_blank\">/julia/julia-1.8.2/share/julia/stdlib/v1.8/Dates/src/arithmetic.jl:75</a></li> <li> +(x::<b>Dates.DateTime</b>, y::<b>Dates.Period</b>) in Dates at <a href=\"file:///cache/build/default-amdci4-6/julialang/julia-release-1-dot-8/usr/share/julia/stdlib/v1.8/Dates/src/arithmetic.jl\" target=\"_blank\">/julia/julia-1.8.2/share/julia/stdlib/v1.8/Dates/src/arithmetic.jl:81</a></li> <li> +(x::<b>BigInt</b>, c::<b>Union{UInt16, UInt32, UInt64, UInt8}</b>) in Base.GMP at <a href=\"https://github.com/JuliaLang/julia/tree/36034abf26062acad4af9dcec7c4fc53b260dbb4/base/gmp.jl#L530\" target=\"_blank\">gmp.jl:530</a></li> <li> +(x::<b>BigInt</b>, c::<b>Union{Int16, Int32, Int64, Int8}</b>) in Base.GMP at <a href=\"https://github.com/JuliaLang/julia/tree/36034abf26062acad4af9dcec7c4fc53b260dbb4/base/gmp.jl#L536\" target=\"_blank\">gmp.jl:536</a></li> <li> +(x::<b>BigInt</b>, y::<b>BigInt</b>) in Base.GMP at <a href=\"https://github.com/JuliaLang/julia/tree/36034abf26062acad4af9dcec7c4fc53b260dbb4/base/gmp.jl#L482\" target=\"_blank\">gmp.jl:482</a></li> <li> +(a::<b>BigInt</b>, b::<b>BigInt</b>, c::<b>BigInt</b>) in Base.GMP at <a href=\"https://github.com/JuliaLang/julia/tree/36034abf26062acad4af9dcec7c4fc53b260dbb4/base/gmp.jl#L522\" target=\"_blank\">gmp.jl:522</a></li> <li> +(a::<b>BigInt</b>, b::<b>BigInt</b>, c::<b>BigInt</b>, d::<b>BigInt</b>) in Base.GMP at <a href=\"https://github.com/JuliaLang/julia/tree/36034abf26062acad4af9dcec7c4fc53b260dbb4/base/gmp.jl#L523\" target=\"_blank\">gmp.jl:523</a></li> <li> +(a::<b>BigInt</b>, b::<b>BigInt</b>, c::<b>BigInt</b>, d::<b>BigInt</b>, e::<b>BigInt</b>) in Base.GMP at <a href=\"https://github.com/JuliaLang/julia/tree/36034abf26062acad4af9dcec7c4fc53b260dbb4/base/gmp.jl#L524\" target=\"_blank\">gmp.jl:524</a></li> <li> +(x::<b>BigInt</b>, y::<b>BigInt</b>, rest::<b>BigInt...</b>) in Base.GMP at <a href=\"https://github.com/JuliaLang/julia/tree/36034abf26062acad4af9dcec7c4fc53b260dbb4/base/gmp.jl#L657\" target=\"_blank\">gmp.jl:657</a></li> <li> +(c::<b>BigInt</b>, x::<b>BigFloat</b>) in Base.MPFR at <a href=\"https://github.com/JuliaLang/julia/tree/36034abf26062acad4af9dcec7c4fc53b260dbb4/base/mpfr.jl#L422\" target=\"_blank\">mpfr.jl:422</a></li> <li> +(x::<b>Dates.Time</b>, y::<b>Dates.TimePeriod</b>) in Dates at <a href=\"file:///cache/build/default-amdci4-6/julialang/julia-release-1-dot-8/usr/share/julia/stdlib/v1.8/Dates/src/arithmetic.jl\" target=\"_blank\">/julia/julia-1.8.2/share/julia/stdlib/v1.8/Dates/src/arithmetic.jl:83</a></li> <li> +(t::<b>Dates.Time</b>, dt::<b>Dates.Date</b>) in Dates at <a href=\"file:///cache/build/default-amdci4-6/julialang/julia-release-1-dot-8/usr/share/julia/stdlib/v1.8/Dates/src/arithmetic.jl\" target=\"_blank\">/julia/julia-1.8.2/share/julia/stdlib/v1.8/Dates/src/arithmetic.jl:20</a></li> <li> +(::<b>Missing</b>) in Base at <a href=\"https://github.com/JuliaLang/julia/tree/36034abf26062acad4af9dcec7c4fc53b260dbb4/base/missing.jl#L101\" target=\"_blank\">missing.jl:101</a></li> <li> +(::<b>Missing</b>, ::<b>Number</b>) in Base at <a href=\"https://github.com/JuliaLang/julia/tree/36034abf26062acad4af9dcec7c4fc53b260dbb4/base/missing.jl#L123\" target=\"_blank\">missing.jl:123</a></li> <li> +(x::<b>Missing</b>, y::<b>Dates.AbstractTime</b>) in Dates at <a href=\"file:///cache/build/default-amdci4-6/julialang/julia-release-1-dot-8/usr/share/julia/stdlib/v1.8/Dates/src/arithmetic.jl\" target=\"_blank\">/julia/julia-1.8.2/share/julia/stdlib/v1.8/Dates/src/arithmetic.jl:89</a></li> <li> +(::<b>Missing</b>, ::<b>Missing</b>) in Base at <a href=\"https://github.com/JuliaLang/julia/tree/36034abf26062acad4af9dcec7c4fc53b260dbb4/base/missing.jl#L122\" target=\"_blank\">missing.jl:122</a></li> <li> +(x::<b>Bool</b>) in Base at <a href=\"https://github.com/JuliaLang/julia/tree/36034abf26062acad4af9dcec7c4fc53b260dbb4/base/bool.jl#L159\" target=\"_blank\">bool.jl:159</a></li> <li> +(x::<b>Number</b>, y::<b>Base.TwicePrecision</b>) in Base at <a href=\"https://github.com/JuliaLang/julia/tree/36034abf26062acad4af9dcec7c4fc53b260dbb4/base/twiceprecision.jl#L294\" target=\"_blank\">twiceprecision.jl:294</a></li> <li> +(::<b>Number</b>, ::<b>Missing</b>) in Base at <a href=\"https://github.com/JuliaLang/julia/tree/36034abf26062acad4af9dcec7c4fc53b260dbb4/base/missing.jl#L124\" target=\"_blank\">missing.jl:124</a></li> <li> +(x::<b>Number</b>, J::<b>LinearAlgebra.UniformScaling</b>) in LinearAlgebra at <a href=\"file:///cache/build/default-amdci4-6/julialang/julia-release-1-dot-8/usr/share/julia/stdlib/v1.8/LinearAlgebra/src/uniformscaling.jl\" target=\"_blank\">/julia/julia-1.8.2/share/julia/stdlib/v1.8/LinearAlgebra/src/uniformscaling.jl:145</a></li> <li> +(x::<b>Integer</b>, y::<b>Ptr</b>) in Base at <a href=\"https://github.com/JuliaLang/julia/tree/36034abf26062acad4af9dcec7c4fc53b260dbb4/base/pointer.jl#L161\" target=\"_blank\">pointer.jl:161</a></li> <li> +(y::<b>Integer</b>, x::<b>Rational</b>) in Base at <a href=\"https://github.com/JuliaLang/julia/tree/36034abf26062acad4af9dcec7c4fc53b260dbb4/base/rational.jl#L320\" target=\"_blank\">rational.jl:320</a></li> <li> +(x::<b>Integer</b>, y::<b>AbstractChar</b>) in Base at <a href=\"https://github.com/JuliaLang/julia/tree/36034abf26062acad4af9dcec7c4fc53b260dbb4/base/char.jl#L247\" target=\"_blank\">char.jl:247</a></li> <li> +(x::<b>Bool</b>, y::<b>T</b>)<i> where T<:AbstractFloat</i> in Base at <a href=\"https://github.com/JuliaLang/julia/tree/36034abf26062acad4af9dcec7c4fc53b260dbb4/base/bool.jl#L169\" target=\"_blank\">bool.jl:169</a></li> <li> +(x::<b>Bool</b>, y::<b>Bool</b>) in Base at <a href=\"https://github.com/JuliaLang/julia/tree/36034abf26062acad4af9dcec7c4fc53b260dbb4/base/bool.jl#L162\" target=\"_blank\">bool.jl:162</a></li> <li> +(a::<b>Integer</b>, b::<b>Integer</b>) in Base at <a href=\"https://github.com/JuliaLang/julia/tree/36034abf26062acad4af9dcec7c4fc53b260dbb4/base/int.jl#L987\" target=\"_blank\">int.jl:987</a></li> <li> +(x::<b>Bool</b>, z::<b>Complex{Bool}</b>) in Base at <a href=\"https://github.com/JuliaLang/julia/tree/36034abf26062acad4af9dcec7c4fc53b260dbb4/base/complex.jl#L299\" target=\"_blank\">complex.jl:299</a></li> <li> +(x::<b>Real</b>, z::<b>Complex{Bool}</b>) in Base at <a href=\"https://github.com/JuliaLang/julia/tree/36034abf26062acad4af9dcec7c4fc53b260dbb4/base/complex.jl#L313\" target=\"_blank\">complex.jl:313</a></li> <li> +(x::<b>Bool</b>, z::<b>Complex</b>) in Base at <a href=\"https://github.com/JuliaLang/julia/tree/36034abf26062acad4af9dcec7c4fc53b260dbb4/base/complex.jl#L306\" target=\"_blank\">complex.jl:306</a></li> <li> +(x::<b>Real</b>, z::<b>Complex</b>) in Base at <a href=\"https://github.com/JuliaLang/julia/tree/36034abf26062acad4af9dcec7c4fc53b260dbb4/base/complex.jl#L325\" target=\"_blank\">complex.jl:325</a></li> <li> +(z::<b>Complex{Bool}</b>, x::<b>Bool</b>) in Base at <a href=\"https://github.com/JuliaLang/julia/tree/36034abf26062acad4af9dcec7c4fc53b260dbb4/base/complex.jl#L300\" target=\"_blank\">complex.jl:300</a></li> <li> +(z::<b>Complex</b>, x::<b>Bool</b>) in Base at <a href=\"https://github.com/JuliaLang/julia/tree/36034abf26062acad4af9dcec7c4fc53b260dbb4/base/complex.jl#L307\" target=\"_blank\">complex.jl:307</a></li> <li> +(z::<b>Complex{Bool}</b>, x::<b>Real</b>) in Base at <a href=\"https://github.com/JuliaLang/julia/tree/36034abf26062acad4af9dcec7c4fc53b260dbb4/base/complex.jl#L314\" target=\"_blank\">complex.jl:314</a></li> <li> +(z::<b>Complex</b>) in Base at <a href=\"https://github.com/JuliaLang/julia/tree/36034abf26062acad4af9dcec7c4fc53b260dbb4/base/complex.jl#L286\" target=\"_blank\">complex.jl:286</a></li> <li> +(z::<b>Complex</b>, x::<b>Real</b>) in Base at <a href=\"https://github.com/JuliaLang/julia/tree/36034abf26062acad4af9dcec7c4fc53b260dbb4/base/complex.jl#L326\" target=\"_blank\">complex.jl:326</a></li> <li> +(x::<b>Rational{BigInt}</b>, y::<b>Rational{BigInt}</b>) in Base.GMP.MPQ at <a href=\"https://github.com/JuliaLang/julia/tree/36034abf26062acad4af9dcec7c4fc53b260dbb4/base/gmp.jl#L922\" target=\"_blank\">gmp.jl:922</a></li> <li> +(x::<b>Rational</b>) in Base at <a href=\"https://github.com/JuliaLang/julia/tree/36034abf26062acad4af9dcec7c4fc53b260dbb4/base/rational.jl#L270\" target=\"_blank\">rational.jl:270</a></li> <li> +(x::<b>Rational</b>, y::<b>Rational</b>) in Base at <a href=\"https://github.com/JuliaLang/julia/tree/36034abf26062acad4af9dcec7c4fc53b260dbb4/base/rational.jl#L284\" target=\"_blank\">rational.jl:284</a></li> <li> +(level::<b>Base.CoreLogging.LogLevel</b>, inc::<b>Integer</b>) in Base.CoreLogging at <a href=\"https://github.com/JuliaLang/julia/tree/36034abf26062acad4af9dcec7c4fc53b260dbb4/base/logging.jl#L131\" target=\"_blank\">logging.jl:131</a></li> <li> +(B::<b>BitMatrix</b>, J::<b>LinearAlgebra.UniformScaling</b>) in LinearAlgebra at <a href=\"file:///cache/build/default-amdci4-6/julialang/julia-release-1-dot-8/usr/share/julia/stdlib/v1.8/LinearAlgebra/src/uniformscaling.jl\" target=\"_blank\">/julia/julia-1.8.2/share/julia/stdlib/v1.8/LinearAlgebra/src/uniformscaling.jl:151</a></li> <li> +(A::<b>AbstractMatrix</b>, J::<b>LinearAlgebra.UniformScaling</b>) in LinearAlgebra at <a href=\"file:///cache/build/default-amdci4-6/julialang/julia-release-1-dot-8/usr/share/julia/stdlib/v1.8/LinearAlgebra/src/uniformscaling.jl\" target=\"_blank\">/julia/julia-1.8.2/share/julia/stdlib/v1.8/LinearAlgebra/src/uniformscaling.jl:214</a></li> <li> +(x::<b>AbstractArray{<:Number}</b>) in Base at <a href=\"https://github.com/JuliaLang/julia/tree/36034abf26062acad4af9dcec7c4fc53b260dbb4/base/abstractarraymath.jl#L220\" target=\"_blank\">abstractarraymath.jl:220</a></li> <li> +(dt::<b>Dates.Date</b>, t::<b>Dates.Time</b>) in Dates at <a href=\"file:///cache/build/default-amdci4-6/julialang/julia-release-1-dot-8/usr/share/julia/stdlib/v1.8/Dates/src/arithmetic.jl\" target=\"_blank\">/julia/julia-1.8.2/share/julia/stdlib/v1.8/Dates/src/arithmetic.jl:19</a></li> <li> +(dt::<b>Dates.Date</b>, y::<b>Dates.Year</b>) in Dates at <a href=\"file:///cache/build/default-amdci4-6/julialang/julia-release-1-dot-8/usr/share/julia/stdlib/v1.8/Dates/src/arithmetic.jl\" target=\"_blank\">/julia/julia-1.8.2/share/julia/stdlib/v1.8/Dates/src/arithmetic.jl:27</a></li> <li> +(dt::<b>Dates.Date</b>, z::<b>Dates.Month</b>) in Dates at <a href=\"file:///cache/build/default-amdci4-6/julialang/julia-release-1-dot-8/usr/share/julia/stdlib/v1.8/Dates/src/arithmetic.jl\" target=\"_blank\">/julia/julia-1.8.2/share/julia/stdlib/v1.8/Dates/src/arithmetic.jl:54</a></li> <li> +(x::<b>Dates.Date</b>, y::<b>Dates.Quarter</b>) in Dates at <a href=\"file:///cache/build/default-amdci4-6/julialang/julia-release-1-dot-8/usr/share/julia/stdlib/v1.8/Dates/src/arithmetic.jl\" target=\"_blank\">/julia/julia-1.8.2/share/julia/stdlib/v1.8/Dates/src/arithmetic.jl:73</a></li> <li> +(x::<b>Dates.Date</b>, y::<b>Dates.Week</b>) in Dates at <a href=\"file:///cache/build/default-amdci4-6/julialang/julia-release-1-dot-8/usr/share/julia/stdlib/v1.8/Dates/src/arithmetic.jl\" target=\"_blank\">/julia/julia-1.8.2/share/julia/stdlib/v1.8/Dates/src/arithmetic.jl:77</a></li> <li> +(x::<b>Dates.Date</b>, y::<b>Dates.Day</b>) in Dates at <a href=\"file:///cache/build/default-amdci4-6/julialang/julia-release-1-dot-8/usr/share/julia/stdlib/v1.8/Dates/src/arithmetic.jl\" target=\"_blank\">/julia/julia-1.8.2/share/julia/stdlib/v1.8/Dates/src/arithmetic.jl:79</a></li> <li> +(x::<b>Dates.TimeType</b>) in Dates at <a href=\"file:///cache/build/default-amdci4-6/julialang/julia-release-1-dot-8/usr/share/julia/stdlib/v1.8/Dates/src/arithmetic.jl\" target=\"_blank\">/julia/julia-1.8.2/share/julia/stdlib/v1.8/Dates/src/arithmetic.jl:8</a></li> <li> +(a::<b>Dates.TimeType</b>, b::<b>Dates.Period</b>, c::<b>Dates.Period</b>) in Dates at <a href=\"file:///cache/build/default-amdci4-6/julialang/julia-release-1-dot-8/usr/share/julia/stdlib/v1.8/Dates/src/periods.jl\" target=\"_blank\">/julia/julia-1.8.2/share/julia/stdlib/v1.8/Dates/src/periods.jl:389</a></li> <li> +(a::<b>Dates.TimeType</b>, b::<b>Dates.Period</b>, c::<b>Dates.Period</b>, d::<b>Dates.Period...</b>) in Dates at <a href=\"file:///cache/build/default-amdci4-6/julialang/julia-release-1-dot-8/usr/share/julia/stdlib/v1.8/Dates/src/periods.jl\" target=\"_blank\">/julia/julia-1.8.2/share/julia/stdlib/v1.8/Dates/src/periods.jl:390</a></li> <li> +(x::<b>Dates.TimeType</b>, y::<b>Dates.CompoundPeriod</b>) in Dates at <a href=\"file:///cache/build/default-amdci4-6/julialang/julia-release-1-dot-8/usr/share/julia/stdlib/v1.8/Dates/src/periods.jl\" target=\"_blank\">/julia/julia-1.8.2/share/julia/stdlib/v1.8/Dates/src/periods.jl:392</a></li> <li> +(x::<b>BigFloat</b>, c::<b>Union{UInt16, UInt32, UInt64, UInt8}</b>) in Base.MPFR at <a href=\"https://github.com/JuliaLang/julia/tree/36034abf26062acad4af9dcec7c4fc53b260dbb4/base/mpfr.jl#L393\" target=\"_blank\">mpfr.jl:393</a></li> <li> +(x::<b>BigFloat</b>, c::<b>Union{Int16, Int32, Int64, Int8}</b>) in Base.MPFR at <a href=\"https://github.com/JuliaLang/julia/tree/36034abf26062acad4af9dcec7c4fc53b260dbb4/base/mpfr.jl#L401\" target=\"_blank\">mpfr.jl:401</a></li> <li> +(x::<b>BigFloat</b>, c::<b>Union{Float16, Float32, Float64}</b>) in Base.MPFR at <a href=\"https://github.com/JuliaLang/julia/tree/36034abf26062acad4af9dcec7c4fc53b260dbb4/base/mpfr.jl#L409\" target=\"_blank\">mpfr.jl:409</a></li> <li> +(x::<b>BigFloat</b>, y::<b>BigFloat</b>) in Base.MPFR at <a href=\"https://github.com/JuliaLang/julia/tree/36034abf26062acad4af9dcec7c4fc53b260dbb4/base/mpfr.jl#L386\" target=\"_blank\">mpfr.jl:386</a></li> <li> +(x::<b>BigFloat</b>, c::<b>BigInt</b>) in Base.MPFR at <a href=\"https://github.com/JuliaLang/julia/tree/36034abf26062acad4af9dcec7c4fc53b260dbb4/base/mpfr.jl#L417\" target=\"_blank\">mpfr.jl:417</a></li> <li> +(a::<b>BigFloat</b>, b::<b>BigFloat</b>, c::<b>BigFloat</b>) in Base.MPFR at <a href=\"https://github.com/JuliaLang/julia/tree/36034abf26062acad4af9dcec7c4fc53b260dbb4/base/mpfr.jl#L558\" target=\"_blank\">mpfr.jl:558</a></li> <li> +(a::<b>BigFloat</b>, b::<b>BigFloat</b>, c::<b>BigFloat</b>, d::<b>BigFloat</b>) in Base.MPFR at <a href=\"https://github.com/JuliaLang/julia/tree/36034abf26062acad4af9dcec7c4fc53b260dbb4/base/mpfr.jl#L564\" target=\"_blank\">mpfr.jl:564</a></li> <li> +(a::<b>BigFloat</b>, b::<b>BigFloat</b>, c::<b>BigFloat</b>, d::<b>BigFloat</b>, e::<b>BigFloat</b>) in Base.MPFR at <a href=\"https://github.com/JuliaLang/julia/tree/36034abf26062acad4af9dcec7c4fc53b260dbb4/base/mpfr.jl#L571\" target=\"_blank\">mpfr.jl:571</a></li> <li> +(x::<b>Number</b>) in Base at <a href=\"https://github.com/JuliaLang/julia/tree/36034abf26062acad4af9dcec7c4fc53b260dbb4/base/operators.jl#L528\" target=\"_blank\">operators.jl:528</a></li> <li> +(x::<b>T</b>, y::<b>T</b>)<i> where T<:Number</i> in Base at <a href=\"https://github.com/JuliaLang/julia/tree/36034abf26062acad4af9dcec7c4fc53b260dbb4/base/promotion.jl#L463\" target=\"_blank\">promotion.jl:463</a></li> <li> +(x::<b>Number</b>, y::<b>Number</b>) in Base at <a href=\"https://github.com/JuliaLang/julia/tree/36034abf26062acad4af9dcec7c4fc53b260dbb4/base/promotion.jl#L388\" target=\"_blank\">promotion.jl:388</a></li> <li> +(x::<b>Dates.CompoundPeriod</b>, y::<b>Dates.Period</b>) in Dates at <a href=\"file:///cache/build/default-amdci4-6/julialang/julia-release-1-dot-8/usr/share/julia/stdlib/v1.8/Dates/src/periods.jl\" target=\"_blank\">/julia/julia-1.8.2/share/julia/stdlib/v1.8/Dates/src/periods.jl:368</a></li> <li> +(x::<b>Dates.CompoundPeriod</b>, y::<b>Dates.TimeType</b>) in Dates at <a href=\"file:///cache/build/default-amdci4-6/julialang/julia-release-1-dot-8/usr/share/julia/stdlib/v1.8/Dates/src/periods.jl\" target=\"_blank\">/julia/julia-1.8.2/share/julia/stdlib/v1.8/Dates/src/periods.jl:398</a></li> <li> +(x::<b>Dates.CompoundPeriod</b>, y::<b>Dates.CompoundPeriod</b>) in Dates at <a href=\"file:///cache/build/default-amdci4-6/julialang/julia-release-1-dot-8/usr/share/julia/stdlib/v1.8/Dates/src/periods.jl\" target=\"_blank\">/julia/julia-1.8.2/share/julia/stdlib/v1.8/Dates/src/periods.jl:370</a></li> <li> +(a::<b>Pkg.Resolve.FieldValue</b>, b::<b>Pkg.Resolve.FieldValue</b>) in Pkg.Resolve at <a href=\"file:///cache/build/default-amdci4-6/julialang/julia-release-1-dot-8/usr/share/julia/stdlib/v1.8/Pkg/src/Resolve/fieldvalues.jl\" target=\"_blank\">/julia/julia-1.8.2/share/julia/stdlib/v1.8/Pkg/src/Resolve/fieldvalues.jl:43</a></li> <li> +(a::<b>Pkg.Resolve.VersionWeight</b>, b::<b>Pkg.Resolve.VersionWeight</b>) in Pkg.Resolve at <a href=\"file:///cache/build/default-amdci4-6/julialang/julia-release-1-dot-8/usr/share/julia/stdlib/v1.8/Pkg/src/Resolve/versionweights.jl\" target=\"_blank\">/julia/julia-1.8.2/share/julia/stdlib/v1.8/Pkg/src/Resolve/versionweights.jl:22</a></li> <li> +(a, b, c, xs...) in Base at <a href=\"https://github.com/JuliaLang/julia/tree/36034abf26062acad4af9dcec7c4fc53b260dbb4/base/operators.jl#L591\" target=\"_blank\">operators.jl:591</a></li> </ul>"
      ],
      "text/plain": [
       "# 206 methods for generic function \"+\":\n",
       "[1] +(x::T, y::T) where T<:Union{Int128, Int16, Int32, Int64, Int8, UInt128, UInt16, UInt32, UInt64, UInt8} in Base at int.jl:87\n",
       "[2] +(x::T, y::T) where T<:Union{Float16, Float32, Float64} in Base at float.jl:383\n",
       "[3] +(c::Union{UInt16, UInt32, UInt64, UInt8}, x::BigInt) in Base.GMP at gmp.jl:531\n",
       "[4] +(c::Union{Int16, Int32, Int64, Int8}, x::BigInt) in Base.GMP at gmp.jl:537\n",
       "[5] +(c::Union{UInt16, UInt32, UInt64, UInt8}, x::BigFloat) in Base.MPFR at mpfr.jl:398\n",
       "[6] +(c::Union{Int16, Int32, Int64, Int8}, x::BigFloat) in Base.MPFR at mpfr.jl:406\n",
       "[7] +(c::Union{Float16, Float32, Float64}, x::BigFloat) in Base.MPFR at mpfr.jl:414\n",
       "[8] +(x::Union{Dates.CompoundPeriod, Dates.Period}) in Dates at /julia/julia-1.8.2/share/julia/stdlib/v1.8/Dates/src/periods.jl:378\n",
       "[9] +(A::LinearAlgebra.Hermitian, B::LinearAlgebra.Hermitian) in LinearAlgebra at /julia/julia-1.8.2/share/julia/stdlib/v1.8/LinearAlgebra/src/symmetric.jl:469\n",
       "[10] +(A::LinearAlgebra.Hermitian, B::LinearAlgebra.SymTridiagonal{var\"#s882\", V} where {var\"#s882\"<:Real, V<:AbstractVector{var\"#s882\"}}) in LinearAlgebra at /julia/julia-1.8.2/share/julia/stdlib/v1.8/LinearAlgebra/src/symmetric.jl:488\n",
       "[11] +(H::LinearAlgebra.Hermitian, D::LinearAlgebra.Diagonal{var\"#s885\", V} where {var\"#s885\"<:Real, V<:AbstractVector{var\"#s885\"}}) in LinearAlgebra at /julia/julia-1.8.2/share/julia/stdlib/v1.8/LinearAlgebra/src/diagonal.jl:197\n",
       "[12] +(A::LinearAlgebra.Hermitian, J::LinearAlgebra.UniformScaling{<:Complex}) in LinearAlgebra at /julia/julia-1.8.2/share/julia/stdlib/v1.8/LinearAlgebra/src/uniformscaling.jl:195\n",
       "[13] +(A::LinearAlgebra.Hermitian{<:Any, <:SparseArrays.AbstractSparseMatrix}, B::SparseArrays.AbstractSparseMatrix) in SparseArrays at /julia/julia-1.8.2/share/julia/stdlib/v1.8/SparseArrays/src/linalg.jl:15\n",
       "[14] +(A::LinearAlgebra.Hermitian, B::SparseArrays.AbstractSparseMatrix) in SparseArrays at /julia/julia-1.8.2/share/julia/stdlib/v1.8/SparseArrays/src/linalg.jl:18\n",
       "[15] +(A::LinearAlgebra.Hermitian{<:Any, <:SparseArrays.AbstractSparseMatrix}, B::LinearAlgebra.Symmetric{<:Real, <:SparseArrays.AbstractSparseMatrix}) in SparseArrays at /julia/julia-1.8.2/share/julia/stdlib/v1.8/SparseArrays/src/linalg.jl:26\n",
       "[16] +(A::LinearAlgebra.Hermitian, B::LinearAlgebra.Symmetric{var\"#s885\", S} where {var\"#s885\"<:Real, S<:(AbstractMatrix{<:var\"#s885\"})}) in LinearAlgebra at /julia/julia-1.8.2/share/julia/stdlib/v1.8/LinearAlgebra/src/symmetric.jl:483\n",
       "[17] +(A::LinearAlgebra.Hermitian{<:Any, <:SparseArrays.AbstractSparseMatrix}, B::LinearAlgebra.Symmetric{<:Any, <:SparseArrays.AbstractSparseMatrix}) in SparseArrays at /julia/julia-1.8.2/share/julia/stdlib/v1.8/SparseArrays/src/linalg.jl:24\n",
       "[18] +(x::P, y::P) where P<:Dates.Period in Dates at /julia/julia-1.8.2/share/julia/stdlib/v1.8/Dates/src/periods.jl:77\n",
       "[19] +(x::Dates.Period, y::Dates.Period) in Dates at /julia/julia-1.8.2/share/julia/stdlib/v1.8/Dates/src/periods.jl:367\n",
       "[20] +(y::Dates.Period, x::Dates.CompoundPeriod) in Dates at /julia/julia-1.8.2/share/julia/stdlib/v1.8/Dates/src/periods.jl:369\n",
       "[21] +(y::Dates.Period, x::Dates.TimeType) in Dates at /julia/julia-1.8.2/share/julia/stdlib/v1.8/Dates/src/arithmetic.jl:85\n",
       "[22] +(x::Dates.Period, r::AbstractRange{<:Dates.TimeType}) in Dates at /julia/julia-1.8.2/share/julia/stdlib/v1.8/Dates/src/ranges.jl:63\n",
       "[23] +(y::Union{Dates.CompoundPeriod, Dates.Period}, x::AbstractArray{<:Dates.TimeType}) in Dates at /julia/julia-1.8.2/share/julia/stdlib/v1.8/Dates/src/deprecated.jl:14\n",
       "[24] +(A::SparseArrays.AbstractSparseMatrix, B::LinearAlgebra.Hermitian{<:Any, <:SparseArrays.AbstractSparseMatrix}) in SparseArrays at /julia/julia-1.8.2/share/julia/stdlib/v1.8/SparseArrays/src/linalg.jl:14\n",
       "[25] +(A::SparseArrays.AbstractSparseMatrix, B::LinearAlgebra.Hermitian) in SparseArrays at /julia/julia-1.8.2/share/julia/stdlib/v1.8/SparseArrays/src/linalg.jl:17\n",
       "[26] +(A::SparseArrays.AbstractSparseMatrix, B::LinearAlgebra.Symmetric{<:Any, <:SparseArrays.AbstractSparseMatrix}) in SparseArrays at /julia/julia-1.8.2/share/julia/stdlib/v1.8/SparseArrays/src/linalg.jl:14\n",
       "[27] +(A::SparseArrays.AbstractSparseMatrix, B::LinearAlgebra.Symmetric) in SparseArrays at /julia/julia-1.8.2/share/julia/stdlib/v1.8/SparseArrays/src/linalg.jl:17\n",
       "[28] +(A::LinearAlgebra.UpperTriangular, B::LinearAlgebra.UpperTriangular) in LinearAlgebra at /julia/julia-1.8.2/share/julia/stdlib/v1.8/LinearAlgebra/src/triangular.jl:638\n",
       "[29] +(A::LinearAlgebra.UpperTriangular, B::LinearAlgebra.UnitUpperTriangular) in LinearAlgebra at /julia/julia-1.8.2/share/julia/stdlib/v1.8/LinearAlgebra/src/triangular.jl:640\n",
       "[30] +(x::LinearAlgebra.UpperTriangular, H::LinearAlgebra.UpperHessenberg) in LinearAlgebra at /julia/julia-1.8.2/share/julia/stdlib/v1.8/LinearAlgebra/src/hessenberg.jl:109\n",
       "[31] +(A::LinearAlgebra.UpperTriangular, B::LinearAlgebra.Bidiagonal) in LinearAlgebra at /julia/julia-1.8.2/share/julia/stdlib/v1.8/LinearAlgebra/src/special.jl:98\n",
       "[32] +(A::BitArray, B::BitArray) in Base at bitarray.jl:1184\n",
       "[33] +(A::LinearAlgebra.UnitUpperTriangular, B::LinearAlgebra.UpperTriangular) in LinearAlgebra at /julia/julia-1.8.2/share/julia/stdlib/v1.8/LinearAlgebra/src/triangular.jl:642\n",
       "[34] +(A::LinearAlgebra.UnitUpperTriangular, B::LinearAlgebra.UnitUpperTriangular) in LinearAlgebra at /julia/julia-1.8.2/share/julia/stdlib/v1.8/LinearAlgebra/src/triangular.jl:644\n",
       "[35] +(UL::LinearAlgebra.UnitUpperTriangular, J::LinearAlgebra.UniformScaling) in LinearAlgebra at /julia/julia-1.8.2/share/julia/stdlib/v1.8/LinearAlgebra/src/uniformscaling.jl:181\n",
       "[36] +(x::LinearAlgebra.UnitUpperTriangular, H::LinearAlgebra.UpperHessenberg) in LinearAlgebra at /julia/julia-1.8.2/share/julia/stdlib/v1.8/LinearAlgebra/src/hessenberg.jl:109\n",
       "[37] +(A::LinearAlgebra.UnitUpperTriangular, B::LinearAlgebra.Bidiagonal) in LinearAlgebra at /julia/julia-1.8.2/share/julia/stdlib/v1.8/LinearAlgebra/src/special.jl:98\n",
       "[38] +(z::Complex, w::Complex) in Base at complex.jl:288\n",
       "[39] +(Da::LinearAlgebra.Diagonal, Db::LinearAlgebra.Diagonal) in LinearAlgebra at /julia/julia-1.8.2/share/julia/stdlib/v1.8/LinearAlgebra/src/diagonal.jl:184\n",
       "[40] +(D::LinearAlgebra.Diagonal, S::LinearAlgebra.Symmetric) in LinearAlgebra at /julia/julia-1.8.2/share/julia/stdlib/v1.8/LinearAlgebra/src/diagonal.jl:188\n",
       "[41] +(D::LinearAlgebra.Diagonal{var\"#s885\", V} where {var\"#s885\"<:Real, V<:AbstractVector{var\"#s885\"}}, H::LinearAlgebra.Hermitian) in LinearAlgebra at /julia/julia-1.8.2/share/julia/stdlib/v1.8/LinearAlgebra/src/diagonal.jl:194\n",
       "[42] +(x::LinearAlgebra.Diagonal, H::LinearAlgebra.UpperHessenberg) in LinearAlgebra at /julia/julia-1.8.2/share/julia/stdlib/v1.8/LinearAlgebra/src/hessenberg.jl:109\n",
       "[43] +(A::LinearAlgebra.Diagonal, B::LinearAlgebra.Bidiagonal) in LinearAlgebra at /julia/julia-1.8.2/share/julia/stdlib/v1.8/LinearAlgebra/src/special.jl:137\n",
       "[44] +(A::LinearAlgebra.Diagonal, B::LinearAlgebra.SymTridiagonal) in LinearAlgebra at /julia/julia-1.8.2/share/julia/stdlib/v1.8/LinearAlgebra/src/special.jl:147\n",
       "[45] +(A::LinearAlgebra.Diagonal, B::LinearAlgebra.Tridiagonal) in LinearAlgebra at /julia/julia-1.8.2/share/julia/stdlib/v1.8/LinearAlgebra/src/special.jl:175\n",
       "[46] +(A::LinearAlgebra.Diagonal{var\"#s885\", V} where {var\"#s885\"<:Number, V<:AbstractVector{var\"#s885\"}}, B::LinearAlgebra.UniformScaling) in LinearAlgebra at /julia/julia-1.8.2/share/julia/stdlib/v1.8/LinearAlgebra/src/special.jl:253\n",
       "[47] +(r1::LinRange{T}, r2::LinRange{T}) where T in Base at range.jl:1431\n",
       "[48] +(x::Rational, y::Integer) in Base at rational.jl:313\n",
       "[49] +(x::AbstractIrrational, y::AbstractIrrational) in Base at irrationals.jl:158\n",
       "[50] +(A::LinearAlgebra.UnitLowerTriangular, B::LinearAlgebra.LowerTriangular) in LinearAlgebra at /julia/julia-1.8.2/share/julia/stdlib/v1.8/LinearAlgebra/src/triangular.jl:643\n",
       "[51] +(A::LinearAlgebra.UnitLowerTriangular, B::LinearAlgebra.UnitLowerTriangular) in LinearAlgebra at /julia/julia-1.8.2/share/julia/stdlib/v1.8/LinearAlgebra/src/triangular.jl:645\n",
       "[52] +(UL::LinearAlgebra.UnitLowerTriangular, J::LinearAlgebra.UniformScaling) in LinearAlgebra at /julia/julia-1.8.2/share/julia/stdlib/v1.8/LinearAlgebra/src/uniformscaling.jl:181\n",
       "[53] +(A::LinearAlgebra.UnitLowerTriangular, B::LinearAlgebra.Bidiagonal) in LinearAlgebra at /julia/julia-1.8.2/share/julia/stdlib/v1.8/LinearAlgebra/src/special.jl:98\n",
       "[54] +(x::T, y::Integer) where T<:AbstractChar in Base at char.jl:237\n",
       "[55] +(A::LinearAlgebra.SymTridiagonal, B::LinearAlgebra.SymTridiagonal) in LinearAlgebra at /julia/julia-1.8.2/share/julia/stdlib/v1.8/LinearAlgebra/src/tridiag.jl:207\n",
       "[56] +(A::LinearAlgebra.SymTridiagonal, B::LinearAlgebra.Symmetric) in LinearAlgebra at /julia/julia-1.8.2/share/julia/stdlib/v1.8/LinearAlgebra/src/symmetric.jl:485\n",
       "[57] +(A::LinearAlgebra.SymTridiagonal{var\"#s883\", V} where {var\"#s883\"<:Real, V<:AbstractVector{var\"#s883\"}}, B::LinearAlgebra.Hermitian) in LinearAlgebra at /julia/julia-1.8.2/share/julia/stdlib/v1.8/LinearAlgebra/src/symmetric.jl:487\n",
       "[58] +(x::LinearAlgebra.SymTridiagonal, H::LinearAlgebra.UpperHessenberg) in LinearAlgebra at /julia/julia-1.8.2/share/julia/stdlib/v1.8/LinearAlgebra/src/hessenberg.jl:109\n",
       "[59] +(A::LinearAlgebra.SymTridiagonal, B::LinearAlgebra.Diagonal) in LinearAlgebra at /julia/julia-1.8.2/share/julia/stdlib/v1.8/LinearAlgebra/src/special.jl:157\n",
       "[60] +(A::LinearAlgebra.SymTridiagonal, B::LinearAlgebra.Tridiagonal) in LinearAlgebra at /julia/julia-1.8.2/share/julia/stdlib/v1.8/LinearAlgebra/src/special.jl:171\n",
       "[61] +(A::LinearAlgebra.SymTridiagonal, B::LinearAlgebra.Bidiagonal) in LinearAlgebra at /julia/julia-1.8.2/share/julia/stdlib/v1.8/LinearAlgebra/src/special.jl:225\n",
       "[62] +(A::LinearAlgebra.SymTridiagonal{var\"#s885\", V} where {var\"#s885\"<:Number, V<:AbstractVector{var\"#s885\"}}, B::LinearAlgebra.UniformScaling) in LinearAlgebra at /julia/julia-1.8.2/share/julia/stdlib/v1.8/LinearAlgebra/src/special.jl:243\n",
       "[63] +(A::LinearAlgebra.LowerTriangular, B::LinearAlgebra.LowerTriangular) in LinearAlgebra at /julia/julia-1.8.2/share/julia/stdlib/v1.8/LinearAlgebra/src/triangular.jl:639\n",
       "[64] +(A::LinearAlgebra.LowerTriangular, B::LinearAlgebra.UnitLowerTriangular) in LinearAlgebra at /julia/julia-1.8.2/share/julia/stdlib/v1.8/LinearAlgebra/src/triangular.jl:641\n",
       "[65] +(A::LinearAlgebra.LowerTriangular, B::LinearAlgebra.Bidiagonal) in LinearAlgebra at /julia/julia-1.8.2/share/julia/stdlib/v1.8/LinearAlgebra/src/special.jl:98\n",
       "[66] +(A::LinearAlgebra.Tridiagonal, B::LinearAlgebra.Tridiagonal) in LinearAlgebra at /julia/julia-1.8.2/share/julia/stdlib/v1.8/LinearAlgebra/src/tridiag.jl:741\n",
       "[67] +(x::LinearAlgebra.Tridiagonal, H::LinearAlgebra.UpperHessenberg) in LinearAlgebra at /julia/julia-1.8.2/share/julia/stdlib/v1.8/LinearAlgebra/src/hessenberg.jl:109\n",
       "[68] +(A::LinearAlgebra.Tridiagonal, B::LinearAlgebra.SymTridiagonal) in LinearAlgebra at /julia/julia-1.8.2/share/julia/stdlib/v1.8/LinearAlgebra/src/special.jl:169\n",
       "[69] +(A::LinearAlgebra.Tridiagonal, B::LinearAlgebra.Diagonal) in LinearAlgebra at /julia/julia-1.8.2/share/julia/stdlib/v1.8/LinearAlgebra/src/special.jl:185\n",
       "[70] +(A::LinearAlgebra.Tridiagonal, B::LinearAlgebra.Bidiagonal) in LinearAlgebra at /julia/julia-1.8.2/share/julia/stdlib/v1.8/LinearAlgebra/src/special.jl:205\n",
       "[71] +(A::LinearAlgebra.Tridiagonal{var\"#s885\", V} where {var\"#s885\"<:Number, V<:AbstractVector{var\"#s885\"}}, B::LinearAlgebra.UniformScaling) in LinearAlgebra at /julia/julia-1.8.2/share/julia/stdlib/v1.8/LinearAlgebra/src/special.jl:238\n",
       "[72] +(index1::CartesianIndex{N}, index2::CartesianIndex{N}) where N in Base.IteratorsMD at multidimensional.jl:114\n",
       "[73] +(r1::OrdinalRange, r2::OrdinalRange) in Base at range.jl:1424\n",
       "[74] +(y::AbstractFloat, x::Bool) in Base at bool.jl:172\n",
       "[75] +(y::Dates.TimeType, x::StridedArray{<:Union{Dates.CompoundPeriod, Dates.Period}}) in Dates at /julia/julia-1.8.2/share/julia/stdlib/v1.8/Dates/src/deprecated.jl:18\n",
       "[76] +(x::Dates.Instant) in Dates at /julia/julia-1.8.2/share/julia/stdlib/v1.8/Dates/src/arithmetic.jl:4\n",
       "[77] +(A::LinearAlgebra.Bidiagonal, B::LinearAlgebra.Bidiagonal) in LinearAlgebra at /julia/julia-1.8.2/share/julia/stdlib/v1.8/LinearAlgebra/src/bidiag.jl:365\n",
       "[78] +(x::LinearAlgebra.Bidiagonal, H::LinearAlgebra.UpperHessenberg) in LinearAlgebra at /julia/julia-1.8.2/share/julia/stdlib/v1.8/LinearAlgebra/src/hessenberg.jl:109\n",
       "[79] +(A::LinearAlgebra.Bidiagonal, B::LinearAlgebra.UpperTriangular) in LinearAlgebra at /julia/julia-1.8.2/share/julia/stdlib/v1.8/LinearAlgebra/src/special.jl:106\n",
       "[80] +(A::LinearAlgebra.Bidiagonal, B::LinearAlgebra.UnitUpperTriangular) in LinearAlgebra at /julia/julia-1.8.2/share/julia/stdlib/v1.8/LinearAlgebra/src/special.jl:106\n",
       "[81] +(A::LinearAlgebra.Bidiagonal, B::LinearAlgebra.LowerTriangular) in LinearAlgebra at /julia/julia-1.8.2/share/julia/stdlib/v1.8/LinearAlgebra/src/special.jl:106\n",
       "[82] +(A::LinearAlgebra.Bidiagonal, B::LinearAlgebra.UnitLowerTriangular) in LinearAlgebra at /julia/julia-1.8.2/share/julia/stdlib/v1.8/LinearAlgebra/src/special.jl:106\n",
       "[83] +(A::LinearAlgebra.Bidiagonal, B::LinearAlgebra.Diagonal) in LinearAlgebra at /julia/julia-1.8.2/share/julia/stdlib/v1.8/LinearAlgebra/src/special.jl:127\n",
       "[84] +(A::LinearAlgebra.Bidiagonal, B::LinearAlgebra.Tridiagonal) in LinearAlgebra at /julia/julia-1.8.2/share/julia/stdlib/v1.8/LinearAlgebra/src/special.jl:195\n",
       "[85] +(A::LinearAlgebra.Bidiagonal, B::LinearAlgebra.SymTridiagonal) in LinearAlgebra at /julia/julia-1.8.2/share/julia/stdlib/v1.8/LinearAlgebra/src/special.jl:215\n",
       "[86] +(A::LinearAlgebra.Bidiagonal{var\"#s885\", V} where {var\"#s885\"<:Number, V<:AbstractVector{var\"#s885\"}}, B::LinearAlgebra.UniformScaling) in LinearAlgebra at /julia/julia-1.8.2/share/julia/stdlib/v1.8/LinearAlgebra/src/special.jl:248\n",
       "[87] +(x::Ptr, y::Integer) in Base at pointer.jl:159\n",
       "[88] +(A::SparseArrays.AbstractSparseMatrixCSC, B::SparseArrays.AbstractSparseMatrixCSC) in SparseArrays at /julia/julia-1.8.2/share/julia/stdlib/v1.8/SparseArrays/src/sparsematrix.jl:1829\n",
       "[89] +(x::SparseArrays.AbstractSparseVector, y::SparseArrays.AbstractSparseVector) in SparseArrays at /julia/julia-1.8.2/share/julia/stdlib/v1.8/SparseArrays/src/sparsevector.jl:1384\n",
       "[90] +(A::SparseArrays.AbstractSparseMatrixCSC, B::Array) in SparseArrays at /julia/julia-1.8.2/share/julia/stdlib/v1.8/SparseArrays/src/sparsematrix.jl:1832\n",
       "[91] +(A::SparseArrays.AbstractSparseMatrixCSC, J::LinearAlgebra.UniformScaling) in SparseArrays at /julia/julia-1.8.2/share/julia/stdlib/v1.8/SparseArrays/src/sparsematrix.jl:3821\n",
       "[92] +(r::AbstractRange{<:Dates.TimeType}, x::Dates.Period) in Dates at /julia/julia-1.8.2/share/julia/stdlib/v1.8/Dates/src/ranges.jl:64\n",
       "[93] +(x::AbstractArray{<:Dates.TimeType}, y::Union{Dates.CompoundPeriod, Dates.Period}) in Dates at /julia/julia-1.8.2/share/julia/stdlib/v1.8/Dates/src/deprecated.jl:6\n",
       "[94] +(x::Base.TwicePrecision, y::Number) in Base at twiceprecision.jl:290\n",
       "[95] +(x::Base.TwicePrecision{T}, y::Base.TwicePrecision{T}) where T in Base at twiceprecision.jl:296\n",
       "[96] +(x::Base.TwicePrecision, y::Base.TwicePrecision) in Base at twiceprecision.jl:301\n",
       "[97] +(J::LinearAlgebra.UniformScaling) in LinearAlgebra at /julia/julia-1.8.2/share/julia/stdlib/v1.8/LinearAlgebra/src/uniformscaling.jl:149\n",
       "[98] +(J::LinearAlgebra.UniformScaling, x::Number) in LinearAlgebra at /julia/julia-1.8.2/share/julia/stdlib/v1.8/LinearAlgebra/src/uniformscaling.jl:144\n",
       "[99] +(J1::LinearAlgebra.UniformScaling, J2::LinearAlgebra.UniformScaling) in LinearAlgebra at /julia/julia-1.8.2/share/julia/stdlib/v1.8/LinearAlgebra/src/uniformscaling.jl:150\n",
       "[100] +(J::LinearAlgebra.UniformScaling, B::BitMatrix) in LinearAlgebra at /julia/julia-1.8.2/share/julia/stdlib/v1.8/LinearAlgebra/src/uniformscaling.jl:152\n",
       "[101] +(x::LinearAlgebra.UniformScaling, H::LinearAlgebra.UpperHessenberg) in LinearAlgebra at /julia/julia-1.8.2/share/julia/stdlib/v1.8/LinearAlgebra/src/hessenberg.jl:109\n",
       "[102] +(J::LinearAlgebra.UniformScaling, F::LinearAlgebra.Hessenberg) in LinearAlgebra at /julia/julia-1.8.2/share/julia/stdlib/v1.8/LinearAlgebra/src/hessenberg.jl:642\n",
       "[103] +(A::LinearAlgebra.UniformScaling, B::LinearAlgebra.Tridiagonal{var\"#s885\", V} where {var\"#s885\"<:Number, V<:AbstractVector{var\"#s885\"}}) in LinearAlgebra at /julia/julia-1.8.2/share/julia/stdlib/v1.8/LinearAlgebra/src/special.jl:257\n",
       "[104] +(A::LinearAlgebra.UniformScaling, B::LinearAlgebra.SymTridiagonal{var\"#s885\", V} where {var\"#s885\"<:Number, V<:AbstractVector{var\"#s885\"}}) in LinearAlgebra at /julia/julia-1.8.2/share/julia/stdlib/v1.8/LinearAlgebra/src/special.jl:262\n",
       "[105] +(A::LinearAlgebra.UniformScaling, B::LinearAlgebra.Bidiagonal{var\"#s885\", V} where {var\"#s885\"<:Number, V<:AbstractVector{var\"#s885\"}}) in LinearAlgebra at /julia/julia-1.8.2/share/julia/stdlib/v1.8/LinearAlgebra/src/special.jl:267\n",
       "[106] +(A::LinearAlgebra.UniformScaling, B::LinearAlgebra.Diagonal{var\"#s885\", V} where {var\"#s885\"<:Number, V<:AbstractVector{var\"#s885\"}}) in LinearAlgebra at /julia/julia-1.8.2/share/julia/stdlib/v1.8/LinearAlgebra/src/special.jl:272\n",
       "[107] +(J::LinearAlgebra.UniformScaling, A::AbstractMatrix) in LinearAlgebra at /julia/julia-1.8.2/share/julia/stdlib/v1.8/LinearAlgebra/src/uniformscaling.jl:153\n",
       "[108] +(x::Dates.AbstractTime, y::Missing) in Dates at /julia/julia-1.8.2/share/julia/stdlib/v1.8/Dates/src/arithmetic.jl:88\n",
       "[109] +(A::LinearAlgebra.AbstractTriangular, B::LinearAlgebra.AbstractTriangular) in LinearAlgebra at /julia/julia-1.8.2/share/julia/stdlib/v1.8/LinearAlgebra/src/triangular.jl:646\n",
       "[110] +(F::LinearAlgebra.Hessenberg, J::LinearAlgebra.UniformScaling) in LinearAlgebra at /julia/julia-1.8.2/share/julia/stdlib/v1.8/LinearAlgebra/src/hessenberg.jl:641\n",
       "[111] +(r1::StepRangeLen{T, R}, r2::StepRangeLen{T, R}) where {R<:Base.TwicePrecision, T} in Base at twiceprecision.jl:644\n",
       "[112] +(r1::StepRangeLen{T, S}, r2::StepRangeLen{T, S}) where {T, S} in Base at range.jl:1447\n",
       "[113] +(r1::Union{LinRange, OrdinalRange, StepRangeLen}, r2::Union{LinRange, OrdinalRange, StepRangeLen}) in Base at range.jl:1440\n",
       "[114] +(A::LinearAlgebra.Symmetric, B::LinearAlgebra.Symmetric) in LinearAlgebra at /julia/julia-1.8.2/share/julia/stdlib/v1.8/LinearAlgebra/src/symmetric.jl:469\n",
       "[115] +(A::LinearAlgebra.Symmetric, B::LinearAlgebra.SymTridiagonal) in LinearAlgebra at /julia/julia-1.8.2/share/julia/stdlib/v1.8/LinearAlgebra/src/symmetric.jl:486\n",
       "[116] +(S::LinearAlgebra.Symmetric, D::LinearAlgebra.Diagonal) in LinearAlgebra at /julia/julia-1.8.2/share/julia/stdlib/v1.8/LinearAlgebra/src/diagonal.jl:191\n",
       "[117] +(A::LinearAlgebra.Symmetric{<:Any, <:SparseArrays.AbstractSparseMatrix}, B::SparseArrays.AbstractSparseMatrix) in SparseArrays at /julia/julia-1.8.2/share/julia/stdlib/v1.8/SparseArrays/src/linalg.jl:15\n",
       "[118] +(A::LinearAlgebra.Symmetric, B::SparseArrays.AbstractSparseMatrix) in SparseArrays at /julia/julia-1.8.2/share/julia/stdlib/v1.8/SparseArrays/src/linalg.jl:18\n",
       "[119] +(A::LinearAlgebra.Symmetric{<:Real, <:SparseArrays.AbstractSparseMatrix}, B::LinearAlgebra.Hermitian{<:Any, <:SparseArrays.AbstractSparseMatrix}) in SparseArrays at /julia/julia-1.8.2/share/julia/stdlib/v1.8/SparseArrays/src/linalg.jl:25\n",
       "[120] +(A::LinearAlgebra.Symmetric{var\"#s884\", S} where {var\"#s884\"<:Real, S<:(AbstractMatrix{<:var\"#s884\"})}, B::LinearAlgebra.Hermitian) in LinearAlgebra at /julia/julia-1.8.2/share/julia/stdlib/v1.8/LinearAlgebra/src/symmetric.jl:484\n",
       "[121] +(A::LinearAlgebra.Symmetric{<:Any, <:SparseArrays.AbstractSparseMatrix}, B::LinearAlgebra.Hermitian{<:Any, <:SparseArrays.AbstractSparseMatrix}) in SparseArrays at /julia/julia-1.8.2/share/julia/stdlib/v1.8/SparseArrays/src/linalg.jl:23\n",
       "[122] +(A::Array, Bs::Array...) in Base at arraymath.jl:12\n",
       "[123] +(X::StridedArray{<:Union{Dates.CompoundPeriod, Dates.Period}}, Y::StridedArray{<:Union{Dates.CompoundPeriod, Dates.Period}}) in Dates at /julia/julia-1.8.2/share/julia/stdlib/v1.8/Dates/src/deprecated.jl:62\n",
       "[124] +(A::Array, B::SparseArrays.AbstractSparseMatrixCSC) in SparseArrays at /julia/julia-1.8.2/share/julia/stdlib/v1.8/SparseArrays/src/sparsematrix.jl:1833\n",
       "[125] +(x::StridedArray{<:Union{Dates.CompoundPeriod, Dates.Period}}) in Dates at /julia/julia-1.8.2/share/julia/stdlib/v1.8/Dates/src/deprecated.jl:55\n",
       "[126] +(x::StridedArray{<:Union{Dates.CompoundPeriod, Dates.Period}}, y::Dates.TimeType) in Dates at /julia/julia-1.8.2/share/julia/stdlib/v1.8/Dates/src/deprecated.jl:10\n",
       "[127] +(A::LinearAlgebra.UpperHessenberg, B::LinearAlgebra.UpperHessenberg) in LinearAlgebra at /julia/julia-1.8.2/share/julia/stdlib/v1.8/LinearAlgebra/src/hessenberg.jl:101\n",
       "[128] +(H::LinearAlgebra.UpperHessenberg, x::LinearAlgebra.UniformScaling) in LinearAlgebra at /julia/julia-1.8.2/share/julia/stdlib/v1.8/LinearAlgebra/src/hessenberg.jl:108\n",
       "[129] +(H::LinearAlgebra.UpperHessenberg, x::LinearAlgebra.Diagonal) in LinearAlgebra at /julia/julia-1.8.2/share/julia/stdlib/v1.8/LinearAlgebra/src/hessenberg.jl:108\n",
       "[130] +(H::LinearAlgebra.UpperHessenberg, x::LinearAlgebra.Bidiagonal) in LinearAlgebra at /julia/julia-1.8.2/share/julia/stdlib/v1.8/LinearAlgebra/src/hessenberg.jl:108\n",
       "[131] +(H::LinearAlgebra.UpperHessenberg, x::LinearAlgebra.Tridiagonal) in LinearAlgebra at /julia/julia-1.8.2/share/julia/stdlib/v1.8/LinearAlgebra/src/hessenberg.jl:108\n",
       "[132] +(H::LinearAlgebra.UpperHessenberg, x::LinearAlgebra.SymTridiagonal) in LinearAlgebra at /julia/julia-1.8.2/share/julia/stdlib/v1.8/LinearAlgebra/src/hessenberg.jl:108\n",
       "[133] +(H::LinearAlgebra.UpperHessenberg, x::LinearAlgebra.UpperTriangular) in LinearAlgebra at /julia/julia-1.8.2/share/julia/stdlib/v1.8/LinearAlgebra/src/hessenberg.jl:108\n",
       "[134] +(H::LinearAlgebra.UpperHessenberg, x::LinearAlgebra.UnitUpperTriangular) in LinearAlgebra at /julia/julia-1.8.2/share/julia/stdlib/v1.8/LinearAlgebra/src/hessenberg.jl:108\n",
       "[135] +(A::AbstractArray, B::AbstractArray) in Base at arraymath.jl:6\n",
       "[136] +(dt::Dates.DateTime, y::Dates.Year) in Dates at /julia/julia-1.8.2/share/julia/stdlib/v1.8/Dates/src/arithmetic.jl:23\n",
       "[137] +(dt::Dates.DateTime, z::Dates.Month) in Dates at /julia/julia-1.8.2/share/julia/stdlib/v1.8/Dates/src/arithmetic.jl:47\n",
       "[138] +(x::Dates.DateTime, y::Dates.Quarter) in Dates at /julia/julia-1.8.2/share/julia/stdlib/v1.8/Dates/src/arithmetic.jl:75\n",
       "[139] +(x::Dates.DateTime, y::Dates.Period) in Dates at /julia/julia-1.8.2/share/julia/stdlib/v1.8/Dates/src/arithmetic.jl:81\n",
       "[140] +(x::BigInt, c::Union{UInt16, UInt32, UInt64, UInt8}) in Base.GMP at gmp.jl:530\n",
       "[141] +(x::BigInt, c::Union{Int16, Int32, Int64, Int8}) in Base.GMP at gmp.jl:536\n",
       "[142] +(x::BigInt, y::BigInt) in Base.GMP at gmp.jl:482\n",
       "[143] +(a::BigInt, b::BigInt, c::BigInt) in Base.GMP at gmp.jl:522\n",
       "[144] +(a::BigInt, b::BigInt, c::BigInt, d::BigInt) in Base.GMP at gmp.jl:523\n",
       "[145] +(a::BigInt, b::BigInt, c::BigInt, d::BigInt, e::BigInt) in Base.GMP at gmp.jl:524\n",
       "[146] +(x::BigInt, y::BigInt, rest::BigInt...) in Base.GMP at gmp.jl:657\n",
       "[147] +(c::BigInt, x::BigFloat) in Base.MPFR at mpfr.jl:422\n",
       "[148] +(x::Dates.Time, y::Dates.TimePeriod) in Dates at /julia/julia-1.8.2/share/julia/stdlib/v1.8/Dates/src/arithmetic.jl:83\n",
       "[149] +(t::Dates.Time, dt::Dates.Date) in Dates at /julia/julia-1.8.2/share/julia/stdlib/v1.8/Dates/src/arithmetic.jl:20\n",
       "[150] +(::Missing) in Base at missing.jl:101\n",
       "[151] +(::Missing, ::Number) in Base at missing.jl:123\n",
       "[152] +(x::Missing, y::Dates.AbstractTime) in Dates at /julia/julia-1.8.2/share/julia/stdlib/v1.8/Dates/src/arithmetic.jl:89\n",
       "[153] +(::Missing, ::Missing) in Base at missing.jl:122\n",
       "[154] +(x::Bool) in Base at bool.jl:159\n",
       "[155] +(x::Number, y::Base.TwicePrecision) in Base at twiceprecision.jl:294\n",
       "[156] +(::Number, ::Missing) in Base at missing.jl:124\n",
       "[157] +(x::Number, J::LinearAlgebra.UniformScaling) in LinearAlgebra at /julia/julia-1.8.2/share/julia/stdlib/v1.8/LinearAlgebra/src/uniformscaling.jl:145\n",
       "[158] +(x::Integer, y::Ptr) in Base at pointer.jl:161\n",
       "[159] +(y::Integer, x::Rational) in Base at rational.jl:320\n",
       "[160] +(x::Integer, y::AbstractChar) in Base at char.jl:247\n",
       "[161] +(x::Bool, y::T) where T<:AbstractFloat in Base at bool.jl:169\n",
       "[162] +(x::Bool, y::Bool) in Base at bool.jl:162\n",
       "[163] +(a::Integer, b::Integer) in Base at int.jl:987\n",
       "[164] +(x::Bool, z::Complex{Bool}) in Base at complex.jl:299\n",
       "[165] +(x::Real, z::Complex{Bool}) in Base at complex.jl:313\n",
       "[166] +(x::Bool, z::Complex) in Base at complex.jl:306\n",
       "[167] +(x::Real, z::Complex) in Base at complex.jl:325\n",
       "[168] +(z::Complex{Bool}, x::Bool) in Base at complex.jl:300\n",
       "[169] +(z::Complex, x::Bool) in Base at complex.jl:307\n",
       "[170] +(z::Complex{Bool}, x::Real) in Base at complex.jl:314\n",
       "[171] +(z::Complex) in Base at complex.jl:286\n",
       "[172] +(z::Complex, x::Real) in Base at complex.jl:326\n",
       "[173] +(x::Rational{BigInt}, y::Rational{BigInt}) in Base.GMP.MPQ at gmp.jl:922\n",
       "[174] +(x::Rational) in Base at rational.jl:270\n",
       "[175] +(x::Rational, y::Rational) in Base at rational.jl:284\n",
       "[176] +(level::Base.CoreLogging.LogLevel, inc::Integer) in Base.CoreLogging at logging.jl:131\n",
       "[177] +(B::BitMatrix, J::LinearAlgebra.UniformScaling) in LinearAlgebra at /julia/julia-1.8.2/share/julia/stdlib/v1.8/LinearAlgebra/src/uniformscaling.jl:151\n",
       "[178] +(A::AbstractMatrix, J::LinearAlgebra.UniformScaling) in LinearAlgebra at /julia/julia-1.8.2/share/julia/stdlib/v1.8/LinearAlgebra/src/uniformscaling.jl:214\n",
       "[179] +(x::AbstractArray{<:Number}) in Base at abstractarraymath.jl:220\n",
       "[180] +(dt::Dates.Date, t::Dates.Time) in Dates at /julia/julia-1.8.2/share/julia/stdlib/v1.8/Dates/src/arithmetic.jl:19\n",
       "[181] +(dt::Dates.Date, y::Dates.Year) in Dates at /julia/julia-1.8.2/share/julia/stdlib/v1.8/Dates/src/arithmetic.jl:27\n",
       "[182] +(dt::Dates.Date, z::Dates.Month) in Dates at /julia/julia-1.8.2/share/julia/stdlib/v1.8/Dates/src/arithmetic.jl:54\n",
       "[183] +(x::Dates.Date, y::Dates.Quarter) in Dates at /julia/julia-1.8.2/share/julia/stdlib/v1.8/Dates/src/arithmetic.jl:73\n",
       "[184] +(x::Dates.Date, y::Dates.Week) in Dates at /julia/julia-1.8.2/share/julia/stdlib/v1.8/Dates/src/arithmetic.jl:77\n",
       "[185] +(x::Dates.Date, y::Dates.Day) in Dates at /julia/julia-1.8.2/share/julia/stdlib/v1.8/Dates/src/arithmetic.jl:79\n",
       "[186] +(x::Dates.TimeType) in Dates at /julia/julia-1.8.2/share/julia/stdlib/v1.8/Dates/src/arithmetic.jl:8\n",
       "[187] +(a::Dates.TimeType, b::Dates.Period, c::Dates.Period) in Dates at /julia/julia-1.8.2/share/julia/stdlib/v1.8/Dates/src/periods.jl:389\n",
       "[188] +(a::Dates.TimeType, b::Dates.Period, c::Dates.Period, d::Dates.Period...) in Dates at /julia/julia-1.8.2/share/julia/stdlib/v1.8/Dates/src/periods.jl:390\n",
       "[189] +(x::Dates.TimeType, y::Dates.CompoundPeriod) in Dates at /julia/julia-1.8.2/share/julia/stdlib/v1.8/Dates/src/periods.jl:392\n",
       "[190] +(x::BigFloat, c::Union{UInt16, UInt32, UInt64, UInt8}) in Base.MPFR at mpfr.jl:393\n",
       "[191] +(x::BigFloat, c::Union{Int16, Int32, Int64, Int8}) in Base.MPFR at mpfr.jl:401\n",
       "[192] +(x::BigFloat, c::Union{Float16, Float32, Float64}) in Base.MPFR at mpfr.jl:409\n",
       "[193] +(x::BigFloat, y::BigFloat) in Base.MPFR at mpfr.jl:386\n",
       "[194] +(x::BigFloat, c::BigInt) in Base.MPFR at mpfr.jl:417\n",
       "[195] +(a::BigFloat, b::BigFloat, c::BigFloat) in Base.MPFR at mpfr.jl:558\n",
       "[196] +(a::BigFloat, b::BigFloat, c::BigFloat, d::BigFloat) in Base.MPFR at mpfr.jl:564\n",
       "[197] +(a::BigFloat, b::BigFloat, c::BigFloat, d::BigFloat, e::BigFloat) in Base.MPFR at mpfr.jl:571\n",
       "[198] +(x::Number) in Base at operators.jl:528\n",
       "[199] +(x::T, y::T) where T<:Number in Base at promotion.jl:463\n",
       "[200] +(x::Number, y::Number) in Base at promotion.jl:388\n",
       "[201] +(x::Dates.CompoundPeriod, y::Dates.Period) in Dates at /julia/julia-1.8.2/share/julia/stdlib/v1.8/Dates/src/periods.jl:368\n",
       "[202] +(x::Dates.CompoundPeriod, y::Dates.TimeType) in Dates at /julia/julia-1.8.2/share/julia/stdlib/v1.8/Dates/src/periods.jl:398\n",
       "[203] +(x::Dates.CompoundPeriod, y::Dates.CompoundPeriod) in Dates at /julia/julia-1.8.2/share/julia/stdlib/v1.8/Dates/src/periods.jl:370\n",
       "[204] +(a::Pkg.Resolve.FieldValue, b::Pkg.Resolve.FieldValue) in Pkg.Resolve at /julia/julia-1.8.2/share/julia/stdlib/v1.8/Pkg/src/Resolve/fieldvalues.jl:43\n",
       "[205] +(a::Pkg.Resolve.VersionWeight, b::Pkg.Resolve.VersionWeight) in Pkg.Resolve at /julia/julia-1.8.2/share/julia/stdlib/v1.8/Pkg/src/Resolve/versionweights.jl:22\n",
       "[206] +(a, b, c, xs...) in Base at operators.jl:591"
      ]
     },
     "execution_count": 25,
     "metadata": {},
     "output_type": "execute_result"
    }
   ],
   "source": [
    "methods(+)"
   ]
  },
  {
   "cell_type": "markdown",
   "id": "e87b649b-d794-4c51-a8cc-c41518d51e2a",
   "metadata": {},
   "source": [
    "## Default values"
   ]
  },
  {
   "cell_type": "code",
   "execution_count": 26,
   "id": "4d7e96b8-1cbe-44e5-a337-65b0a8859b0e",
   "metadata": {},
   "outputs": [
    {
     "data": {
      "text/plain": [
       "2.0794415416798357"
      ]
     },
     "execution_count": 26,
     "metadata": {},
     "output_type": "execute_result"
    }
   ],
   "source": [
    "log(8) # natural log by default"
   ]
  },
  {
   "cell_type": "code",
   "execution_count": 27,
   "id": "1deb3f0e-40e5-46ad-8778-ffa03c31ab59",
   "metadata": {},
   "outputs": [
    {
     "data": {
      "text/plain": [
       "3.0"
      ]
     },
     "execution_count": 27,
     "metadata": {},
     "output_type": "execute_result"
    }
   ],
   "source": [
    "log(2, 8) # based on 2"
   ]
  },
  {
   "cell_type": "code",
   "execution_count": 28,
   "id": "df2aab58-d63e-4e78-b07b-9e7794ea6716",
   "metadata": {},
   "outputs": [
    {
     "data": {
      "text/plain": [
       "collection_log (generic function with 2 methods)"
      ]
     },
     "execution_count": 28,
     "metadata": {},
     "output_type": "execute_result"
    }
   ],
   "source": [
    "function collection_log(collection, base=2)\n",
    "    return [log(base, i) for i in collection]\n",
    "end"
   ]
  },
  {
   "cell_type": "code",
   "execution_count": 29,
   "id": "809cdc6c-ab32-4b29-a252-0aae4cfcbae9",
   "metadata": {},
   "outputs": [
    {
     "data": {
      "text/plain": [
       "3-element Vector{Float64}:\n",
       " 0.6020599913279623\n",
       " 0.9030899869919434\n",
       " 1.2041199826559246"
      ]
     },
     "execution_count": 29,
     "metadata": {},
     "output_type": "execute_result"
    }
   ],
   "source": [
    "collection_log([4,8, 16], 10)"
   ]
  },
  {
   "cell_type": "code",
   "execution_count": 30,
   "id": "49b49a72-7612-4871-a6ad-fd27195b040b",
   "metadata": {},
   "outputs": [
    {
     "data": {
      "text/plain": [
       "3-element Vector{Float64}:\n",
       " 2.0\n",
       " 3.0\n",
       " 4.0"
      ]
     },
     "execution_count": 30,
     "metadata": {},
     "output_type": "execute_result"
    }
   ],
   "source": [
    "collection_log([4,8,16])"
   ]
  },
  {
   "cell_type": "markdown",
   "id": "22840bee-51a6-4dfe-b86d-a981b468c59e",
   "metadata": {},
   "source": [
    "## Some issue with default & keyword arguments"
   ]
  },
  {
   "cell_type": "code",
   "execution_count": 31,
   "id": "7f2d535d-03cd-4dc2-b264-097869ea18d6",
   "metadata": {},
   "outputs": [
    {
     "ename": "LoadError",
     "evalue": "syntax: optional positional arguments must occur at end around In[31]:1",
     "output_type": "error",
     "traceback": [
      "syntax: optional positional arguments must occur at end around In[31]:1",
      "",
      "Stacktrace:",
      " [1] top-level scope",
      "   @ In[31]:1"
     ]
    }
   ],
   "source": [
    "function collection_log2(base=2, collection) # incorrect order\n",
    "    return [log(base, i) for i in collection]\n",
    "end"
   ]
  },
  {
   "cell_type": "code",
   "execution_count": 32,
   "id": "3935256c-35d0-4c84-91cd-45f8f44fbc1d",
   "metadata": {},
   "outputs": [
    {
     "data": {
      "text/plain": [
       "collection_log2 (generic function with 2 methods)"
      ]
     },
     "execution_count": 32,
     "metadata": {},
     "output_type": "execute_result"
    }
   ],
   "source": [
    "function collection_log2(base=2; collection) # incorrect order, but works with ;\n",
    "    return [log(base, i) for i in collection]\n",
    "end"
   ]
  },
  {
   "cell_type": "code",
   "execution_count": 34,
   "id": "a4f38245-3cc0-4d83-b515-1336ca5e7c40",
   "metadata": {},
   "outputs": [
    {
     "data": {
      "text/plain": [
       "3-element Vector{Float64}:\n",
       " 2.0\n",
       " 3.0\n",
       " 4.0"
      ]
     },
     "execution_count": 34,
     "metadata": {},
     "output_type": "execute_result"
    }
   ],
   "source": [
    "collection_log2(collection=[4,8,16])"
   ]
  },
  {
   "cell_type": "markdown",
   "id": "3b87ebf4-0a68-40c3-ba5b-3905e4a79641",
   "metadata": {},
   "source": [
    "It's good to know the syntax of these but for your own code, you should be defining just using the 1st method until you get comfortable with it"
   ]
  }
 ],
 "metadata": {
  "kernelspec": {
   "display_name": "Julia 1.8.2",
   "language": "julia",
   "name": "julia-1.8"
  },
  "language_info": {
   "file_extension": ".jl",
   "mimetype": "application/julia",
   "name": "julia",
   "version": "1.8.2"
  }
 },
 "nbformat": 4,
 "nbformat_minor": 5
}
