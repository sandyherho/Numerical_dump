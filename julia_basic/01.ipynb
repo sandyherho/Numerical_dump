{
 "cells": [
  {
   "cell_type": "markdown",
   "id": "71cd2f32-f9af-4fee-ae5e-83e3fc726585",
   "metadata": {},
   "source": [
    "# Check Julia Install"
   ]
  },
  {
   "cell_type": "code",
   "execution_count": 3,
   "id": "ad7699ce-c6c7-4652-a90f-b741324ac048",
   "metadata": {},
   "outputs": [
    {
     "data": {
      "text/plain": [
       "\"hey \""
      ]
     },
     "execution_count": 3,
     "metadata": {},
     "output_type": "execute_result"
    }
   ],
   "source": [
    "s = \"hey \""
   ]
  },
  {
   "cell_type": "code",
   "execution_count": 4,
   "id": "4266399e-0c76-42c5-9e76-94efd73cdb96",
   "metadata": {},
   "outputs": [
    {
     "data": {
      "text/plain": [
       "\"hey hey hey \""
      ]
     },
     "execution_count": 4,
     "metadata": {},
     "output_type": "execute_result"
    }
   ],
   "source": [
    "s^3"
   ]
  },
  {
   "cell_type": "code",
   "execution_count": 5,
   "id": "29be27ee-456d-447e-8fa4-8b4614e2e009",
   "metadata": {},
   "outputs": [
    {
     "name": "stdout",
     "output_type": "stream",
     "text": [
      "Julia Version 1.8.2\n",
      "Commit 36034abf260 (2022-09-29 15:21 UTC)\n",
      "Platform Info:\n",
      "  OS: Linux (x86_64-linux-gnu)\n",
      "  CPU: 4 × Intel(R) Core(TM) i7-5600U CPU @ 2.60GHz\n",
      "  WORD_SIZE: 64\n",
      "  LIBM: libopenlibm\n",
      "  LLVM: libLLVM-13.0.1 (ORCJIT, broadwell)\n",
      "  Threads: 1 on 4 virtual cores\n",
      "Environment:\n",
      "  LD_GOLD = /home/ronggolawe/anaconda3/bin/x86_64-conda-linux-gnu-ld.gold\n"
     ]
    }
   ],
   "source": [
    "versioninfo()"
   ]
  }
 ],
 "metadata": {
  "kernelspec": {
   "display_name": "Julia 1.8.2",
   "language": "julia",
   "name": "julia-1.8"
  },
  "language_info": {
   "file_extension": ".jl",
   "mimetype": "application/julia",
   "name": "julia",
   "version": "1.8.2"
  }
 },
 "nbformat": 4,
 "nbformat_minor": 5
}
