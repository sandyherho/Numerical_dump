{
 "cells": [
  {
   "cell_type": "markdown",
   "id": "f95d8898-bbf2-469d-a96f-3cd17cd34794",
   "metadata": {},
   "source": [
    "# Anonymous Functions"
   ]
  },
  {
   "cell_type": "markdown",
   "id": "48b781ee-2159-4dd7-ab8f-4938de3583be",
   "metadata": {},
   "source": [
    "Sometimes, you don't want to name a function. If tou haven't seen this before, this might seem weird but it's actually pretty useful. We'll see a case study in a little while, but let's 1st see the syntax."
   ]
  },
  {
   "cell_type": "code",
   "execution_count": 1,
   "id": "5ab22834-3e6d-4706-9ad5-934f8268bee9",
   "metadata": {},
   "outputs": [
    {
     "data": {
      "text/plain": [
       "#1 (generic function with 1 method)"
      ]
     },
     "execution_count": 1,
     "metadata": {},
     "output_type": "execute_result"
    }
   ],
   "source": [
    "x -> x^2 + 2*x - 1 # the arrow operator is what makes this a function"
   ]
  },
  {
   "cell_type": "code",
   "execution_count": 2,
   "id": "6e1f49d0-17fe-46b0-acbb-a6ebe226111b",
   "metadata": {},
   "outputs": [
    {
     "data": {
      "text/plain": [
       "34"
      ]
     },
     "execution_count": 2,
     "metadata": {},
     "output_type": "execute_result"
    }
   ],
   "source": [
    "(x -> x^2 + 2*x - 1)(5)"
   ]
  },
  {
   "cell_type": "markdown",
   "id": "6c37c95c-8fe0-4759-b0f9-9c66bd711a37",
   "metadata": {},
   "source": [
    "Let's see a usecase for this"
   ]
  },
  {
   "cell_type": "code",
   "execution_count": 3,
   "id": "e1f02154-a83a-4924-a21e-1cdbeb4246b3",
   "metadata": {},
   "outputs": [],
   "source": [
    "# Given this collection, we want to remove all the values that are a multiple of 3\n",
    "nums = [1,2,4,5,6,7,8,9];"
   ]
  },
  {
   "cell_type": "code",
   "execution_count": 4,
   "id": "62d55aaf-8a1d-4da4-94bd-d512ba2d4157",
   "metadata": {},
   "outputs": [],
   "source": [
    "# filter!(some_function_here, some_collection_here)\n",
    "# keeps only those that satisfy the criteria"
   ]
  },
  {
   "cell_type": "code",
   "execution_count": 5,
   "id": "b9575b72-7cc8-4ca8-b7c9-f0e7de02ab95",
   "metadata": {},
   "outputs": [
    {
     "data": {
      "text/plain": [
       "not_multiple_of_three (generic function with 1 method)"
      ]
     },
     "execution_count": 5,
     "metadata": {},
     "output_type": "execute_result"
    }
   ],
   "source": [
    "function not_multiple_of_three(x)\n",
    "    return x % 3 !=0\n",
    "end"
   ]
  },
  {
   "cell_type": "code",
   "execution_count": 6,
   "id": "756e7cef-25af-42bb-beb1-c605dc872f0e",
   "metadata": {},
   "outputs": [
    {
     "data": {
      "text/plain": [
       "6-element Vector{Int64}:\n",
       " 1\n",
       " 2\n",
       " 4\n",
       " 5\n",
       " 7\n",
       " 8"
      ]
     },
     "execution_count": 6,
     "metadata": {},
     "output_type": "execute_result"
    }
   ],
   "source": [
    "filter!(not_multiple_of_three, nums)"
   ]
  },
  {
   "cell_type": "markdown",
   "id": "881f7328-601a-47f4-a905-5e69ec00ef9f",
   "metadata": {},
   "source": [
    "... but that seems so long and this function is now useless after this call. If we're not going to call this function later (or even before), why don't we just make it \"anonymous\"?"
   ]
  },
  {
   "cell_type": "code",
   "execution_count": 7,
   "id": "6b3c11a2-2e1e-4923-8fcc-1491ce6ccd80",
   "metadata": {},
   "outputs": [],
   "source": [
    "nums = [1,2,4,5,6,7,8,9];"
   ]
  },
  {
   "cell_type": "code",
   "execution_count": 8,
   "id": "9fcc608e-1723-4b11-9120-124c3bc1dde0",
   "metadata": {},
   "outputs": [
    {
     "data": {
      "text/plain": [
       "6-element Vector{Int64}:\n",
       " 1\n",
       " 2\n",
       " 4\n",
       " 5\n",
       " 7\n",
       " 8"
      ]
     },
     "execution_count": 8,
     "metadata": {},
     "output_type": "execute_result"
    }
   ],
   "source": [
    "filter!(x -> x%3 != 0, nums)"
   ]
  },
  {
   "cell_type": "code",
   "execution_count": 9,
   "id": "5fc195e3",
   "metadata": {},
   "outputs": [
    {
     "data": {
      "text/plain": [
       "6-element Vector{Int64}:\n",
       " 1\n",
       " 2\n",
       " 4\n",
       " 5\n",
       " 7\n",
       " 8"
      ]
     },
     "execution_count": 9,
     "metadata": {},
     "output_type": "execute_result"
    }
   ],
   "source": [
    "test = filter(x -> x%3 != 0, 1:9)"
   ]
  },
  {
   "cell_type": "code",
   "execution_count": 10,
   "id": "f5563d80",
   "metadata": {},
   "outputs": [
    {
     "data": {
      "text/plain": [
       "6-element Vector{Int64}:\n",
       " 1\n",
       " 2\n",
       " 4\n",
       " 5\n",
       " 7\n",
       " 8"
      ]
     },
     "execution_count": 10,
     "metadata": {},
     "output_type": "execute_result"
    }
   ],
   "source": [
    "nums"
   ]
  },
  {
   "cell_type": "markdown",
   "id": "dabd1fb5",
   "metadata": {},
   "source": [
    "Here's something cool that Julia does! Since `!=` is just a function, we can reassign it to a unicode character to make it a little prettier"
   ]
  },
  {
   "cell_type": "code",
   "execution_count": 11,
   "id": "f909ae1b",
   "metadata": {},
   "outputs": [],
   "source": [
    "nums = collect(1:9);"
   ]
  },
  {
   "cell_type": "code",
   "execution_count": 12,
   "id": "9276c0c3",
   "metadata": {},
   "outputs": [
    {
     "data": {
      "text/plain": [
       "9-element Vector{Int64}:\n",
       " 1\n",
       " 2\n",
       " 3\n",
       " 4\n",
       " 5\n",
       " 6\n",
       " 7\n",
       " 8\n",
       " 9"
      ]
     },
     "execution_count": 12,
     "metadata": {},
     "output_type": "execute_result"
    }
   ],
   "source": [
    "nums"
   ]
  },
  {
   "cell_type": "code",
   "execution_count": 13,
   "id": "c1b71e47",
   "metadata": {},
   "outputs": [
    {
     "data": {
      "text/plain": [
       "!= (generic function with 4 methods)"
      ]
     },
     "execution_count": 13,
     "metadata": {},
     "output_type": "execute_result"
    }
   ],
   "source": [
    "≠ #\\ne TAB"
   ]
  },
  {
   "cell_type": "code",
   "execution_count": 14,
   "id": "3e14ad76",
   "metadata": {},
   "outputs": [
    {
     "data": {
      "text/plain": [
       "6-element Vector{Int64}:\n",
       " 1\n",
       " 2\n",
       " 4\n",
       " 5\n",
       " 7\n",
       " 8"
      ]
     },
     "execution_count": 14,
     "metadata": {},
     "output_type": "execute_result"
    }
   ],
   "source": [
    "filter!(x -> x %3 ≠ 0, nums)"
   ]
  },
  {
   "cell_type": "markdown",
   "id": "b149bfa7",
   "metadata": {},
   "source": [
    "## Splatting and slurping"
   ]
  },
  {
   "cell_type": "markdown",
   "id": "b1fad814",
   "metadata": {},
   "source": [
    "There's a lesser known operator `...`, which causes a lot of confusion. You'll probably come across it sometimes, so it's best to clarify it here."
   ]
  },
  {
   "cell_type": "code",
   "execution_count": 15,
   "id": "e4d704a7",
   "metadata": {},
   "outputs": [
    {
     "data": {
      "text/plain": [
       "print_vals (generic function with 1 method)"
      ]
     },
     "execution_count": 15,
     "metadata": {},
     "output_type": "execute_result"
    }
   ],
   "source": [
    "function print_vals(a, b, c)\n",
    "    println(\"First param: \", a)\n",
    "    println(\"Second param: \", b)\n",
    "    println(\"Third param: \", c)\n",
    "end"
   ]
  },
  {
   "cell_type": "code",
   "execution_count": 16,
   "id": "0cf17082",
   "metadata": {},
   "outputs": [
    {
     "name": "stdout",
     "output_type": "stream",
     "text": [
      "First param: 1\n",
      "Second param: 2\n",
      "Third param: 3\n"
     ]
    }
   ],
   "source": [
    "print_vals(1,2,3)"
   ]
  },
  {
   "cell_type": "code",
   "execution_count": 17,
   "id": "f3dbcd8d",
   "metadata": {},
   "outputs": [
    {
     "data": {
      "text/plain": [
       "3-element Vector{Int64}:\n",
       " 1\n",
       " 2\n",
       " 3"
      ]
     },
     "execution_count": 17,
     "metadata": {},
     "output_type": "execute_result"
    }
   ],
   "source": [
    "vals = [1,2,3]"
   ]
  },
  {
   "cell_type": "code",
   "execution_count": 18,
   "id": "f4c8d08d",
   "metadata": {},
   "outputs": [
    {
     "name": "stdout",
     "output_type": "stream",
     "text": [
      "First param: 1\n",
      "Second param: 2\n",
      "Third param: 3\n"
     ]
    }
   ],
   "source": [
    "print_vals(vals...)"
   ]
  },
  {
   "cell_type": "code",
   "execution_count": null,
   "id": "4e36150b",
   "metadata": {},
   "outputs": [],
   "source": []
  }
 ],
 "metadata": {
  "kernelspec": {
   "display_name": "Julia 1.8.2",
   "language": "julia",
   "name": "julia-1.8"
  },
  "language_info": {
   "file_extension": ".jl",
   "mimetype": "application/julia",
   "name": "julia",
   "version": "1.8.2"
  }
 },
 "nbformat": 4,
 "nbformat_minor": 5
}
