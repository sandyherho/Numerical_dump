{
 "cells": [
  {
   "cell_type": "code",
   "execution_count": 1,
   "id": "f61ee7f3",
   "metadata": {},
   "outputs": [],
   "source": [
    "import sympy as smp"
   ]
  },
  {
   "cell_type": "code",
   "execution_count": 2,
   "id": "559a007d",
   "metadata": {},
   "outputs": [],
   "source": [
    "s = smp.symbols(\"s\")"
   ]
  },
  {
   "cell_type": "code",
   "execution_count": 5,
   "id": "4b86ab5b",
   "metadata": {},
   "outputs": [
    {
     "data": {
      "text/latex": [
       "$\\displaystyle \\frac{3}{s^{2} - 9}$"
      ],
      "text/plain": [
       "3/(s**2 - 9)"
      ]
     },
     "execution_count": 5,
     "metadata": {},
     "output_type": "execute_result"
    }
   ],
   "source": [
    "expr = 3 / (s**2 - 9)\n",
    "expr"
   ]
  },
  {
   "cell_type": "code",
   "execution_count": 8,
   "id": "14e59034",
   "metadata": {},
   "outputs": [
    {
     "data": {
      "text/latex": [
       "$\\displaystyle \\frac{18 \\left(s^{2} + 3\\right)}{\\left(s^{2} - 9\\right)^{3}}$"
      ],
      "text/plain": [
       "18*(s**2 + 3)/(s**2 - 9)**3"
      ]
     },
     "execution_count": 8,
     "metadata": {},
     "output_type": "execute_result"
    }
   ],
   "source": [
    "smp.diff(expr, s, 2).simplify()"
   ]
  },
  {
   "cell_type": "code",
   "execution_count": null,
   "id": "622edd73",
   "metadata": {},
   "outputs": [],
   "source": []
  }
 ],
 "metadata": {
  "kernelspec": {
   "display_name": "Python 3 (ipykernel)",
   "language": "python",
   "name": "python3"
  },
  "language_info": {
   "codemirror_mode": {
    "name": "ipython",
    "version": 3
   },
   "file_extension": ".py",
   "mimetype": "text/x-python",
   "name": "python",
   "nbconvert_exporter": "python",
   "pygments_lexer": "ipython3",
   "version": "3.11.3"
  }
 },
 "nbformat": 4,
 "nbformat_minor": 5
}
