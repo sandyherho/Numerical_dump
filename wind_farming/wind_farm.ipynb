{
 "cells": [
  {
   "cell_type": "code",
   "execution_count": 4,
   "id": "733cd065",
   "metadata": {},
   "outputs": [],
   "source": [
    "import numpy as np\n",
    "import pandas as pd\n",
    "import matplotlib.pyplot as plt\n",
    "from windpowerlib import data as wt\n",
    "from windpowerlib import TurbineClusterModelChain, WindTurbine, WindFarm\n",
    "plt.style.use(\"ggplot\")"
   ]
  },
  {
   "cell_type": "code",
   "execution_count": 5,
   "id": "038497cc",
   "metadata": {},
   "outputs": [],
   "source": [
    "weather_data = pd.read_csv(\"./weather_montreal.csv\",\n",
    "                           index_col=0, header=[0,1],\n",
    "                          date_parser=lambda idx:pd.to_datetime(idx, utc=True))"
   ]
  },
  {
   "cell_type": "code",
   "execution_count": 8,
   "id": "890a0a96",
   "metadata": {},
   "outputs": [
    {
     "name": "stdout",
     "output_type": "stream",
     "text": [
      "       manufacturer  turbine_type  has_power_curve  has_cp_curve\n",
      "0       Adwen/Areva    AD116/5000             True         False\n",
      "1           Enercon    E-101/3050             True          True\n",
      "2           Enercon    E-101/3500             True          True\n",
      "3           Enercon    E-115/3000             True          True\n",
      "4           Enercon    E-115/3200             True          True\n",
      "5           Enercon    E-126/4200             True          True\n",
      "6           Enercon    E-126/7500             True         False\n",
      "7           Enercon    E-126/7580             True         False\n",
      "8           Enercon    E-141/4200             True          True\n",
      "9           Enercon      E-53/800             True          True\n",
      "10          Enercon     E-70/2000             True         False\n",
      "11          Enercon     E-70/2300             True          True\n",
      "12          Enercon     E-82/2000             True          True\n",
      "13          Enercon     E-82/2300             True          True\n",
      "14          Enercon     E-82/2350             True          True\n",
      "15          Enercon     E-82/3000             True          True\n",
      "16          Enercon     E-92/2350             True          True\n",
      "17          Enercon       E48/800             True          True\n",
      "18              Eno   ENO100/2200             True          True\n",
      "19              Eno   ENO114/3500             True          True\n",
      "20              Eno   ENO126/3500             True          True\n",
      "21          GE Wind    GE100/2500             True         False\n",
      "22          GE Wind    GE103/2750             True          True\n",
      "23          GE Wind    GE120/2500             True          True\n",
      "24          GE Wind    GE120/2750             True          True\n",
      "25          GE Wind    GE130/3200             True          True\n",
      "26           Nordex     N100/2500             True          True\n",
      "27           Nordex     N117/2400             True          True\n",
      "28           Nordex     N131/3000             True          True\n",
      "29           Nordex     N131/3300             True          True\n",
      "30           Nordex     N131/3600             True          True\n",
      "31           Nordex      N90/2500             True          True\n",
      "32  Senvion/REpower    MM100/2000             True          True\n",
      "33  Senvion/REpower     MM92/2050             True         False\n",
      "34  Senvion/REpower     S104/3400             True         False\n",
      "35  Senvion/REpower     S114/3200             True         False\n",
      "36  Senvion/REpower     S114/3400             True          True\n",
      "37  Senvion/REpower     S122/3000             True          True\n",
      "38  Senvion/REpower     S122/3200             True          True\n",
      "39  Senvion/REpower     S126/6150             True         False\n",
      "40  Senvion/REpower     S152/6330             True         False\n",
      "41          Siemens   SWT113/2300             True          True\n",
      "42          Siemens   SWT113/3200             True          True\n",
      "43          Siemens   SWT120/3600             True          True\n",
      "44          Siemens   SWT130/3300             True          True\n",
      "45          Siemens   SWT130/3600             True          True\n",
      "46          Siemens   SWT142/3150             True          True\n",
      "47           Vensys    VS112/2500             True         False\n",
      "48           Vestas     V100/1800             True          True\n",
      "49           Vestas  V100/1800/GS             True          True\n",
      "50           Vestas     V112/3000             True          True\n",
      "51           Vestas     V112/3075             True          True\n",
      "52           Vestas     V112/3300             True          True\n",
      "53           Vestas     V112/3450             True          True\n",
      "54           Vestas     V117/3300             True          True\n",
      "55           Vestas     V117/3450             True          True\n",
      "56           Vestas     V117/3600             True          True\n",
      "57           Vestas     V126/3000             True          True\n",
      "58           Vestas     V126/3300             True          True\n",
      "59           Vestas     V126/3450             True          True\n",
      "60           Vestas     V164/8000             True         False\n",
      "61           Vestas     V164/9500             True         False\n",
      "62           Vestas      V80/2000             True         False\n",
      "63           Vestas      V90/2000             True          True\n",
      "64           Vestas   V90/2000/GS             True          True\n",
      "65           Vestas      V90/3000             True         False\n",
      "66          aerodyn   SCD168/8000             True         False\n"
     ]
    }
   ],
   "source": [
    "turbine_lib = wt.get_turbine_types()"
   ]
  },
  {
   "cell_type": "code",
   "execution_count": 9,
   "id": "d919ad63",
   "metadata": {},
   "outputs": [
    {
     "data": {
      "text/plain": [
       "pandas.core.frame.DataFrame"
      ]
     },
     "execution_count": 9,
     "metadata": {},
     "output_type": "execute_result"
    }
   ],
   "source": [
    "type(turbine_lib)"
   ]
  },
  {
   "cell_type": "code",
   "execution_count": 12,
   "id": "d28198f9",
   "metadata": {},
   "outputs": [],
   "source": [
    "selected_turbine = {\"turbine_type\":\"E48/800\", \n",
    "                    \"hub_height\":60, }\n",
    "w_turbine = WindTurbine(**selected_turbine)"
   ]
  },
  {
   "cell_type": "code",
   "execution_count": 14,
   "id": "015c3bc1",
   "metadata": {},
   "outputs": [],
   "source": [
    "turbine_sub_models = {\n",
    "    \"wind_speed_model\":\"hellman\", # \"hellman\", \"logarithmic\" (default), \"interpolation-extrapolation\" \n",
    "    \"density_model\":\"ideal_gas\", # \"barometric\" (default), \"interpolation-extrapolation\"\n",
    "    \"temperature_model\":\"linear_gradient\", # interpolation-extrapolation\"\n",
    "    \"power_output_model\":\"power_coefficient_curve\", # \"power_curve\" (default)\n",
    "    \"density_correction\":True, # False (default)\n",
    "    \"obstacle_height\":0, # default is 0\n",
    "    \"hellman_exp\":0.25\n",
    "}"
   ]
  },
  {
   "cell_type": "code",
   "execution_count": 18,
   "id": "0e3dcce6",
   "metadata": {},
   "outputs": [],
   "source": [
    "wind_turbine_fleet = pd.DataFrame({\"wind_turbine\":[w_turbine, None],\n",
    "                                 \"nums_of_turbines\":[10, None]}) # 10 of wind turbines \n",
    "                                 # ,\"total_capacity\": [8000, None]}) "
   ]
  },
  {
   "cell_type": "code",
   "execution_count": null,
   "id": "5df6bba7",
   "metadata": {},
   "outputs": [],
   "source": [
    "farm_data = {\n",
    "    \"\"\n",
    "}"
   ]
  }
 ],
 "metadata": {
  "kernelspec": {
   "display_name": "Python 3 (ipykernel)",
   "language": "python",
   "name": "python3"
  },
  "language_info": {
   "codemirror_mode": {
    "name": "ipython",
    "version": 3
   },
   "file_extension": ".py",
   "mimetype": "text/x-python",
   "name": "python",
   "nbconvert_exporter": "python",
   "pygments_lexer": "ipython3",
   "version": "3.11.3"
  }
 },
 "nbformat": 4,
 "nbformat_minor": 5
}
