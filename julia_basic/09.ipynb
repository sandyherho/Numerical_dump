{
 "cells": [
  {
   "cell_type": "markdown",
   "id": "5b88fcfa",
   "metadata": {},
   "source": [
    "# Basic Functional Programming"
   ]
  },
  {
   "cell_type": "markdown",
   "id": "36bc9775",
   "metadata": {},
   "source": [
    "Functional programming is very useful when thinking in terms of mathematics. It's also massively parallelizable and you really should learn the concepts. Here, we'll take a lokk at some basics."
   ]
  },
  {
   "cell_type": "markdown",
   "id": "bdd16e6f",
   "metadata": {},
   "source": [
    "## Map"
   ]
  },
  {
   "cell_type": "markdown",
   "id": "804286bf",
   "metadata": {},
   "source": [
    "Map applies a function to all elements of a collection"
   ]
  },
  {
   "cell_type": "code",
   "execution_count": 1,
   "id": "4cfb1d81",
   "metadata": {},
   "outputs": [
    {
     "data": {
      "text/plain": [
       "3-element Vector{Int64}:\n",
       " 1\n",
       " 2\n",
       " 4"
      ]
     },
     "execution_count": 1,
     "metadata": {},
     "output_type": "execute_result"
    }
   ],
   "source": [
    "collection = [1,2,4]"
   ]
  },
  {
   "cell_type": "code",
   "execution_count": 2,
   "id": "badb8e86",
   "metadata": {},
   "outputs": [
    {
     "data": {
      "text/plain": [
       "3-element Vector{Int64}:\n",
       "  1\n",
       "  4\n",
       " 16"
      ]
     },
     "execution_count": 2,
     "metadata": {},
     "output_type": "execute_result"
    }
   ],
   "source": [
    "map(x -> x^2, collection)"
   ]
  },
  {
   "cell_type": "code",
   "execution_count": null,
   "id": "4d0ed5ae",
   "metadata": {},
   "outputs": [],
   "source": []
  }
 ],
 "metadata": {
  "kernelspec": {
   "display_name": "Julia 1.8.2",
   "language": "julia",
   "name": "julia-1.8"
  },
  "language_info": {
   "file_extension": ".jl",
   "mimetype": "application/julia",
   "name": "julia",
   "version": "1.8.2"
  }
 },
 "nbformat": 4,
 "nbformat_minor": 5
}
