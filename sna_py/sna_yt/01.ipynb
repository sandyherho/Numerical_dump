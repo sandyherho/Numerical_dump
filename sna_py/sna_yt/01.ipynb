{
 "cells": [
  {
   "cell_type": "markdown",
   "id": "d1a3bbc9",
   "metadata": {},
   "source": [
    "- Node: single point of data\n",
    "- Edge: line that connects data\n",
    "- Cluster: grouping of data"
   ]
  },
  {
   "cell_type": "code",
   "execution_count": 2,
   "id": "36a0c7ec",
   "metadata": {},
   "outputs": [],
   "source": [
    "import networkx as nx"
   ]
  },
  {
   "cell_type": "code",
   "execution_count": 3,
   "id": "83d1210f",
   "metadata": {},
   "outputs": [],
   "source": [
    "G = nx.Graph()"
   ]
  },
  {
   "cell_type": "code",
   "execution_count": 5,
   "id": "a657b555",
   "metadata": {},
   "outputs": [],
   "source": [
    "G.add_node(\"Farhan\")\n",
    "G.add_node(\"Yolanda\")"
   ]
  },
  {
   "cell_type": "code",
   "execution_count": 6,
   "id": "f9a515a3",
   "metadata": {},
   "outputs": [
    {
     "name": "stdout",
     "output_type": "stream",
     "text": [
      "['Farhan', 'Yolanda']\n"
     ]
    }
   ],
   "source": [
    "print(list(G))"
   ]
  },
  {
   "cell_type": "code",
   "execution_count": 7,
   "id": "c6afe9f0",
   "metadata": {},
   "outputs": [
    {
     "name": "stdout",
     "output_type": "stream",
     "text": [
      "Farhan\n",
      "Yolanda\n"
     ]
    }
   ],
   "source": [
    "for i in G:\n",
    "    print(i)"
   ]
  },
  {
   "cell_type": "code",
   "execution_count": 8,
   "id": "7e9d7370",
   "metadata": {},
   "outputs": [
    {
     "name": "stdout",
     "output_type": "stream",
     "text": [
      "['Farhan', 'Yolanda']\n"
     ]
    }
   ],
   "source": [
    "print(nx.nodes(G))"
   ]
  },
  {
   "cell_type": "code",
   "execution_count": 9,
   "id": "6b78ccf9",
   "metadata": {},
   "outputs": [
    {
     "name": "stdout",
     "output_type": "stream",
     "text": [
      "2\n"
     ]
    }
   ],
   "source": [
    "print(len(G))"
   ]
  },
  {
   "cell_type": "code",
   "execution_count": 10,
   "id": "01de00ad",
   "metadata": {},
   "outputs": [
    {
     "name": "stdout",
     "output_type": "stream",
     "text": [
      "2\n"
     ]
    }
   ],
   "source": [
    "print(nx.number_of_nodes(G))"
   ]
  },
  {
   "cell_type": "code",
   "execution_count": 14,
   "id": "365914bf",
   "metadata": {},
   "outputs": [],
   "source": [
    "G.add_node(\"Farhan2\")"
   ]
  },
  {
   "cell_type": "code",
   "execution_count": 15,
   "id": "3c3129ad",
   "metadata": {},
   "outputs": [
    {
     "name": "stdout",
     "output_type": "stream",
     "text": [
      "3\n"
     ]
    }
   ],
   "source": [
    "print(nx.number_of_nodes(G))"
   ]
  },
  {
   "cell_type": "code",
   "execution_count": 16,
   "id": "9e879506",
   "metadata": {},
   "outputs": [
    {
     "name": "stdout",
     "output_type": "stream",
     "text": [
      "['Farhan', 'Yolanda', 'Farhan2']\n"
     ]
    }
   ],
   "source": [
    "print(nx.nodes(G))"
   ]
  },
  {
   "cell_type": "code",
   "execution_count": null,
   "id": "96edc68b",
   "metadata": {},
   "outputs": [],
   "source": []
  }
 ],
 "metadata": {
  "kernelspec": {
   "display_name": "Python 3 (ipykernel)",
   "language": "python",
   "name": "python3"
  },
  "language_info": {
   "codemirror_mode": {
    "name": "ipython",
    "version": 3
   },
   "file_extension": ".py",
   "mimetype": "text/x-python",
   "name": "python",
   "nbconvert_exporter": "python",
   "pygments_lexer": "ipython3",
   "version": "3.11.3"
  }
 },
 "nbformat": 4,
 "nbformat_minor": 5
}
