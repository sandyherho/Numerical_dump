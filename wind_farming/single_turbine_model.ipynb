{
 "cells": [
  {
   "cell_type": "code",
   "execution_count": 30,
   "id": "72780bdd",
   "metadata": {},
   "outputs": [],
   "source": [
    "import pandas as pd\n",
    "import matplotlib.pyplot as plt\n",
    "plt.rcParams[\"figure.figsize\"] = (15,6)\n",
    "plt.style.use(\"ggplot\")"
   ]
  },
  {
   "cell_type": "markdown",
   "id": "16250703",
   "metadata": {},
   "source": [
    "Turbine info:\n",
    "- Rated Power: 25 kW (7.7 m/s)\n",
    "- Cut-in speed: 2.5 m/s (0.855 kW) \n",
    "- Cut-out speed: 20 m/s  (437kW)\n",
    "- Blade length: 7.6 m\n",
    "- S_area: 182 m^2\n",
    "- Hub_height: 16 m"
   ]
  },
  {
   "cell_type": "code",
   "execution_count": 20,
   "id": "95ecb7b9",
   "metadata": {},
   "outputs": [],
   "source": [
    "windspeed = pd.read_csv(\"./Wind_Speed.csv\")"
   ]
  },
  {
   "cell_type": "code",
   "execution_count": 3,
   "id": "588db60e",
   "metadata": {},
   "outputs": [
    {
     "data": {
      "text/html": [
       "<div>\n",
       "<style scoped>\n",
       "    .dataframe tbody tr th:only-of-type {\n",
       "        vertical-align: middle;\n",
       "    }\n",
       "\n",
       "    .dataframe tbody tr th {\n",
       "        vertical-align: top;\n",
       "    }\n",
       "\n",
       "    .dataframe thead th {\n",
       "        text-align: right;\n",
       "    }\n",
       "</style>\n",
       "<table border=\"1\" class=\"dataframe\">\n",
       "  <thead>\n",
       "    <tr style=\"text-align: right;\">\n",
       "      <th></th>\n",
       "      <th>YEAR</th>\n",
       "      <th>MO</th>\n",
       "      <th>DY</th>\n",
       "      <th>HR</th>\n",
       "      <th>WS10M</th>\n",
       "    </tr>\n",
       "  </thead>\n",
       "  <tbody>\n",
       "    <tr>\n",
       "      <th>0</th>\n",
       "      <td>2020</td>\n",
       "      <td>12</td>\n",
       "      <td>31</td>\n",
       "      <td>19</td>\n",
       "      <td>2.61</td>\n",
       "    </tr>\n",
       "    <tr>\n",
       "      <th>1</th>\n",
       "      <td>2020</td>\n",
       "      <td>12</td>\n",
       "      <td>31</td>\n",
       "      <td>20</td>\n",
       "      <td>2.77</td>\n",
       "    </tr>\n",
       "    <tr>\n",
       "      <th>2</th>\n",
       "      <td>2020</td>\n",
       "      <td>12</td>\n",
       "      <td>31</td>\n",
       "      <td>21</td>\n",
       "      <td>2.86</td>\n",
       "    </tr>\n",
       "    <tr>\n",
       "      <th>3</th>\n",
       "      <td>2020</td>\n",
       "      <td>12</td>\n",
       "      <td>31</td>\n",
       "      <td>22</td>\n",
       "      <td>2.87</td>\n",
       "    </tr>\n",
       "    <tr>\n",
       "      <th>4</th>\n",
       "      <td>2020</td>\n",
       "      <td>12</td>\n",
       "      <td>31</td>\n",
       "      <td>23</td>\n",
       "      <td>2.92</td>\n",
       "    </tr>\n",
       "  </tbody>\n",
       "</table>\n",
       "</div>"
      ],
      "text/plain": [
       "   YEAR  MO  DY  HR  WS10M\n",
       "0  2020  12  31  19   2.61\n",
       "1  2020  12  31  20   2.77\n",
       "2  2020  12  31  21   2.86\n",
       "3  2020  12  31  22   2.87\n",
       "4  2020  12  31  23   2.92"
      ]
     },
     "execution_count": 3,
     "metadata": {},
     "output_type": "execute_result"
    }
   ],
   "source": [
    "windspeed.head()"
   ]
  },
  {
   "cell_type": "code",
   "execution_count": 4,
   "id": "f45ece6e",
   "metadata": {},
   "outputs": [],
   "source": [
    "ws = windspeed.iloc[:, 4]"
   ]
  },
  {
   "cell_type": "code",
   "execution_count": 5,
   "id": "f2f9ca3f",
   "metadata": {},
   "outputs": [
    {
     "data": {
      "text/plain": [
       "0    2.61\n",
       "1    2.77\n",
       "2    2.86\n",
       "3    2.87\n",
       "4    2.92\n",
       "Name: WS10M, dtype: float64"
      ]
     },
     "execution_count": 5,
     "metadata": {},
     "output_type": "execute_result"
    }
   ],
   "source": [
    "ws.head()"
   ]
  },
  {
   "cell_type": "code",
   "execution_count": 6,
   "id": "8a2e6099",
   "metadata": {},
   "outputs": [
    {
     "data": {
      "text/plain": [
       "count    8760.000000\n",
       "mean        3.115121\n",
       "std         1.488002\n",
       "min         0.150000\n",
       "25%         2.140000\n",
       "50%         2.830000\n",
       "75%         3.790000\n",
       "max        11.130000\n",
       "Name: WS10M, dtype: float64"
      ]
     },
     "execution_count": 6,
     "metadata": {},
     "output_type": "execute_result"
    }
   ],
   "source": [
    "ws.describe()"
   ]
  },
  {
   "cell_type": "code",
   "execution_count": 8,
   "id": "33974c40",
   "metadata": {},
   "outputs": [],
   "source": [
    "# In case you have wind speed data with km/h unit\n",
    "def meter_second(v):\n",
    "    return v / 3.6"
   ]
  },
  {
   "cell_type": "code",
   "execution_count": 10,
   "id": "9b2ff978",
   "metadata": {},
   "outputs": [],
   "source": [
    "rho_air = 1.275 # kg/m^3\n",
    "Bz = 0.593 \n",
    "area = 181 # m^2\n",
    "eta = 0.8\n",
    "\n",
    "# divided by 10^3 to be in kW\n",
    "def wind_p(v):\n",
    "    return (1/2 * rho_air * area * (v**3) * Bz * eta) / 1e3  "
   ]
  },
  {
   "cell_type": "code",
   "execution_count": 11,
   "id": "53c0903e",
   "metadata": {},
   "outputs": [],
   "source": [
    "wind_power  = wind_p(ws)"
   ]
  },
  {
   "cell_type": "code",
   "execution_count": 14,
   "id": "eb890fb0",
   "metadata": {},
   "outputs": [
    {
     "data": {
      "text/plain": [
       "0       0.973251\n",
       "1       1.163437\n",
       "2       1.280565\n",
       "3       1.294044\n",
       "4       1.362862\n",
       "          ...   \n",
       "8755    1.113759\n",
       "8756    1.018688\n",
       "8757    0.683545\n",
       "8758    0.590854\n",
       "8759    0.521568\n",
       "Name: WS10M, Length: 8760, dtype: float64"
      ]
     },
     "execution_count": 14,
     "metadata": {},
     "output_type": "execute_result"
    }
   ],
   "source": [
    "wind_power # hourly wind power in kW"
   ]
  },
  {
   "cell_type": "code",
   "execution_count": 17,
   "id": "0059d41e",
   "metadata": {},
   "outputs": [],
   "source": [
    "wind_power = pd.DataFrame(wind_power).rename(columns = {\"WS10M\":\"Power_Output(kW)\"})"
   ]
  },
  {
   "cell_type": "code",
   "execution_count": 18,
   "id": "cbed3c46",
   "metadata": {},
   "outputs": [
    {
     "data": {
      "text/html": [
       "<div>\n",
       "<style scoped>\n",
       "    .dataframe tbody tr th:only-of-type {\n",
       "        vertical-align: middle;\n",
       "    }\n",
       "\n",
       "    .dataframe tbody tr th {\n",
       "        vertical-align: top;\n",
       "    }\n",
       "\n",
       "    .dataframe thead th {\n",
       "        text-align: right;\n",
       "    }\n",
       "</style>\n",
       "<table border=\"1\" class=\"dataframe\">\n",
       "  <thead>\n",
       "    <tr style=\"text-align: right;\">\n",
       "      <th></th>\n",
       "      <th>Power_Output(kW)</th>\n",
       "    </tr>\n",
       "  </thead>\n",
       "  <tbody>\n",
       "    <tr>\n",
       "      <th>0</th>\n",
       "      <td>0.973251</td>\n",
       "    </tr>\n",
       "    <tr>\n",
       "      <th>1</th>\n",
       "      <td>1.163437</td>\n",
       "    </tr>\n",
       "    <tr>\n",
       "      <th>2</th>\n",
       "      <td>1.280565</td>\n",
       "    </tr>\n",
       "    <tr>\n",
       "      <th>3</th>\n",
       "      <td>1.294044</td>\n",
       "    </tr>\n",
       "    <tr>\n",
       "      <th>4</th>\n",
       "      <td>1.362862</td>\n",
       "    </tr>\n",
       "  </tbody>\n",
       "</table>\n",
       "</div>"
      ],
      "text/plain": [
       "   Power_Output(kW)\n",
       "0          0.973251\n",
       "1          1.163437\n",
       "2          1.280565\n",
       "3          1.294044\n",
       "4          1.362862"
      ]
     },
     "execution_count": 18,
     "metadata": {},
     "output_type": "execute_result"
    }
   ],
   "source": [
    "wind_power.head()"
   ]
  },
  {
   "cell_type": "code",
   "execution_count": 22,
   "id": "e48b8e4e",
   "metadata": {},
   "outputs": [
    {
     "data": {
      "text/plain": [
       "437.91864"
      ]
     },
     "execution_count": 22,
     "metadata": {},
     "output_type": "execute_result"
    }
   ],
   "source": [
    "wind_p(2.5) # cut-in\n",
    "wind_p(20) # cut-out"
   ]
  },
  {
   "cell_type": "code",
   "execution_count": 28,
   "id": "7e575439",
   "metadata": {},
   "outputs": [],
   "source": [
    "wind_power.loc[(wind_power[\"Power_Output(kW)\"]>=25) & (wind_power[\"Power_Output(kW)\"]<=437)] = 25 # rated power to cut-out\n",
    "wind_power.loc[wind_power[\"Power_Output(kW)\"]>=437] = 0 # after cut-out\n",
    "wind_power.loc[wind_power[\"Power_Output(kW)\"]>0.855] = 0 # before cut-in"
   ]
  },
  {
   "cell_type": "code",
   "execution_count": null,
   "id": "e902b223",
   "metadata": {},
   "outputs": [],
   "source": [
    "plt.plot()"
   ]
  }
 ],
 "metadata": {
  "kernelspec": {
   "display_name": "Python 3 (ipykernel)",
   "language": "python",
   "name": "python3"
  },
  "language_info": {
   "codemirror_mode": {
    "name": "ipython",
    "version": 3
   },
   "file_extension": ".py",
   "mimetype": "text/x-python",
   "name": "python",
   "nbconvert_exporter": "python",
   "pygments_lexer": "ipython3",
   "version": "3.11.3"
  }
 },
 "nbformat": 4,
 "nbformat_minor": 5
}
