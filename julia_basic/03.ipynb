{
 "cells": [
  {
   "cell_type": "markdown",
   "id": "a71bd80e-5c37-432a-b492-0e339a6a9439",
   "metadata": {},
   "source": [
    "# Control structures"
   ]
  },
  {
   "cell_type": "markdown",
   "id": "591c3563-5354-4c4c-af02-0b0c5ac1dec3",
   "metadata": {},
   "source": [
    "# Conditionals"
   ]
  },
  {
   "cell_type": "code",
   "execution_count": 1,
   "id": "6cc98078-8058-45c9-89a4-ea41a14d6bf6",
   "metadata": {},
   "outputs": [
    {
     "data": {
      "text/plain": [
       "25"
      ]
     },
     "execution_count": 1,
     "metadata": {},
     "output_type": "execute_result"
    }
   ],
   "source": [
    "x = 25"
   ]
  },
  {
   "cell_type": "markdown",
   "id": "4f930e4f-890b-46a2-930d-dc8bbe6641b3",
   "metadata": {},
   "source": [
    "Statement blocks need an `end` statement. There is no colon at the end of the header and indentation is ignored by the interpreter (but you should, of course, still do it)."
   ]
  },
  {
   "cell_type": "code",
   "execution_count": 2,
   "id": "a4dbb1a2-4833-4061-b8a5-6f472904e2cc",
   "metadata": {},
   "outputs": [
    {
     "name": "stdout",
     "output_type": "stream",
     "text": [
      "x is greater than 20.\n"
     ]
    }
   ],
   "source": [
    "if x > 20\n",
    "    println(\"x is greater than 20.\")\n",
    "end"
   ]
  },
  {
   "cell_type": "markdown",
   "id": "d6f8e0fa-c09e-4047-b409-ab1251acbe76",
   "metadata": {},
   "source": [
    "## Examples"
   ]
  },
  {
   "cell_type": "markdown",
   "id": "5dd44f38-5a38-44c2-b803-740f3dd865d4",
   "metadata": {},
   "source": [
    "FizzBuzz test: given a number `n`, \n",
    "\n",
    "- print \"Fizz\" if `n` is divisable by 3,\n",
    "- \"Buzz\" if `n` is divisable by 5,\n",
    "- \"FizzBuzz\" if `n` is divisable by 3 and 5,"
   ]
  },
  {
   "cell_type": "code",
   "execution_count": 9,
   "id": "eb015931-8d7e-41ca-bfeb-0e32156c219c",
   "metadata": {},
   "outputs": [
    {
     "data": {
      "text/plain": [
       "12"
      ]
     },
     "execution_count": 9,
     "metadata": {},
     "output_type": "execute_result"
    }
   ],
   "source": [
    "n = 12"
   ]
  },
  {
   "cell_type": "code",
   "execution_count": 10,
   "id": "e4d5f7c1-bcb6-4f70-8696-740fab77ec5c",
   "metadata": {},
   "outputs": [
    {
     "name": "stdout",
     "output_type": "stream",
     "text": [
      "Fizz\n"
     ]
    }
   ],
   "source": [
    "if (n%3 == 0) && (n%5 == 0)\n",
    "    println(\"FizzBuzz\")\n",
    "elseif (n%3 == 0)\n",
    "    println(\"Fizz\")\n",
    "elseif (n%5 == 0)\n",
    "    println(\"Buzz\")\n",
    "else\n",
    "    println(n)\n",
    "end"
   ]
  },
  {
   "cell_type": "markdown",
   "id": "e98318f5-d640-440b-8360-50e8ccde3712",
   "metadata": {},
   "source": [
    "## Iteration"
   ]
  },
  {
   "cell_type": "code",
   "execution_count": 11,
   "id": "0dfa2d69-d88a-4828-9230-328e3474521d",
   "metadata": {
    "tags": []
   },
   "outputs": [
    {
     "name": "stdout",
     "output_type": "stream",
     "text": [
      "i is: 0\n",
      "i is: 1\n",
      "i is: 2\n",
      "i is: 3\n",
      "i is: 4\n",
      "i is: 5\n",
      "i is: 6\n",
      "i is: 7\n",
      "i is: 8\n",
      "i is: 9\n"
     ]
    }
   ],
   "source": [
    "i = 0\n",
    "while i < 10\n",
    "    println(\"i is: \", i)\n",
    "    i += 1\n",
    "end"
   ]
  },
  {
   "cell_type": "code",
   "execution_count": 13,
   "id": "b21f914e-5644-40d9-8c48-8c485bceefd1",
   "metadata": {
    "tags": []
   },
   "outputs": [
    {
     "name": "stdout",
     "output_type": "stream",
     "text": [
      "1\n",
      "2\n",
      "3\n",
      "4\n",
      "5\n",
      "6\n",
      "7\n",
      "8\n",
      "9\n",
      "10\n"
     ]
    }
   ],
   "source": [
    "nums = [1,2,3,4,5,6,7,8,9,10];\n",
    "\n",
    "for var in nums\n",
    "    println(var)\n",
    "end"
   ]
  },
  {
   "cell_type": "code",
   "execution_count": 14,
   "id": "cd4b96cd-53db-457e-9f08-db393c5ae6ec",
   "metadata": {
    "tags": []
   },
   "outputs": [
    {
     "name": "stdout",
     "output_type": "stream",
     "text": [
      "1\n",
      "2\n",
      "3\n",
      "4\n",
      "5\n",
      "6\n",
      "7\n",
      "8\n",
      "9\n",
      "10\n"
     ]
    }
   ],
   "source": [
    "for var in 1:10\n",
    "    println(var)\n",
    "end"
   ]
  },
  {
   "cell_type": "code",
   "execution_count": 15,
   "id": "a1bd9528-adc9-4f90-8220-b5fa0520abcc",
   "metadata": {
    "tags": []
   },
   "outputs": [
    {
     "data": {
      "text/plain": [
       "1:10"
      ]
     },
     "execution_count": 15,
     "metadata": {},
     "output_type": "execute_result"
    }
   ],
   "source": [
    "1:10"
   ]
  },
  {
   "cell_type": "code",
   "execution_count": 16,
   "id": "b4711bf9-fa84-4cb8-93a1-acff50825b90",
   "metadata": {
    "tags": []
   },
   "outputs": [
    {
     "data": {
      "text/plain": [
       "UnitRange{Int64}"
      ]
     },
     "execution_count": 16,
     "metadata": {},
     "output_type": "execute_result"
    }
   ],
   "source": [
    "typeof(1:10)"
   ]
  }
 ],
 "metadata": {
  "kernelspec": {
   "display_name": "Julia 1.8.2",
   "language": "julia",
   "name": "julia-1.8"
  },
  "language_info": {
   "file_extension": ".jl",
   "mimetype": "application/julia",
   "name": "julia",
   "version": "1.8.2"
  }
 },
 "nbformat": 4,
 "nbformat_minor": 5
}
