{
 "cells": [
  {
   "cell_type": "markdown",
   "id": "ff00861e-6538-4bd6-8a39-6ade52a89715",
   "metadata": {},
   "source": [
    "# Data Structures"
   ]
  },
  {
   "cell_type": "markdown",
   "id": "877453e2-b3c5-489f-9c5c-b0f1ee6f7294",
   "metadata": {},
   "source": [
    "## List/Arrays"
   ]
  },
  {
   "cell_type": "code",
   "execution_count": 1,
   "id": "0cfeb5a5-3e8a-4eb8-8cf4-ab351e1d8a25",
   "metadata": {
    "tags": []
   },
   "outputs": [
    {
     "data": {
      "text/plain": [
       "4-element Vector{Int64}:\n",
       " 1\n",
       " 2\n",
       " 4\n",
       " 5"
      ]
     },
     "execution_count": 1,
     "metadata": {},
     "output_type": "execute_result"
    }
   ],
   "source": [
    "collection = [1,2,4,5]"
   ]
  },
  {
   "cell_type": "code",
   "execution_count": 3,
   "id": "f742721d-1150-4831-8c5c-94f3e9fe9942",
   "metadata": {
    "tags": []
   },
   "outputs": [
    {
     "data": {
      "text/plain": [
       "4-element Vector{Float64}:\n",
       " 1.0\n",
       " 2.0\n",
       " 4.0\n",
       " 5.0"
      ]
     },
     "execution_count": 3,
     "metadata": {},
     "output_type": "execute_result"
    }
   ],
   "source": [
    "collection = [1,2,4,5.0] # notice the data type"
   ]
  },
  {
   "cell_type": "code",
   "execution_count": 4,
   "id": "c1746a72-6f78-4969-8f97-1e83de2c24a0",
   "metadata": {
    "tags": []
   },
   "outputs": [
    {
     "data": {
      "text/plain": [
       "5-element Vector{Float64}:\n",
       " 1.0\n",
       " 2.0\n",
       " 4.0\n",
       " 1.6666666666666667\n",
       " 5.7"
      ]
     },
     "execution_count": 4,
     "metadata": {},
     "output_type": "execute_result"
    }
   ],
   "source": [
    "collection = [1,2,4,5//3, 5.7] # rationals will get translated to floats here"
   ]
  },
  {
   "cell_type": "code",
   "execution_count": 5,
   "id": "2346c630-3fad-469d-a6a3-e7af1a844e3c",
   "metadata": {
    "tags": []
   },
   "outputs": [
    {
     "data": {
      "text/plain": [
       "4-element Vector{Any}:\n",
       " 1\n",
       " 2\n",
       " 4\n",
       "  \"5\""
      ]
     },
     "execution_count": 5,
     "metadata": {},
     "output_type": "execute_result"
    }
   ],
   "source": [
    "collection = [1,2,4,\"5\"]"
   ]
  },
  {
   "cell_type": "code",
   "execution_count": 10,
   "id": "65574271-e315-43c4-b11c-083e7735fe8d",
   "metadata": {
    "tags": []
   },
   "outputs": [
    {
     "data": {
      "text/plain": [
       "4-element Vector{Int64}:\n",
       " 1\n",
       " 2\n",
       " 4\n",
       " 5"
      ]
     },
     "execution_count": 10,
     "metadata": {},
     "output_type": "execute_result"
    }
   ],
   "source": [
    "collection = [1,2,4,5]"
   ]
  },
  {
   "cell_type": "code",
   "execution_count": 11,
   "id": "e8ee6c62-56b2-4492-8273-4a68edf73094",
   "metadata": {
    "tags": []
   },
   "outputs": [
    {
     "data": {
      "text/plain": [
       "5-element Vector{Int64}:\n",
       "  1\n",
       "  2\n",
       "  4\n",
       "  5\n",
       " 60"
      ]
     },
     "execution_count": 11,
     "metadata": {},
     "output_type": "execute_result"
    }
   ],
   "source": [
    "append!(collection, 60) # functions with a bang (!) at the end mutate the passed object"
   ]
  },
  {
   "cell_type": "code",
   "execution_count": 12,
   "id": "32d3cafc-eb0d-47b0-8778-c38c7be1d709",
   "metadata": {
    "tags": []
   },
   "outputs": [
    {
     "data": {
      "text/plain": [
       "5-element Vector{Int64}:\n",
       "  1\n",
       "  2\n",
       "  4\n",
       "  5\n",
       " 60"
      ]
     },
     "execution_count": 12,
     "metadata": {},
     "output_type": "execute_result"
    }
   ],
   "source": [
    "collection"
   ]
  },
  {
   "cell_type": "code",
   "execution_count": 13,
   "id": "451623fc-11f7-45c6-a281-a9f5a641ae74",
   "metadata": {
    "tags": []
   },
   "outputs": [
    {
     "ename": "LoadError",
     "evalue": "BoundsError: attempt to access 5-element Vector{Int64} at index [0]",
     "output_type": "error",
     "traceback": [
      "BoundsError: attempt to access 5-element Vector{Int64} at index [0]",
      "",
      "Stacktrace:",
      " [1] getindex(A::Vector{Int64}, i1::Int64)",
      "   @ Base ./array.jl:924",
      " [2] top-level scope",
      "   @ In[13]:1",
      " [3] eval",
      "   @ ./boot.jl:368 [inlined]",
      " [4] include_string(mapexpr::typeof(REPL.softscope), mod::Module, code::String, filename::String)",
      "   @ Base ./loading.jl:1428"
     ]
    }
   ],
   "source": [
    "collection[0] #!! Important"
   ]
  },
  {
   "cell_type": "code",
   "execution_count": 14,
   "id": "0467b395-efcd-4e72-a41b-751080c28677",
   "metadata": {
    "tags": []
   },
   "outputs": [
    {
     "data": {
      "text/plain": [
       "1"
      ]
     },
     "execution_count": 14,
     "metadata": {},
     "output_type": "execute_result"
    }
   ],
   "source": [
    "collection[1]"
   ]
  },
  {
   "cell_type": "code",
   "execution_count": 15,
   "id": "84edacf6-b1ad-4cf7-8d00-8dab80c73fb1",
   "metadata": {
    "tags": []
   },
   "outputs": [
    {
     "data": {
      "text/plain": [
       "9-element Vector{Int64}:\n",
       " 10\n",
       " 20\n",
       " 30\n",
       " 40\n",
       " 59\n",
       " 60\n",
       " 70\n",
       " 80\n",
       " 90"
      ]
     },
     "execution_count": 15,
     "metadata": {},
     "output_type": "execute_result"
    }
   ],
   "source": [
    "collection = [10,20,30,40,59,60,70,80,90]"
   ]
  },
  {
   "cell_type": "code",
   "execution_count": 17,
   "id": "d9609486-ef8d-4646-89e6-bf2c62bfc689",
   "metadata": {
    "tags": []
   },
   "outputs": [
    {
     "data": {
      "text/plain": [
       "5-element Vector{Int64}:\n",
       " 10\n",
       " 20\n",
       " 30\n",
       " 40\n",
       " 59"
      ]
     },
     "execution_count": 17,
     "metadata": {},
     "output_type": "execute_result"
    }
   ],
   "source": [
    "collection[1:5]"
   ]
  },
  {
   "cell_type": "code",
   "execution_count": 18,
   "id": "bf6b7485-7350-4c74-b96e-16fab18287c1",
   "metadata": {
    "tags": []
   },
   "outputs": [
    {
     "data": {
      "text/plain": [
       "5-element Vector{Int64}:\n",
       " 59\n",
       " 60\n",
       " 70\n",
       " 80\n",
       " 90"
      ]
     },
     "execution_count": 18,
     "metadata": {},
     "output_type": "execute_result"
    }
   ],
   "source": [
    "collection[5:end]"
   ]
  },
  {
   "cell_type": "code",
   "execution_count": 19,
   "id": "1bb02cda-59ed-4a33-b93a-f50c6d495528",
   "metadata": {
    "tags": []
   },
   "outputs": [
    {
     "data": {
      "text/plain": [
       "9-element Vector{Int64}:\n",
       " 10\n",
       " 20\n",
       " 30\n",
       " 40\n",
       " 59\n",
       " 60\n",
       " 70\n",
       " 80\n",
       " 90"
      ]
     },
     "execution_count": 19,
     "metadata": {},
     "output_type": "execute_result"
    }
   ],
   "source": [
    "collection[:] # creates a copy"
   ]
  },
  {
   "cell_type": "code",
   "execution_count": 22,
   "id": "01cc9182-b58f-42f0-836d-18119721669e",
   "metadata": {
    "tags": []
   },
   "outputs": [
    {
     "data": {
      "text/plain": [
       "40"
      ]
     },
     "execution_count": 22,
     "metadata": {},
     "output_type": "execute_result"
    }
   ],
   "source": [
    "collection[:4] # This is different ! "
   ]
  },
  {
   "cell_type": "code",
   "execution_count": 23,
   "id": "400b5429-b81d-4695-8d86-a81c6ba2d0a1",
   "metadata": {
    "tags": []
   },
   "outputs": [
    {
     "data": {
      "text/plain": [
       "4-element Vector{Int64}:\n",
       " 10\n",
       " 20\n",
       " 30\n",
       " 40"
      ]
     },
     "execution_count": 23,
     "metadata": {},
     "output_type": "execute_result"
    }
   ],
   "source": [
    "collection[1:4]"
   ]
  },
  {
   "cell_type": "code",
   "execution_count": 24,
   "id": "3b033913-f172-4a57-9ce5-416f8574b78d",
   "metadata": {
    "tags": []
   },
   "outputs": [
    {
     "ename": "LoadError",
     "evalue": "syntax: expected \"]\" or separator in arguments to \"[ ]\"; got \":-1\"",
     "output_type": "error",
     "traceback": [
      "syntax: expected \"]\" or separator in arguments to \"[ ]\"; got \":-1\"",
      "",
      "Stacktrace:",
      " [1] top-level scope",
      "   @ In[24]:1",
      " [2] eval",
      "   @ ./boot.jl:368 [inlined]",
      " [3] include_string(mapexpr::typeof(REPL.softscope), mod::Module, code::String, filename::String)",
      "   @ Base ./loading.jl:1428"
     ]
    }
   ],
   "source": [
    "collection[:-1] # also bad"
   ]
  },
  {
   "cell_type": "code",
   "execution_count": 26,
   "id": "9b6225c6-b900-4c4e-918c-9f25f67fec06",
   "metadata": {
    "tags": []
   },
   "outputs": [
    {
     "data": {
      "text/plain": [
       "80"
      ]
     },
     "execution_count": 26,
     "metadata": {},
     "output_type": "execute_result"
    }
   ],
   "source": [
    "collection[end-1] # different from python again!"
   ]
  },
  {
   "cell_type": "markdown",
   "id": "4b1181e5-2ab1-49c7-8cb1-896576beeead",
   "metadata": {
    "tags": []
   },
   "source": [
    "## Mutation"
   ]
  },
  {
   "cell_type": "code",
   "execution_count": 28,
   "id": "915d0f36-308c-421f-b0f0-7b8f7238858c",
   "metadata": {
    "tags": []
   },
   "outputs": [
    {
     "data": {
      "text/plain": [
       "99"
      ]
     },
     "execution_count": 28,
     "metadata": {},
     "output_type": "execute_result"
    }
   ],
   "source": [
    "collection[1] = 99"
   ]
  },
  {
   "cell_type": "code",
   "execution_count": 29,
   "id": "b387a38e-95cd-4f6f-b0ae-1eb8cd18760c",
   "metadata": {
    "tags": []
   },
   "outputs": [
    {
     "data": {
      "text/plain": [
       "9-element Vector{Int64}:\n",
       " 99\n",
       " 20\n",
       " 30\n",
       " 40\n",
       " 59\n",
       " 60\n",
       " 70\n",
       " 80\n",
       " 90"
      ]
     },
     "execution_count": 29,
     "metadata": {},
     "output_type": "execute_result"
    }
   ],
   "source": [
    "collection"
   ]
  },
  {
   "cell_type": "code",
   "execution_count": 31,
   "id": "446aabff-164c-412d-b362-1c44e882918b",
   "metadata": {
    "tags": []
   },
   "outputs": [
    {
     "name": "stdout",
     "output_type": "stream",
     "text": [
      "collection = [99, 20, 30, 40, 59, 60, 70, 80, 90]\n"
     ]
    },
    {
     "data": {
      "text/plain": [
       "9-element Vector{Int64}:\n",
       " 99\n",
       " 20\n",
       " 30\n",
       " 40\n",
       " 59\n",
       " 60\n",
       " 70\n",
       " 80\n",
       " 90"
      ]
     },
     "execution_count": 31,
     "metadata": {},
     "output_type": "execute_result"
    }
   ],
   "source": [
    "@show collection # we'll need this to show the macro!"
   ]
  },
  {
   "cell_type": "code",
   "execution_count": 32,
   "id": "4764f731-0326-43df-b102-b6522c9871af",
   "metadata": {
    "tags": []
   },
   "outputs": [
    {
     "data": {
      "text/plain": [
       "9-element Vector{Int64}:\n",
       " 99\n",
       " 20\n",
       " 30\n",
       " 40\n",
       " 59\n",
       " 60\n",
       " 70\n",
       " 80\n",
       " 90"
      ]
     },
     "execution_count": 32,
     "metadata": {},
     "output_type": "execute_result"
    }
   ],
   "source": [
    "copy_of_collection = collection"
   ]
  },
  {
   "cell_type": "code",
   "execution_count": 33,
   "id": "7ed59665-67f7-4355-b5ca-76b620d9a808",
   "metadata": {
    "tags": []
   },
   "outputs": [
    {
     "data": {
      "text/plain": [
       "100"
      ]
     },
     "execution_count": 33,
     "metadata": {},
     "output_type": "execute_result"
    }
   ],
   "source": [
    "copy_of_collection[1] = 100"
   ]
  },
  {
   "cell_type": "code",
   "execution_count": 34,
   "id": "4f18b729-b104-4ff7-89be-e9c3d1757013",
   "metadata": {
    "tags": []
   },
   "outputs": [
    {
     "data": {
      "text/plain": [
       "9-element Vector{Int64}:\n",
       " 100\n",
       "  20\n",
       "  30\n",
       "  40\n",
       "  59\n",
       "  60\n",
       "  70\n",
       "  80\n",
       "  90"
      ]
     },
     "execution_count": 34,
     "metadata": {},
     "output_type": "execute_result"
    }
   ],
   "source": [
    "copy_of_collection"
   ]
  },
  {
   "cell_type": "code",
   "execution_count": 35,
   "id": "323b6d49-9fab-425a-a7e0-b5dcbe067c46",
   "metadata": {
    "tags": []
   },
   "outputs": [
    {
     "data": {
      "text/plain": [
       "9-element Vector{Int64}:\n",
       " 100\n",
       "  20\n",
       "  30\n",
       "  40\n",
       "  59\n",
       "  60\n",
       "  70\n",
       "  80\n",
       "  90"
      ]
     },
     "execution_count": 35,
     "metadata": {},
     "output_type": "execute_result"
    }
   ],
   "source": [
    "collection"
   ]
  },
  {
   "cell_type": "code",
   "execution_count": 36,
   "id": "69836200-8faa-4a56-9e17-a0754638d981",
   "metadata": {
    "tags": []
   },
   "outputs": [
    {
     "data": {
      "text/plain": [
       "9-element Vector{Int64}:\n",
       " 100\n",
       "  20\n",
       "  30\n",
       "  40\n",
       "  59\n",
       "  60\n",
       "  70\n",
       "  80\n",
       "  90"
      ]
     },
     "execution_count": 36,
     "metadata": {},
     "output_type": "execute_result"
    }
   ],
   "source": [
    "second_copy = copy(collection)"
   ]
  },
  {
   "cell_type": "code",
   "execution_count": 38,
   "id": "000e9d42-4a82-48f2-a846-48327d0e1938",
   "metadata": {
    "tags": []
   },
   "outputs": [
    {
     "name": "stdout",
     "output_type": "stream",
     "text": [
      "second_copy = [9999, 20, 30, 40, 59, 60, 70, 80, 90]\n",
      "collection = [100, 20, 30, 40, 59, 60, 70, 80, 90]\n",
      "copy_of_collection = [100, 20, 30, 40, 59, 60, 70, 80, 90]\n"
     ]
    },
    {
     "data": {
      "text/plain": [
       "9-element Vector{Int64}:\n",
       " 100\n",
       "  20\n",
       "  30\n",
       "  40\n",
       "  59\n",
       "  60\n",
       "  70\n",
       "  80\n",
       "  90"
      ]
     },
     "execution_count": 38,
     "metadata": {},
     "output_type": "execute_result"
    }
   ],
   "source": [
    "second_copy[1] = 9999;\n",
    "@show second_copy\n",
    "@show collection\n",
    "@show copy_of_collection"
   ]
  },
  {
   "cell_type": "markdown",
   "id": "b34716c7-3407-4940-8f54-796a25995fac",
   "metadata": {},
   "source": [
    "## Tuples"
   ]
  },
  {
   "cell_type": "markdown",
   "id": "70295e40-270e-4c94-9881-108c9d11f984",
   "metadata": {},
   "source": [
    "Similar to arrays but immutable"
   ]
  },
  {
   "cell_type": "code",
   "execution_count": 39,
   "id": "bd75ced7-4734-4ac7-9c62-e9bb3cf819c9",
   "metadata": {
    "tags": []
   },
   "outputs": [
    {
     "data": {
      "text/plain": [
       "(1, 2, 3)"
      ]
     },
     "execution_count": 39,
     "metadata": {},
     "output_type": "execute_result"
    }
   ],
   "source": [
    "collection = (1,2,3)"
   ]
  },
  {
   "cell_type": "code",
   "execution_count": 41,
   "id": "bb0cec03-3684-4320-8c6c-cc91ee7fc6b0",
   "metadata": {
    "tags": []
   },
   "outputs": [
    {
     "data": {
      "text/plain": [
       "(\"julia\", \"python\", \"c\", \"java\")"
      ]
     },
     "execution_count": 41,
     "metadata": {},
     "output_type": "execute_result"
    }
   ],
   "source": [
    "languages = (\"julia\", \"python\", \"c\",  \"java\")"
   ]
  },
  {
   "cell_type": "code",
   "execution_count": 42,
   "id": "5af50912-a773-4d9d-96c0-bf1a38fa885a",
   "metadata": {
    "tags": []
   },
   "outputs": [
    {
     "data": {
      "text/plain": [
       "\"julia\""
      ]
     },
     "execution_count": 42,
     "metadata": {},
     "output_type": "execute_result"
    }
   ],
   "source": [
    "languages[1] "
   ]
  },
  {
   "cell_type": "code",
   "execution_count": 43,
   "id": "4f0c846a-c14b-4c4d-a66f-4f0046f4fdc8",
   "metadata": {
    "tags": []
   },
   "outputs": [
    {
     "ename": "LoadError",
     "evalue": "MethodError: no method matching setindex!(::NTuple{4, String}, ::String, ::Int64)",
     "output_type": "error",
     "traceback": [
      "MethodError: no method matching setindex!(::NTuple{4, String}, ::String, ::Int64)",
      "",
      "Stacktrace:",
      " [1] top-level scope",
      "   @ In[43]:1",
      " [2] eval",
      "   @ ./boot.jl:368 [inlined]",
      " [3] include_string(mapexpr::typeof(REPL.softscope), mod::Module, code::String, filename::String)",
      "   @ Base ./loading.jl:1428"
     ]
    }
   ],
   "source": [
    "languages[1] = \"Go\""
   ]
  },
  {
   "cell_type": "code",
   "execution_count": 44,
   "id": "93b3cdb6-072d-4b99-8e2a-34fcef6187a7",
   "metadata": {
    "tags": []
   },
   "outputs": [
    {
     "data": {
      "text/plain": [
       "(\"julia\", \"python\", \"c\", \"java\")"
      ]
     },
     "execution_count": 44,
     "metadata": {},
     "output_type": "execute_result"
    }
   ],
   "source": [
    "languages"
   ]
  },
  {
   "cell_type": "markdown",
   "id": "e176271d-dd43-460c-9bb7-67bcab5b30a3",
   "metadata": {},
   "source": [
    "## Named tuples"
   ]
  },
  {
   "cell_type": "code",
   "execution_count": 46,
   "id": "55fa5f4b-ccf2-491c-8101-083446aca9fd",
   "metadata": {
    "tags": []
   },
   "outputs": [
    {
     "data": {
      "text/plain": [
       "(language = \"julia\", ide = \"pluto\", explore = \"perseverence\")"
      ]
     },
     "execution_count": 46,
     "metadata": {},
     "output_type": "execute_result"
    }
   ],
   "source": [
    "tools = (language=\"julia\", ide=\"pluto\", explore=\"perseverence\")"
   ]
  },
  {
   "cell_type": "code",
   "execution_count": 48,
   "id": "644cad77-9147-49f5-8bcc-24af6d632ea9",
   "metadata": {
    "tags": []
   },
   "outputs": [
    {
     "data": {
      "text/plain": [
       "\"julia\""
      ]
     },
     "execution_count": 48,
     "metadata": {},
     "output_type": "execute_result"
    }
   ],
   "source": [
    "tools[1]"
   ]
  },
  {
   "cell_type": "code",
   "execution_count": 49,
   "id": "f0ccd4bf-803e-4556-be7b-f34816380951",
   "metadata": {
    "tags": []
   },
   "outputs": [
    {
     "data": {
      "text/plain": [
       "\"julia\""
      ]
     },
     "execution_count": 49,
     "metadata": {},
     "output_type": "execute_result"
    }
   ],
   "source": [
    "tools.language"
   ]
  },
  {
   "cell_type": "markdown",
   "id": "0fcbeacc-38c7-4f4c-96b0-03f0aaf60eaa",
   "metadata": {},
   "source": [
    "## Dictionaries"
   ]
  },
  {
   "cell_type": "code",
   "execution_count": 63,
   "id": "cbd4a7e3-fff2-4c46-869f-960c27baab36",
   "metadata": {
    "tags": []
   },
   "outputs": [
    {
     "data": {
      "text/plain": [
       "Dict{String, String} with 2 entries:\n",
       "  \"language\" => \"julia\"\n",
       "  \"ide\"      => \"pluto\""
      ]
     },
     "execution_count": 63,
     "metadata": {},
     "output_type": "execute_result"
    }
   ],
   "source": [
    "d = Dict(\"language\"=>\"julia\", \"ide\"=>\"pluto\")"
   ]
  },
  {
   "cell_type": "code",
   "execution_count": 64,
   "id": "8f352492-e723-48ba-a24f-aa7f3e26bd54",
   "metadata": {
    "tags": []
   },
   "outputs": [
    {
     "data": {
      "text/plain": [
       "\"julia\""
      ]
     },
     "execution_count": 64,
     "metadata": {},
     "output_type": "execute_result"
    }
   ],
   "source": [
    "d[\"language\"]"
   ]
  },
  {
   "cell_type": "code",
   "execution_count": 65,
   "id": "68d12ce1-e9b0-46fb-805b-93b463507757",
   "metadata": {
    "tags": []
   },
   "outputs": [
    {
     "ename": "LoadError",
     "evalue": "type Dict has no field language",
     "output_type": "error",
     "traceback": [
      "type Dict has no field language",
      "",
      "Stacktrace:",
      " [1] getproperty(x::Dict{String, String}, f::Symbol)",
      "   @ Base ./Base.jl:38",
      " [2] top-level scope",
      "   @ In[65]:1",
      " [3] eval",
      "   @ ./boot.jl:368 [inlined]",
      " [4] include_string(mapexpr::typeof(REPL.softscope), mod::Module, code::String, filename::String)",
      "   @ Base ./loading.jl:1428"
     ]
    }
   ],
   "source": [
    "d.language # that doesn't work"
   ]
  },
  {
   "cell_type": "code",
   "execution_count": 66,
   "id": "267172f9-972e-4a8f-aab8-b947e8e46794",
   "metadata": {
    "tags": []
   },
   "outputs": [
    {
     "data": {
      "text/plain": [
       "\"perseverence\""
      ]
     },
     "execution_count": 66,
     "metadata": {},
     "output_type": "execute_result"
    }
   ],
   "source": [
    "d[\"explorer\"] = \"perseverence\""
   ]
  },
  {
   "cell_type": "code",
   "execution_count": 67,
   "id": "1f60602f-dbb6-48b8-a1b2-a629a3c4fe5d",
   "metadata": {
    "tags": []
   },
   "outputs": [
    {
     "data": {
      "text/plain": [
       "Dict{String, String} with 3 entries:\n",
       "  \"explorer\" => \"perseverence\"\n",
       "  \"language\" => \"julia\"\n",
       "  \"ide\"      => \"pluto\""
      ]
     },
     "execution_count": 67,
     "metadata": {},
     "output_type": "execute_result"
    }
   ],
   "source": [
    "d"
   ]
  },
  {
   "cell_type": "code",
   "execution_count": 68,
   "id": "143db5c4-23b3-4d1e-9efc-ab2ae1b29678",
   "metadata": {
    "tags": []
   },
   "outputs": [
    {
     "data": {
      "text/plain": [
       "\"explorer\" => \"perseverence\""
      ]
     },
     "execution_count": 68,
     "metadata": {},
     "output_type": "execute_result"
    }
   ],
   "source": [
    "pop!(d) # bang func. \"mutate\" obj. by convention (remove the last dict. obj.)"
   ]
  },
  {
   "cell_type": "code",
   "execution_count": 69,
   "id": "72f2aa3b-2138-4cb2-bec4-795f1d2a8e38",
   "metadata": {
    "tags": []
   },
   "outputs": [
    {
     "name": "stdout",
     "output_type": "stream",
     "text": [
      "d = Dict(\"language\" => \"julia\", \"ide\" => \"pluto\")\n"
     ]
    },
    {
     "data": {
      "text/plain": [
       "Dict{String, String} with 2 entries:\n",
       "  \"language\" => \"julia\"\n",
       "  \"ide\"      => \"pluto\""
      ]
     },
     "execution_count": 69,
     "metadata": {},
     "output_type": "execute_result"
    }
   ],
   "source": [
    "@show d"
   ]
  },
  {
   "cell_type": "code",
   "execution_count": 70,
   "id": "797de74a-a966-4109-bb98-f2a72e532ae6",
   "metadata": {
    "tags": []
   },
   "outputs": [
    {
     "data": {
      "text/plain": [
       "Dict{String, String} with 2 entries:\n",
       "  \"language\" => \"java\"\n",
       "  \"os\"       => \"arch\""
      ]
     },
     "execution_count": 70,
     "metadata": {},
     "output_type": "execute_result"
    }
   ],
   "source": [
    "# can merge two dict. together\n",
    "e = Dict(\"os\"=>\"arch\", \"language\"=>\"java\")"
   ]
  },
  {
   "cell_type": "code",
   "execution_count": 73,
   "id": "68ddff88-9272-4ba3-a234-8b2565805724",
   "metadata": {
    "tags": []
   },
   "outputs": [
    {
     "data": {
      "text/plain": [
       "Dict{String, String} with 3 entries:\n",
       "  \"language\" => \"java\"\n",
       "  \"ide\"      => \"pluto\"\n",
       "  \"os\"       => \"arch\""
      ]
     },
     "execution_count": 73,
     "metadata": {},
     "output_type": "execute_result"
    }
   ],
   "source": [
    "merge!(d, e) # duplicated keys in e override those in d"
   ]
  },
  {
   "cell_type": "code",
   "execution_count": 74,
   "id": "20898d30-c768-417e-9ae9-0df79006169f",
   "metadata": {
    "tags": []
   },
   "outputs": [
    {
     "name": "stdout",
     "output_type": "stream",
     "text": [
      "d = Dict(\"language\" => \"java\", \"ide\" => \"pluto\", \"os\" => \"arch\")\n"
     ]
    },
    {
     "data": {
      "text/plain": [
       "Dict{String, String} with 3 entries:\n",
       "  \"language\" => \"java\"\n",
       "  \"ide\"      => \"pluto\"\n",
       "  \"os\"       => \"arch\""
      ]
     },
     "execution_count": 74,
     "metadata": {},
     "output_type": "execute_result"
    }
   ],
   "source": [
    "@show d"
   ]
  },
  {
   "cell_type": "code",
   "execution_count": 76,
   "id": "4af0ad4a-29a5-4d63-989f-7277a3cf18b1",
   "metadata": {
    "tags": []
   },
   "outputs": [
    {
     "name": "stdout",
     "output_type": "stream",
     "text": [
      "e = Dict(\"language\" => \"java\", \"os\" => \"arch\")\n"
     ]
    }
   ],
   "source": [
    "@show e;"
   ]
  },
  {
   "cell_type": "code",
   "execution_count": 79,
   "id": "85579ff6-75dd-4b2a-b81c-565d4824bb59",
   "metadata": {
    "tags": []
   },
   "outputs": [
    {
     "name": "stdout",
     "output_type": "stream",
     "text": [
      "key = language, \t value=java\n",
      "key = ide, \t value=pluto\n",
      "key = os, \t value=arch\n"
     ]
    }
   ],
   "source": [
    "for (k, v) in d\n",
    "    println(\"key = $(k), \\t value=$(v)\")\n",
    "end"
   ]
  },
  {
   "cell_type": "markdown",
   "id": "f7f5ee54-93a5-40df-862d-5611b6ef6f72",
   "metadata": {},
   "source": [
    "## Using symbols as keys"
   ]
  },
  {
   "cell_type": "code",
   "execution_count": 80,
   "id": "da5965ae-f7d5-4f78-b1c1-4abaca3728eb",
   "metadata": {
    "tags": []
   },
   "outputs": [
    {
     "data": {
      "text/plain": [
       "Dict{Symbol, String} with 2 entries:\n",
       "  :lang => \"julia\"\n",
       "  :ide  => \"pluto\""
      ]
     },
     "execution_count": 80,
     "metadata": {},
     "output_type": "execute_result"
    }
   ],
   "source": [
    "simple = Dict(:lang=>\"julia\", :ide=>\"pluto\")"
   ]
  },
  {
   "cell_type": "code",
   "execution_count": 81,
   "id": "f2689d0e-4fcd-40cd-8288-16ec234992c3",
   "metadata": {
    "tags": []
   },
   "outputs": [
    {
     "data": {
      "text/plain": [
       "\"julia\""
      ]
     },
     "execution_count": 81,
     "metadata": {},
     "output_type": "execute_result"
    }
   ],
   "source": [
    "simple[:lang] # this is slightly faster"
   ]
  },
  {
   "cell_type": "code",
   "execution_count": 82,
   "id": "bc75250c-d809-4d38-b857-672582c64206",
   "metadata": {
    "tags": []
   },
   "outputs": [
    {
     "name": "stdout",
     "output_type": "stream",
     "text": [
      "lang\n",
      "ide\n"
     ]
    }
   ],
   "source": [
    "for (k, v) in simple\n",
    "    println(k)\n",
    "end"
   ]
  }
 ],
 "metadata": {
  "kernelspec": {
   "display_name": "Julia 1.8.2",
   "language": "julia",
   "name": "julia-1.8"
  },
  "language_info": {
   "file_extension": ".jl",
   "mimetype": "application/julia",
   "name": "julia",
   "version": "1.8.2"
  }
 },
 "nbformat": 4,
 "nbformat_minor": 5
}
