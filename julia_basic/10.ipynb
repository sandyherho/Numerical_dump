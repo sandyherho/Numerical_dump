{
 "cells": [
  {
   "cell_type": "markdown",
   "id": "65bf6cb4",
   "metadata": {},
   "source": [
    "# Interfacing with other languages"
   ]
  },
  {
   "cell_type": "markdown",
   "id": "b562be5b",
   "metadata": {},
   "source": [
    "## Calling Python builtins and custom code"
   ]
  },
  {
   "cell_type": "markdown",
   "id": "d5952cc8",
   "metadata": {},
   "source": [
    "First,let's install the package needed to interface with Python code. We give this a package mode command. "
   ]
  },
  {
   "cell_type": "code",
   "execution_count": 1,
   "id": "a3a7b018",
   "metadata": {},
   "outputs": [],
   "source": [
    "#] add PyCall"
   ]
  },
  {
   "cell_type": "code",
   "execution_count": 6,
   "id": "d8e7f773",
   "metadata": {},
   "outputs": [],
   "source": [
    "using PyCall"
   ]
  },
  {
   "cell_type": "code",
   "execution_count": 7,
   "id": "a5cc0113",
   "metadata": {},
   "outputs": [
    {
     "data": {
      "text/plain": [
       "PyObject <module 'math' from '/home/ronggolawe/anaconda3/lib/python3.8/lib-dynload/math.cpython-38-x86_64-linux-gnu.so'>"
      ]
     },
     "execution_count": 7,
     "metadata": {},
     "output_type": "execute_result"
    }
   ],
   "source": [
    "math = pyimport(\"math\")"
   ]
  },
  {
   "cell_type": "code",
   "execution_count": 8,
   "id": "4f8681e2",
   "metadata": {},
   "outputs": [
    {
     "data": {
      "text/plain": [
       "0.7071067811865475"
      ]
     },
     "execution_count": 8,
     "metadata": {},
     "output_type": "execute_result"
    }
   ],
   "source": [
    "math.sin(math.pi/4)"
   ]
  },
  {
   "cell_type": "code",
   "execution_count": 9,
   "id": "4cdb552a",
   "metadata": {},
   "outputs": [
    {
     "data": {
      "text/plain": [
       "6.0"
      ]
     },
     "execution_count": 9,
     "metadata": {},
     "output_type": "execute_result"
    }
   ],
   "source": [
    "math.sqrt(36)"
   ]
  },
  {
   "cell_type": "code",
   "execution_count": 11,
   "id": "384a027c",
   "metadata": {},
   "outputs": [
    {
     "data": {
      "text/plain": [
       "PyObject ['/home/ronggolawe/anaconda3/lib/python38.zip', '/home/ronggolawe/anaconda3/lib/python3.8', '/home/ronggolawe/anaconda3/lib/python3.8/lib-dynload', '/home/ronggolawe/.local/lib/python3.8/site-packages', '/home/ronggolawe/anaconda3/lib/python3.8/site-packages', '/home/ronggolawe/coding_repo/Num_dump/julia_basic']"
      ]
     },
     "execution_count": 11,
     "metadata": {},
     "output_type": "execute_result"
    }
   ],
   "source": [
    "push!(pyimport(\"sys\")[\"path\"], pwd())"
   ]
  },
  {
   "cell_type": "code",
   "execution_count": 12,
   "id": "4551978d",
   "metadata": {},
   "outputs": [
    {
     "data": {
      "text/plain": [
       "PyObject <module 'pyex' from '/home/ronggolawe/coding_repo/Num_dump/julia_basic/pyex.py'>"
      ]
     },
     "execution_count": 12,
     "metadata": {},
     "output_type": "execute_result"
    }
   ],
   "source": [
    "pyex = pyimport(\"pyex\")"
   ]
  },
  {
   "cell_type": "code",
   "execution_count": 13,
   "id": "addb03dd",
   "metadata": {},
   "outputs": [
    {
     "data": {
      "text/plain": [
       "\"The square root of 36 is 6.0\""
      ]
     },
     "execution_count": 13,
     "metadata": {},
     "output_type": "execute_result"
    }
   ],
   "source": [
    "pyex.sqrt(36)"
   ]
  },
  {
   "cell_type": "markdown",
   "id": "a9d60270",
   "metadata": {},
   "source": [
    "## Calling R"
   ]
  },
  {
   "cell_type": "code",
   "execution_count": 14,
   "id": "96431171",
   "metadata": {},
   "outputs": [
    {
     "name": "stderr",
     "output_type": "stream",
     "text": [
      "\u001b[32m\u001b[1m    Updating\u001b[22m\u001b[39m registry at `~/.julia/registries/General.toml`\n",
      "\u001b[32m\u001b[1m   Resolving\u001b[22m\u001b[39m package versions...\n",
      "\u001b[32m\u001b[1m   Installed\u001b[22m\u001b[39m WinReg ──────── v1.0.0\n",
      "\u001b[32m\u001b[1m   Installed\u001b[22m\u001b[39m StatsModels ─── v0.7.2\n",
      "\u001b[32m\u001b[1m   Installed\u001b[22m\u001b[39m ShiftedArrays ─ v2.0.0\n",
      "\u001b[32m\u001b[1m   Installed\u001b[22m\u001b[39m RCall ───────── v0.13.15\n",
      "\u001b[32m\u001b[1m    Updating\u001b[22m\u001b[39m `~/.julia/environments/v1.8/Project.toml`\n",
      " \u001b[90m [6f49c342] \u001b[39m\u001b[92m+ RCall v0.13.15\u001b[39m\n",
      "\u001b[32m\u001b[1m    Updating\u001b[22m\u001b[39m `~/.julia/environments/v1.8/Manifest.toml`\n",
      " \u001b[90m [6f49c342] \u001b[39m\u001b[92m+ RCall v0.13.15\u001b[39m\n",
      " \u001b[90m [1277b4bf] \u001b[39m\u001b[92m+ ShiftedArrays v2.0.0\u001b[39m\n",
      " \u001b[90m [3eaba693] \u001b[39m\u001b[92m+ StatsModels v0.7.2\u001b[39m\n",
      " \u001b[90m [1b915085] \u001b[39m\u001b[92m+ WinReg v1.0.0\u001b[39m\n",
      "\u001b[32m\u001b[1m    Building\u001b[22m\u001b[39m RCall → `~/.julia/scratchspaces/44cfe95a-1eb2-52ea-b672-e2afdf69b78f/d441bdeea943f8e8f293e0e3a78fe2d7c3aa24e6/build.log`\n"
     ]
    },
    {
     "ename": "LoadError",
     "evalue": "Error building `RCall`: \nERROR: LoadError: R_HOME is not a directory.\nStacktrace:\n [1] error(s::String)\n   @ Base ./error.jl:35\n [2] top-level scope\n   @ ~/.julia/packages/RCall/LWzAQ/deps/build.jl:53\n [3] include(fname::String)\n   @ Base.MainInclude ./client.jl:476\n [4] top-level scope\n   @ none:5\nin expression starting at /home/ronggolawe/.julia/packages/RCall/LWzAQ/deps/build.jl:11",
     "output_type": "error",
     "traceback": [
      "Error building `RCall`: \nERROR: LoadError: R_HOME is not a directory.\nStacktrace:\n [1] error(s::String)\n   @ Base ./error.jl:35\n [2] top-level scope\n   @ ~/.julia/packages/RCall/LWzAQ/deps/build.jl:53\n [3] include(fname::String)\n   @ Base.MainInclude ./client.jl:476\n [4] top-level scope\n   @ none:5\nin expression starting at /home/ronggolawe/.julia/packages/RCall/LWzAQ/deps/build.jl:11",
      "",
      "Stacktrace:",
      "  [1] pkgerror(msg::String)",
      "    @ Pkg.Types /julia/julia-1.8.2/share/julia/stdlib/v1.8/Pkg/src/Types.jl:67",
      "  [2] (::Pkg.Operations.var\"#66#73\"{Bool, Pkg.Types.Context, String, Pkg.Types.PackageSpec, String})()",
      "    @ Pkg.Operations /julia/julia-1.8.2/share/julia/stdlib/v1.8/Pkg/src/Operations.jl:1060",
      "  [3] withenv(::Pkg.Operations.var\"#66#73\"{Bool, Pkg.Types.Context, String, Pkg.Types.PackageSpec, String}, ::Pair{String, String}, ::Vararg{Pair{String}})",
      "    @ Base ./env.jl:172",
      "  [4] (::Pkg.Operations.var\"#107#112\"{String, Bool, Bool, Bool, Pkg.Operations.var\"#66#73\"{Bool, Pkg.Types.Context, String, Pkg.Types.PackageSpec, String}, Pkg.Types.PackageSpec})()",
      "    @ Pkg.Operations /julia/julia-1.8.2/share/julia/stdlib/v1.8/Pkg/src/Operations.jl:1619",
      "  [5] with_temp_env(fn::Pkg.Operations.var\"#107#112\"{String, Bool, Bool, Bool, Pkg.Operations.var\"#66#73\"{Bool, Pkg.Types.Context, String, Pkg.Types.PackageSpec, String}, Pkg.Types.PackageSpec}, temp_env::String)",
      "    @ Pkg.Operations /julia/julia-1.8.2/share/julia/stdlib/v1.8/Pkg/src/Operations.jl:1493",
      "  [6] (::Pkg.Operations.var\"#105#110\"{Dict{String, Any}, Bool, Bool, Bool, Pkg.Operations.var\"#66#73\"{Bool, Pkg.Types.Context, String, Pkg.Types.PackageSpec, String}, Pkg.Types.Context, Pkg.Types.PackageSpec, String, Pkg.Types.Project, String})(tmp::String)",
      "    @ Pkg.Operations /julia/julia-1.8.2/share/julia/stdlib/v1.8/Pkg/src/Operations.jl:1582",
      "  [7] mktempdir(fn::Pkg.Operations.var\"#105#110\"{Dict{String, Any}, Bool, Bool, Bool, Pkg.Operations.var\"#66#73\"{Bool, Pkg.Types.Context, String, Pkg.Types.PackageSpec, String}, Pkg.Types.Context, Pkg.Types.PackageSpec, String, Pkg.Types.Project, String}, parent::String; prefix::String)",
      "    @ Base.Filesystem ./file.jl:764",
      "  [8] mktempdir(fn::Function, parent::String) (repeats 2 times)",
      "    @ Base.Filesystem ./file.jl:760",
      "  [9] sandbox(fn::Function, ctx::Pkg.Types.Context, target::Pkg.Types.PackageSpec, target_path::String, sandbox_path::String, sandbox_project_override::Pkg.Types.Project; preferences::Dict{String, Any}, force_latest_compatible_version::Bool, allow_earlier_backwards_compatible_versions::Bool, allow_reresolve::Bool)",
      "    @ Pkg.Operations /julia/julia-1.8.2/share/julia/stdlib/v1.8/Pkg/src/Operations.jl:1540",
      " [10] build_versions(ctx::Pkg.Types.Context, uuids::Set{Base.UUID}; verbose::Bool)",
      "    @ Pkg.Operations /julia/julia-1.8.2/share/julia/stdlib/v1.8/Pkg/src/Operations.jl:1041",
      " [11] build_versions",
      "    @ /julia/julia-1.8.2/share/julia/stdlib/v1.8/Pkg/src/Operations.jl:956 [inlined]",
      " [12] add(ctx::Pkg.Types.Context, pkgs::Vector{Pkg.Types.PackageSpec}, new_git::Set{Base.UUID}; preserve::Pkg.Types.PreserveLevel, platform::Base.BinaryPlatforms.Platform)",
      "    @ Pkg.Operations /julia/julia-1.8.2/share/julia/stdlib/v1.8/Pkg/src/Operations.jl:1286",
      " [13] add(ctx::Pkg.Types.Context, pkgs::Vector{Pkg.Types.PackageSpec}; preserve::Pkg.Types.PreserveLevel, platform::Base.BinaryPlatforms.Platform, kwargs::Base.Pairs{Symbol, IJulia.IJuliaStdio{Base.PipeEndpoint}, Tuple{Symbol}, NamedTuple{(:io,), Tuple{IJulia.IJuliaStdio{Base.PipeEndpoint}}}})",
      "    @ Pkg.API /julia/julia-1.8.2/share/julia/stdlib/v1.8/Pkg/src/API.jl:275",
      " [14] add(pkgs::Vector{Pkg.Types.PackageSpec}; io::IJulia.IJuliaStdio{Base.PipeEndpoint}, kwargs::Base.Pairs{Symbol, Union{}, Tuple{}, NamedTuple{(), Tuple{}}})",
      "    @ Pkg.API /julia/julia-1.8.2/share/julia/stdlib/v1.8/Pkg/src/API.jl:156",
      " [15] add(pkgs::Vector{Pkg.Types.PackageSpec})",
      "    @ Pkg.API /julia/julia-1.8.2/share/julia/stdlib/v1.8/Pkg/src/API.jl:145",
      " [16] do_cmd!(command::Pkg.REPLMode.Command, repl::IJulia.MiniREPL)",
      "    @ Pkg.REPLMode /julia/julia-1.8.2/share/julia/stdlib/v1.8/Pkg/src/REPLMode/REPLMode.jl:409",
      " [17] do_cmd(repl::IJulia.MiniREPL, input::String; do_rethrow::Bool)",
      "    @ Pkg.REPLMode /julia/julia-1.8.2/share/julia/stdlib/v1.8/Pkg/src/REPLMode/REPLMode.jl:387",
      " [18] top-level scope",
      "    @ In[14]:1"
     ]
    }
   ],
   "source": [
    "] add RCall"
   ]
  },
  {
   "cell_type": "markdown",
   "id": "db4893b1",
   "metadata": {},
   "source": [
    "Nantilah"
   ]
  }
 ],
 "metadata": {
  "kernelspec": {
   "display_name": "Julia 1.8.2",
   "language": "julia",
   "name": "julia-1.8"
  },
  "language_info": {
   "file_extension": ".jl",
   "mimetype": "application/julia",
   "name": "julia",
   "version": "1.8.2"
  }
 },
 "nbformat": 4,
 "nbformat_minor": 5
}
