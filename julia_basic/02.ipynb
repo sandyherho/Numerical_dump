{
 "cells": [
  {
   "cell_type": "markdown",
   "id": "1e8edbe7-1760-475c-ba19-dfee405983a7",
   "metadata": {},
   "source": [
    "# Basic Syntax"
   ]
  },
  {
   "cell_type": "code",
   "execution_count": 1,
   "id": "171a604f-ccb4-4722-87a8-3cf57b0e93a9",
   "metadata": {},
   "outputs": [
    {
     "data": {
      "text/plain": [
       "25"
      ]
     },
     "execution_count": 1,
     "metadata": {},
     "output_type": "execute_result"
    }
   ],
   "source": [
    "awesome_var = 25"
   ]
  },
  {
   "cell_type": "code",
   "execution_count": 2,
   "id": "63ebb6d1-583f-4194-b082-5eed73a36158",
   "metadata": {},
   "outputs": [
    {
     "data": {
      "text/plain": [
       "25"
      ]
     },
     "execution_count": 2,
     "metadata": {},
     "output_type": "execute_result"
    }
   ],
   "source": [
    "awesome_var"
   ]
  },
  {
   "cell_type": "code",
   "execution_count": 3,
   "id": "0f48c55c-2f12-4b9f-b91e-643d912604c0",
   "metadata": {},
   "outputs": [],
   "source": [
    "#\\:smi # tab completion"
   ]
  },
  {
   "cell_type": "code",
   "execution_count": 4,
   "id": "df8bdb9c-7096-496f-ad8e-5c583bea51e6",
   "metadata": {},
   "outputs": [],
   "source": [
    "😸 = \"smile\";"
   ]
  },
  {
   "cell_type": "code",
   "execution_count": 5,
   "id": "568f75ff-812a-45cd-b708-5ae60e7f64e7",
   "metadata": {},
   "outputs": [
    {
     "data": {
      "text/plain": [
       "\"smile\""
      ]
     },
     "execution_count": 5,
     "metadata": {},
     "output_type": "execute_result"
    }
   ],
   "source": [
    "😸"
   ]
  },
  {
   "cell_type": "code",
   "execution_count": 6,
   "id": "e62b02eb-c701-4406-a005-d7df1a3bf7e7",
   "metadata": {},
   "outputs": [
    {
     "data": {
      "text/plain": [
       "String"
      ]
     },
     "execution_count": 6,
     "metadata": {},
     "output_type": "execute_result"
    }
   ],
   "source": [
    "typeof(😸)"
   ]
  },
  {
   "cell_type": "code",
   "execution_count": 11,
   "id": "df2253b7-41ba-411a-9ba3-e6648ea25c95",
   "metadata": {},
   "outputs": [
    {
     "data": {
      "text/plain": [
       "String"
      ]
     },
     "execution_count": 11,
     "metadata": {},
     "output_type": "execute_result"
    }
   ],
   "source": [
    "typeof(\"a\")"
   ]
  },
  {
   "cell_type": "code",
   "execution_count": 12,
   "id": "443c9e72-c887-4815-ac55-da9211f0c2a2",
   "metadata": {},
   "outputs": [
    {
     "data": {
      "text/plain": [
       "Char"
      ]
     },
     "execution_count": 12,
     "metadata": {},
     "output_type": "execute_result"
    }
   ],
   "source": [
    "typeof('a')"
   ]
  },
  {
   "cell_type": "code",
   "execution_count": 7,
   "id": "33c8ead4-c113-4655-bd4f-d615f3562efb",
   "metadata": {},
   "outputs": [
    {
     "data": {
      "text/plain": [
       "2.5"
      ]
     },
     "execution_count": 7,
     "metadata": {},
     "output_type": "execute_result"
    }
   ],
   "source": [
    "σ = 2.5"
   ]
  },
  {
   "cell_type": "code",
   "execution_count": 8,
   "id": "171542be-75f8-47e2-847a-4651bb4b2d64",
   "metadata": {},
   "outputs": [
    {
     "data": {
      "text/plain": [
       "2.5"
      ]
     },
     "execution_count": 8,
     "metadata": {},
     "output_type": "execute_result"
    }
   ],
   "source": [
    "sqrt(σ^2)"
   ]
  },
  {
   "cell_type": "code",
   "execution_count": 9,
   "id": "4e0f1652-7196-47d2-a20c-2072b5c94e7b",
   "metadata": {},
   "outputs": [
    {
     "name": "stdout",
     "output_type": "stream",
     "text": [
      "σ = 2.5\n"
     ]
    }
   ],
   "source": [
    "println(\"σ = \", σ)"
   ]
  },
  {
   "cell_type": "code",
   "execution_count": 14,
   "id": "270c3400-32a6-42f5-a12f-8698947b5b00",
   "metadata": {},
   "outputs": [
    {
     "name": "stdout",
     "output_type": "stream",
     "text": [
      "search: \u001b[0m\u001b[1mp\u001b[22m\u001b[0m\u001b[1mr\u001b[22m\u001b[0m\u001b[1mi\u001b[22m\u001b[0m\u001b[1mn\u001b[22m\u001b[0m\u001b[1mt\u001b[22m\u001b[0m\u001b[1ml\u001b[22m\u001b[0m\u001b[1mn\u001b[22m \u001b[0m\u001b[1mp\u001b[22m\u001b[0m\u001b[1mr\u001b[22m\u001b[0m\u001b[1mi\u001b[22m\u001b[0m\u001b[1mn\u001b[22m\u001b[0m\u001b[1mt\u001b[22msty\u001b[0m\u001b[1ml\u001b[22med \u001b[0m\u001b[1mp\u001b[22m\u001b[0m\u001b[1mr\u001b[22m\u001b[0m\u001b[1mi\u001b[22m\u001b[0m\u001b[1mn\u001b[22m\u001b[0m\u001b[1mt\u001b[22m s\u001b[0m\u001b[1mp\u001b[22m\u001b[0m\u001b[1mr\u001b[22m\u001b[0m\u001b[1mi\u001b[22m\u001b[0m\u001b[1mn\u001b[22m\u001b[0m\u001b[1mt\u001b[22m is\u001b[0m\u001b[1mp\u001b[22m\u001b[0m\u001b[1mr\u001b[22m\u001b[0m\u001b[1mi\u001b[22m\u001b[0m\u001b[1mn\u001b[22m\u001b[0m\u001b[1mt\u001b[22m\n",
      "\n"
     ]
    },
    {
     "data": {
      "text/latex": [
       "\\begin{verbatim}\n",
       "println([io::IO], xs...)\n",
       "\\end{verbatim}\n",
       "Print (using \\href{@ref}{\\texttt{print}}) \\texttt{xs} to \\texttt{io} followed by a newline. If \\texttt{io} is not supplied, prints to the default output stream \\href{@ref}{\\texttt{stdout}}.\n",
       "\n",
       "See also \\href{@ref}{\\texttt{printstyled}} to add colors etc.\n",
       "\n",
       "\\section{Examples}\n",
       "\\begin{verbatim}\n",
       "julia> println(\"Hello, world\")\n",
       "Hello, world\n",
       "\n",
       "julia> io = IOBuffer();\n",
       "\n",
       "julia> println(io, \"Hello\", ',', \" world.\")\n",
       "\n",
       "julia> String(take!(io))\n",
       "\"Hello, world.\\n\"\n",
       "\\end{verbatim}\n"
      ],
      "text/markdown": [
       "```\n",
       "println([io::IO], xs...)\n",
       "```\n",
       "\n",
       "Print (using [`print`](@ref)) `xs` to `io` followed by a newline. If `io` is not supplied, prints to the default output stream [`stdout`](@ref).\n",
       "\n",
       "See also [`printstyled`](@ref) to add colors etc.\n",
       "\n",
       "# Examples\n",
       "\n",
       "```jldoctest\n",
       "julia> println(\"Hello, world\")\n",
       "Hello, world\n",
       "\n",
       "julia> io = IOBuffer();\n",
       "\n",
       "julia> println(io, \"Hello\", ',', \" world.\")\n",
       "\n",
       "julia> String(take!(io))\n",
       "\"Hello, world.\\n\"\n",
       "```\n"
      ],
      "text/plain": [
       "\u001b[36m  println([io::IO], xs...)\u001b[39m\n",
       "\n",
       "  Print (using \u001b[36mprint\u001b[39m) \u001b[36mxs\u001b[39m to \u001b[36mio\u001b[39m followed by a newline. If \u001b[36mio\u001b[39m is not supplied,\n",
       "  prints to the default output stream \u001b[36mstdout\u001b[39m.\n",
       "\n",
       "  See also \u001b[36mprintstyled\u001b[39m to add colors etc.\n",
       "\n",
       "\u001b[1m  Examples\u001b[22m\n",
       "\u001b[1m  ≡≡≡≡≡≡≡≡≡≡\u001b[22m\n",
       "\n",
       "\u001b[36m  julia> println(\"Hello, world\")\u001b[39m\n",
       "\u001b[36m  Hello, world\u001b[39m\n",
       "\u001b[36m  \u001b[39m\n",
       "\u001b[36m  julia> io = IOBuffer();\u001b[39m\n",
       "\u001b[36m  \u001b[39m\n",
       "\u001b[36m  julia> println(io, \"Hello\", ',', \" world.\")\u001b[39m\n",
       "\u001b[36m  \u001b[39m\n",
       "\u001b[36m  julia> String(take!(io))\u001b[39m\n",
       "\u001b[36m  \"Hello, world.\\n\"\u001b[39m"
      ]
     },
     "execution_count": 14,
     "metadata": {},
     "output_type": "execute_result"
    }
   ],
   "source": [
    "?println"
   ]
  },
  {
   "cell_type": "code",
   "execution_count": 13,
   "id": "c20caf98-61cb-4ac8-aee0-ba3213eba8a8",
   "metadata": {},
   "outputs": [
    {
     "data": {
      "text/plain": [
       "Int64"
      ]
     },
     "execution_count": 13,
     "metadata": {},
     "output_type": "execute_result"
    }
   ],
   "source": [
    "answer = 42\n",
    "typeof(answer)"
   ]
  },
  {
   "cell_type": "code",
   "execution_count": 15,
   "id": "ac82cfef-13c1-4c5f-90c1-cf047a41db2a",
   "metadata": {},
   "outputs": [
    {
     "data": {
      "text/plain": [
       "Float64"
      ]
     },
     "execution_count": 15,
     "metadata": {},
     "output_type": "execute_result"
    }
   ],
   "source": [
    "e = 3.141\n",
    "typeof(e)"
   ]
  },
  {
   "cell_type": "code",
   "execution_count": 16,
   "id": "7f02ee4c-e829-4e2c-8ca1-20f33867d575",
   "metadata": {},
   "outputs": [
    {
     "data": {
      "text/plain": [
       "(10, 20)"
      ]
     },
     "execution_count": 16,
     "metadata": {},
     "output_type": "execute_result"
    }
   ],
   "source": [
    "a, b = 10, 20"
   ]
  },
  {
   "cell_type": "code",
   "execution_count": 17,
   "id": "3086ff41-83b9-4825-bd36-881bd14eb763",
   "metadata": {},
   "outputs": [
    {
     "name": "stdout",
     "output_type": "stream",
     "text": [
      "10\n",
      "20\n"
     ]
    }
   ],
   "source": [
    "println(a)\n",
    "println(b)"
   ]
  },
  {
   "cell_type": "code",
   "execution_count": 18,
   "id": "8a0bbae8-1c5a-4256-a3e2-22c24cb5de2f",
   "metadata": {},
   "outputs": [
    {
     "data": {
      "text/plain": [
       "4"
      ]
     },
     "execution_count": 18,
     "metadata": {},
     "output_type": "execute_result"
    }
   ],
   "source": [
    ":4 # literal type"
   ]
  },
  {
   "cell_type": "code",
   "execution_count": 19,
   "id": "eae45f8d-368c-4019-a2f2-a657c21e6285",
   "metadata": {},
   "outputs": [
    {
     "data": {
      "text/plain": [
       "Int64"
      ]
     },
     "execution_count": 19,
     "metadata": {},
     "output_type": "execute_result"
    }
   ],
   "source": [
    "typeof(:4)"
   ]
  },
  {
   "cell_type": "code",
   "execution_count": 20,
   "id": "cd541fcb-fd56-4e3d-82db-469ce899838e",
   "metadata": {},
   "outputs": [
    {
     "data": {
      "text/plain": [
       ":b"
      ]
     },
     "execution_count": 20,
     "metadata": {},
     "output_type": "execute_result"
    }
   ],
   "source": [
    ":b"
   ]
  },
  {
   "cell_type": "code",
   "execution_count": 21,
   "id": "d6cd2f73-78db-4cb7-8455-eae4f8458dbd",
   "metadata": {},
   "outputs": [
    {
     "data": {
      "text/plain": [
       "Int64"
      ]
     },
     "execution_count": 21,
     "metadata": {},
     "output_type": "execute_result"
    }
   ],
   "source": [
    "typeof(b)"
   ]
  },
  {
   "cell_type": "code",
   "execution_count": 22,
   "id": "9b27f10f-3f52-46fb-8966-838e6b76d201",
   "metadata": {},
   "outputs": [
    {
     "name": "stdout",
     "output_type": "stream",
     "text": [
      "20\n"
     ]
    }
   ],
   "source": [
    "println(b)"
   ]
  },
  {
   "cell_type": "markdown",
   "id": "ad4f5708-43d5-473f-9930-01d1a3499690",
   "metadata": {},
   "source": [
    "# Basic Arithmetic"
   ]
  },
  {
   "cell_type": "code",
   "execution_count": 24,
   "id": "58ae9799-1284-4b2a-bd90-b77eae9f5a16",
   "metadata": {},
   "outputs": [
    {
     "name": "stdout",
     "output_type": "stream",
     "text": [
      "8 2 12 0.6 2\n"
     ]
    }
   ],
   "source": [
    "println(3 + 5,\" \", 3 -1, \" \", 3*4,\" \",  3/5, \" \", 6%4)"
   ]
  },
  {
   "cell_type": "code",
   "execution_count": 25,
   "id": "53239296-23f6-40d6-8bfc-63264ba94b66",
   "metadata": {},
   "outputs": [
    {
     "name": "stdout",
     "output_type": "stream",
     "text": [
      "ab\n"
     ]
    }
   ],
   "source": [
    "println(\"a\", \"b\")"
   ]
  },
  {
   "cell_type": "code",
   "execution_count": 27,
   "id": "29457ea1-2943-4f69-ad3e-99546f991910",
   "metadata": {},
   "outputs": [
    {
     "name": "stdout",
     "output_type": "stream",
     "text": [
      "[8.0, 2.0, 12.0, 0.6, 2.0]\n"
     ]
    }
   ],
   "source": [
    "println([3+5, 3-1, 3*4, 3/5, 6%4])"
   ]
  },
  {
   "cell_type": "code",
   "execution_count": 29,
   "id": "780bb5a4-ec39-420f-a8e4-732663bdc287",
   "metadata": {},
   "outputs": [
    {
     "data": {
      "text/plain": [
       "Vector{Float64}\u001b[90m (alias for \u001b[39m\u001b[90mArray{Float64, 1}\u001b[39m\u001b[90m)\u001b[39m"
      ]
     },
     "execution_count": 29,
     "metadata": {},
     "output_type": "execute_result"
    }
   ],
   "source": [
    "typeof([1, 2, 4.0]) # everything is converted to a Float64"
   ]
  },
  {
   "cell_type": "code",
   "execution_count": 31,
   "id": "8e7e12c6-420a-44c4-9cc0-66a566a823f5",
   "metadata": {},
   "outputs": [
    {
     "name": "stdout",
     "output_type": "stream",
     "text": [
      "ab"
     ]
    }
   ],
   "source": [
    "print(\"a\")\n",
    "print(\"b\")"
   ]
  },
  {
   "cell_type": "code",
   "execution_count": 32,
   "id": "72730ae3-11f3-4d8d-abc5-edd0e91042ec",
   "metadata": {},
   "outputs": [
    {
     "data": {
      "text/plain": [
       "2//1"
      ]
     },
     "execution_count": 32,
     "metadata": {},
     "output_type": "execute_result"
    }
   ],
   "source": [
    "4//2 # builtin support for rationals"
   ]
  },
  {
   "cell_type": "code",
   "execution_count": 33,
   "id": "1c5a2307-3c6d-4122-b8b9-397026f3df8f",
   "metadata": {},
   "outputs": [
    {
     "data": {
      "text/plain": [
       "9//2"
      ]
     },
     "execution_count": 33,
     "metadata": {},
     "output_type": "execute_result"
    }
   ],
   "source": [
    "5//2 + 4//2"
   ]
  },
  {
   "cell_type": "code",
   "execution_count": 34,
   "id": "7caa49c6-003d-4b0a-adfc-6fefb4d874dd",
   "metadata": {},
   "outputs": [
    {
     "data": {
      "text/plain": [
       "1"
      ]
     },
     "execution_count": 34,
     "metadata": {},
     "output_type": "execute_result"
    }
   ],
   "source": [
    "convert(Int64, 1)"
   ]
  },
  {
   "cell_type": "code",
   "execution_count": 35,
   "id": "a9673a70-4a77-49aa-844e-d5882700e0d0",
   "metadata": {},
   "outputs": [
    {
     "data": {
      "text/plain": [
       "1.0"
      ]
     },
     "execution_count": 35,
     "metadata": {},
     "output_type": "execute_result"
    }
   ],
   "source": [
    "convert(Float64, 1)"
   ]
  },
  {
   "cell_type": "code",
   "execution_count": 36,
   "id": "fdef3e64-df36-4fbc-87d4-fd4ff2e3088c",
   "metadata": {},
   "outputs": [
    {
     "ename": "LoadError",
     "evalue": "InexactError: Int64(1.3)",
     "output_type": "error",
     "traceback": [
      "InexactError: Int64(1.3)",
      "",
      "Stacktrace:",
      " [1] Int64",
      "   @ ./float.jl:788 [inlined]",
      " [2] convert(#unused#::Type{Int64}, x::Float64)",
      "   @ Base ./number.jl:7",
      " [3] top-level scope",
      "   @ In[36]:1",
      " [4] eval",
      "   @ ./boot.jl:368 [inlined]",
      " [5] include_string(mapexpr::typeof(REPL.softscope), mod::Module, code::String, filename::String)",
      "   @ Base ./loading.jl:1428"
     ]
    }
   ],
   "source": [
    "convert(Int64, 1.3)"
   ]
  },
  {
   "cell_type": "markdown",
   "id": "429e383d-ec60-4297-a761-cbdd33c7346b",
   "metadata": {},
   "source": [
    "# Boolean Operators"
   ]
  },
  {
   "cell_type": "code",
   "execution_count": 38,
   "id": "df0a56f8-498a-42f4-b47f-78e236689103",
   "metadata": {},
   "outputs": [],
   "source": [
    "val_t = true;\n",
    "val_f = false; # semicolon supresses output"
   ]
  },
  {
   "cell_type": "code",
   "execution_count": 39,
   "id": "81593f47-755f-4ee6-8b95-93a4c0b53e04",
   "metadata": {},
   "outputs": [
    {
     "data": {
      "text/plain": [
       "false"
      ]
     },
     "execution_count": 39,
     "metadata": {},
     "output_type": "execute_result"
    }
   ],
   "source": [
    "val_t && val_f"
   ]
  },
  {
   "cell_type": "code",
   "execution_count": 40,
   "id": "73d73bb9-5610-47ae-b433-c74fabb447bd",
   "metadata": {},
   "outputs": [
    {
     "data": {
      "text/plain": [
       "true"
      ]
     },
     "execution_count": 40,
     "metadata": {},
     "output_type": "execute_result"
    }
   ],
   "source": [
    "val_t || val_f"
   ]
  },
  {
   "cell_type": "code",
   "execution_count": 41,
   "id": "d9a58ec3-f54f-417d-be5c-35545612ef09",
   "metadata": {},
   "outputs": [
    {
     "data": {
      "text/plain": [
       "false"
      ]
     },
     "execution_count": 41,
     "metadata": {},
     "output_type": "execute_result"
    }
   ],
   "source": [
    "!val_t"
   ]
  },
  {
   "cell_type": "markdown",
   "id": "a042e0a9-17a3-4e57-92a1-ce90acb1884f",
   "metadata": {},
   "source": [
    "# String Operations"
   ]
  },
  {
   "cell_type": "code",
   "execution_count": 42,
   "id": "5dea0c11-9a39-48b4-85ea-8ace6f37052b",
   "metadata": {},
   "outputs": [
    {
     "name": "stdout",
     "output_type": "stream",
     "text": [
      "Namanya Sandy, umurnya 30 tahun.\n"
     ]
    }
   ],
   "source": [
    "name = \"Sandy\";\n",
    "age = 30;\n",
    "println(\"Namanya $(name), umurnya $(age) tahun.\")"
   ]
  },
  {
   "cell_type": "code",
   "execution_count": 43,
   "id": "0a209724-b90b-4e4c-91c7-15d9aa58f228",
   "metadata": {},
   "outputs": [
    {
     "data": {
      "text/plain": [
       "\"AwesomeBlossom\""
      ]
     },
     "execution_count": 43,
     "metadata": {},
     "output_type": "execute_result"
    }
   ],
   "source": [
    "s1 = \"Awesome\";\n",
    "s2 = \"Blossom\";\n",
    "s1 * s2"
   ]
  },
  {
   "cell_type": "code",
   "execution_count": 44,
   "id": "7039130a-434d-4bb9-9ef4-569747c83982",
   "metadata": {},
   "outputs": [
    {
     "data": {
      "text/plain": [
       "\"Awesome Blossom\""
      ]
     },
     "execution_count": 44,
     "metadata": {},
     "output_type": "execute_result"
    }
   ],
   "source": [
    "join([s1, s2], \" \")"
   ]
  },
  {
   "cell_type": "code",
   "execution_count": 45,
   "id": "01c9f768-6e28-40bd-a2ae-89354ed3f5bf",
   "metadata": {},
   "outputs": [
    {
     "data": {
      "text/plain": [
       "\"a b c d\""
      ]
     },
     "execution_count": 45,
     "metadata": {},
     "output_type": "execute_result"
    }
   ],
   "source": [
    "alphabet = [\"a\", \"b\", \"c\", \"d\"];\n",
    "join(alphabet, \" \")"
   ]
  },
  {
   "cell_type": "code",
   "execution_count": 46,
   "id": "2709e522-fbdd-4bc9-b974-3f4efa0d81aa",
   "metadata": {},
   "outputs": [
    {
     "data": {
      "text/plain": [
       "\"Awesome\""
      ]
     },
     "execution_count": 46,
     "metadata": {},
     "output_type": "execute_result"
    }
   ],
   "source": [
    "s1"
   ]
  },
  {
   "cell_type": "code",
   "execution_count": 47,
   "id": "38e5d1c5-f068-4dc8-b82a-67d32db26b1d",
   "metadata": {},
   "outputs": [
    {
     "data": {
      "text/plain": [
       "\"AwesomeAwesomeAwesome\""
      ]
     },
     "execution_count": 47,
     "metadata": {},
     "output_type": "execute_result"
    }
   ],
   "source": [
    "s1^3"
   ]
  }
 ],
 "metadata": {
  "kernelspec": {
   "display_name": "Julia 1.8.2",
   "language": "julia",
   "name": "julia-1.8"
  },
  "language_info": {
   "file_extension": ".jl",
   "mimetype": "application/julia",
   "name": "julia",
   "version": "1.8.2"
  }
 },
 "nbformat": 4,
 "nbformat_minor": 5
}
