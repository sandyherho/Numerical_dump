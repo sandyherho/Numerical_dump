{
 "cells": [
  {
   "cell_type": "code",
   "execution_count": 2,
   "id": "c1ca616c",
   "metadata": {},
   "outputs": [],
   "source": [
    "import sympy as smp\n",
    "from sympy import *"
   ]
  },
  {
   "cell_type": "code",
   "execution_count": 5,
   "id": "e0c403d0",
   "metadata": {},
   "outputs": [],
   "source": [
    "x, y = smp.symbols(\"x y\")"
   ]
  },
  {
   "cell_type": "code",
   "execution_count": 9,
   "id": "2a6e81f7",
   "metadata": {},
   "outputs": [],
   "source": [
    "f = x**2 + y"
   ]
  },
  {
   "cell_type": "code",
   "execution_count": 10,
   "id": "1f3221a7",
   "metadata": {},
   "outputs": [
    {
     "data": {
      "text/latex": [
       "$\\displaystyle y + 16$"
      ],
      "text/plain": [
       "y + 16"
      ]
     },
     "execution_count": 10,
     "metadata": {},
     "output_type": "execute_result"
    }
   ],
   "source": [
    "f.subs(x, 4)"
   ]
  },
  {
   "cell_type": "code",
   "execution_count": 11,
   "id": "208ebca7",
   "metadata": {},
   "outputs": [
    {
     "data": {
      "text/latex": [
       "$\\displaystyle \\sin{\\left(x \\right)}$"
      ],
      "text/plain": [
       "sin(x)"
      ]
     },
     "execution_count": 11,
     "metadata": {},
     "output_type": "execute_result"
    }
   ],
   "source": [
    "smp.sin(x)"
   ]
  },
  {
   "cell_type": "code",
   "execution_count": 12,
   "id": "c6c464ab",
   "metadata": {},
   "outputs": [
    {
     "data": {
      "text/latex": [
       "$\\displaystyle \\operatorname{asin}{\\left(x \\right)}$"
      ],
      "text/plain": [
       "asin(x)"
      ]
     },
     "execution_count": 12,
     "metadata": {},
     "output_type": "execute_result"
    }
   ],
   "source": [
    "smp.asin(x)"
   ]
  },
  {
   "cell_type": "code",
   "execution_count": 13,
   "id": "596a4b24",
   "metadata": {},
   "outputs": [
    {
     "data": {
      "text/latex": [
       "$\\displaystyle e^{x}$"
      ],
      "text/plain": [
       "exp(x)"
      ]
     },
     "execution_count": 13,
     "metadata": {},
     "output_type": "execute_result"
    }
   ],
   "source": [
    "smp.exp(x)"
   ]
  },
  {
   "cell_type": "code",
   "execution_count": 14,
   "id": "fdf64cb1",
   "metadata": {},
   "outputs": [
    {
     "data": {
      "text/latex": [
       "$\\displaystyle \\log{\\left(x \\right)}$"
      ],
      "text/plain": [
       "log(x)"
      ]
     },
     "execution_count": 14,
     "metadata": {},
     "output_type": "execute_result"
    }
   ],
   "source": [
    "smp.log(x) # base e"
   ]
  },
  {
   "cell_type": "code",
   "execution_count": 15,
   "id": "2ea12ddc",
   "metadata": {},
   "outputs": [
    {
     "data": {
      "text/latex": [
       "$\\displaystyle \\frac{\\log{\\left(x \\right)}}{\\log{\\left(10 \\right)}}$"
      ],
      "text/plain": [
       "log(x)/log(10)"
      ]
     },
     "execution_count": 15,
     "metadata": {},
     "output_type": "execute_result"
    }
   ],
   "source": [
    "smp.log(x, 10) # 10 base"
   ]
  },
  {
   "cell_type": "code",
   "execution_count": 16,
   "id": "537b7983",
   "metadata": {},
   "outputs": [
    {
     "data": {
      "text/latex": [
       "$\\displaystyle x^{1.5}$"
      ],
      "text/plain": [
       "x**1.5"
      ]
     },
     "execution_count": 16,
     "metadata": {},
     "output_type": "execute_result"
    }
   ],
   "source": [
    "x**(3/2)"
   ]
  },
  {
   "cell_type": "code",
   "execution_count": 17,
   "id": "ebba8740",
   "metadata": {},
   "outputs": [
    {
     "data": {
      "text/latex": [
       "$\\displaystyle x^{\\frac{3}{2}}$"
      ],
      "text/plain": [
       "x**(3/2)"
      ]
     },
     "execution_count": 17,
     "metadata": {},
     "output_type": "execute_result"
    }
   ],
   "source": [
    "x**(smp.Rational(3,2))"
   ]
  },
  {
   "cell_type": "markdown",
   "id": "f7c776ab",
   "metadata": {},
   "source": [
    "# Limits"
   ]
  },
  {
   "cell_type": "markdown",
   "id": "a812cf5e",
   "metadata": {},
   "source": [
    "$$\n",
    "\\lim_{x \\to \\pi} \\sin{(x/2 + \\sin{(x)})}\n",
    "$$"
   ]
  },
  {
   "cell_type": "code",
   "execution_count": 19,
   "id": "0251f301",
   "metadata": {},
   "outputs": [
    {
     "data": {
      "text/latex": [
       "$\\displaystyle 1$"
      ],
      "text/plain": [
       "1"
      ]
     },
     "execution_count": 19,
     "metadata": {},
     "output_type": "execute_result"
    }
   ],
   "source": [
    "smp.limit(smp.sin(x/2 + smp.sin(x)), x, smp.pi)"
   ]
  },
  {
   "cell_type": "markdown",
   "id": "3ca5c813",
   "metadata": {},
   "source": [
    "$$\n",
    "\\lim_{x \\to 0^{+}} \\frac{2e^{1/x}}{e^{1/x} + 1}\n",
    "$$"
   ]
  },
  {
   "cell_type": "code",
   "execution_count": 26,
   "id": "63082453",
   "metadata": {},
   "outputs": [
    {
     "data": {
      "text/latex": [
       "$\\displaystyle 2$"
      ],
      "text/plain": [
       "2"
      ]
     },
     "execution_count": 26,
     "metadata": {},
     "output_type": "execute_result"
    }
   ],
   "source": [
    "expr = 2*smp.exp(1/x) / (smp.exp(1/x) + 1)\n",
    "smp.limit(expr, x, 0, dir =\"+\")"
   ]
  },
  {
   "cell_type": "markdown",
   "id": "df53255b",
   "metadata": {},
   "source": [
    "$$\n",
    "\\lim_{x \\to 0^{-}} \\frac{2e^{1/x}}{e^{1/x} + 1}\n",
    "$$"
   ]
  },
  {
   "cell_type": "code",
   "execution_count": 27,
   "id": "b13b9f11",
   "metadata": {},
   "outputs": [
    {
     "data": {
      "text/latex": [
       "$\\displaystyle 0$"
      ],
      "text/plain": [
       "0"
      ]
     },
     "execution_count": 27,
     "metadata": {},
     "output_type": "execute_result"
    }
   ],
   "source": [
    "smp.limit(expr, x, 0, dir =\"-\")"
   ]
  },
  {
   "cell_type": "markdown",
   "id": "1274dc27",
   "metadata": {},
   "source": [
    "$$\n",
    "\\lim_{x \\to \\infty} \\frac{\\cos{(x) -1}}{x}\n",
    "$$"
   ]
  },
  {
   "cell_type": "code",
   "execution_count": 30,
   "id": "da6556d6",
   "metadata": {},
   "outputs": [
    {
     "data": {
      "text/latex": [
       "$\\displaystyle 0$"
      ],
      "text/plain": [
       "0"
      ]
     },
     "execution_count": 30,
     "metadata": {},
     "output_type": "execute_result"
    }
   ],
   "source": [
    "expr = (smp.cos(x) - 1) / x\n",
    "smp.limit(expr, x, smp.oo)"
   ]
  },
  {
   "cell_type": "markdown",
   "id": "0c969ab5",
   "metadata": {},
   "source": [
    "# Derivatives"
   ]
  },
  {
   "cell_type": "markdown",
   "id": "11398515",
   "metadata": {},
   "source": [
    "$$\n",
    "\\frac{d}{dx} \\left( \\frac{1 + \\sin{(x)}}{1 - \\cos{(x)}} \\right)^2\n",
    "$$"
   ]
  },
  {
   "cell_type": "code",
   "execution_count": null,
   "id": "cff5a40b",
   "metadata": {},
   "outputs": [],
   "source": [
    "expr = 1 + "
   ]
  }
 ],
 "metadata": {
  "kernelspec": {
   "display_name": "Python 3 (ipykernel)",
   "language": "python",
   "name": "python3"
  },
  "language_info": {
   "codemirror_mode": {
    "name": "ipython",
    "version": 3
   },
   "file_extension": ".py",
   "mimetype": "text/x-python",
   "name": "python",
   "nbconvert_exporter": "python",
   "pygments_lexer": "ipython3",
   "version": "3.11.3"
  }
 },
 "nbformat": 4,
 "nbformat_minor": 5
}
